{
 "cells": [
  {
   "cell_type": "code",
   "execution_count": 60,
   "metadata": {},
   "outputs": [],
   "source": [
    "# 复现2019年东方肝胆的论文\n",
    "# # 以3年生存期为目标特征，以xgboost、rf、GBDT三个算法建模，计算特征的重要性得分并将其降序排列，分别选取前20的变量"
   ]
  },
  {
   "cell_type": "code",
   "execution_count": 61,
   "metadata": {},
   "outputs": [],
   "source": [
    "import pandas as pd\n",
    "import numpy as np\n",
    "\n",
    "import sys\n",
    "import re\n",
    "import os\n",
    "project_path = os.getcwd()"
   ]
  },
  {
   "cell_type": "markdown",
   "metadata": {},
   "source": [
    "# load data"
   ]
  },
  {
   "cell_type": "code",
   "execution_count": 62,
   "metadata": {},
   "outputs": [],
   "source": [
    "df_model_origin =pd.read_excel(project_path+'/data/processed_data/df_3.1.1_术后预后cox数据集.xlsx')\n",
    "if 'Unnamed: 0' in df_model_origin.columns:\n",
    "    df_model_origin = df_model_origin.drop(['Unnamed: 0'], axis=1)"
   ]
  },
  {
   "cell_type": "code",
   "execution_count": 63,
   "metadata": {},
   "outputs": [],
   "source": [
    "df_model=df_model_origin.copy()"
   ]
  },
  {
   "cell_type": "code",
   "execution_count": 64,
   "metadata": {},
   "outputs": [
    {
     "data": {
      "text/plain": [
       "(451, 80)"
      ]
     },
     "execution_count": 64,
     "metadata": {},
     "output_type": "execute_result"
    }
   ],
   "source": [
    "df_model.shape"
   ]
  },
  {
   "cell_type": "markdown",
   "metadata": {},
   "source": [
    "# 数据清洗"
   ]
  },
  {
   "cell_type": "code",
   "execution_count": 65,
   "metadata": {},
   "outputs": [
    {
     "data": {
      "text/plain": [
       "Index(['id', 'sampling', 'gender', 'age', 'height', 'weight', 'BMI',\n",
       "       'jaundice', 'emaciation', 'breath_disease', 'cardio_disease', 'nbdd',\n",
       "       'urinary_disease', 'endocrine_disease', 'biliary_disease',\n",
       "       'other_disease', 'smoke', 'drinking', 'family_history', 'blood_type',\n",
       "       'WBC', 'HGB', 'PLT', 'TB', 'DB', 'TP', 'ALB', 'LG', 'AG', 'PAB', 'ALT',\n",
       "       'AST', 'GT', 'ALP', 'tumor_AFP', 'tumor_CEA', 'tumor_CA199',\n",
       "       'tumor_CA125', 'tumor_size', 'HBsAg', 'HBeAg', 'HBeAb', 'HBcAb',\n",
       "       'HCVAb', 'LC', 'AJCC_8', 'Gazzaniga_T', 'MSKCC', 'Blumgart_T',\n",
       "       'Bismuth_C', 'PTCD_ERCP', '手术日期', 'surgery_bleeding', 'surgery_CRCS',\n",
       "       'surgery_plasm', 'surgery_CP', 'surgery_result', 'gene_mutation',\n",
       "       'gene_MSI', 'TMB', 'IHC_cdx2', 'IHC_cea', 'IHC_ck5', 'IHC_ck7',\n",
       "       'IHC_ck19', 'IHC_ck20', 'IHC_muc1', 'IHC_moc31', 'IHC_pd1', 'IHC_pdl1',\n",
       "       'target_death', 'target_survival_month', 'target_1Y_death',\n",
       "       'target_1Y_survival', 'target_3Y_death', 'target_3Y_survival',\n",
       "       'target_5Y_death', 'target_5Y_survival', 'target_8Y_death',\n",
       "       'target_8Y_survival'],\n",
       "      dtype='object')"
      ]
     },
     "execution_count": 65,
     "metadata": {},
     "output_type": "execute_result"
    }
   ],
   "source": [
    "df_model.columns"
   ]
  },
  {
   "cell_type": "markdown",
   "metadata": {},
   "source": [
    "## 删除无关特征"
   ]
  },
  {
   "cell_type": "code",
   "execution_count": 66,
   "metadata": {},
   "outputs": [],
   "source": [
    "df_model=df_model.drop(['id','手术日期','target_death','target_survival_month','target_1Y_death',\n",
    "                    'target_1Y_survival','target_5Y_death','target_5Y_survival','target_8Y_death','target_8Y_survival'],axis=1)"
   ]
  },
  {
   "cell_type": "code",
   "execution_count": 67,
   "metadata": {},
   "outputs": [
    {
     "data": {
      "text/plain": [
       "(451, 70)"
      ]
     },
     "execution_count": 67,
     "metadata": {},
     "output_type": "execute_result"
    }
   ],
   "source": [
    "df_model.shape"
   ]
  },
  {
   "cell_type": "markdown",
   "metadata": {},
   "source": [
    "## 删除高线性相关的变量"
   ]
  },
  {
   "cell_type": "code",
   "execution_count": 68,
   "metadata": {},
   "outputs": [],
   "source": [
    "df_model=df_model.drop(['LG'],axis=1)"
   ]
  },
  {
   "cell_type": "markdown",
   "metadata": {},
   "source": [
    "## 删除缺失超过50%的数据"
   ]
  },
  {
   "cell_type": "code",
   "execution_count": 69,
   "metadata": {},
   "outputs": [
    {
     "name": "stdout",
     "output_type": "stream",
     "text": [
      "gene_MSI\n",
      "TMB\n",
      "IHC_cdx2\n",
      "IHC_cea\n",
      "IHC_ck5\n",
      "IHC_ck7\n",
      "IHC_ck19\n",
      "IHC_ck20\n",
      "IHC_muc1\n",
      "IHC_moc31\n",
      "IHC_pd1\n",
      "IHC_pdl1\n"
     ]
    }
   ],
   "source": [
    "# 删除列缺失超过50%\n",
    "protect_col=['blood_type']\n",
    "col=[i for i in df_model.columns if i not in protect_col]\n",
    "for i in col:\n",
    "    if df_model[i].isnull().sum()/df_model.shape[0] >= 0.5:\n",
    "        print(i)\n",
    "        del df_model[i]"
   ]
  },
  {
   "cell_type": "code",
   "execution_count": 70,
   "metadata": {},
   "outputs": [
    {
     "name": "stdout",
     "output_type": "stream",
     "text": [
      "194\n"
     ]
    }
   ],
   "source": [
    "# 删除行缺失超过50%\n",
    "df_model=df_model.reset_index(drop=True)\n",
    "for i in range(df_model.shape[0]):\n",
    "    if df_model.loc[i].isnull().sum()/df_model.loc[i].shape[0] >= 0.5:\n",
    "        print(i)\n",
    "        df_model.drop([i],axis=0,inplace=True)"
   ]
  },
  {
   "cell_type": "markdown",
   "metadata": {},
   "source": [
    "## 删除分类不平衡特征"
   ]
  },
  {
   "cell_type": "code",
   "execution_count": 71,
   "metadata": {},
   "outputs": [
    {
     "name": "stdout",
     "output_type": "stream",
     "text": [
      "breath_disease\n",
      "urinary_disease\n",
      "family_history\n"
     ]
    }
   ],
   "source": [
    "# 保护目标变量、tdm数据\n",
    "protect_col=['sampling']\n",
    "col=[i for i in df_model.columns if i not in protect_col]\n",
    "for i in col:\n",
    "    if df_model[i].nunique() < 2:\n",
    "        print(i)\n",
    "        del df_model[i]\n",
    "        continue\n",
    "    if df_model[i].nunique() == 2:\n",
    "        # 如果分类变量中某一变量的占比超过90%，则删除该指标\n",
    "        num_1 = df_model[i].value_counts()  # df一列中不同变量的数目\n",
    "        num_2 = num_1.div(df_model.shape[0])  # div除法，所有元素都除以相同数值\n",
    "        num_3 = num_2.max()  # 取出最大值\n",
    "        if num_3 >= 0.9:\n",
    "            print(i)\n",
    "            del df_model[i]"
   ]
  },
  {
   "cell_type": "markdown",
   "metadata": {},
   "source": [
    "## 过滤异常值"
   ]
  },
  {
   "cell_type": "code",
   "execution_count": 72,
   "metadata": {},
   "outputs": [
    {
     "name": "stdout",
     "output_type": "stream",
     "text": [
      "tumor_AFP\n"
     ]
    }
   ],
   "source": [
    "# 过滤异常值，大于正常值超过100倍！\n",
    "# protect_col=['target_3Y_death','target_3Y_survival']\n",
    "protect_col=['target_3Y_death','target_3Y_survival','surgery_CRCS','surgery_plasm']\n",
    "col=[i for i in df_model.columns if i not in protect_col]\n",
    "for i in col:\n",
    "    # 测试特征是否存在异常值\n",
    "#     print(i)\n",
    "    median_value= max(df_model[i].median(),1)\n",
    "    max_value = df_model[i].astype(float).max()\n",
    "    if max_value > 100 * median_value:\n",
    "        print(i)\n",
    "    df_model[i]=df_model[i].apply(lambda x: np.nan if pd.isnull(x) else \n",
    "                                            np.nan if float(x) > 100*median_value else x)"
   ]
  },
  {
   "cell_type": "code",
   "execution_count": 73,
   "metadata": {},
   "outputs": [
    {
     "data": {
      "text/plain": [
       "(450, 54)"
      ]
     },
     "execution_count": 73,
     "metadata": {},
     "output_type": "execute_result"
    }
   ],
   "source": [
    "df_model.shape"
   ]
  },
  {
   "cell_type": "code",
   "execution_count": 74,
   "metadata": {},
   "outputs": [],
   "source": [
    "df_model.to_excel(project_path+'/data/reimplementation/df_2.4_数据清洗.xlsx')"
   ]
  },
  {
   "cell_type": "markdown",
   "metadata": {},
   "source": [
    "# 显著性检验"
   ]
  },
  {
   "cell_type": "code",
   "execution_count": 75,
   "metadata": {},
   "outputs": [
    {
     "data": {
      "text/plain": [
       "Index(['sampling', 'gender', 'age', 'height', 'weight', 'BMI', 'jaundice',\n",
       "       'emaciation', 'cardio_disease', 'nbdd', 'endocrine_disease',\n",
       "       'biliary_disease', 'other_disease', 'smoke', 'drinking', 'blood_type',\n",
       "       'WBC', 'HGB', 'PLT', 'TB', 'DB', 'TP', 'ALB', 'AG', 'PAB', 'ALT', 'AST',\n",
       "       'GT', 'ALP', 'tumor_AFP', 'tumor_CEA', 'tumor_CA199', 'tumor_CA125',\n",
       "       'tumor_size', 'HBsAg', 'HBeAg', 'HBeAb', 'HBcAb', 'HCVAb', 'LC',\n",
       "       'AJCC_8', 'Gazzaniga_T', 'MSKCC', 'Blumgart_T', 'Bismuth_C',\n",
       "       'PTCD_ERCP', 'surgery_bleeding', 'surgery_CRCS', 'surgery_plasm',\n",
       "       'surgery_CP', 'surgery_result', 'gene_mutation', 'target_3Y_death',\n",
       "       'target_3Y_survival'],\n",
       "      dtype='object')"
      ]
     },
     "execution_count": 75,
     "metadata": {},
     "output_type": "execute_result"
    }
   ],
   "source": [
    "df_model.columns"
   ]
  },
  {
   "cell_type": "code",
   "execution_count": 77,
   "metadata": {},
   "outputs": [],
   "source": [
    "# 离散变量和连续变量\n",
    "discrete_col=['sampling','gender','jaundice','emaciation','cardio_disease','nbdd','endocrine_disease','biliary_disease','other_disease',\n",
    "              'smoke','drinking','blood_type','HBsAg','HBeAg','HBeAb','HBcAb','HCVAb','LC','AJCC_8','Gazzaniga_T','MSKCC',\n",
    "              'Blumgart_T','Bismuth_C','PTCD_ERCP','surgery_result','gene_mutation']\n",
    "continuous_col=[x for x in df_model.columns if x not in discrete_col]\n",
    "continuous_col.remove('target_3Y_death')\n",
    "continuous_col.remove('target_3Y_survival')"
   ]
  },
  {
   "cell_type": "markdown",
   "metadata": {},
   "source": [
    "## 分类变量"
   ]
  },
  {
   "cell_type": "code",
   "execution_count": 78,
   "metadata": {},
   "outputs": [
    {
     "name": "stdout",
     "output_type": "stream",
     "text": [
      "sampling\n",
      "gender\n",
      "jaundice\n",
      "emaciation\n",
      "cardio_disease\n",
      "nbdd\n",
      "endocrine_disease\n",
      "biliary_disease\n",
      "other_disease\n",
      "smoke\n",
      "drinking\n",
      "blood_type\n",
      "HBsAg\n",
      "HBeAg\n",
      "HBeAb\n",
      "HBcAb\n",
      "HCVAb\n",
      "LC\n",
      "AJCC_8\n",
      "Gazzaniga_T\n",
      "MSKCC\n",
      "Blumgart_T\n",
      "Bismuth_C\n",
      "PTCD_ERCP\n",
      "surgery_result\n",
      "gene_mutation\n"
     ]
    }
   ],
   "source": [
    "from scipy.stats import chi2_contingency\n",
    "feature_list=[]\n",
    "y_list=[]\n",
    "t_list=[]\n",
    "p_list=[]\n",
    "sig_list=[]\n",
    "for i in discrete_col:\n",
    "    print(i)\n",
    "    result = chi2_contingency(pd.crosstab(df_model['target_3Y_death'],df_model[i]))\n",
    "    t,p=result[0:2]\n",
    "    t=round(t,2)\n",
    "    p=round(p,3)\n",
    "    feature_list.append(i)\n",
    "    y_list.append('卡方检验')\n",
    "    t_list.append(t)\n",
    "    p_list.append(p)\n",
    "    if p <=0.05:\n",
    "        sig='显著'\n",
    "    else:\n",
    "        sig='不显著'\n",
    "    sig_list.append(sig)"
   ]
  },
  {
   "cell_type": "code",
   "execution_count": 79,
   "metadata": {},
   "outputs": [],
   "source": [
    "df_discrete_corr_sig=pd.DataFrame(data={'feature':discrete_col,\n",
    "                                        'method':y_list,\n",
    "                                        't':t_list,\n",
    "                                        'p':p_list,\n",
    "                                        'result':sig_list})"
   ]
  },
  {
   "cell_type": "code",
   "execution_count": 80,
   "metadata": {},
   "outputs": [
    {
     "data": {
      "text/html": [
       "<div>\n",
       "<style scoped>\n",
       "    .dataframe tbody tr th:only-of-type {\n",
       "        vertical-align: middle;\n",
       "    }\n",
       "\n",
       "    .dataframe tbody tr th {\n",
       "        vertical-align: top;\n",
       "    }\n",
       "\n",
       "    .dataframe thead th {\n",
       "        text-align: right;\n",
       "    }\n",
       "</style>\n",
       "<table border=\"1\" class=\"dataframe\">\n",
       "  <thead>\n",
       "    <tr style=\"text-align: right;\">\n",
       "      <th></th>\n",
       "      <th>feature</th>\n",
       "      <th>method</th>\n",
       "      <th>t</th>\n",
       "      <th>p</th>\n",
       "      <th>result</th>\n",
       "    </tr>\n",
       "  </thead>\n",
       "  <tbody>\n",
       "    <tr>\n",
       "      <th>0</th>\n",
       "      <td>sampling</td>\n",
       "      <td>卡方检验</td>\n",
       "      <td>3.30</td>\n",
       "      <td>0.069</td>\n",
       "      <td>不显著</td>\n",
       "    </tr>\n",
       "    <tr>\n",
       "      <th>1</th>\n",
       "      <td>gender</td>\n",
       "      <td>卡方检验</td>\n",
       "      <td>0.28</td>\n",
       "      <td>0.599</td>\n",
       "      <td>不显著</td>\n",
       "    </tr>\n",
       "    <tr>\n",
       "      <th>2</th>\n",
       "      <td>jaundice</td>\n",
       "      <td>卡方检验</td>\n",
       "      <td>11.93</td>\n",
       "      <td>0.001</td>\n",
       "      <td>显著</td>\n",
       "    </tr>\n",
       "    <tr>\n",
       "      <th>3</th>\n",
       "      <td>emaciation</td>\n",
       "      <td>卡方检验</td>\n",
       "      <td>1.04</td>\n",
       "      <td>0.594</td>\n",
       "      <td>不显著</td>\n",
       "    </tr>\n",
       "    <tr>\n",
       "      <th>4</th>\n",
       "      <td>cardio_disease</td>\n",
       "      <td>卡方检验</td>\n",
       "      <td>0.00</td>\n",
       "      <td>0.948</td>\n",
       "      <td>不显著</td>\n",
       "    </tr>\n",
       "    <tr>\n",
       "      <th>5</th>\n",
       "      <td>nbdd</td>\n",
       "      <td>卡方检验</td>\n",
       "      <td>0.58</td>\n",
       "      <td>0.446</td>\n",
       "      <td>不显著</td>\n",
       "    </tr>\n",
       "    <tr>\n",
       "      <th>6</th>\n",
       "      <td>endocrine_disease</td>\n",
       "      <td>卡方检验</td>\n",
       "      <td>1.14</td>\n",
       "      <td>0.285</td>\n",
       "      <td>不显著</td>\n",
       "    </tr>\n",
       "    <tr>\n",
       "      <th>7</th>\n",
       "      <td>biliary_disease</td>\n",
       "      <td>卡方检验</td>\n",
       "      <td>0.50</td>\n",
       "      <td>0.477</td>\n",
       "      <td>不显著</td>\n",
       "    </tr>\n",
       "    <tr>\n",
       "      <th>8</th>\n",
       "      <td>other_disease</td>\n",
       "      <td>卡方检验</td>\n",
       "      <td>0.96</td>\n",
       "      <td>0.326</td>\n",
       "      <td>不显著</td>\n",
       "    </tr>\n",
       "    <tr>\n",
       "      <th>9</th>\n",
       "      <td>smoke</td>\n",
       "      <td>卡方检验</td>\n",
       "      <td>0.09</td>\n",
       "      <td>0.762</td>\n",
       "      <td>不显著</td>\n",
       "    </tr>\n",
       "    <tr>\n",
       "      <th>10</th>\n",
       "      <td>drinking</td>\n",
       "      <td>卡方检验</td>\n",
       "      <td>1.24</td>\n",
       "      <td>0.265</td>\n",
       "      <td>不显著</td>\n",
       "    </tr>\n",
       "    <tr>\n",
       "      <th>11</th>\n",
       "      <td>blood_type</td>\n",
       "      <td>卡方检验</td>\n",
       "      <td>8.46</td>\n",
       "      <td>0.037</td>\n",
       "      <td>显著</td>\n",
       "    </tr>\n",
       "    <tr>\n",
       "      <th>12</th>\n",
       "      <td>HBsAg</td>\n",
       "      <td>卡方检验</td>\n",
       "      <td>0.27</td>\n",
       "      <td>0.607</td>\n",
       "      <td>不显著</td>\n",
       "    </tr>\n",
       "    <tr>\n",
       "      <th>13</th>\n",
       "      <td>HBeAg</td>\n",
       "      <td>卡方检验</td>\n",
       "      <td>0.35</td>\n",
       "      <td>0.553</td>\n",
       "      <td>不显著</td>\n",
       "    </tr>\n",
       "    <tr>\n",
       "      <th>14</th>\n",
       "      <td>HBeAb</td>\n",
       "      <td>卡方检验</td>\n",
       "      <td>0.05</td>\n",
       "      <td>0.824</td>\n",
       "      <td>不显著</td>\n",
       "    </tr>\n",
       "    <tr>\n",
       "      <th>15</th>\n",
       "      <td>HBcAb</td>\n",
       "      <td>卡方检验</td>\n",
       "      <td>4.16</td>\n",
       "      <td>0.041</td>\n",
       "      <td>显著</td>\n",
       "    </tr>\n",
       "    <tr>\n",
       "      <th>16</th>\n",
       "      <td>HCVAb</td>\n",
       "      <td>卡方检验</td>\n",
       "      <td>0.92</td>\n",
       "      <td>0.338</td>\n",
       "      <td>不显著</td>\n",
       "    </tr>\n",
       "    <tr>\n",
       "      <th>17</th>\n",
       "      <td>LC</td>\n",
       "      <td>卡方检验</td>\n",
       "      <td>0.00</td>\n",
       "      <td>0.958</td>\n",
       "      <td>不显著</td>\n",
       "    </tr>\n",
       "    <tr>\n",
       "      <th>18</th>\n",
       "      <td>AJCC_8</td>\n",
       "      <td>卡方检验</td>\n",
       "      <td>28.29</td>\n",
       "      <td>0.000</td>\n",
       "      <td>显著</td>\n",
       "    </tr>\n",
       "    <tr>\n",
       "      <th>19</th>\n",
       "      <td>Gazzaniga_T</td>\n",
       "      <td>卡方检验</td>\n",
       "      <td>9.99</td>\n",
       "      <td>0.019</td>\n",
       "      <td>显著</td>\n",
       "    </tr>\n",
       "    <tr>\n",
       "      <th>20</th>\n",
       "      <td>MSKCC</td>\n",
       "      <td>卡方检验</td>\n",
       "      <td>5.32</td>\n",
       "      <td>0.070</td>\n",
       "      <td>不显著</td>\n",
       "    </tr>\n",
       "    <tr>\n",
       "      <th>21</th>\n",
       "      <td>Blumgart_T</td>\n",
       "      <td>卡方检验</td>\n",
       "      <td>7.18</td>\n",
       "      <td>0.066</td>\n",
       "      <td>不显著</td>\n",
       "    </tr>\n",
       "    <tr>\n",
       "      <th>22</th>\n",
       "      <td>Bismuth_C</td>\n",
       "      <td>卡方检验</td>\n",
       "      <td>0.08</td>\n",
       "      <td>0.994</td>\n",
       "      <td>不显著</td>\n",
       "    </tr>\n",
       "    <tr>\n",
       "      <th>23</th>\n",
       "      <td>PTCD_ERCP</td>\n",
       "      <td>卡方检验</td>\n",
       "      <td>4.11</td>\n",
       "      <td>0.250</td>\n",
       "      <td>不显著</td>\n",
       "    </tr>\n",
       "    <tr>\n",
       "      <th>24</th>\n",
       "      <td>surgery_result</td>\n",
       "      <td>卡方检验</td>\n",
       "      <td>18.71</td>\n",
       "      <td>0.000</td>\n",
       "      <td>显著</td>\n",
       "    </tr>\n",
       "    <tr>\n",
       "      <th>25</th>\n",
       "      <td>gene_mutation</td>\n",
       "      <td>卡方检验</td>\n",
       "      <td>24.13</td>\n",
       "      <td>0.000</td>\n",
       "      <td>显著</td>\n",
       "    </tr>\n",
       "  </tbody>\n",
       "</table>\n",
       "</div>"
      ],
      "text/plain": [
       "              feature method      t      p result\n",
       "0            sampling   卡方检验   3.30  0.069    不显著\n",
       "1              gender   卡方检验   0.28  0.599    不显著\n",
       "2            jaundice   卡方检验  11.93  0.001     显著\n",
       "3          emaciation   卡方检验   1.04  0.594    不显著\n",
       "4      cardio_disease   卡方检验   0.00  0.948    不显著\n",
       "5                nbdd   卡方检验   0.58  0.446    不显著\n",
       "6   endocrine_disease   卡方检验   1.14  0.285    不显著\n",
       "7     biliary_disease   卡方检验   0.50  0.477    不显著\n",
       "8       other_disease   卡方检验   0.96  0.326    不显著\n",
       "9               smoke   卡方检验   0.09  0.762    不显著\n",
       "10           drinking   卡方检验   1.24  0.265    不显著\n",
       "11         blood_type   卡方检验   8.46  0.037     显著\n",
       "12              HBsAg   卡方检验   0.27  0.607    不显著\n",
       "13              HBeAg   卡方检验   0.35  0.553    不显著\n",
       "14              HBeAb   卡方检验   0.05  0.824    不显著\n",
       "15              HBcAb   卡方检验   4.16  0.041     显著\n",
       "16              HCVAb   卡方检验   0.92  0.338    不显著\n",
       "17                 LC   卡方检验   0.00  0.958    不显著\n",
       "18             AJCC_8   卡方检验  28.29  0.000     显著\n",
       "19        Gazzaniga_T   卡方检验   9.99  0.019     显著\n",
       "20              MSKCC   卡方检验   5.32  0.070    不显著\n",
       "21         Blumgart_T   卡方检验   7.18  0.066    不显著\n",
       "22          Bismuth_C   卡方检验   0.08  0.994    不显著\n",
       "23          PTCD_ERCP   卡方检验   4.11  0.250    不显著\n",
       "24     surgery_result   卡方检验  18.71  0.000     显著\n",
       "25      gene_mutation   卡方检验  24.13  0.000     显著"
      ]
     },
     "execution_count": 80,
     "metadata": {},
     "output_type": "execute_result"
    }
   ],
   "source": [
    "df_discrete_corr_sig"
   ]
  },
  {
   "cell_type": "code",
   "execution_count": 81,
   "metadata": {},
   "outputs": [],
   "source": [
    "discrete_relate=list(df_discrete_corr_sig[df_discrete_corr_sig.result=='显著']['feature'])"
   ]
  },
  {
   "cell_type": "code",
   "execution_count": 82,
   "metadata": {},
   "outputs": [
    {
     "data": {
      "text/plain": [
       "['jaundice',\n",
       " 'blood_type',\n",
       " 'HBcAb',\n",
       " 'AJCC_8',\n",
       " 'Gazzaniga_T',\n",
       " 'surgery_result',\n",
       " 'gene_mutation']"
      ]
     },
     "execution_count": 82,
     "metadata": {},
     "output_type": "execute_result"
    }
   ],
   "source": [
    "discrete_relate"
   ]
  },
  {
   "cell_type": "code",
   "execution_count": 83,
   "metadata": {},
   "outputs": [
    {
     "data": {
      "text/plain": [
       "['sampling',\n",
       " 'gender',\n",
       " 'emaciation',\n",
       " 'cardio_disease',\n",
       " 'nbdd',\n",
       " 'endocrine_disease',\n",
       " 'biliary_disease',\n",
       " 'other_disease',\n",
       " 'smoke',\n",
       " 'drinking',\n",
       " 'HBsAg',\n",
       " 'HBeAg',\n",
       " 'HBeAb',\n",
       " 'HCVAb',\n",
       " 'LC',\n",
       " 'MSKCC',\n",
       " 'Blumgart_T',\n",
       " 'Bismuth_C',\n",
       " 'PTCD_ERCP']"
      ]
     },
     "execution_count": 83,
     "metadata": {},
     "output_type": "execute_result"
    }
   ],
   "source": [
    "list(df_discrete_corr_sig[df_discrete_corr_sig.result=='不显著']['feature'])"
   ]
  },
  {
   "cell_type": "code",
   "execution_count": 84,
   "metadata": {},
   "outputs": [],
   "source": [
    "# 舍弃p值大于0.5的变量，保留业务需要的不显著变量\n",
    "discrete_relate.extend(['sampling','gender', 'emaciation','cardio_disease','endocrine_disease','biliary_disease',\n",
    "                        'smoke','drinking','HBsAg','HCVAb','LC','PTCD_ERCP','MSKCC','Blumgart_T','Bismuth_C'])"
   ]
  },
  {
   "cell_type": "markdown",
   "metadata": {},
   "source": [
    "## 连续变量"
   ]
  },
  {
   "cell_type": "code",
   "execution_count": 85,
   "metadata": {},
   "outputs": [],
   "source": [
    "from scipy.stats import kstest,shapiro\n",
    "##检验是否正态\n",
    "def norm_test(data):\n",
    "    if len(data) > 30:\n",
    "        norm, p = kstest(data, 'norm')\n",
    "    else:\n",
    "        norm, p = shapiro(data)\n",
    "    #print(t,p)\n",
    "    if p>=0.05:\n",
    "        return True\n",
    "    else:\n",
    "        return False"
   ]
  },
  {
   "cell_type": "code",
   "execution_count": 86,
   "metadata": {},
   "outputs": [],
   "source": [
    "import scipy.stats as st\n",
    "# 连续变量的显著性检验\n",
    "def test2(data_b, data_p):\n",
    "    if norm_test(data_b) and norm_test(data_p):\n",
    "        x = 1\n",
    "        y = '独立样本T检验'\n",
    "        t, p = st.ttest_ind(list(data_b),list(data_p), nan_policy='omit')\n",
    "    else:\n",
    "        x = 0\n",
    "        y = 'Mann-Whitney U检验'\n",
    "        t,p = st.mannwhitneyu(list(data_b),list(data_p))\n",
    "    return x,y,t,p"
   ]
  },
  {
   "cell_type": "code",
   "execution_count": 87,
   "metadata": {},
   "outputs": [],
   "source": [
    "def sig_test(df_high,df_low,list1):\n",
    "\n",
    "    feature_list=[]  # 特征列表\n",
    "    y_list=[]  # 显著性检验方法\n",
    "    t_list=[]  # 统计量\n",
    "    p_list=[]  # p值\n",
    "    result_list=[]  # 是否显著\n",
    "    high_mean_list=[]\n",
    "    low_mean_list=[]\n",
    "\n",
    "    for i in list1:\n",
    "        print(i)\n",
    "        # 高剂量组统计\n",
    "        df_high_nt=df_high[df_high[i].notnull()]\n",
    "        data_high=df_high_nt[i]\n",
    "        high_mean=round(data_high.mean(),2)\n",
    "        \n",
    "        df_low_nt=df_low[df_low[i].notnull()]\n",
    "        data_low=df_low_nt[i]\n",
    "        low_mean=round(data_low.mean(),2)\n",
    "\n",
    "        # 计算高低剂量组显著性差异\n",
    "        if data_high.shape[0] >= 10 and data_low.shape[0]>=10:\n",
    "            # 连续变量检验\n",
    "            x,y,t,p = test2(data_high, data_low)\n",
    "            t=round(t,2)\n",
    "            p=round(p,3)\n",
    "            if p <=0.05:\n",
    "                sig='显著'\n",
    "            else:\n",
    "                sig='不显著'\n",
    "            # 显著性 \n",
    "            feature_list.append(i)\n",
    "            y_list.append(y)\n",
    "            t_list.append(t)\n",
    "            p_list.append(p)\n",
    "            result_list.append(sig)\n",
    "            high_mean_list.append(high_mean)\n",
    "            low_mean_list.append(low_mean)\n",
    "\n",
    "    df_result=pd.DataFrame({'特征':feature_list,\n",
    "                            '高剂量均值':high_mean_list,\n",
    "                            '低剂量均值':low_mean_list,\n",
    "                            '检验指标':y_list,\n",
    "                            't值':t_list,\n",
    "                            'p值':p_list,\n",
    "                            '显著性结果':result_list})\n",
    "    return df_result"
   ]
  },
  {
   "cell_type": "code",
   "execution_count": 88,
   "metadata": {},
   "outputs": [
    {
     "name": "stdout",
     "output_type": "stream",
     "text": [
      "age\n",
      "height\n",
      "weight\n",
      "BMI\n",
      "WBC\n",
      "HGB\n",
      "PLT\n",
      "TB\n",
      "DB\n",
      "TP\n",
      "ALB\n",
      "AG\n",
      "PAB\n",
      "ALT\n",
      "AST\n",
      "GT\n",
      "ALP\n",
      "tumor_AFP\n",
      "tumor_CEA\n",
      "tumor_CA199\n",
      "tumor_CA125\n",
      "tumor_size\n",
      "surgery_bleeding\n",
      "surgery_CRCS\n",
      "surgery_plasm\n",
      "surgery_CP\n"
     ]
    }
   ],
   "source": [
    "# 提取甲氨蝶呤不同标签\n",
    "df_MTX_high = df_model[df_model['target_3Y_death']==1]\n",
    "df_MTX_low = df_model[df_model['target_3Y_death']==0]\n",
    "# 甲氨蝶呤高低剂量组PSM控制变量统计和显著性检验\n",
    "df_continuous_sig = sig_test(df_MTX_high,df_MTX_low,continuous_col)\n",
    "df_continuous_sig = df_continuous_sig.reset_index(drop=True)"
   ]
  },
  {
   "cell_type": "code",
   "execution_count": 89,
   "metadata": {},
   "outputs": [
    {
     "data": {
      "text/html": [
       "<div>\n",
       "<style scoped>\n",
       "    .dataframe tbody tr th:only-of-type {\n",
       "        vertical-align: middle;\n",
       "    }\n",
       "\n",
       "    .dataframe tbody tr th {\n",
       "        vertical-align: top;\n",
       "    }\n",
       "\n",
       "    .dataframe thead th {\n",
       "        text-align: right;\n",
       "    }\n",
       "</style>\n",
       "<table border=\"1\" class=\"dataframe\">\n",
       "  <thead>\n",
       "    <tr style=\"text-align: right;\">\n",
       "      <th></th>\n",
       "      <th>特征</th>\n",
       "      <th>高剂量均值</th>\n",
       "      <th>低剂量均值</th>\n",
       "      <th>检验指标</th>\n",
       "      <th>t值</th>\n",
       "      <th>p值</th>\n",
       "      <th>显著性结果</th>\n",
       "    </tr>\n",
       "  </thead>\n",
       "  <tbody>\n",
       "    <tr>\n",
       "      <th>0</th>\n",
       "      <td>age</td>\n",
       "      <td>57.57</td>\n",
       "      <td>59.04</td>\n",
       "      <td>Mann-Whitney U检验</td>\n",
       "      <td>16341.5</td>\n",
       "      <td>0.101</td>\n",
       "      <td>不显著</td>\n",
       "    </tr>\n",
       "    <tr>\n",
       "      <th>1</th>\n",
       "      <td>height</td>\n",
       "      <td>164.97</td>\n",
       "      <td>167.75</td>\n",
       "      <td>Mann-Whitney U检验</td>\n",
       "      <td>2594.5</td>\n",
       "      <td>0.029</td>\n",
       "      <td>显著</td>\n",
       "    </tr>\n",
       "    <tr>\n",
       "      <th>2</th>\n",
       "      <td>weight</td>\n",
       "      <td>61.58</td>\n",
       "      <td>65.55</td>\n",
       "      <td>Mann-Whitney U检验</td>\n",
       "      <td>2637.5</td>\n",
       "      <td>0.036</td>\n",
       "      <td>显著</td>\n",
       "    </tr>\n",
       "    <tr>\n",
       "      <th>3</th>\n",
       "      <td>BMI</td>\n",
       "      <td>22.56</td>\n",
       "      <td>23.30</td>\n",
       "      <td>Mann-Whitney U检验</td>\n",
       "      <td>2939.0</td>\n",
       "      <td>0.143</td>\n",
       "      <td>不显著</td>\n",
       "    </tr>\n",
       "    <tr>\n",
       "      <th>4</th>\n",
       "      <td>WBC</td>\n",
       "      <td>6.39</td>\n",
       "      <td>6.29</td>\n",
       "      <td>Mann-Whitney U检验</td>\n",
       "      <td>10028.5</td>\n",
       "      <td>0.303</td>\n",
       "      <td>不显著</td>\n",
       "    </tr>\n",
       "    <tr>\n",
       "      <th>5</th>\n",
       "      <td>HGB</td>\n",
       "      <td>123.28</td>\n",
       "      <td>125.41</td>\n",
       "      <td>Mann-Whitney U检验</td>\n",
       "      <td>9373.5</td>\n",
       "      <td>0.115</td>\n",
       "      <td>不显著</td>\n",
       "    </tr>\n",
       "    <tr>\n",
       "      <th>6</th>\n",
       "      <td>PLT</td>\n",
       "      <td>255.61</td>\n",
       "      <td>222.89</td>\n",
       "      <td>Mann-Whitney U检验</td>\n",
       "      <td>7779.5</td>\n",
       "      <td>0.005</td>\n",
       "      <td>显著</td>\n",
       "    </tr>\n",
       "    <tr>\n",
       "      <th>7</th>\n",
       "      <td>TB</td>\n",
       "      <td>186.43</td>\n",
       "      <td>155.16</td>\n",
       "      <td>Mann-Whitney U检验</td>\n",
       "      <td>14439.5</td>\n",
       "      <td>0.004</td>\n",
       "      <td>显著</td>\n",
       "    </tr>\n",
       "    <tr>\n",
       "      <th>8</th>\n",
       "      <td>DB</td>\n",
       "      <td>145.83</td>\n",
       "      <td>138.52</td>\n",
       "      <td>Mann-Whitney U检验</td>\n",
       "      <td>9212.0</td>\n",
       "      <td>0.144</td>\n",
       "      <td>不显著</td>\n",
       "    </tr>\n",
       "    <tr>\n",
       "      <th>9</th>\n",
       "      <td>TP</td>\n",
       "      <td>64.78</td>\n",
       "      <td>65.77</td>\n",
       "      <td>Mann-Whitney U检验</td>\n",
       "      <td>12602.5</td>\n",
       "      <td>0.181</td>\n",
       "      <td>不显著</td>\n",
       "    </tr>\n",
       "    <tr>\n",
       "      <th>10</th>\n",
       "      <td>ALB</td>\n",
       "      <td>38.19</td>\n",
       "      <td>37.88</td>\n",
       "      <td>Mann-Whitney U检验</td>\n",
       "      <td>16134.5</td>\n",
       "      <td>0.269</td>\n",
       "      <td>不显著</td>\n",
       "    </tr>\n",
       "    <tr>\n",
       "      <th>11</th>\n",
       "      <td>AG</td>\n",
       "      <td>1.46</td>\n",
       "      <td>1.50</td>\n",
       "      <td>Mann-Whitney U检验</td>\n",
       "      <td>6280.5</td>\n",
       "      <td>0.167</td>\n",
       "      <td>不显著</td>\n",
       "    </tr>\n",
       "    <tr>\n",
       "      <th>12</th>\n",
       "      <td>PAB</td>\n",
       "      <td>193.65</td>\n",
       "      <td>179.34</td>\n",
       "      <td>Mann-Whitney U检验</td>\n",
       "      <td>7530.0</td>\n",
       "      <td>0.111</td>\n",
       "      <td>不显著</td>\n",
       "    </tr>\n",
       "    <tr>\n",
       "      <th>13</th>\n",
       "      <td>ALT</td>\n",
       "      <td>163.12</td>\n",
       "      <td>161.44</td>\n",
       "      <td>Mann-Whitney U检验</td>\n",
       "      <td>10047.0</td>\n",
       "      <td>0.404</td>\n",
       "      <td>不显著</td>\n",
       "    </tr>\n",
       "    <tr>\n",
       "      <th>14</th>\n",
       "      <td>AST</td>\n",
       "      <td>114.60</td>\n",
       "      <td>114.37</td>\n",
       "      <td>Mann-Whitney U检验</td>\n",
       "      <td>8693.0</td>\n",
       "      <td>0.359</td>\n",
       "      <td>不显著</td>\n",
       "    </tr>\n",
       "    <tr>\n",
       "      <th>15</th>\n",
       "      <td>GT</td>\n",
       "      <td>643.97</td>\n",
       "      <td>778.99</td>\n",
       "      <td>Mann-Whitney U检验</td>\n",
       "      <td>6659.0</td>\n",
       "      <td>0.139</td>\n",
       "      <td>不显著</td>\n",
       "    </tr>\n",
       "    <tr>\n",
       "      <th>16</th>\n",
       "      <td>ALP</td>\n",
       "      <td>419.43</td>\n",
       "      <td>419.84</td>\n",
       "      <td>Mann-Whitney U检验</td>\n",
       "      <td>6523.0</td>\n",
       "      <td>0.174</td>\n",
       "      <td>不显著</td>\n",
       "    </tr>\n",
       "    <tr>\n",
       "      <th>17</th>\n",
       "      <td>tumor_AFP</td>\n",
       "      <td>3.69</td>\n",
       "      <td>3.68</td>\n",
       "      <td>Mann-Whitney U检验</td>\n",
       "      <td>15334.0</td>\n",
       "      <td>0.182</td>\n",
       "      <td>不显著</td>\n",
       "    </tr>\n",
       "    <tr>\n",
       "      <th>18</th>\n",
       "      <td>tumor_CEA</td>\n",
       "      <td>6.35</td>\n",
       "      <td>5.89</td>\n",
       "      <td>Mann-Whitney U检验</td>\n",
       "      <td>15378.5</td>\n",
       "      <td>0.089</td>\n",
       "      <td>不显著</td>\n",
       "    </tr>\n",
       "    <tr>\n",
       "      <th>19</th>\n",
       "      <td>tumor_CA199</td>\n",
       "      <td>389.72</td>\n",
       "      <td>326.78</td>\n",
       "      <td>Mann-Whitney U检验</td>\n",
       "      <td>14779.5</td>\n",
       "      <td>0.014</td>\n",
       "      <td>显著</td>\n",
       "    </tr>\n",
       "    <tr>\n",
       "      <th>20</th>\n",
       "      <td>tumor_CA125</td>\n",
       "      <td>41.34</td>\n",
       "      <td>17.41</td>\n",
       "      <td>Mann-Whitney U检验</td>\n",
       "      <td>5987.0</td>\n",
       "      <td>0.000</td>\n",
       "      <td>显著</td>\n",
       "    </tr>\n",
       "    <tr>\n",
       "      <th>21</th>\n",
       "      <td>tumor_size</td>\n",
       "      <td>2.93</td>\n",
       "      <td>2.78</td>\n",
       "      <td>Mann-Whitney U检验</td>\n",
       "      <td>11126.5</td>\n",
       "      <td>0.161</td>\n",
       "      <td>不显著</td>\n",
       "    </tr>\n",
       "    <tr>\n",
       "      <th>22</th>\n",
       "      <td>surgery_bleeding</td>\n",
       "      <td>383.20</td>\n",
       "      <td>364.27</td>\n",
       "      <td>Mann-Whitney U检验</td>\n",
       "      <td>13112.5</td>\n",
       "      <td>0.035</td>\n",
       "      <td>显著</td>\n",
       "    </tr>\n",
       "    <tr>\n",
       "      <th>23</th>\n",
       "      <td>surgery_CRCS</td>\n",
       "      <td>1.03</td>\n",
       "      <td>41.65</td>\n",
       "      <td>Mann-Whitney U检验</td>\n",
       "      <td>14205.0</td>\n",
       "      <td>0.231</td>\n",
       "      <td>不显著</td>\n",
       "    </tr>\n",
       "    <tr>\n",
       "      <th>24</th>\n",
       "      <td>surgery_plasm</td>\n",
       "      <td>206.75</td>\n",
       "      <td>131.18</td>\n",
       "      <td>Mann-Whitney U检验</td>\n",
       "      <td>13351.0</td>\n",
       "      <td>0.091</td>\n",
       "      <td>不显著</td>\n",
       "    </tr>\n",
       "    <tr>\n",
       "      <th>25</th>\n",
       "      <td>surgery_CP</td>\n",
       "      <td>0.19</td>\n",
       "      <td>0.00</td>\n",
       "      <td>Mann-Whitney U检验</td>\n",
       "      <td>7480.0</td>\n",
       "      <td>0.220</td>\n",
       "      <td>不显著</td>\n",
       "    </tr>\n",
       "  </tbody>\n",
       "</table>\n",
       "</div>"
      ],
      "text/plain": [
       "                  特征   高剂量均值   低剂量均值              检验指标       t值     p值 显著性结果\n",
       "0                age   57.57   59.04  Mann-Whitney U检验  16341.5  0.101   不显著\n",
       "1             height  164.97  167.75  Mann-Whitney U检验   2594.5  0.029    显著\n",
       "2             weight   61.58   65.55  Mann-Whitney U检验   2637.5  0.036    显著\n",
       "3                BMI   22.56   23.30  Mann-Whitney U检验   2939.0  0.143   不显著\n",
       "4                WBC    6.39    6.29  Mann-Whitney U检验  10028.5  0.303   不显著\n",
       "5                HGB  123.28  125.41  Mann-Whitney U检验   9373.5  0.115   不显著\n",
       "6                PLT  255.61  222.89  Mann-Whitney U检验   7779.5  0.005    显著\n",
       "7                 TB  186.43  155.16  Mann-Whitney U检验  14439.5  0.004    显著\n",
       "8                 DB  145.83  138.52  Mann-Whitney U检验   9212.0  0.144   不显著\n",
       "9                 TP   64.78   65.77  Mann-Whitney U检验  12602.5  0.181   不显著\n",
       "10               ALB   38.19   37.88  Mann-Whitney U检验  16134.5  0.269   不显著\n",
       "11                AG    1.46    1.50  Mann-Whitney U检验   6280.5  0.167   不显著\n",
       "12               PAB  193.65  179.34  Mann-Whitney U检验   7530.0  0.111   不显著\n",
       "13               ALT  163.12  161.44  Mann-Whitney U检验  10047.0  0.404   不显著\n",
       "14               AST  114.60  114.37  Mann-Whitney U检验   8693.0  0.359   不显著\n",
       "15                GT  643.97  778.99  Mann-Whitney U检验   6659.0  0.139   不显著\n",
       "16               ALP  419.43  419.84  Mann-Whitney U检验   6523.0  0.174   不显著\n",
       "17         tumor_AFP    3.69    3.68  Mann-Whitney U检验  15334.0  0.182   不显著\n",
       "18         tumor_CEA    6.35    5.89  Mann-Whitney U检验  15378.5  0.089   不显著\n",
       "19       tumor_CA199  389.72  326.78  Mann-Whitney U检验  14779.5  0.014    显著\n",
       "20       tumor_CA125   41.34   17.41  Mann-Whitney U检验   5987.0  0.000    显著\n",
       "21        tumor_size    2.93    2.78  Mann-Whitney U检验  11126.5  0.161   不显著\n",
       "22  surgery_bleeding  383.20  364.27  Mann-Whitney U检验  13112.5  0.035    显著\n",
       "23      surgery_CRCS    1.03   41.65  Mann-Whitney U检验  14205.0  0.231   不显著\n",
       "24     surgery_plasm  206.75  131.18  Mann-Whitney U检验  13351.0  0.091   不显著\n",
       "25        surgery_CP    0.19    0.00  Mann-Whitney U检验   7480.0  0.220   不显著"
      ]
     },
     "execution_count": 89,
     "metadata": {},
     "output_type": "execute_result"
    }
   ],
   "source": [
    "df_continuous_sig"
   ]
  },
  {
   "cell_type": "code",
   "execution_count": 90,
   "metadata": {},
   "outputs": [],
   "source": [
    "continuous_relate = list(df_continuous_sig[df_continuous_sig['显著性结果']=='显著']['特征'])"
   ]
  },
  {
   "cell_type": "code",
   "execution_count": 91,
   "metadata": {},
   "outputs": [
    {
     "data": {
      "text/plain": [
       "['height',\n",
       " 'weight',\n",
       " 'PLT',\n",
       " 'TB',\n",
       " 'tumor_CA199',\n",
       " 'tumor_CA125',\n",
       " 'surgery_bleeding']"
      ]
     },
     "execution_count": 91,
     "metadata": {},
     "output_type": "execute_result"
    }
   ],
   "source": [
    "continuous_relate"
   ]
  },
  {
   "cell_type": "code",
   "execution_count": 92,
   "metadata": {},
   "outputs": [
    {
     "data": {
      "text/plain": [
       "['age',\n",
       " 'BMI',\n",
       " 'WBC',\n",
       " 'HGB',\n",
       " 'DB',\n",
       " 'TP',\n",
       " 'ALB',\n",
       " 'AG',\n",
       " 'PAB',\n",
       " 'ALT',\n",
       " 'AST',\n",
       " 'GT',\n",
       " 'ALP',\n",
       " 'tumor_AFP',\n",
       " 'tumor_CEA',\n",
       " 'tumor_size',\n",
       " 'surgery_CRCS',\n",
       " 'surgery_plasm',\n",
       " 'surgery_CP']"
      ]
     },
     "execution_count": 92,
     "metadata": {},
     "output_type": "execute_result"
    }
   ],
   "source": [
    "list(df_continuous_sig[df_continuous_sig['显著性结果']=='不显著']['特征'])"
   ]
  },
  {
   "cell_type": "code",
   "execution_count": 93,
   "metadata": {},
   "outputs": [],
   "source": [
    "# 舍弃p值大于0.5的变量，保留医学相关的变量：\n",
    "continuous_relate.extend(['age','BMI','WBC','HGB','DB','ALB','GT','ALP','tumor_AFP','tumor_CEA','tumor_size','surgery_plasm'])"
   ]
  },
  {
   "cell_type": "code",
   "execution_count": 94,
   "metadata": {},
   "outputs": [
    {
     "data": {
      "text/plain": [
       "['height',\n",
       " 'weight',\n",
       " 'PLT',\n",
       " 'TB',\n",
       " 'tumor_CA199',\n",
       " 'tumor_CA125',\n",
       " 'surgery_bleeding',\n",
       " 'age',\n",
       " 'BMI',\n",
       " 'WBC',\n",
       " 'HGB',\n",
       " 'DB',\n",
       " 'ALB',\n",
       " 'GT',\n",
       " 'ALP',\n",
       " 'tumor_AFP',\n",
       " 'tumor_CEA',\n",
       " 'tumor_size',\n",
       " 'surgery_plasm']"
      ]
     },
     "execution_count": 94,
     "metadata": {},
     "output_type": "execute_result"
    }
   ],
   "source": [
    "continuous_relate"
   ]
  },
  {
   "cell_type": "markdown",
   "metadata": {},
   "source": [
    "## 提取显著特征"
   ]
  },
  {
   "cell_type": "code",
   "execution_count": 95,
   "metadata": {},
   "outputs": [],
   "source": [
    "# 提取相关性特征\n",
    "feature_relate=discrete_relate + continuous_relate\n",
    "# 加入目标变量\n",
    "feature_relate.insert(0,'target_3Y_survival')\n",
    "feature_relate.insert(0,'target_3Y_death')\n",
    "\n",
    "df_model_relate=df_model[feature_relate]"
   ]
  },
  {
   "cell_type": "code",
   "execution_count": 96,
   "metadata": {},
   "outputs": [
    {
     "data": {
      "text/plain": [
       "(450, 43)"
      ]
     },
     "execution_count": 96,
     "metadata": {},
     "output_type": "execute_result"
    }
   ],
   "source": [
    "df_model_relate.shape"
   ]
  },
  {
   "cell_type": "code",
   "execution_count": 97,
   "metadata": {},
   "outputs": [
    {
     "data": {
      "text/plain": [
       "['target_3Y_death',\n",
       " 'target_3Y_survival',\n",
       " 'jaundice',\n",
       " 'blood_type',\n",
       " 'HBcAb',\n",
       " 'AJCC_8',\n",
       " 'Gazzaniga_T',\n",
       " 'surgery_result',\n",
       " 'gene_mutation',\n",
       " 'sampling',\n",
       " 'gender',\n",
       " 'emaciation',\n",
       " 'cardio_disease',\n",
       " 'endocrine_disease',\n",
       " 'biliary_disease',\n",
       " 'smoke',\n",
       " 'drinking',\n",
       " 'HBsAg',\n",
       " 'HCVAb',\n",
       " 'LC',\n",
       " 'PTCD_ERCP',\n",
       " 'MSKCC',\n",
       " 'Blumgart_T',\n",
       " 'Bismuth_C',\n",
       " 'height',\n",
       " 'weight',\n",
       " 'PLT',\n",
       " 'TB',\n",
       " 'tumor_CA199',\n",
       " 'tumor_CA125',\n",
       " 'surgery_bleeding',\n",
       " 'age',\n",
       " 'BMI',\n",
       " 'WBC',\n",
       " 'HGB',\n",
       " 'DB',\n",
       " 'ALB',\n",
       " 'GT',\n",
       " 'ALP',\n",
       " 'tumor_AFP',\n",
       " 'tumor_CEA',\n",
       " 'tumor_size',\n",
       " 'surgery_plasm']"
      ]
     },
     "execution_count": 97,
     "metadata": {},
     "output_type": "execute_result"
    }
   ],
   "source": [
    "feature_relate"
   ]
  },
  {
   "cell_type": "code",
   "execution_count": 98,
   "metadata": {},
   "outputs": [],
   "source": [
    "df_model_relate.to_excel(project_path+'/data/reimplementation/df_3.3_显著性检验.xlsx')"
   ]
  },
  {
   "cell_type": "markdown",
   "metadata": {},
   "source": [
    "# split data"
   ]
  },
  {
   "cell_type": "code",
   "execution_count": 99,
   "metadata": {},
   "outputs": [],
   "source": [
    "df_model_split=df_model_relate.copy()"
   ]
  },
  {
   "cell_type": "code",
   "execution_count": 100,
   "metadata": {},
   "outputs": [
    {
     "data": {
      "text/plain": [
       "Index(['target_3Y_death', 'target_3Y_survival', 'jaundice', 'blood_type',\n",
       "       'HBcAb', 'AJCC_8', 'Gazzaniga_T', 'surgery_result', 'gene_mutation',\n",
       "       'sampling', 'gender', 'emaciation', 'cardio_disease',\n",
       "       'endocrine_disease', 'biliary_disease', 'smoke', 'drinking', 'HBsAg',\n",
       "       'HCVAb', 'LC', 'PTCD_ERCP', 'MSKCC', 'Blumgart_T', 'Bismuth_C',\n",
       "       'height', 'weight', 'PLT', 'TB', 'tumor_CA199', 'tumor_CA125',\n",
       "       'surgery_bleeding', 'age', 'BMI', 'WBC', 'HGB', 'DB', 'ALB', 'GT',\n",
       "       'ALP', 'tumor_AFP', 'tumor_CEA', 'tumor_size', 'surgery_plasm'],\n",
       "      dtype='object')"
      ]
     },
     "execution_count": 100,
     "metadata": {},
     "output_type": "execute_result"
    }
   ],
   "source": [
    "df_model_split.columns"
   ]
  },
  {
   "cell_type": "code",
   "execution_count": 102,
   "metadata": {},
   "outputs": [],
   "source": [
    "# 离散变量和连续变量\n",
    "discrete_col=['jaundice', 'blood_type','HBcAb', 'AJCC_8', 'Gazzaniga_T', 'surgery_result', 'gene_mutation',\n",
    "               'sampling', 'gender', 'emaciation', 'cardio_disease','endocrine_disease', 'biliary_disease',\n",
    "              'smoke', 'drinking', 'HBsAg','HCVAb', 'LC', 'PTCD_ERCP', 'MSKCC', 'Blumgart_T', 'Bismuth_C',]\n",
    "continuous_col=[x for x in df_model_split.columns if x not in discrete_col]\n",
    "continuous_col.remove('target_3Y_death')\n",
    "continuous_col.remove('target_3Y_survival')"
   ]
  },
  {
   "cell_type": "markdown",
   "metadata": {},
   "source": [
    "## 数据归一化"
   ]
  },
  {
   "cell_type": "code",
   "execution_count": 103,
   "metadata": {},
   "outputs": [],
   "source": [
    "# 防止不同维特征数据差距过大，影响建模效果\n",
    "from sklearn.preprocessing import StandardScaler\n",
    "ss = StandardScaler()\n",
    "df_model_split[continuous_col]=ss.fit_transform(df_model_split[continuous_col])"
   ]
  },
  {
   "cell_type": "markdown",
   "metadata": {},
   "source": [
    "## 插补数据"
   ]
  },
  {
   "cell_type": "code",
   "execution_count": 104,
   "metadata": {},
   "outputs": [],
   "source": [
    "# 使用随机森林对缺失值进行插补\n",
    "import pandas as pd\n",
    "pd.set_option('mode.chained_assignment', None)\n",
    "import numpy as np\n",
    "from sklearn.ensemble import RandomForestRegressor\n",
    "from sklearn.model_selection import GridSearchCV\n",
    "def missing_value_interpolation(df):\n",
    "    df = df.reset_index(drop=True)\n",
    "    \n",
    "    # 提取存在缺失值的列名\n",
    "    missing_list = []\n",
    "    # 设定保护列\n",
    "    protect_col=['target_3Y_death', 'target_3Y_survival','sampling']\n",
    "    for i in df.columns:\n",
    "        if i in protect_col:\n",
    "            continue\n",
    "        try:\n",
    "            if df[i].isnull().sum()>0:\n",
    "                missing_list.append(i)\n",
    "        except:\n",
    "            if df[i].isnull().sum()[0]>0:\n",
    "                missing_list.append(i)\n",
    "    missing_list_copy = missing_list.copy()\n",
    "    # 用该列未缺失的值训练随机森林，然后用训练好的rf预测缺失值\n",
    "    for i in range(len(missing_list)):\n",
    "        name=missing_list[0]\n",
    "        df_missing = df[missing_list_copy]\n",
    "        # 将其他列的缺失值用0表示。\n",
    "        missing_list.remove(name)\n",
    "        for j in missing_list:\n",
    "            df_missing[j]=df_missing[j].astype('str').apply(lambda x: 0 if x=='nan' else x)\n",
    "        df_missing_is = df_missing[df_missing[name].isnull()]\n",
    "        df_missing_not = df_missing[df_missing[name].notnull()]\n",
    "        y = df_missing_not[name]\n",
    "        x = df_missing_not.drop([name],axis=1)\n",
    "\n",
    "        rfr = RandomForestRegressor(n_estimators=300,\n",
    "                                    random_state=3)\n",
    "        rfr.fit(x, y)\n",
    "        #预测缺失值\n",
    "        predict = rfr.predict(df_missing_is.drop([name],axis=1))\n",
    "        #填补缺失值\n",
    "        df.loc[df[name].isnull(),name] = predict\n",
    "    return df"
   ]
  },
  {
   "cell_type": "code",
   "execution_count": 105,
   "metadata": {},
   "outputs": [],
   "source": [
    "# 插补建模数据\n",
    "df_model_cb=missing_value_interpolation(df_model_split)\n",
    "# df_model_cb=df_model"
   ]
  },
  {
   "cell_type": "markdown",
   "metadata": {},
   "source": [
    "## 划分数据集"
   ]
  },
  {
   "cell_type": "code",
   "execution_count": 106,
   "metadata": {},
   "outputs": [],
   "source": [
    "# 分类随机数种子\n",
    "from sklearn.metrics import r2_score\n",
    "from sklearn.model_selection import train_test_split\n",
    "# 划分训练集和测试集，比例为8:2\n",
    "x = df_model_cb.drop(['target_3Y_death','target_3Y_survival','sampling'],axis=1)\n",
    "y = df_model_cb['target_3Y_death']\n",
    "\n",
    "tran_x, test_x, tran_y, test_y = train_test_split(x, y, test_size=0.2, random_state=0)"
   ]
  },
  {
   "cell_type": "code",
   "execution_count": 107,
   "metadata": {},
   "outputs": [],
   "source": [
    "# 进行过采样\n",
    "from imblearn.over_sampling import SMOTE,ADASYN \n",
    "from imblearn.combine import SMOTETomek\n",
    "sm = SMOTE(random_state=0)\n",
    "# sm=ADASYN(random_state=0)\n",
    "\n",
    "tran_x_sm,tran_y_sm = sm.fit_resample(tran_x,tran_y)"
   ]
  },
  {
   "cell_type": "markdown",
   "metadata": {},
   "source": [
    "# models"
   ]
  },
  {
   "cell_type": "code",
   "execution_count": 108,
   "metadata": {},
   "outputs": [
    {
     "data": {
      "text/plain": [
       "'\\n分别训练xgboost,rf,GBDT三个模型，并提起重要性排名前20的特征\\n'"
      ]
     },
     "execution_count": 108,
     "metadata": {},
     "output_type": "execute_result"
    }
   ],
   "source": [
    "'''\n",
    "分别训练xgboost,rf,GBDT三个模型，并提起重要性排名前20的特征\n",
    "'''"
   ]
  },
  {
   "cell_type": "markdown",
   "metadata": {},
   "source": [
    "## XGBoost"
   ]
  },
  {
   "cell_type": "code",
   "execution_count": 109,
   "metadata": {},
   "outputs": [
    {
     "name": "stdout",
     "output_type": "stream",
     "text": [
      "[0.03181199 0.01902641 0.0280488  0.03520014 0.0230205  0.03555881\n",
      " 0.00917477 0.02110408 0.02058736 0.04020663 0.01480667 0.01939563\n",
      " 0.02546807 0.031596   0.01603773 0.0080425  0.04177326 0.03172116\n",
      " 0.02419323 0.02793033 0.01009269 0.03605413 0.05509132 0.04035041\n",
      " 0.01707709 0.01148689 0.02096331 0.01921927 0.01551474 0.07875545\n",
      " 0.01758858 0.0315752  0.01668495 0.01231433 0.02118156 0.02059075\n",
      " 0.01374187 0.01460844 0.0165038  0.02590117]\n"
     ]
    }
   ],
   "source": [
    "import xgboost\n",
    "xgb_model=xgboost.XGBClassifier(max_depth=4,\n",
    "                        learning_rate=0.01,\n",
    "                        n_estimators=500,\n",
    "                        min_child_weight=0.8,\n",
    "                        eta=0.1,\n",
    "                        gamma=0.5,\n",
    "                        reg_lambda=6,\n",
    "                        subsample=0.8,\n",
    "                        colsample_bytree=0.6,\n",
    "                        nthread=4,\n",
    "                        scale_pos_weight=1,\n",
    "                        random_state=3)\n",
    "\n",
    "xgb_model.fit(tran_x_sm,tran_y_sm)\n",
    "\n",
    "importance = xgb_model.feature_importances_\n",
    "print(importance)"
   ]
  },
  {
   "cell_type": "code",
   "execution_count": 110,
   "metadata": {},
   "outputs": [],
   "source": [
    "df_importance= pd.DataFrame(data={'特征':x.columns,'重要性评分':importance})\n",
    "df_importance['重要性评分']=df_importance['重要性评分'].apply(lambda x: round(x,3))\n",
    "df_importance=df_importance.sort_values(['重要性评分'],ascending=False)\n",
    "df_importance=df_importance.reset_index(drop=True)"
   ]
  },
  {
   "cell_type": "code",
   "execution_count": 111,
   "metadata": {},
   "outputs": [
    {
     "data": {
      "text/html": [
       "<div>\n",
       "<style scoped>\n",
       "    .dataframe tbody tr th:only-of-type {\n",
       "        vertical-align: middle;\n",
       "    }\n",
       "\n",
       "    .dataframe tbody tr th {\n",
       "        vertical-align: top;\n",
       "    }\n",
       "\n",
       "    .dataframe thead th {\n",
       "        text-align: right;\n",
       "    }\n",
       "</style>\n",
       "<table border=\"1\" class=\"dataframe\">\n",
       "  <thead>\n",
       "    <tr style=\"text-align: right;\">\n",
       "      <th></th>\n",
       "      <th>特征</th>\n",
       "      <th>重要性评分</th>\n",
       "    </tr>\n",
       "  </thead>\n",
       "  <tbody>\n",
       "    <tr>\n",
       "      <th>0</th>\n",
       "      <td>BMI</td>\n",
       "      <td>0.079</td>\n",
       "    </tr>\n",
       "    <tr>\n",
       "      <th>1</th>\n",
       "      <td>weight</td>\n",
       "      <td>0.055</td>\n",
       "    </tr>\n",
       "    <tr>\n",
       "      <th>2</th>\n",
       "      <td>LC</td>\n",
       "      <td>0.042</td>\n",
       "    </tr>\n",
       "    <tr>\n",
       "      <th>3</th>\n",
       "      <td>PLT</td>\n",
       "      <td>0.040</td>\n",
       "    </tr>\n",
       "    <tr>\n",
       "      <th>4</th>\n",
       "      <td>cardio_disease</td>\n",
       "      <td>0.040</td>\n",
       "    </tr>\n",
       "    <tr>\n",
       "      <th>5</th>\n",
       "      <td>surgery_result</td>\n",
       "      <td>0.036</td>\n",
       "    </tr>\n",
       "    <tr>\n",
       "      <th>6</th>\n",
       "      <td>height</td>\n",
       "      <td>0.036</td>\n",
       "    </tr>\n",
       "    <tr>\n",
       "      <th>7</th>\n",
       "      <td>AJCC_8</td>\n",
       "      <td>0.035</td>\n",
       "    </tr>\n",
       "    <tr>\n",
       "      <th>8</th>\n",
       "      <td>jaundice</td>\n",
       "      <td>0.032</td>\n",
       "    </tr>\n",
       "    <tr>\n",
       "      <th>9</th>\n",
       "      <td>HGB</td>\n",
       "      <td>0.032</td>\n",
       "    </tr>\n",
       "    <tr>\n",
       "      <th>10</th>\n",
       "      <td>PTCD_ERCP</td>\n",
       "      <td>0.032</td>\n",
       "    </tr>\n",
       "    <tr>\n",
       "      <th>11</th>\n",
       "      <td>drinking</td>\n",
       "      <td>0.032</td>\n",
       "    </tr>\n",
       "    <tr>\n",
       "      <th>12</th>\n",
       "      <td>HBcAb</td>\n",
       "      <td>0.028</td>\n",
       "    </tr>\n",
       "    <tr>\n",
       "      <th>13</th>\n",
       "      <td>Blumgart_T</td>\n",
       "      <td>0.028</td>\n",
       "    </tr>\n",
       "    <tr>\n",
       "      <th>14</th>\n",
       "      <td>surgery_plasm</td>\n",
       "      <td>0.026</td>\n",
       "    </tr>\n",
       "    <tr>\n",
       "      <th>15</th>\n",
       "      <td>smoke</td>\n",
       "      <td>0.025</td>\n",
       "    </tr>\n",
       "    <tr>\n",
       "      <th>16</th>\n",
       "      <td>MSKCC</td>\n",
       "      <td>0.024</td>\n",
       "    </tr>\n",
       "    <tr>\n",
       "      <th>17</th>\n",
       "      <td>Gazzaniga_T</td>\n",
       "      <td>0.023</td>\n",
       "    </tr>\n",
       "    <tr>\n",
       "      <th>18</th>\n",
       "      <td>tumor_CA125</td>\n",
       "      <td>0.021</td>\n",
       "    </tr>\n",
       "    <tr>\n",
       "      <th>19</th>\n",
       "      <td>gender</td>\n",
       "      <td>0.021</td>\n",
       "    </tr>\n",
       "    <tr>\n",
       "      <th>20</th>\n",
       "      <td>ALP</td>\n",
       "      <td>0.021</td>\n",
       "    </tr>\n",
       "    <tr>\n",
       "      <th>21</th>\n",
       "      <td>GT</td>\n",
       "      <td>0.021</td>\n",
       "    </tr>\n",
       "    <tr>\n",
       "      <th>22</th>\n",
       "      <td>emaciation</td>\n",
       "      <td>0.021</td>\n",
       "    </tr>\n",
       "    <tr>\n",
       "      <th>23</th>\n",
       "      <td>surgery_bleeding</td>\n",
       "      <td>0.019</td>\n",
       "    </tr>\n",
       "    <tr>\n",
       "      <th>24</th>\n",
       "      <td>blood_type</td>\n",
       "      <td>0.019</td>\n",
       "    </tr>\n",
       "    <tr>\n",
       "      <th>25</th>\n",
       "      <td>biliary_disease</td>\n",
       "      <td>0.019</td>\n",
       "    </tr>\n",
       "    <tr>\n",
       "      <th>26</th>\n",
       "      <td>WBC</td>\n",
       "      <td>0.018</td>\n",
       "    </tr>\n",
       "    <tr>\n",
       "      <th>27</th>\n",
       "      <td>TB</td>\n",
       "      <td>0.017</td>\n",
       "    </tr>\n",
       "    <tr>\n",
       "      <th>28</th>\n",
       "      <td>tumor_size</td>\n",
       "      <td>0.017</td>\n",
       "    </tr>\n",
       "    <tr>\n",
       "      <th>29</th>\n",
       "      <td>DB</td>\n",
       "      <td>0.017</td>\n",
       "    </tr>\n",
       "    <tr>\n",
       "      <th>30</th>\n",
       "      <td>HBsAg</td>\n",
       "      <td>0.016</td>\n",
       "    </tr>\n",
       "    <tr>\n",
       "      <th>31</th>\n",
       "      <td>age</td>\n",
       "      <td>0.016</td>\n",
       "    </tr>\n",
       "    <tr>\n",
       "      <th>32</th>\n",
       "      <td>tumor_CEA</td>\n",
       "      <td>0.015</td>\n",
       "    </tr>\n",
       "    <tr>\n",
       "      <th>33</th>\n",
       "      <td>endocrine_disease</td>\n",
       "      <td>0.015</td>\n",
       "    </tr>\n",
       "    <tr>\n",
       "      <th>34</th>\n",
       "      <td>tumor_AFP</td>\n",
       "      <td>0.014</td>\n",
       "    </tr>\n",
       "    <tr>\n",
       "      <th>35</th>\n",
       "      <td>ALB</td>\n",
       "      <td>0.012</td>\n",
       "    </tr>\n",
       "    <tr>\n",
       "      <th>36</th>\n",
       "      <td>tumor_CA199</td>\n",
       "      <td>0.011</td>\n",
       "    </tr>\n",
       "    <tr>\n",
       "      <th>37</th>\n",
       "      <td>Bismuth_C</td>\n",
       "      <td>0.010</td>\n",
       "    </tr>\n",
       "    <tr>\n",
       "      <th>38</th>\n",
       "      <td>gene_mutation</td>\n",
       "      <td>0.009</td>\n",
       "    </tr>\n",
       "    <tr>\n",
       "      <th>39</th>\n",
       "      <td>HCVAb</td>\n",
       "      <td>0.008</td>\n",
       "    </tr>\n",
       "  </tbody>\n",
       "</table>\n",
       "</div>"
      ],
      "text/plain": [
       "                   特征  重要性评分\n",
       "0                 BMI  0.079\n",
       "1              weight  0.055\n",
       "2                  LC  0.042\n",
       "3                 PLT  0.040\n",
       "4      cardio_disease  0.040\n",
       "5      surgery_result  0.036\n",
       "6              height  0.036\n",
       "7              AJCC_8  0.035\n",
       "8            jaundice  0.032\n",
       "9                 HGB  0.032\n",
       "10          PTCD_ERCP  0.032\n",
       "11           drinking  0.032\n",
       "12              HBcAb  0.028\n",
       "13         Blumgart_T  0.028\n",
       "14      surgery_plasm  0.026\n",
       "15              smoke  0.025\n",
       "16              MSKCC  0.024\n",
       "17        Gazzaniga_T  0.023\n",
       "18        tumor_CA125  0.021\n",
       "19             gender  0.021\n",
       "20                ALP  0.021\n",
       "21                 GT  0.021\n",
       "22         emaciation  0.021\n",
       "23   surgery_bleeding  0.019\n",
       "24         blood_type  0.019\n",
       "25    biliary_disease  0.019\n",
       "26                WBC  0.018\n",
       "27                 TB  0.017\n",
       "28         tumor_size  0.017\n",
       "29                 DB  0.017\n",
       "30              HBsAg  0.016\n",
       "31                age  0.016\n",
       "32          tumor_CEA  0.015\n",
       "33  endocrine_disease  0.015\n",
       "34          tumor_AFP  0.014\n",
       "35                ALB  0.012\n",
       "36        tumor_CA199  0.011\n",
       "37          Bismuth_C  0.010\n",
       "38      gene_mutation  0.009\n",
       "39              HCVAb  0.008"
      ]
     },
     "execution_count": 111,
     "metadata": {},
     "output_type": "execute_result"
    }
   ],
   "source": [
    "df_importance"
   ]
  },
  {
   "cell_type": "code",
   "execution_count": 112,
   "metadata": {},
   "outputs": [],
   "source": [
    "# 取前20个变量\n",
    "col_xgb_20=df_importance.loc[:19,'特征'].to_list()"
   ]
  },
  {
   "cell_type": "code",
   "execution_count": 113,
   "metadata": {},
   "outputs": [
    {
     "data": {
      "text/plain": [
       "['BMI',\n",
       " 'weight',\n",
       " 'LC',\n",
       " 'PLT',\n",
       " 'cardio_disease',\n",
       " 'surgery_result',\n",
       " 'height',\n",
       " 'AJCC_8',\n",
       " 'jaundice',\n",
       " 'HGB',\n",
       " 'PTCD_ERCP',\n",
       " 'drinking',\n",
       " 'HBcAb',\n",
       " 'Blumgart_T',\n",
       " 'surgery_plasm',\n",
       " 'smoke',\n",
       " 'MSKCC',\n",
       " 'Gazzaniga_T',\n",
       " 'tumor_CA125',\n",
       " 'gender']"
      ]
     },
     "execution_count": 113,
     "metadata": {},
     "output_type": "execute_result"
    }
   ],
   "source": [
    "col_xgb_20"
   ]
  },
  {
   "cell_type": "markdown",
   "metadata": {},
   "source": [
    "## RF"
   ]
  },
  {
   "cell_type": "code",
   "execution_count": 114,
   "metadata": {},
   "outputs": [
    {
     "name": "stdout",
     "output_type": "stream",
     "text": [
      "[0.02280943 0.04156124 0.00829138 0.02601147 0.01437392 0.03871985\n",
      " 0.00222983 0.00382665 0.01393732 0.00962586 0.00408092 0.0091972\n",
      " 0.00980939 0.0189579  0.00662847 0.00130855 0.00916904 0.01536364\n",
      " 0.0053214  0.00671829 0.01192693 0.06278662 0.09314706 0.06046459\n",
      " 0.02599249 0.0187143  0.03301184 0.02465981 0.01810587 0.1265724\n",
      " 0.02453661 0.04949208 0.02304437 0.02022157 0.02971787 0.02809836\n",
      " 0.0214031  0.01516062 0.01977108 0.02523067]\n"
     ]
    }
   ],
   "source": [
    "from sklearn.ensemble import RandomForestClassifier,GradientBoostingClassifier\n",
    "from sklearn.model_selection import GridSearchCV\n",
    "# 列出参数列表\n",
    "tree_grid_parameter = {'n_estimators': list((10, 50, 100, 150, 200))}\n",
    "# 进行参数的搜索组合\n",
    "grid = GridSearchCV(RandomForestClassifier(), param_grid=tree_grid_parameter, cv=3)\n",
    "# 根据已有数据去拟合随机森林模型\n",
    "grid.fit(tran_x_sm, tran_y_sm)\n",
    "rf_model = RandomForestClassifier(n_estimators=grid.best_params_['n_estimators'],\n",
    "                            max_depth=8,\n",
    "                            random_state=3)\n",
    "rf_model.fit(tran_x_sm, tran_y_sm)\n",
    "\n",
    "importance = rf_model.feature_importances_\n",
    "print(importance)"
   ]
  },
  {
   "cell_type": "code",
   "execution_count": 115,
   "metadata": {},
   "outputs": [],
   "source": [
    "df_importance= pd.DataFrame(data={'特征':x.columns,'重要性评分':importance})\n",
    "df_importance['重要性评分']=df_importance['重要性评分'].apply(lambda x: round(x,3))\n",
    "df_importance=df_importance.sort_values(['重要性评分'],ascending=False)\n",
    "df_importance=df_importance.reset_index(drop=True)"
   ]
  },
  {
   "cell_type": "code",
   "execution_count": 116,
   "metadata": {},
   "outputs": [
    {
     "data": {
      "text/html": [
       "<div>\n",
       "<style scoped>\n",
       "    .dataframe tbody tr th:only-of-type {\n",
       "        vertical-align: middle;\n",
       "    }\n",
       "\n",
       "    .dataframe tbody tr th {\n",
       "        vertical-align: top;\n",
       "    }\n",
       "\n",
       "    .dataframe thead th {\n",
       "        text-align: right;\n",
       "    }\n",
       "</style>\n",
       "<table border=\"1\" class=\"dataframe\">\n",
       "  <thead>\n",
       "    <tr style=\"text-align: right;\">\n",
       "      <th></th>\n",
       "      <th>特征</th>\n",
       "      <th>重要性评分</th>\n",
       "    </tr>\n",
       "  </thead>\n",
       "  <tbody>\n",
       "    <tr>\n",
       "      <th>0</th>\n",
       "      <td>BMI</td>\n",
       "      <td>0.127</td>\n",
       "    </tr>\n",
       "    <tr>\n",
       "      <th>1</th>\n",
       "      <td>weight</td>\n",
       "      <td>0.093</td>\n",
       "    </tr>\n",
       "    <tr>\n",
       "      <th>2</th>\n",
       "      <td>height</td>\n",
       "      <td>0.063</td>\n",
       "    </tr>\n",
       "    <tr>\n",
       "      <th>3</th>\n",
       "      <td>PLT</td>\n",
       "      <td>0.060</td>\n",
       "    </tr>\n",
       "    <tr>\n",
       "      <th>4</th>\n",
       "      <td>HGB</td>\n",
       "      <td>0.049</td>\n",
       "    </tr>\n",
       "    <tr>\n",
       "      <th>5</th>\n",
       "      <td>blood_type</td>\n",
       "      <td>0.042</td>\n",
       "    </tr>\n",
       "    <tr>\n",
       "      <th>6</th>\n",
       "      <td>surgery_result</td>\n",
       "      <td>0.039</td>\n",
       "    </tr>\n",
       "    <tr>\n",
       "      <th>7</th>\n",
       "      <td>tumor_CA125</td>\n",
       "      <td>0.033</td>\n",
       "    </tr>\n",
       "    <tr>\n",
       "      <th>8</th>\n",
       "      <td>GT</td>\n",
       "      <td>0.030</td>\n",
       "    </tr>\n",
       "    <tr>\n",
       "      <th>9</th>\n",
       "      <td>ALP</td>\n",
       "      <td>0.028</td>\n",
       "    </tr>\n",
       "    <tr>\n",
       "      <th>10</th>\n",
       "      <td>AJCC_8</td>\n",
       "      <td>0.026</td>\n",
       "    </tr>\n",
       "    <tr>\n",
       "      <th>11</th>\n",
       "      <td>TB</td>\n",
       "      <td>0.026</td>\n",
       "    </tr>\n",
       "    <tr>\n",
       "      <th>12</th>\n",
       "      <td>surgery_plasm</td>\n",
       "      <td>0.025</td>\n",
       "    </tr>\n",
       "    <tr>\n",
       "      <th>13</th>\n",
       "      <td>WBC</td>\n",
       "      <td>0.025</td>\n",
       "    </tr>\n",
       "    <tr>\n",
       "      <th>14</th>\n",
       "      <td>surgery_bleeding</td>\n",
       "      <td>0.025</td>\n",
       "    </tr>\n",
       "    <tr>\n",
       "      <th>15</th>\n",
       "      <td>DB</td>\n",
       "      <td>0.023</td>\n",
       "    </tr>\n",
       "    <tr>\n",
       "      <th>16</th>\n",
       "      <td>jaundice</td>\n",
       "      <td>0.023</td>\n",
       "    </tr>\n",
       "    <tr>\n",
       "      <th>17</th>\n",
       "      <td>tumor_AFP</td>\n",
       "      <td>0.021</td>\n",
       "    </tr>\n",
       "    <tr>\n",
       "      <th>18</th>\n",
       "      <td>tumor_size</td>\n",
       "      <td>0.020</td>\n",
       "    </tr>\n",
       "    <tr>\n",
       "      <th>19</th>\n",
       "      <td>ALB</td>\n",
       "      <td>0.020</td>\n",
       "    </tr>\n",
       "    <tr>\n",
       "      <th>20</th>\n",
       "      <td>tumor_CA199</td>\n",
       "      <td>0.019</td>\n",
       "    </tr>\n",
       "    <tr>\n",
       "      <th>21</th>\n",
       "      <td>drinking</td>\n",
       "      <td>0.019</td>\n",
       "    </tr>\n",
       "    <tr>\n",
       "      <th>22</th>\n",
       "      <td>age</td>\n",
       "      <td>0.018</td>\n",
       "    </tr>\n",
       "    <tr>\n",
       "      <th>23</th>\n",
       "      <td>tumor_CEA</td>\n",
       "      <td>0.015</td>\n",
       "    </tr>\n",
       "    <tr>\n",
       "      <th>24</th>\n",
       "      <td>PTCD_ERCP</td>\n",
       "      <td>0.015</td>\n",
       "    </tr>\n",
       "    <tr>\n",
       "      <th>25</th>\n",
       "      <td>emaciation</td>\n",
       "      <td>0.014</td>\n",
       "    </tr>\n",
       "    <tr>\n",
       "      <th>26</th>\n",
       "      <td>Gazzaniga_T</td>\n",
       "      <td>0.014</td>\n",
       "    </tr>\n",
       "    <tr>\n",
       "      <th>27</th>\n",
       "      <td>Bismuth_C</td>\n",
       "      <td>0.012</td>\n",
       "    </tr>\n",
       "    <tr>\n",
       "      <th>28</th>\n",
       "      <td>smoke</td>\n",
       "      <td>0.010</td>\n",
       "    </tr>\n",
       "    <tr>\n",
       "      <th>29</th>\n",
       "      <td>cardio_disease</td>\n",
       "      <td>0.010</td>\n",
       "    </tr>\n",
       "    <tr>\n",
       "      <th>30</th>\n",
       "      <td>biliary_disease</td>\n",
       "      <td>0.009</td>\n",
       "    </tr>\n",
       "    <tr>\n",
       "      <th>31</th>\n",
       "      <td>LC</td>\n",
       "      <td>0.009</td>\n",
       "    </tr>\n",
       "    <tr>\n",
       "      <th>32</th>\n",
       "      <td>HBcAb</td>\n",
       "      <td>0.008</td>\n",
       "    </tr>\n",
       "    <tr>\n",
       "      <th>33</th>\n",
       "      <td>HBsAg</td>\n",
       "      <td>0.007</td>\n",
       "    </tr>\n",
       "    <tr>\n",
       "      <th>34</th>\n",
       "      <td>Blumgart_T</td>\n",
       "      <td>0.007</td>\n",
       "    </tr>\n",
       "    <tr>\n",
       "      <th>35</th>\n",
       "      <td>MSKCC</td>\n",
       "      <td>0.005</td>\n",
       "    </tr>\n",
       "    <tr>\n",
       "      <th>36</th>\n",
       "      <td>endocrine_disease</td>\n",
       "      <td>0.004</td>\n",
       "    </tr>\n",
       "    <tr>\n",
       "      <th>37</th>\n",
       "      <td>gender</td>\n",
       "      <td>0.004</td>\n",
       "    </tr>\n",
       "    <tr>\n",
       "      <th>38</th>\n",
       "      <td>gene_mutation</td>\n",
       "      <td>0.002</td>\n",
       "    </tr>\n",
       "    <tr>\n",
       "      <th>39</th>\n",
       "      <td>HCVAb</td>\n",
       "      <td>0.001</td>\n",
       "    </tr>\n",
       "  </tbody>\n",
       "</table>\n",
       "</div>"
      ],
      "text/plain": [
       "                   特征  重要性评分\n",
       "0                 BMI  0.127\n",
       "1              weight  0.093\n",
       "2              height  0.063\n",
       "3                 PLT  0.060\n",
       "4                 HGB  0.049\n",
       "5          blood_type  0.042\n",
       "6      surgery_result  0.039\n",
       "7         tumor_CA125  0.033\n",
       "8                  GT  0.030\n",
       "9                 ALP  0.028\n",
       "10             AJCC_8  0.026\n",
       "11                 TB  0.026\n",
       "12      surgery_plasm  0.025\n",
       "13                WBC  0.025\n",
       "14   surgery_bleeding  0.025\n",
       "15                 DB  0.023\n",
       "16           jaundice  0.023\n",
       "17          tumor_AFP  0.021\n",
       "18         tumor_size  0.020\n",
       "19                ALB  0.020\n",
       "20        tumor_CA199  0.019\n",
       "21           drinking  0.019\n",
       "22                age  0.018\n",
       "23          tumor_CEA  0.015\n",
       "24          PTCD_ERCP  0.015\n",
       "25         emaciation  0.014\n",
       "26        Gazzaniga_T  0.014\n",
       "27          Bismuth_C  0.012\n",
       "28              smoke  0.010\n",
       "29     cardio_disease  0.010\n",
       "30    biliary_disease  0.009\n",
       "31                 LC  0.009\n",
       "32              HBcAb  0.008\n",
       "33              HBsAg  0.007\n",
       "34         Blumgart_T  0.007\n",
       "35              MSKCC  0.005\n",
       "36  endocrine_disease  0.004\n",
       "37             gender  0.004\n",
       "38      gene_mutation  0.002\n",
       "39              HCVAb  0.001"
      ]
     },
     "execution_count": 116,
     "metadata": {},
     "output_type": "execute_result"
    }
   ],
   "source": [
    "df_importance"
   ]
  },
  {
   "cell_type": "code",
   "execution_count": 117,
   "metadata": {},
   "outputs": [],
   "source": [
    "# 取前20个变量\n",
    "col_rf_20=df_importance.loc[:19,'特征'].to_list()"
   ]
  },
  {
   "cell_type": "code",
   "execution_count": 118,
   "metadata": {},
   "outputs": [
    {
     "data": {
      "text/plain": [
       "['BMI',\n",
       " 'weight',\n",
       " 'height',\n",
       " 'PLT',\n",
       " 'HGB',\n",
       " 'blood_type',\n",
       " 'surgery_result',\n",
       " 'tumor_CA125',\n",
       " 'GT',\n",
       " 'ALP',\n",
       " 'AJCC_8',\n",
       " 'TB',\n",
       " 'surgery_plasm',\n",
       " 'WBC',\n",
       " 'surgery_bleeding',\n",
       " 'DB',\n",
       " 'jaundice',\n",
       " 'tumor_AFP',\n",
       " 'tumor_size',\n",
       " 'ALB']"
      ]
     },
     "execution_count": 118,
     "metadata": {},
     "output_type": "execute_result"
    }
   ],
   "source": [
    "col_rf_20"
   ]
  },
  {
   "cell_type": "markdown",
   "metadata": {},
   "source": [
    "## GBDT"
   ]
  },
  {
   "cell_type": "code",
   "execution_count": 119,
   "metadata": {},
   "outputs": [
    {
     "name": "stdout",
     "output_type": "stream",
     "text": [
      "[0.00754429 0.0469273  0.01276588 0.01775737 0.0136081  0.0207538\n",
      " 0.00201159 0.00068379 0.01450367 0.01015251 0.00679988 0.01268433\n",
      " 0.00549206 0.0071727  0.00493811 0.01336529 0.02068087 0.01879923\n",
      " 0.0014247  0.0009145  0.01469837 0.03041213 0.05481928 0.06995983\n",
      " 0.01235762 0.02269088 0.03534739 0.01880169 0.02272085 0.1781665\n",
      " 0.0216087  0.07892678 0.01370287 0.01336861 0.04676374 0.03042213\n",
      " 0.03113872 0.01988916 0.0256533  0.01957149]\n"
     ]
    }
   ],
   "source": [
    "# GBDT\n",
    "from sklearn.ensemble import RandomForestClassifier,GradientBoostingClassifier\n",
    "from sklearn.model_selection import GridSearchCV\n",
    "gbdt_model = GradientBoostingClassifier(n_estimators=300,\n",
    "                            learning_rate=0.1,\n",
    "                            max_depth=8,\n",
    "                            subsample=0.4,\n",
    "                            random_state=3)\n",
    "gbdt_model.fit(tran_x_sm, tran_y_sm)\n",
    "\n",
    "importance = gbdt_model.feature_importances_\n",
    "print(importance)"
   ]
  },
  {
   "cell_type": "code",
   "execution_count": 120,
   "metadata": {},
   "outputs": [],
   "source": [
    "df_importance= pd.DataFrame(data={'特征':x.columns,'重要性评分':importance})\n",
    "df_importance['重要性评分']=df_importance['重要性评分'].apply(lambda x: round(x,3))\n",
    "df_importance=df_importance.sort_values(['重要性评分'],ascending=False)\n",
    "df_importance=df_importance.reset_index(drop=True)"
   ]
  },
  {
   "cell_type": "code",
   "execution_count": 121,
   "metadata": {},
   "outputs": [
    {
     "data": {
      "text/html": [
       "<div>\n",
       "<style scoped>\n",
       "    .dataframe tbody tr th:only-of-type {\n",
       "        vertical-align: middle;\n",
       "    }\n",
       "\n",
       "    .dataframe tbody tr th {\n",
       "        vertical-align: top;\n",
       "    }\n",
       "\n",
       "    .dataframe thead th {\n",
       "        text-align: right;\n",
       "    }\n",
       "</style>\n",
       "<table border=\"1\" class=\"dataframe\">\n",
       "  <thead>\n",
       "    <tr style=\"text-align: right;\">\n",
       "      <th></th>\n",
       "      <th>特征</th>\n",
       "      <th>重要性评分</th>\n",
       "    </tr>\n",
       "  </thead>\n",
       "  <tbody>\n",
       "    <tr>\n",
       "      <th>0</th>\n",
       "      <td>BMI</td>\n",
       "      <td>0.178</td>\n",
       "    </tr>\n",
       "    <tr>\n",
       "      <th>1</th>\n",
       "      <td>HGB</td>\n",
       "      <td>0.079</td>\n",
       "    </tr>\n",
       "    <tr>\n",
       "      <th>2</th>\n",
       "      <td>PLT</td>\n",
       "      <td>0.070</td>\n",
       "    </tr>\n",
       "    <tr>\n",
       "      <th>3</th>\n",
       "      <td>weight</td>\n",
       "      <td>0.055</td>\n",
       "    </tr>\n",
       "    <tr>\n",
       "      <th>4</th>\n",
       "      <td>blood_type</td>\n",
       "      <td>0.047</td>\n",
       "    </tr>\n",
       "    <tr>\n",
       "      <th>5</th>\n",
       "      <td>GT</td>\n",
       "      <td>0.047</td>\n",
       "    </tr>\n",
       "    <tr>\n",
       "      <th>6</th>\n",
       "      <td>tumor_CA125</td>\n",
       "      <td>0.035</td>\n",
       "    </tr>\n",
       "    <tr>\n",
       "      <th>7</th>\n",
       "      <td>tumor_AFP</td>\n",
       "      <td>0.031</td>\n",
       "    </tr>\n",
       "    <tr>\n",
       "      <th>8</th>\n",
       "      <td>ALP</td>\n",
       "      <td>0.030</td>\n",
       "    </tr>\n",
       "    <tr>\n",
       "      <th>9</th>\n",
       "      <td>height</td>\n",
       "      <td>0.030</td>\n",
       "    </tr>\n",
       "    <tr>\n",
       "      <th>10</th>\n",
       "      <td>tumor_size</td>\n",
       "      <td>0.026</td>\n",
       "    </tr>\n",
       "    <tr>\n",
       "      <th>11</th>\n",
       "      <td>tumor_CA199</td>\n",
       "      <td>0.023</td>\n",
       "    </tr>\n",
       "    <tr>\n",
       "      <th>12</th>\n",
       "      <td>age</td>\n",
       "      <td>0.023</td>\n",
       "    </tr>\n",
       "    <tr>\n",
       "      <th>13</th>\n",
       "      <td>WBC</td>\n",
       "      <td>0.022</td>\n",
       "    </tr>\n",
       "    <tr>\n",
       "      <th>14</th>\n",
       "      <td>surgery_result</td>\n",
       "      <td>0.021</td>\n",
       "    </tr>\n",
       "    <tr>\n",
       "      <th>15</th>\n",
       "      <td>LC</td>\n",
       "      <td>0.021</td>\n",
       "    </tr>\n",
       "    <tr>\n",
       "      <th>16</th>\n",
       "      <td>tumor_CEA</td>\n",
       "      <td>0.020</td>\n",
       "    </tr>\n",
       "    <tr>\n",
       "      <th>17</th>\n",
       "      <td>surgery_plasm</td>\n",
       "      <td>0.020</td>\n",
       "    </tr>\n",
       "    <tr>\n",
       "      <th>18</th>\n",
       "      <td>surgery_bleeding</td>\n",
       "      <td>0.019</td>\n",
       "    </tr>\n",
       "    <tr>\n",
       "      <th>19</th>\n",
       "      <td>PTCD_ERCP</td>\n",
       "      <td>0.019</td>\n",
       "    </tr>\n",
       "    <tr>\n",
       "      <th>20</th>\n",
       "      <td>AJCC_8</td>\n",
       "      <td>0.018</td>\n",
       "    </tr>\n",
       "    <tr>\n",
       "      <th>21</th>\n",
       "      <td>Bismuth_C</td>\n",
       "      <td>0.015</td>\n",
       "    </tr>\n",
       "    <tr>\n",
       "      <th>22</th>\n",
       "      <td>emaciation</td>\n",
       "      <td>0.015</td>\n",
       "    </tr>\n",
       "    <tr>\n",
       "      <th>23</th>\n",
       "      <td>DB</td>\n",
       "      <td>0.014</td>\n",
       "    </tr>\n",
       "    <tr>\n",
       "      <th>24</th>\n",
       "      <td>Gazzaniga_T</td>\n",
       "      <td>0.014</td>\n",
       "    </tr>\n",
       "    <tr>\n",
       "      <th>25</th>\n",
       "      <td>HCVAb</td>\n",
       "      <td>0.013</td>\n",
       "    </tr>\n",
       "    <tr>\n",
       "      <th>26</th>\n",
       "      <td>HBcAb</td>\n",
       "      <td>0.013</td>\n",
       "    </tr>\n",
       "    <tr>\n",
       "      <th>27</th>\n",
       "      <td>biliary_disease</td>\n",
       "      <td>0.013</td>\n",
       "    </tr>\n",
       "    <tr>\n",
       "      <th>28</th>\n",
       "      <td>ALB</td>\n",
       "      <td>0.013</td>\n",
       "    </tr>\n",
       "    <tr>\n",
       "      <th>29</th>\n",
       "      <td>TB</td>\n",
       "      <td>0.012</td>\n",
       "    </tr>\n",
       "    <tr>\n",
       "      <th>30</th>\n",
       "      <td>cardio_disease</td>\n",
       "      <td>0.010</td>\n",
       "    </tr>\n",
       "    <tr>\n",
       "      <th>31</th>\n",
       "      <td>jaundice</td>\n",
       "      <td>0.008</td>\n",
       "    </tr>\n",
       "    <tr>\n",
       "      <th>32</th>\n",
       "      <td>endocrine_disease</td>\n",
       "      <td>0.007</td>\n",
       "    </tr>\n",
       "    <tr>\n",
       "      <th>33</th>\n",
       "      <td>drinking</td>\n",
       "      <td>0.007</td>\n",
       "    </tr>\n",
       "    <tr>\n",
       "      <th>34</th>\n",
       "      <td>smoke</td>\n",
       "      <td>0.005</td>\n",
       "    </tr>\n",
       "    <tr>\n",
       "      <th>35</th>\n",
       "      <td>HBsAg</td>\n",
       "      <td>0.005</td>\n",
       "    </tr>\n",
       "    <tr>\n",
       "      <th>36</th>\n",
       "      <td>gene_mutation</td>\n",
       "      <td>0.002</td>\n",
       "    </tr>\n",
       "    <tr>\n",
       "      <th>37</th>\n",
       "      <td>MSKCC</td>\n",
       "      <td>0.001</td>\n",
       "    </tr>\n",
       "    <tr>\n",
       "      <th>38</th>\n",
       "      <td>gender</td>\n",
       "      <td>0.001</td>\n",
       "    </tr>\n",
       "    <tr>\n",
       "      <th>39</th>\n",
       "      <td>Blumgart_T</td>\n",
       "      <td>0.001</td>\n",
       "    </tr>\n",
       "  </tbody>\n",
       "</table>\n",
       "</div>"
      ],
      "text/plain": [
       "                   特征  重要性评分\n",
       "0                 BMI  0.178\n",
       "1                 HGB  0.079\n",
       "2                 PLT  0.070\n",
       "3              weight  0.055\n",
       "4          blood_type  0.047\n",
       "5                  GT  0.047\n",
       "6         tumor_CA125  0.035\n",
       "7           tumor_AFP  0.031\n",
       "8                 ALP  0.030\n",
       "9              height  0.030\n",
       "10         tumor_size  0.026\n",
       "11        tumor_CA199  0.023\n",
       "12                age  0.023\n",
       "13                WBC  0.022\n",
       "14     surgery_result  0.021\n",
       "15                 LC  0.021\n",
       "16          tumor_CEA  0.020\n",
       "17      surgery_plasm  0.020\n",
       "18   surgery_bleeding  0.019\n",
       "19          PTCD_ERCP  0.019\n",
       "20             AJCC_8  0.018\n",
       "21          Bismuth_C  0.015\n",
       "22         emaciation  0.015\n",
       "23                 DB  0.014\n",
       "24        Gazzaniga_T  0.014\n",
       "25              HCVAb  0.013\n",
       "26              HBcAb  0.013\n",
       "27    biliary_disease  0.013\n",
       "28                ALB  0.013\n",
       "29                 TB  0.012\n",
       "30     cardio_disease  0.010\n",
       "31           jaundice  0.008\n",
       "32  endocrine_disease  0.007\n",
       "33           drinking  0.007\n",
       "34              smoke  0.005\n",
       "35              HBsAg  0.005\n",
       "36      gene_mutation  0.002\n",
       "37              MSKCC  0.001\n",
       "38             gender  0.001\n",
       "39         Blumgart_T  0.001"
      ]
     },
     "execution_count": 121,
     "metadata": {},
     "output_type": "execute_result"
    }
   ],
   "source": [
    "df_importance"
   ]
  },
  {
   "cell_type": "code",
   "execution_count": 122,
   "metadata": {},
   "outputs": [],
   "source": [
    "# 取前20个变量\n",
    "col_gbdt_20=df_importance.loc[:19,'特征'].to_list()"
   ]
  },
  {
   "cell_type": "code",
   "execution_count": 123,
   "metadata": {},
   "outputs": [
    {
     "data": {
      "text/plain": [
       "['BMI',\n",
       " 'HGB',\n",
       " 'PLT',\n",
       " 'weight',\n",
       " 'blood_type',\n",
       " 'GT',\n",
       " 'tumor_CA125',\n",
       " 'tumor_AFP',\n",
       " 'ALP',\n",
       " 'height',\n",
       " 'tumor_size',\n",
       " 'tumor_CA199',\n",
       " 'age',\n",
       " 'WBC',\n",
       " 'surgery_result',\n",
       " 'LC',\n",
       " 'tumor_CEA',\n",
       " 'surgery_plasm',\n",
       " 'surgery_bleeding',\n",
       " 'PTCD_ERCP']"
      ]
     },
     "execution_count": 123,
     "metadata": {},
     "output_type": "execute_result"
    }
   ],
   "source": [
    "col_gbdt_20"
   ]
  },
  {
   "cell_type": "markdown",
   "metadata": {},
   "source": [
    "## 取重要变量交集"
   ]
  },
  {
   "cell_type": "code",
   "execution_count": 124,
   "metadata": {},
   "outputs": [],
   "source": [
    "df_col_importance=pd.DataFrame(data={'xgb_col':col_xgb_20,\n",
    "                                    'rf_col':col_rf_20,\n",
    "                                    'gbdt_col':col_gbdt_20})"
   ]
  },
  {
   "cell_type": "code",
   "execution_count": 125,
   "metadata": {},
   "outputs": [
    {
     "data": {
      "text/html": [
       "<div>\n",
       "<style scoped>\n",
       "    .dataframe tbody tr th:only-of-type {\n",
       "        vertical-align: middle;\n",
       "    }\n",
       "\n",
       "    .dataframe tbody tr th {\n",
       "        vertical-align: top;\n",
       "    }\n",
       "\n",
       "    .dataframe thead th {\n",
       "        text-align: right;\n",
       "    }\n",
       "</style>\n",
       "<table border=\"1\" class=\"dataframe\">\n",
       "  <thead>\n",
       "    <tr style=\"text-align: right;\">\n",
       "      <th></th>\n",
       "      <th>xgb_col</th>\n",
       "      <th>rf_col</th>\n",
       "      <th>gbdt_col</th>\n",
       "    </tr>\n",
       "  </thead>\n",
       "  <tbody>\n",
       "    <tr>\n",
       "      <th>0</th>\n",
       "      <td>BMI</td>\n",
       "      <td>BMI</td>\n",
       "      <td>BMI</td>\n",
       "    </tr>\n",
       "    <tr>\n",
       "      <th>1</th>\n",
       "      <td>weight</td>\n",
       "      <td>weight</td>\n",
       "      <td>HGB</td>\n",
       "    </tr>\n",
       "    <tr>\n",
       "      <th>2</th>\n",
       "      <td>LC</td>\n",
       "      <td>height</td>\n",
       "      <td>PLT</td>\n",
       "    </tr>\n",
       "    <tr>\n",
       "      <th>3</th>\n",
       "      <td>PLT</td>\n",
       "      <td>PLT</td>\n",
       "      <td>weight</td>\n",
       "    </tr>\n",
       "    <tr>\n",
       "      <th>4</th>\n",
       "      <td>cardio_disease</td>\n",
       "      <td>HGB</td>\n",
       "      <td>blood_type</td>\n",
       "    </tr>\n",
       "    <tr>\n",
       "      <th>5</th>\n",
       "      <td>surgery_result</td>\n",
       "      <td>blood_type</td>\n",
       "      <td>GT</td>\n",
       "    </tr>\n",
       "    <tr>\n",
       "      <th>6</th>\n",
       "      <td>height</td>\n",
       "      <td>surgery_result</td>\n",
       "      <td>tumor_CA125</td>\n",
       "    </tr>\n",
       "    <tr>\n",
       "      <th>7</th>\n",
       "      <td>AJCC_8</td>\n",
       "      <td>tumor_CA125</td>\n",
       "      <td>tumor_AFP</td>\n",
       "    </tr>\n",
       "    <tr>\n",
       "      <th>8</th>\n",
       "      <td>jaundice</td>\n",
       "      <td>GT</td>\n",
       "      <td>ALP</td>\n",
       "    </tr>\n",
       "    <tr>\n",
       "      <th>9</th>\n",
       "      <td>HGB</td>\n",
       "      <td>ALP</td>\n",
       "      <td>height</td>\n",
       "    </tr>\n",
       "    <tr>\n",
       "      <th>10</th>\n",
       "      <td>PTCD_ERCP</td>\n",
       "      <td>AJCC_8</td>\n",
       "      <td>tumor_size</td>\n",
       "    </tr>\n",
       "    <tr>\n",
       "      <th>11</th>\n",
       "      <td>drinking</td>\n",
       "      <td>TB</td>\n",
       "      <td>tumor_CA199</td>\n",
       "    </tr>\n",
       "    <tr>\n",
       "      <th>12</th>\n",
       "      <td>HBcAb</td>\n",
       "      <td>surgery_plasm</td>\n",
       "      <td>age</td>\n",
       "    </tr>\n",
       "    <tr>\n",
       "      <th>13</th>\n",
       "      <td>Blumgart_T</td>\n",
       "      <td>WBC</td>\n",
       "      <td>WBC</td>\n",
       "    </tr>\n",
       "    <tr>\n",
       "      <th>14</th>\n",
       "      <td>surgery_plasm</td>\n",
       "      <td>surgery_bleeding</td>\n",
       "      <td>surgery_result</td>\n",
       "    </tr>\n",
       "    <tr>\n",
       "      <th>15</th>\n",
       "      <td>smoke</td>\n",
       "      <td>DB</td>\n",
       "      <td>LC</td>\n",
       "    </tr>\n",
       "    <tr>\n",
       "      <th>16</th>\n",
       "      <td>MSKCC</td>\n",
       "      <td>jaundice</td>\n",
       "      <td>tumor_CEA</td>\n",
       "    </tr>\n",
       "    <tr>\n",
       "      <th>17</th>\n",
       "      <td>Gazzaniga_T</td>\n",
       "      <td>tumor_AFP</td>\n",
       "      <td>surgery_plasm</td>\n",
       "    </tr>\n",
       "    <tr>\n",
       "      <th>18</th>\n",
       "      <td>tumor_CA125</td>\n",
       "      <td>tumor_size</td>\n",
       "      <td>surgery_bleeding</td>\n",
       "    </tr>\n",
       "    <tr>\n",
       "      <th>19</th>\n",
       "      <td>gender</td>\n",
       "      <td>ALB</td>\n",
       "      <td>PTCD_ERCP</td>\n",
       "    </tr>\n",
       "  </tbody>\n",
       "</table>\n",
       "</div>"
      ],
      "text/plain": [
       "           xgb_col            rf_col          gbdt_col\n",
       "0              BMI               BMI               BMI\n",
       "1           weight            weight               HGB\n",
       "2               LC            height               PLT\n",
       "3              PLT               PLT            weight\n",
       "4   cardio_disease               HGB        blood_type\n",
       "5   surgery_result        blood_type                GT\n",
       "6           height    surgery_result       tumor_CA125\n",
       "7           AJCC_8       tumor_CA125         tumor_AFP\n",
       "8         jaundice                GT               ALP\n",
       "9              HGB               ALP            height\n",
       "10       PTCD_ERCP            AJCC_8        tumor_size\n",
       "11        drinking                TB       tumor_CA199\n",
       "12           HBcAb     surgery_plasm               age\n",
       "13      Blumgart_T               WBC               WBC\n",
       "14   surgery_plasm  surgery_bleeding    surgery_result\n",
       "15           smoke                DB                LC\n",
       "16           MSKCC          jaundice         tumor_CEA\n",
       "17     Gazzaniga_T         tumor_AFP     surgery_plasm\n",
       "18     tumor_CA125        tumor_size  surgery_bleeding\n",
       "19          gender               ALB         PTCD_ERCP"
      ]
     },
     "execution_count": 125,
     "metadata": {},
     "output_type": "execute_result"
    }
   ],
   "source": [
    "df_col_importance"
   ]
  },
  {
   "cell_type": "code",
   "execution_count": 126,
   "metadata": {},
   "outputs": [],
   "source": [
    "df_col_importance.to_excel(project_path+'/data/reimplementation/df_5.4_top20重要变量.xlsx')"
   ]
  },
  {
   "cell_type": "code",
   "execution_count": 127,
   "metadata": {},
   "outputs": [],
   "source": [
    "# col_xgb_20, col_rf_20, col_gbdt_20，得到10个交集变量\n",
    "col_importance_merge=[i for i in col_xgb_20 if i in col_rf_20]\n",
    "col_importance_merge=[i for i in col_gbdt_20 if i in col_importance_merge]"
   ]
  },
  {
   "cell_type": "code",
   "execution_count": 128,
   "metadata": {},
   "outputs": [
    {
     "data": {
      "text/plain": [
       "['BMI',\n",
       " 'HGB',\n",
       " 'PLT',\n",
       " 'weight',\n",
       " 'tumor_CA125',\n",
       " 'height',\n",
       " 'surgery_result',\n",
       " 'surgery_plasm']"
      ]
     },
     "execution_count": 128,
     "metadata": {},
     "output_type": "execute_result"
    }
   ],
   "source": [
    "col_importance_merge"
   ]
  },
  {
   "cell_type": "code",
   "execution_count": 129,
   "metadata": {},
   "outputs": [],
   "source": [
    "## 插入目标变量\n",
    "col_importance_merge.insert(0,'sampling')\n",
    "col_importance_merge.extend(['target_3Y_death', 'target_3Y_survival'])"
   ]
  },
  {
   "cell_type": "code",
   "execution_count": 130,
   "metadata": {},
   "outputs": [
    {
     "data": {
      "text/plain": [
       "['sampling',\n",
       " 'BMI',\n",
       " 'HGB',\n",
       " 'PLT',\n",
       " 'weight',\n",
       " 'tumor_CA125',\n",
       " 'height',\n",
       " 'surgery_result',\n",
       " 'surgery_plasm',\n",
       " 'target_3Y_death',\n",
       " 'target_3Y_survival']"
      ]
     },
     "execution_count": 130,
     "metadata": {},
     "output_type": "execute_result"
    }
   ],
   "source": [
    "col_importance_merge"
   ]
  },
  {
   "cell_type": "code",
   "execution_count": 131,
   "metadata": {},
   "outputs": [],
   "source": [
    "df_model_merge=df_model_relate[col_importance_merge]"
   ]
  },
  {
   "cell_type": "code",
   "execution_count": 132,
   "metadata": {},
   "outputs": [],
   "source": [
    "df_model_merge.to_excel(project_path+'/data/reimplementation/df_5.4_取重要变量交集.xlsx')"
   ]
  },
  {
   "cell_type": "markdown",
   "metadata": {},
   "source": [
    "# 计算C_index"
   ]
  },
  {
   "cell_type": "markdown",
   "metadata": {},
   "source": [
    "## 所有变量"
   ]
  },
  {
   "cell_type": "code",
   "execution_count": 143,
   "metadata": {},
   "outputs": [],
   "source": [
    "df_model_cox_all=df_model_relate[df_model_relate.target_3Y_survival.notnull() & df_model_relate.sampling.notnull()]"
   ]
  },
  {
   "cell_type": "code",
   "execution_count": 144,
   "metadata": {},
   "outputs": [
    {
     "data": {
      "text/plain": [
       "(362, 43)"
      ]
     },
     "execution_count": 144,
     "metadata": {},
     "output_type": "execute_result"
    }
   ],
   "source": [
    "df_model_cox_all.shape"
   ]
  },
  {
   "cell_type": "code",
   "execution_count": 145,
   "metadata": {},
   "outputs": [
    {
     "data": {
      "text/plain": [
       "Index(['target_3Y_death', 'target_3Y_survival', 'jaundice', 'blood_type',\n",
       "       'HBcAb', 'AJCC_8', 'Gazzaniga_T', 'surgery_result', 'gene_mutation',\n",
       "       'sampling', 'gender', 'emaciation', 'cardio_disease',\n",
       "       'endocrine_disease', 'biliary_disease', 'smoke', 'drinking', 'HBsAg',\n",
       "       'HCVAb', 'LC', 'PTCD_ERCP', 'MSKCC', 'Blumgart_T', 'Bismuth_C',\n",
       "       'height', 'weight', 'PLT', 'TB', 'tumor_CA199', 'tumor_CA125',\n",
       "       'surgery_bleeding', 'age', 'BMI', 'WBC', 'HGB', 'DB', 'ALB', 'GT',\n",
       "       'ALP', 'tumor_AFP', 'tumor_CEA', 'tumor_size', 'surgery_plasm'],\n",
       "      dtype='object')"
      ]
     },
     "execution_count": 145,
     "metadata": {},
     "output_type": "execute_result"
    }
   ],
   "source": [
    "df_model_cox_all.columns"
   ]
  },
  {
   "cell_type": "markdown",
   "metadata": {},
   "source": [
    "### 查看缺失率"
   ]
  },
  {
   "cell_type": "code",
   "execution_count": 146,
   "metadata": {},
   "outputs": [
    {
     "name": "stdout",
     "output_type": "stream",
     "text": [
      "每列缺失率: target_3Y_death 0.00%\n",
      "每列缺失率: target_3Y_survival 0.00%\n",
      "每列缺失率: jaundice 0.00%\n",
      "每列缺失率: blood_type 64.64%\n",
      "每列缺失率: HBcAb 12.98%\n",
      "每列缺失率: AJCC_8 5.80%\n",
      "每列缺失率: Gazzaniga_T 6.91%\n",
      "每列缺失率: surgery_result 9.67%\n",
      "每列缺失率: gene_mutation 0.00%\n",
      "每列缺失率: sampling 0.00%\n",
      "每列缺失率: gender 0.28%\n",
      "每列缺失率: emaciation 14.36%\n",
      "每列缺失率: cardio_disease 0.28%\n",
      "每列缺失率: endocrine_disease 0.55%\n",
      "每列缺失率: biliary_disease 0.55%\n",
      "每列缺失率: smoke 0.00%\n",
      "每列缺失率: drinking 4.14%\n",
      "每列缺失率: HBsAg 8.56%\n",
      "每列缺失率: HCVAb 13.26%\n",
      "每列缺失率: LC 22.10%\n",
      "每列缺失率: PTCD_ERCP 5.25%\n",
      "每列缺失率: MSKCC 6.91%\n",
      "每列缺失率: Blumgart_T 6.91%\n",
      "每列缺失率: Bismuth_C 6.35%\n",
      "每列缺失率: height 38.67%\n",
      "每列缺失率: weight 38.67%\n",
      "每列缺失率: PLT 16.02%\n",
      "每列缺失率: TB 1.10%\n",
      "每列缺失率: tumor_CA199 1.38%\n",
      "每列缺失率: tumor_CA125 33.15%\n",
      "每列缺失率: surgery_bleeding 8.84%\n",
      "每列缺失率: age 0.28%\n",
      "每列缺失率: BMI 38.67%\n",
      "每列缺失率: WBC 14.36%\n",
      "每列缺失率: HGB 15.19%\n",
      "每列缺失率: DB 14.09%\n",
      "每列缺失率: ALB 3.87%\n",
      "每列缺失率: GT 30.39%\n",
      "每列缺失率: ALP 32.87%\n",
      "每列缺失率: tumor_AFP 4.70%\n",
      "每列缺失率: tumor_CEA 2.49%\n",
      "每列缺失率: tumor_size 22.65%\n",
      "每列缺失率: surgery_plasm 9.67%\n"
     ]
    }
   ],
   "source": [
    "# 删除列缺失超过50%\n",
    "for i in df_model_cox_all.columns:\n",
    "    percent_col= df_model_cox_all[i].isnull().sum()/df_model_cox_all.shape[0]\n",
    "    percent_col=\"%.2f%%\" % (percent_col * 100)\n",
    "    print('每列缺失率:',i,percent_col)"
   ]
  },
  {
   "cell_type": "code",
   "execution_count": 147,
   "metadata": {},
   "outputs": [],
   "source": [
    "# 删除数据缺失超过30%的重要变量，否则变量数超过数据量，cox无法运行\n",
    "missing_col=['blood_type','height','weight','tumor_CA125','BMI','GT','ALP']\n",
    "df_model_cox_all=df_model_cox_all.drop(missing_col,axis=1)\n",
    "# 删除损害收敛性的变量\n",
    "df_model_cox_all=df_model_cox_all.drop(['HCVAb'],axis=1)"
   ]
  },
  {
   "cell_type": "markdown",
   "metadata": {},
   "source": [
    "### dataset for cox-all"
   ]
  },
  {
   "cell_type": "code",
   "execution_count": 148,
   "metadata": {},
   "outputs": [],
   "source": [
    "# 计算3年生存期分期的c_index_all\n",
    "for i in df_model_cox_all.columns:\n",
    "    df_model_cox_all = df_model_cox_all[df_model_cox_all[i].notnull()]"
   ]
  },
  {
   "cell_type": "code",
   "execution_count": 149,
   "metadata": {},
   "outputs": [
    {
     "data": {
      "text/plain": [
       "1    128\n",
       "0      1\n",
       "Name: sampling, dtype: int64"
      ]
     },
     "execution_count": 149,
     "metadata": {},
     "output_type": "execute_result"
    }
   ],
   "source": [
    "df_model_cox_all.sampling.value_counts()"
   ]
  },
  {
   "cell_type": "code",
   "execution_count": 150,
   "metadata": {},
   "outputs": [
    {
     "data": {
      "text/plain": [
       "(129, 35)"
      ]
     },
     "execution_count": 150,
     "metadata": {},
     "output_type": "execute_result"
    }
   ],
   "source": [
    "df_model_cox_all.shape"
   ]
  },
  {
   "cell_type": "code",
   "execution_count": 151,
   "metadata": {},
   "outputs": [],
   "source": [
    "df_model_cox_all.to_excel(project_path+'/data/reimplementation/df_6.1.2_dataset_cox_all.xlsx')"
   ]
  },
  {
   "cell_type": "markdown",
   "metadata": {},
   "source": [
    "### c_index_all"
   ]
  },
  {
   "cell_type": "code",
   "execution_count": 152,
   "metadata": {},
   "outputs": [
    {
     "name": "stdout",
     "output_type": "stream",
     "text": [
      "\r",
      "Iteration 1: norm_delta = 2.73420, step_size = 0.9000, log_lik = -394.63353, newton_decrement = 58.13629, seconds_since_start = 0.0\n",
      "\r",
      "Iteration 2: norm_delta = 0.81957, step_size = 0.9000, log_lik = -353.33897, newton_decrement = 9.51915, seconds_since_start = 0.0\n",
      "\r",
      "Iteration 3: norm_delta = 0.15463, step_size = 0.9000, log_lik = -343.90408, newton_decrement = 0.46884, seconds_since_start = 0.0\n",
      "\r",
      "Iteration 4: norm_delta = 0.09016, step_size = 1.0000, log_lik = -343.39324, newton_decrement = 0.02870, seconds_since_start = 0.0\n",
      "\r",
      "Iteration 5: norm_delta = 0.08806, step_size = 1.0000, log_lik = -343.35845, newton_decrement = 0.00836, seconds_since_start = 0.0\n",
      "\r",
      "Iteration 6: norm_delta = 0.08806, step_size = 1.0000, log_lik = -343.34788, newton_decrement = 0.00307, seconds_since_start = 0.0\n",
      "\r",
      "Iteration 7: norm_delta = 0.08805, step_size = 1.0000, log_lik = -343.34400, newton_decrement = 0.00113, seconds_since_start = 0.0\n",
      "\r",
      "Iteration 8: norm_delta = 0.08805, step_size = 1.0000, log_lik = -343.34257, newton_decrement = 0.00042, seconds_since_start = 0.0\n",
      "\r",
      "Iteration 9: norm_delta = 0.08805, step_size = 1.0000, log_lik = -343.34204, newton_decrement = 0.00015, seconds_since_start = 0.0\n",
      "\r",
      "Iteration 10: norm_delta = 0.08805, step_size = 1.0000, log_lik = -343.34185, newton_decrement = 0.00006, seconds_since_start = 0.0\n",
      "\r",
      "Iteration 11: norm_delta = 0.08805, step_size = 1.0000, log_lik = -343.34178, newton_decrement = 0.00002, seconds_since_start = 0.0\n",
      "\r",
      "Iteration 12: norm_delta = 0.08805, step_size = 1.0000, log_lik = -343.34175, newton_decrement = 0.00001, seconds_since_start = 0.0\n",
      "\r",
      "Iteration 13: norm_delta = 0.08805, step_size = 1.0000, log_lik = -343.34174, newton_decrement = 0.00000, seconds_since_start = 0.0\n",
      "\r",
      "Iteration 14: norm_delta = 0.08805, step_size = 1.0000, log_lik = -343.34174, newton_decrement = 0.00000, seconds_since_start = 0.1\n",
      "\r",
      "Iteration 15: norm_delta = 0.08805, step_size = 1.0000, log_lik = -343.34174, newton_decrement = 0.00000, seconds_since_start = 0.1\n",
      "\r",
      "Iteration 16: norm_delta = 0.08805, step_size = 1.0000, log_lik = -343.34173, newton_decrement = 0.00000, seconds_since_start = 0.1\n",
      "\r",
      "Iteration 17: norm_delta = 0.08805, step_size = 1.0000, log_lik = -343.34173, newton_decrement = 0.00000, seconds_since_start = 0.1\n",
      "Convergence success after 17 iterations.\n",
      "0.7825734000811798\n"
     ]
    }
   ],
   "source": [
    "from lifelines import CoxPHFitter\n",
    "from lifelines.utils import concordance_index\n",
    "\n",
    "cph = CoxPHFitter()\n",
    "cph.fit(df_model_cox_all, duration_col='target_3Y_survival',event_col='target_3Y_death',cluster_col='sampling',show_progress=True)\n",
    "c_index_all = cph.concordance_index_\n",
    "print(c_index_all)"
   ]
  },
  {
   "cell_type": "markdown",
   "metadata": {},
   "source": [
    "## ML筛选的变量"
   ]
  },
  {
   "cell_type": "code",
   "execution_count": 153,
   "metadata": {},
   "outputs": [],
   "source": [
    "df_model_cox_ML=df_model_merge[df_model_merge.target_3Y_survival.notnull() & df_model_merge.sampling.notnull()]"
   ]
  },
  {
   "cell_type": "code",
   "execution_count": 154,
   "metadata": {},
   "outputs": [
    {
     "data": {
      "text/plain": [
       "Index(['sampling', 'BMI', 'HGB', 'PLT', 'weight', 'tumor_CA125', 'height',\n",
       "       'surgery_result', 'surgery_plasm', 'target_3Y_death',\n",
       "       'target_3Y_survival'],\n",
       "      dtype='object')"
      ]
     },
     "execution_count": 154,
     "metadata": {},
     "output_type": "execute_result"
    }
   ],
   "source": [
    "df_model_cox_ML.columns"
   ]
  },
  {
   "cell_type": "code",
   "execution_count": 155,
   "metadata": {},
   "outputs": [
    {
     "data": {
      "text/plain": [
       "(362, 11)"
      ]
     },
     "execution_count": 155,
     "metadata": {},
     "output_type": "execute_result"
    }
   ],
   "source": [
    "df_model_cox_ML.shape"
   ]
  },
  {
   "cell_type": "markdown",
   "metadata": {},
   "source": [
    "### 查看缺失率"
   ]
  },
  {
   "cell_type": "code",
   "execution_count": 156,
   "metadata": {},
   "outputs": [
    {
     "name": "stdout",
     "output_type": "stream",
     "text": [
      "每列缺失率: sampling 0.00%\n",
      "每列缺失率: BMI 38.67%\n",
      "每列缺失率: HGB 15.19%\n",
      "每列缺失率: PLT 16.02%\n",
      "每列缺失率: weight 38.67%\n",
      "每列缺失率: tumor_CA125 33.15%\n",
      "每列缺失率: height 38.67%\n",
      "每列缺失率: surgery_result 9.67%\n",
      "每列缺失率: surgery_plasm 9.67%\n",
      "每列缺失率: target_3Y_death 0.00%\n",
      "每列缺失率: target_3Y_survival 0.00%\n"
     ]
    }
   ],
   "source": [
    "# 删除列缺失超过50%\n",
    "for i in df_model_cox_ML.columns:\n",
    "    percent_col= df_model_cox_ML[i].isnull().sum()/df_model_cox_ML.shape[0]\n",
    "    percent_col=\"%.2f%%\" % (percent_col * 100)\n",
    "    print('每列缺失率:',i,percent_col)"
   ]
  },
  {
   "cell_type": "code",
   "execution_count": 158,
   "metadata": {},
   "outputs": [],
   "source": [
    "# 删除数据缺失超过30%的重要变量，否则变量数超过数据量，cox无法运行\n",
    "missing_col=['height','weight','BMI','tumor_CA125']\n",
    "df_model_cox_ML=df_model_cox_ML.drop(missing_col,axis=1)\n",
    "# 删除损害收敛性的变量"
   ]
  },
  {
   "cell_type": "markdown",
   "metadata": {},
   "source": [
    "### dataset for cox-ML"
   ]
  },
  {
   "cell_type": "code",
   "execution_count": 159,
   "metadata": {},
   "outputs": [],
   "source": [
    "from lifelines import CoxPHFitter\n",
    "from lifelines.utils import concordance_index\n",
    "# 计算3年生存期分期的c_index_all\n",
    "for i in df_model_cox_ML.columns:\n",
    "    df_model_cox_ML = df_model_cox_ML[df_model_cox_ML[i].notnull()]"
   ]
  },
  {
   "cell_type": "code",
   "execution_count": 160,
   "metadata": {},
   "outputs": [
    {
     "data": {
      "text/plain": [
       "1    273\n",
       "0      1\n",
       "Name: sampling, dtype: int64"
      ]
     },
     "execution_count": 160,
     "metadata": {},
     "output_type": "execute_result"
    }
   ],
   "source": [
    "df_model_cox_ML.sampling.value_counts()"
   ]
  },
  {
   "cell_type": "code",
   "execution_count": 161,
   "metadata": {},
   "outputs": [
    {
     "data": {
      "text/plain": [
       "(274, 7)"
      ]
     },
     "execution_count": 161,
     "metadata": {},
     "output_type": "execute_result"
    }
   ],
   "source": [
    "df_model_cox_ML.shape"
   ]
  },
  {
   "cell_type": "code",
   "execution_count": 162,
   "metadata": {},
   "outputs": [],
   "source": [
    "df_model_cox_ML.to_excel(project_path+'/data/reimplementation/df_6.2.2_dataset_cox_ML.xlsx')"
   ]
  },
  {
   "cell_type": "markdown",
   "metadata": {},
   "source": [
    "### c_index_ML"
   ]
  },
  {
   "cell_type": "code",
   "execution_count": 163,
   "metadata": {},
   "outputs": [
    {
     "name": "stdout",
     "output_type": "stream",
     "text": [
      "\r",
      "Iteration 1: norm_delta = 1.38724, step_size = 0.9000, log_lik = -1095.37011, newton_decrement = 85.12252, seconds_since_start = 0.0\n",
      "\r",
      "Iteration 2: norm_delta = 0.33150, step_size = 0.9000, log_lik = -1042.82694, newton_decrement = 10.29848, seconds_since_start = 0.0\n",
      "\r",
      "Iteration 3: norm_delta = 0.03714, step_size = 0.9000, log_lik = -1032.64207, newton_decrement = 0.11789, seconds_since_start = 0.0\n",
      "\r",
      "Iteration 4: norm_delta = 0.00021, step_size = 1.0000, log_lik = -1032.52372, newton_decrement = 0.00000, seconds_since_start = 0.0\n",
      "\r",
      "Iteration 5: norm_delta = 0.00000, step_size = 1.0000, log_lik = -1032.52372, newton_decrement = 0.00000, seconds_since_start = 0.0\n",
      "Convergence success after 5 iterations.\n",
      "0.726634043040293\n"
     ]
    }
   ],
   "source": [
    "cph = CoxPHFitter()\n",
    "cph.fit(df_model_cox_ML, duration_col='target_3Y_survival',event_col='target_3Y_death',cluster_col='sampling',show_progress=True)\n",
    "c_index_all = cph.concordance_index_\n",
    "print(c_index_all)"
   ]
  },
  {
   "cell_type": "markdown",
   "metadata": {},
   "source": [
    "## SPSS：backward筛选的变量"
   ]
  },
  {
   "cell_type": "code",
   "execution_count": 164,
   "metadata": {},
   "outputs": [],
   "source": [
    "col_backward=['jaundice','AJCC_8','surgery_result','gene_mutation','cardio_disease','smoke','LC','Bismuth_C','tumor_CA199',\n",
    "            'DB','tumor_AFP','tumor_size']\n",
    "col_backward.insert(0,'sampling')\n",
    "col_backward.extend(['target_3Y_death','target_3Y_survival'])"
   ]
  },
  {
   "cell_type": "code",
   "execution_count": 165,
   "metadata": {},
   "outputs": [],
   "source": [
    "df_model_cox_back=df_model_relate[col_backward]\n",
    "df_model_cox_back=df_model_cox_back[df_model_cox_back.target_3Y_survival.notnull()]"
   ]
  },
  {
   "cell_type": "markdown",
   "metadata": {},
   "source": [
    "### 查看缺失率"
   ]
  },
  {
   "cell_type": "code",
   "execution_count": 167,
   "metadata": {},
   "outputs": [
    {
     "name": "stdout",
     "output_type": "stream",
     "text": [
      "每列缺失率: sampling 0.00%\n",
      "每列缺失率: jaundice 0.00%\n",
      "每列缺失率: AJCC_8 5.80%\n",
      "每列缺失率: surgery_result 9.67%\n",
      "每列缺失率: gene_mutation 0.00%\n",
      "每列缺失率: cardio_disease 0.28%\n",
      "每列缺失率: smoke 0.00%\n",
      "每列缺失率: LC 22.10%\n",
      "每列缺失率: Bismuth_C 6.35%\n",
      "每列缺失率: tumor_CA199 1.38%\n",
      "每列缺失率: DB 14.09%\n",
      "每列缺失率: tumor_AFP 4.70%\n",
      "每列缺失率: tumor_size 22.65%\n",
      "每列缺失率: target_3Y_death 0.00%\n",
      "每列缺失率: target_3Y_survival 0.00%\n"
     ]
    }
   ],
   "source": [
    "# 删除列缺失超过50%\n",
    "for i in df_model_cox_back.columns:\n",
    "    percent_col= df_model_cox_back[i].isnull().sum()/df_model_cox_back.shape[0]\n",
    "    percent_col=\"%.2f%%\" % (percent_col * 100)\n",
    "    print('每列缺失率:',i,percent_col)"
   ]
  },
  {
   "cell_type": "markdown",
   "metadata": {},
   "source": [
    "### dataset for cox-back"
   ]
  },
  {
   "cell_type": "code",
   "execution_count": 170,
   "metadata": {},
   "outputs": [],
   "source": [
    "from lifelines import CoxPHFitter\n",
    "from lifelines.utils import concordance_index\n",
    "# 计算3年生存期分期的c_index_all\n",
    "for i in df_model_cox_back.columns:\n",
    "    df_model_cox_back = df_model_cox_back[df_model_cox_back[i].notnull()]"
   ]
  },
  {
   "cell_type": "code",
   "execution_count": 171,
   "metadata": {},
   "outputs": [
    {
     "data": {
      "text/plain": [
       "(168, 15)"
      ]
     },
     "execution_count": 171,
     "metadata": {},
     "output_type": "execute_result"
    }
   ],
   "source": [
    "df_model_cox_back.shape"
   ]
  },
  {
   "cell_type": "code",
   "execution_count": 172,
   "metadata": {},
   "outputs": [
    {
     "data": {
      "text/plain": [
       "1    167\n",
       "0      1\n",
       "Name: sampling, dtype: int64"
      ]
     },
     "execution_count": 172,
     "metadata": {},
     "output_type": "execute_result"
    }
   ],
   "source": [
    "df_model_cox_back.sampling.value_counts()"
   ]
  },
  {
   "cell_type": "code",
   "execution_count": 174,
   "metadata": {},
   "outputs": [],
   "source": [
    "df_model_cox_back.to_excel(project_path+'/data/reimplementation/df_6.3.2_dataset_cox_back.xlsx')"
   ]
  },
  {
   "cell_type": "markdown",
   "metadata": {},
   "source": [
    "### c_index_back"
   ]
  },
  {
   "cell_type": "code",
   "execution_count": 175,
   "metadata": {},
   "outputs": [
    {
     "name": "stdout",
     "output_type": "stream",
     "text": [
      "\r",
      "Iteration 1: norm_delta = 1.29325, step_size = 0.9000, log_lik = -563.35479, newton_decrement = 60.08919, seconds_since_start = 0.0\n",
      "\r",
      "Iteration 2: norm_delta = 0.37728, step_size = 0.9000, log_lik = -519.78073, newton_decrement = 8.27734, seconds_since_start = 0.0\n",
      "\r",
      "Iteration 3: norm_delta = 0.04973, step_size = 0.9000, log_lik = -511.44462, newton_decrement = 0.18777, seconds_since_start = 0.0\n",
      "\r",
      "Iteration 4: norm_delta = 0.00111, step_size = 1.0000, log_lik = -511.25402, newton_decrement = 0.00011, seconds_since_start = 0.0\n",
      "\r",
      "Iteration 5: norm_delta = 0.00000, step_size = 1.0000, log_lik = -511.25391, newton_decrement = 0.00000, seconds_since_start = 0.0\n",
      "Convergence success after 5 iterations.\n",
      "0.7524907821448183\n"
     ]
    }
   ],
   "source": [
    "cph = CoxPHFitter()\n",
    "cph.fit(df_model_cox_back, duration_col='target_3Y_survival',event_col='target_3Y_death',cluster_col='sampling',show_progress=True)\n",
    "c_index_all = cph.concordance_index_\n",
    "print(c_index_all)"
   ]
  },
  {
   "cell_type": "markdown",
   "metadata": {},
   "source": [
    "## ML+SPSS筛选的变量"
   ]
  },
  {
   "cell_type": "code",
   "execution_count": 219,
   "metadata": {},
   "outputs": [],
   "source": [
    "# 人工设定3个\n",
    "col_ML_back=['PLT','AJCC_8','surgery_result','surgery_plasm']\n",
    "col_ML_back.insert(0,'sampling')\n",
    "col_ML_back.extend(['target_3Y_death','target_3Y_survival'])"
   ]
  },
  {
   "cell_type": "code",
   "execution_count": 220,
   "metadata": {},
   "outputs": [],
   "source": [
    "df_model_cox_ML_back=df_model_relate[col_ML_back]\n",
    "df_model_cox_ML_back=df_model_cox_ML_back[df_model_cox_ML_back.target_3Y_survival.notnull() ]"
   ]
  },
  {
   "cell_type": "markdown",
   "metadata": {},
   "source": [
    "### 查看缺失率"
   ]
  },
  {
   "cell_type": "code",
   "execution_count": 221,
   "metadata": {},
   "outputs": [
    {
     "name": "stdout",
     "output_type": "stream",
     "text": [
      "每列缺失率: sampling 0.00%\n",
      "每列缺失率: PLT 16.02%\n",
      "每列缺失率: AJCC_8 5.80%\n",
      "每列缺失率: surgery_result 9.67%\n",
      "每列缺失率: surgery_plasm 9.67%\n",
      "每列缺失率: target_3Y_death 0.00%\n",
      "每列缺失率: target_3Y_survival 0.00%\n"
     ]
    }
   ],
   "source": [
    "# 删除列缺失超过50%\n",
    "for i in df_model_cox_ML_back.columns:\n",
    "    percent_col= df_model_cox_ML_back[i].isnull().sum()/df_model_cox_ML_back.shape[0]\n",
    "    percent_col=\"%.2f%%\" % (percent_col * 100)\n",
    "    print('每列缺失率:',i,percent_col)"
   ]
  },
  {
   "cell_type": "markdown",
   "metadata": {},
   "source": [
    "### dataset for cox-ML-back"
   ]
  },
  {
   "cell_type": "code",
   "execution_count": 222,
   "metadata": {},
   "outputs": [],
   "source": [
    "from lifelines import CoxPHFitter\n",
    "from lifelines.utils import concordance_index\n",
    "# 计算3年生存期分期的c_index_all\n",
    "for i in df_model_cox_ML_back.columns:\n",
    "    df_model_cox_ML_back = df_model_cox_ML_back[df_model_cox_ML_back[i].notnull()]"
   ]
  },
  {
   "cell_type": "code",
   "execution_count": 223,
   "metadata": {},
   "outputs": [
    {
     "data": {
      "text/plain": [
       "(275, 7)"
      ]
     },
     "execution_count": 223,
     "metadata": {},
     "output_type": "execute_result"
    }
   ],
   "source": [
    "df_model_cox_ML_back.shape"
   ]
  },
  {
   "cell_type": "code",
   "execution_count": 224,
   "metadata": {},
   "outputs": [
    {
     "data": {
      "text/plain": [
       "1    274\n",
       "0      1\n",
       "Name: sampling, dtype: int64"
      ]
     },
     "execution_count": 224,
     "metadata": {},
     "output_type": "execute_result"
    }
   ],
   "source": [
    "df_model_cox_ML_back.sampling.value_counts()"
   ]
  },
  {
   "cell_type": "code",
   "execution_count": 225,
   "metadata": {},
   "outputs": [],
   "source": [
    "df_model_cox_ML_back.to_excel(project_path+'/data/reimplementation/df_6.4.2_dataset_cox_ML_back.xlsx')"
   ]
  },
  {
   "cell_type": "markdown",
   "metadata": {},
   "source": [
    "### c_index_ML_back"
   ]
  },
  {
   "cell_type": "code",
   "execution_count": 226,
   "metadata": {},
   "outputs": [
    {
     "name": "stdout",
     "output_type": "stream",
     "text": [
      "\r",
      "Iteration 1: norm_delta = 1.24868, step_size = 0.9000, log_lik = -1100.98688, newton_decrement = 93.08482, seconds_since_start = 0.0\n",
      "\r",
      "Iteration 2: norm_delta = 0.35976, step_size = 0.9000, log_lik = -1036.90372, newton_decrement = 9.64815, seconds_since_start = 0.0\n",
      "\r",
      "Iteration 3: norm_delta = 0.03699, step_size = 0.9000, log_lik = -1027.36126, newton_decrement = 0.10799, seconds_since_start = 0.0\n",
      "\r",
      "Iteration 4: norm_delta = 0.00018, step_size = 1.0000, log_lik = -1027.25290, newton_decrement = 0.00000, seconds_since_start = 0.0\n",
      "\r",
      "Iteration 5: norm_delta = 0.00000, step_size = 1.0000, log_lik = -1027.25290, newton_decrement = 0.00000, seconds_since_start = 0.0\n",
      "Convergence success after 5 iterations.\n",
      "0.7348613951374687\n"
     ]
    }
   ],
   "source": [
    "cph = CoxPHFitter()\n",
    "cph.fit(df_model_cox_ML_back, duration_col='target_3Y_survival',event_col='target_3Y_death',cluster_col='sampling',show_progress=True)\n",
    "c_index_all = cph.concordance_index_\n",
    "print(c_index_all)"
   ]
  },
  {
   "cell_type": "code",
   "execution_count": 227,
   "metadata": {},
   "outputs": [
    {
     "data": {
      "text/html": [
       "<div>\n",
       "<style scoped>\n",
       "    .dataframe tbody tr th:only-of-type {\n",
       "        vertical-align: middle;\n",
       "    }\n",
       "\n",
       "    .dataframe tbody tr th {\n",
       "        vertical-align: top;\n",
       "    }\n",
       "\n",
       "    .dataframe thead th {\n",
       "        text-align: right;\n",
       "    }\n",
       "</style>\n",
       "<table border=\"1\" class=\"dataframe\">\n",
       "  <tbody>\n",
       "    <tr>\n",
       "      <th>model</th>\n",
       "      <td>lifelines.CoxPHFitter</td>\n",
       "    </tr>\n",
       "    <tr>\n",
       "      <th>duration col</th>\n",
       "      <td>'target_3Y_survival'</td>\n",
       "    </tr>\n",
       "    <tr>\n",
       "      <th>event col</th>\n",
       "      <td>'target_3Y_death'</td>\n",
       "    </tr>\n",
       "    <tr>\n",
       "      <th>cluster col</th>\n",
       "      <td>'sampling'</td>\n",
       "    </tr>\n",
       "    <tr>\n",
       "      <th>robust variance</th>\n",
       "      <td>True</td>\n",
       "    </tr>\n",
       "    <tr>\n",
       "      <th>baseline estimation</th>\n",
       "      <td>breslow</td>\n",
       "    </tr>\n",
       "    <tr>\n",
       "      <th>number of observations</th>\n",
       "      <td>275</td>\n",
       "    </tr>\n",
       "    <tr>\n",
       "      <th>number of events observed</th>\n",
       "      <td>219</td>\n",
       "    </tr>\n",
       "    <tr>\n",
       "      <th>partial log-likelihood</th>\n",
       "      <td>-1027.25</td>\n",
       "    </tr>\n",
       "    <tr>\n",
       "      <th>time fit was run</th>\n",
       "      <td>2022-03-10 11:52:31 UTC</td>\n",
       "    </tr>\n",
       "    <tr>\n",
       "      <th>col</th>\n",
       "      <td>[coef]</td>\n",
       "    </tr>\n",
       "  </tbody>\n",
       "</table>\n",
       "</div><table border=\"1\" class=\"dataframe\">\n",
       "  <thead>\n",
       "    <tr style=\"text-align: right;\">\n",
       "      <th style=\"min-width: 12px;\"></th>\n",
       "      <th style=\"min-width: 12px;\">coef</th>\n",
       "      <th style=\"min-width: 12px;\">exp(coef)</th>\n",
       "      <th style=\"min-width: 12px;\">se(coef)</th>\n",
       "      <th style=\"min-width: 12px;\">coef lower 95%</th>\n",
       "      <th style=\"min-width: 12px;\">coef upper 95%</th>\n",
       "      <th style=\"min-width: 12px;\">exp(coef) lower 95%</th>\n",
       "      <th style=\"min-width: 12px;\">exp(coef) upper 95%</th>\n",
       "      <th style=\"min-width: 12px;\">z</th>\n",
       "      <th style=\"min-width: 12px;\">p</th>\n",
       "      <th style=\"min-width: 12px;\">-log2(p)</th>\n",
       "    </tr>\n",
       "  </thead>\n",
       "  <tbody>\n",
       "    <tr>\n",
       "      <th>PLT</th>\n",
       "      <td>0.00</td>\n",
       "      <td>1.00</td>\n",
       "      <td>0.00</td>\n",
       "      <td>0.00</td>\n",
       "      <td>0.00</td>\n",
       "      <td>1.00</td>\n",
       "      <td>1.00</td>\n",
       "      <td>5.47</td>\n",
       "      <td>&lt;0.005</td>\n",
       "      <td>24.41</td>\n",
       "    </tr>\n",
       "    <tr>\n",
       "      <th>AJCC_8</th>\n",
       "      <td>0.58</td>\n",
       "      <td>1.79</td>\n",
       "      <td>0.01</td>\n",
       "      <td>0.55</td>\n",
       "      <td>0.61</td>\n",
       "      <td>1.74</td>\n",
       "      <td>1.84</td>\n",
       "      <td>40.64</td>\n",
       "      <td>&lt;0.005</td>\n",
       "      <td>inf</td>\n",
       "    </tr>\n",
       "    <tr>\n",
       "      <th>surgery_result</th>\n",
       "      <td>0.59</td>\n",
       "      <td>1.81</td>\n",
       "      <td>0.00</td>\n",
       "      <td>0.59</td>\n",
       "      <td>0.60</td>\n",
       "      <td>1.80</td>\n",
       "      <td>1.82</td>\n",
       "      <td>157.01</td>\n",
       "      <td>&lt;0.005</td>\n",
       "      <td>inf</td>\n",
       "    </tr>\n",
       "    <tr>\n",
       "      <th>surgery_plasm</th>\n",
       "      <td>0.00</td>\n",
       "      <td>1.00</td>\n",
       "      <td>0.00</td>\n",
       "      <td>0.00</td>\n",
       "      <td>0.00</td>\n",
       "      <td>1.00</td>\n",
       "      <td>1.00</td>\n",
       "      <td>25.03</td>\n",
       "      <td>&lt;0.005</td>\n",
       "      <td>456.90</td>\n",
       "    </tr>\n",
       "  </tbody>\n",
       "</table><br><div>\n",
       "<style scoped>\n",
       "    .dataframe tbody tr th:only-of-type {\n",
       "        vertical-align: middle;\n",
       "    }\n",
       "\n",
       "    .dataframe tbody tr th {\n",
       "        vertical-align: top;\n",
       "    }\n",
       "\n",
       "    .dataframe thead th {\n",
       "        text-align: right;\n",
       "    }\n",
       "</style>\n",
       "<table border=\"1\" class=\"dataframe\">\n",
       "  <tbody>\n",
       "    <tr>\n",
       "      <th>Concordance</th>\n",
       "      <td>0.73</td>\n",
       "    </tr>\n",
       "    <tr>\n",
       "      <th>Partial AIC</th>\n",
       "      <td>2062.51</td>\n",
       "    </tr>\n",
       "    <tr>\n",
       "      <th>log-likelihood ratio test</th>\n",
       "      <td>147.47 on 4 df</td>\n",
       "    </tr>\n",
       "    <tr>\n",
       "      <th>-log2(p) of ll-ratio test</th>\n",
       "      <td>100.15</td>\n",
       "    </tr>\n",
       "  </tbody>\n",
       "</table>\n",
       "</div>"
      ],
      "text/latex": [
       "\\begin{tabular}{lrrrrrrrrrr}\n",
       "\\toprule\n",
       "{} &  coef &  exp(coef) &  se(coef) &  coef lower 95\\% &  coef upper 95\\% &  exp(coef) lower 95\\% &  exp(coef) upper 95\\% &      z &    p &  -log2(p) \\\\\n",
       "covariate      &       &            &           &                 &                 &                      &                      &        &      &           \\\\\n",
       "\\midrule\n",
       "PLT            &  0.00 &       1.00 &      0.00 &            0.00 &            0.00 &                 1.00 &                 1.00 &   5.47 & 0.00 &     24.41 \\\\\n",
       "AJCC\\_8         &  0.58 &       1.79 &      0.01 &            0.55 &            0.61 &                 1.74 &                 1.84 &  40.64 & 0.00 &       inf \\\\\n",
       "surgery\\_result &  0.59 &       1.81 &      0.00 &            0.59 &            0.60 &                 1.80 &                 1.82 & 157.01 & 0.00 &       inf \\\\\n",
       "surgery\\_plasm  &  0.00 &       1.00 &      0.00 &            0.00 &            0.00 &                 1.00 &                 1.00 &  25.03 & 0.00 &    456.90 \\\\\n",
       "\\bottomrule\n",
       "\\end{tabular}\n"
      ],
      "text/plain": [
       "<lifelines.CoxPHFitter: fitted with 275 total observations, 56 right-censored observations>\n",
       "             duration col = 'target_3Y_survival'\n",
       "                event col = 'target_3Y_death'\n",
       "              cluster col = 'sampling'\n",
       "          robust variance = True\n",
       "      baseline estimation = breslow\n",
       "   number of observations = 275\n",
       "number of events observed = 219\n",
       "   partial log-likelihood = -1027.25\n",
       "         time fit was run = 2022-03-10 11:52:31 UTC\n",
       "                      col = ['coef']\n",
       "\n",
       "---\n",
       "                 coef  exp(coef)   se(coef)   coef lower 95%   coef upper 95%  exp(coef) lower 95%  exp(coef) upper 95%\n",
       "covariate                                                                                                              \n",
       "PLT              0.00       1.00       0.00             0.00             0.00                 1.00                 1.00\n",
       "AJCC_8           0.58       1.79       0.01             0.55             0.61                 1.74                 1.84\n",
       "surgery_result   0.59       1.81       0.00             0.59             0.60                 1.80                 1.82\n",
       "surgery_plasm    0.00       1.00       0.00             0.00             0.00                 1.00                 1.00\n",
       "\n",
       "                    z      p   -log2(p)\n",
       "covariate                              \n",
       "PLT              5.47 <0.005      24.41\n",
       "AJCC_8          40.64 <0.005        inf\n",
       "surgery_result 157.01 <0.005        inf\n",
       "surgery_plasm   25.03 <0.005     456.90\n",
       "---\n",
       "Concordance = 0.73\n",
       "Partial AIC = 2062.51\n",
       "log-likelihood ratio test = 147.47 on 4 df\n",
       "-log2(p) of ll-ratio test = 100.15"
      ]
     },
     "metadata": {},
     "output_type": "display_data"
    }
   ],
   "source": [
    "cph.print_summary(col=['coef'])"
   ]
  },
  {
   "cell_type": "markdown",
   "metadata": {},
   "source": [
    "# 计算BS"
   ]
  },
  {
   "cell_type": "code",
   "execution_count": 470,
   "metadata": {
    "collapsed": true
   },
   "outputs": [
    {
     "ename": "ContextualVersionConflict",
     "evalue": "(scikit-learn 0.24.2 (c:\\users\\administrator\\appdata\\roaming\\python\\python36\\site-packages), Requirement.parse('scikit-learn<0.24,>=0.22.0'), {'scikit-survival'})",
     "output_type": "error",
     "traceback": [
      "\u001b[1;31m---------------------------------------------------------------------------\u001b[0m",
      "\u001b[1;31mContextualVersionConflict\u001b[0m                 Traceback (most recent call last)",
      "\u001b[1;32m<ipython-input-470-f1916f4b7e45>\u001b[0m in \u001b[0;36m<module>\u001b[1;34m\u001b[0m\n\u001b[0;32m      1\u001b[0m \u001b[1;31m# 计算3年生存期的BS\u001b[0m\u001b[1;33m\u001b[0m\u001b[1;33m\u001b[0m\u001b[1;33m\u001b[0m\u001b[0m\n\u001b[1;32m----> 2\u001b[1;33m \u001b[1;32mfrom\u001b[0m \u001b[0msksurv\u001b[0m\u001b[1;33m.\u001b[0m\u001b[0mmetrics\u001b[0m \u001b[1;32mimport\u001b[0m \u001b[0mbrier_score\u001b[0m\u001b[1;33m\u001b[0m\u001b[1;33m\u001b[0m\u001b[0m\n\u001b[0m\u001b[0;32m      3\u001b[0m \u001b[1;32mfrom\u001b[0m \u001b[0msksurv\u001b[0m\u001b[1;33m.\u001b[0m\u001b[0mdatasets\u001b[0m \u001b[1;32mimport\u001b[0m \u001b[0mload_gbsg2\u001b[0m\u001b[1;33m\u001b[0m\u001b[1;33m\u001b[0m\u001b[0m\n\u001b[0;32m      4\u001b[0m \u001b[1;32mfrom\u001b[0m \u001b[0msksurv\u001b[0m\u001b[1;33m.\u001b[0m\u001b[0mlinear_model\u001b[0m \u001b[1;32mimport\u001b[0m \u001b[0mCoxPHSurvivalAnalysis\u001b[0m\u001b[1;33m\u001b[0m\u001b[1;33m\u001b[0m\u001b[0m\n\u001b[0;32m      5\u001b[0m \u001b[1;32mfrom\u001b[0m \u001b[0msksurv\u001b[0m\u001b[1;33m.\u001b[0m\u001b[0mmetrics\u001b[0m \u001b[1;32mimport\u001b[0m \u001b[0mbrier_score\u001b[0m\u001b[1;33m\u001b[0m\u001b[1;33m\u001b[0m\u001b[0m\n",
      "\u001b[1;32m~\\AppData\\Roaming\\Python\\Python36\\site-packages\\sksurv\\__init__.py\u001b[0m in \u001b[0;36m<module>\u001b[1;34m\u001b[0m\n\u001b[0;32m    136\u001b[0m \u001b[1;33m\u001b[0m\u001b[0m\n\u001b[0;32m    137\u001b[0m \u001b[1;32mtry\u001b[0m\u001b[1;33m:\u001b[0m\u001b[1;33m\u001b[0m\u001b[1;33m\u001b[0m\u001b[0m\n\u001b[1;32m--> 138\u001b[1;33m     \u001b[0m__version__\u001b[0m \u001b[1;33m=\u001b[0m \u001b[0mget_distribution\u001b[0m\u001b[1;33m(\u001b[0m\u001b[1;34m'scikit-survival'\u001b[0m\u001b[1;33m)\u001b[0m\u001b[1;33m.\u001b[0m\u001b[0mversion\u001b[0m\u001b[1;33m\u001b[0m\u001b[1;33m\u001b[0m\u001b[0m\n\u001b[0m\u001b[0;32m    139\u001b[0m \u001b[1;32mexcept\u001b[0m \u001b[0mDistributionNotFound\u001b[0m\u001b[1;33m:\u001b[0m  \u001b[1;31m# pragma: no cover\u001b[0m\u001b[1;33m\u001b[0m\u001b[1;33m\u001b[0m\u001b[0m\n\u001b[0;32m    140\u001b[0m     \u001b[1;31m# package is not installed\u001b[0m\u001b[1;33m\u001b[0m\u001b[1;33m\u001b[0m\u001b[1;33m\u001b[0m\u001b[0m\n",
      "\u001b[1;32mD:\\Anaconda3\\lib\\site-packages\\pkg_resources\\__init__.py\u001b[0m in \u001b[0;36mget_distribution\u001b[1;34m(dist)\u001b[0m\n\u001b[0;32m    480\u001b[0m         \u001b[0mdist\u001b[0m \u001b[1;33m=\u001b[0m \u001b[0mRequirement\u001b[0m\u001b[1;33m.\u001b[0m\u001b[0mparse\u001b[0m\u001b[1;33m(\u001b[0m\u001b[0mdist\u001b[0m\u001b[1;33m)\u001b[0m\u001b[1;33m\u001b[0m\u001b[1;33m\u001b[0m\u001b[0m\n\u001b[0;32m    481\u001b[0m     \u001b[1;32mif\u001b[0m \u001b[0misinstance\u001b[0m\u001b[1;33m(\u001b[0m\u001b[0mdist\u001b[0m\u001b[1;33m,\u001b[0m \u001b[0mRequirement\u001b[0m\u001b[1;33m)\u001b[0m\u001b[1;33m:\u001b[0m\u001b[1;33m\u001b[0m\u001b[1;33m\u001b[0m\u001b[0m\n\u001b[1;32m--> 482\u001b[1;33m         \u001b[0mdist\u001b[0m \u001b[1;33m=\u001b[0m \u001b[0mget_provider\u001b[0m\u001b[1;33m(\u001b[0m\u001b[0mdist\u001b[0m\u001b[1;33m)\u001b[0m\u001b[1;33m\u001b[0m\u001b[1;33m\u001b[0m\u001b[0m\n\u001b[0m\u001b[0;32m    483\u001b[0m     \u001b[1;32mif\u001b[0m \u001b[1;32mnot\u001b[0m \u001b[0misinstance\u001b[0m\u001b[1;33m(\u001b[0m\u001b[0mdist\u001b[0m\u001b[1;33m,\u001b[0m \u001b[0mDistribution\u001b[0m\u001b[1;33m)\u001b[0m\u001b[1;33m:\u001b[0m\u001b[1;33m\u001b[0m\u001b[1;33m\u001b[0m\u001b[0m\n\u001b[0;32m    484\u001b[0m         \u001b[1;32mraise\u001b[0m \u001b[0mTypeError\u001b[0m\u001b[1;33m(\u001b[0m\u001b[1;34m\"Expected string, Requirement, or Distribution\"\u001b[0m\u001b[1;33m,\u001b[0m \u001b[0mdist\u001b[0m\u001b[1;33m)\u001b[0m\u001b[1;33m\u001b[0m\u001b[1;33m\u001b[0m\u001b[0m\n",
      "\u001b[1;32mD:\\Anaconda3\\lib\\site-packages\\pkg_resources\\__init__.py\u001b[0m in \u001b[0;36mget_provider\u001b[1;34m(moduleOrReq)\u001b[0m\n\u001b[0;32m    356\u001b[0m     \u001b[1;34m\"\"\"Return an IResourceProvider for the named module or requirement\"\"\"\u001b[0m\u001b[1;33m\u001b[0m\u001b[1;33m\u001b[0m\u001b[0m\n\u001b[0;32m    357\u001b[0m     \u001b[1;32mif\u001b[0m \u001b[0misinstance\u001b[0m\u001b[1;33m(\u001b[0m\u001b[0mmoduleOrReq\u001b[0m\u001b[1;33m,\u001b[0m \u001b[0mRequirement\u001b[0m\u001b[1;33m)\u001b[0m\u001b[1;33m:\u001b[0m\u001b[1;33m\u001b[0m\u001b[1;33m\u001b[0m\u001b[0m\n\u001b[1;32m--> 358\u001b[1;33m         \u001b[1;32mreturn\u001b[0m \u001b[0mworking_set\u001b[0m\u001b[1;33m.\u001b[0m\u001b[0mfind\u001b[0m\u001b[1;33m(\u001b[0m\u001b[0mmoduleOrReq\u001b[0m\u001b[1;33m)\u001b[0m \u001b[1;32mor\u001b[0m \u001b[0mrequire\u001b[0m\u001b[1;33m(\u001b[0m\u001b[0mstr\u001b[0m\u001b[1;33m(\u001b[0m\u001b[0mmoduleOrReq\u001b[0m\u001b[1;33m)\u001b[0m\u001b[1;33m)\u001b[0m\u001b[1;33m[\u001b[0m\u001b[1;36m0\u001b[0m\u001b[1;33m]\u001b[0m\u001b[1;33m\u001b[0m\u001b[1;33m\u001b[0m\u001b[0m\n\u001b[0m\u001b[0;32m    359\u001b[0m     \u001b[1;32mtry\u001b[0m\u001b[1;33m:\u001b[0m\u001b[1;33m\u001b[0m\u001b[1;33m\u001b[0m\u001b[0m\n\u001b[0;32m    360\u001b[0m         \u001b[0mmodule\u001b[0m \u001b[1;33m=\u001b[0m \u001b[0msys\u001b[0m\u001b[1;33m.\u001b[0m\u001b[0mmodules\u001b[0m\u001b[1;33m[\u001b[0m\u001b[0mmoduleOrReq\u001b[0m\u001b[1;33m]\u001b[0m\u001b[1;33m\u001b[0m\u001b[1;33m\u001b[0m\u001b[0m\n",
      "\u001b[1;32mD:\\Anaconda3\\lib\\site-packages\\pkg_resources\\__init__.py\u001b[0m in \u001b[0;36mrequire\u001b[1;34m(self, *requirements)\u001b[0m\n\u001b[0;32m    899\u001b[0m         \u001b[0mincluded\u001b[0m\u001b[1;33m,\u001b[0m \u001b[0meven\u001b[0m \u001b[1;32mif\u001b[0m \u001b[0mthey\u001b[0m \u001b[0mwere\u001b[0m \u001b[0malready\u001b[0m \u001b[0mactivated\u001b[0m \u001b[1;32min\u001b[0m \u001b[0mthis\u001b[0m \u001b[0mworking\u001b[0m \u001b[0mset\u001b[0m\u001b[1;33m.\u001b[0m\u001b[1;33m\u001b[0m\u001b[1;33m\u001b[0m\u001b[0m\n\u001b[0;32m    900\u001b[0m         \"\"\"\n\u001b[1;32m--> 901\u001b[1;33m         \u001b[0mneeded\u001b[0m \u001b[1;33m=\u001b[0m \u001b[0mself\u001b[0m\u001b[1;33m.\u001b[0m\u001b[0mresolve\u001b[0m\u001b[1;33m(\u001b[0m\u001b[0mparse_requirements\u001b[0m\u001b[1;33m(\u001b[0m\u001b[0mrequirements\u001b[0m\u001b[1;33m)\u001b[0m\u001b[1;33m)\u001b[0m\u001b[1;33m\u001b[0m\u001b[1;33m\u001b[0m\u001b[0m\n\u001b[0m\u001b[0;32m    902\u001b[0m \u001b[1;33m\u001b[0m\u001b[0m\n\u001b[0;32m    903\u001b[0m         \u001b[1;32mfor\u001b[0m \u001b[0mdist\u001b[0m \u001b[1;32min\u001b[0m \u001b[0mneeded\u001b[0m\u001b[1;33m:\u001b[0m\u001b[1;33m\u001b[0m\u001b[1;33m\u001b[0m\u001b[0m\n",
      "\u001b[1;32mD:\\Anaconda3\\lib\\site-packages\\pkg_resources\\__init__.py\u001b[0m in \u001b[0;36mresolve\u001b[1;34m(self, requirements, env, installer, replace_conflicting, extras)\u001b[0m\n\u001b[0;32m    790\u001b[0m                 \u001b[1;31m# Oops, the \"best\" so far conflicts with a dependency\u001b[0m\u001b[1;33m\u001b[0m\u001b[1;33m\u001b[0m\u001b[1;33m\u001b[0m\u001b[0m\n\u001b[0;32m    791\u001b[0m                 \u001b[0mdependent_req\u001b[0m \u001b[1;33m=\u001b[0m \u001b[0mrequired_by\u001b[0m\u001b[1;33m[\u001b[0m\u001b[0mreq\u001b[0m\u001b[1;33m]\u001b[0m\u001b[1;33m\u001b[0m\u001b[1;33m\u001b[0m\u001b[0m\n\u001b[1;32m--> 792\u001b[1;33m                 \u001b[1;32mraise\u001b[0m \u001b[0mVersionConflict\u001b[0m\u001b[1;33m(\u001b[0m\u001b[0mdist\u001b[0m\u001b[1;33m,\u001b[0m \u001b[0mreq\u001b[0m\u001b[1;33m)\u001b[0m\u001b[1;33m.\u001b[0m\u001b[0mwith_context\u001b[0m\u001b[1;33m(\u001b[0m\u001b[0mdependent_req\u001b[0m\u001b[1;33m)\u001b[0m\u001b[1;33m\u001b[0m\u001b[1;33m\u001b[0m\u001b[0m\n\u001b[0m\u001b[0;32m    793\u001b[0m \u001b[1;33m\u001b[0m\u001b[0m\n\u001b[0;32m    794\u001b[0m             \u001b[1;31m# push the new requirements onto the stack\u001b[0m\u001b[1;33m\u001b[0m\u001b[1;33m\u001b[0m\u001b[1;33m\u001b[0m\u001b[0m\n",
      "\u001b[1;31mContextualVersionConflict\u001b[0m: (scikit-learn 0.24.2 (c:\\users\\administrator\\appdata\\roaming\\python\\python36\\site-packages), Requirement.parse('scikit-learn<0.24,>=0.22.0'), {'scikit-survival'})"
     ]
    }
   ],
   "source": [
    "# 计算3年生存期的BS\n",
    "from sksurv.metrics import brier_score\n",
    "from sksurv.datasets import load_gbsg2\n",
    "from sksurv.linear_model import CoxPHSurvivalAnalysis\n",
    "from sksurv.metrics import brier_score\n",
    "from sksurv.preprocessing import OneHotEncoder"
   ]
  },
  {
   "cell_type": "markdown",
   "metadata": {},
   "source": [
    "## 所有变量"
   ]
  },
  {
   "cell_type": "code",
   "execution_count": 184,
   "metadata": {},
   "outputs": [],
   "source": [
    "df_model_cox_all=pd.read_excel(project_path+'/data/reimplementation/df_6.1.2_dataset_cox_all.xlsx')\n",
    "if 'Unnamed: 0' in df_model_cox_all.columns:\n",
    "    df_model_cox_all = df_model_cox_all.drop(['Unnamed: 0'], axis=1)"
   ]
  },
  {
   "cell_type": "code",
   "execution_count": 185,
   "metadata": {},
   "outputs": [],
   "source": [
    "# 转换成boolean值\n",
    "df_model_cox_all['target_death_binary']=df_model_cox_all.target_3Y_death.astype(bool)\n",
    "# 构建BStrain_data和test_data\n",
    "bs_y = [(d,s) for d,s in zip(df_model_cox_all.target_death_binary,df_model_cox_all.target_3Y_survival)]\n",
    "bs_y=np.array(bs_y,dtype=[('cens', '?'), ('time', '<f8')])"
   ]
  },
  {
   "cell_type": "code",
   "execution_count": 186,
   "metadata": {},
   "outputs": [
    {
     "data": {
      "text/plain": [
       "Index(['target_3Y_death', 'target_3Y_survival', 'jaundice', 'HBcAb', 'AJCC_8',\n",
       "       'Gazzaniga_T', 'surgery_result', 'gene_mutation', 'sampling', 'gender',\n",
       "       'emaciation', 'cardio_disease', 'endocrine_disease', 'biliary_disease',\n",
       "       'smoke', 'drinking', 'HBsAg', 'LC', 'PTCD_ERCP', 'MSKCC', 'Blumgart_T',\n",
       "       'Bismuth_C', 'PLT', 'TB', 'tumor_CA199', 'surgery_bleeding', 'age',\n",
       "       'WBC', 'HGB', 'DB', 'ALB', 'tumor_AFP', 'tumor_CEA', 'tumor_size',\n",
       "       'surgery_plasm', 'target_death_binary'],\n",
       "      dtype='object')"
      ]
     },
     "execution_count": 186,
     "metadata": {},
     "output_type": "execute_result"
    }
   ],
   "source": [
    "df_model_cox_all.columns"
   ]
  },
  {
   "cell_type": "code",
   "execution_count": 472,
   "metadata": {
    "collapsed": true
   },
   "outputs": [
    {
     "ename": "KeyError",
     "evalue": "\"['target_3Y_death' 'target_3Y_survival' 'sampling'] not found in axis\"",
     "output_type": "error",
     "traceback": [
      "\u001b[1;31m---------------------------------------------------------------------------\u001b[0m",
      "\u001b[1;31mKeyError\u001b[0m                                  Traceback (most recent call last)",
      "\u001b[1;32m<ipython-input-472-d26a5b3b06a6>\u001b[0m in \u001b[0;36m<module>\u001b[1;34m\u001b[0m\n\u001b[0;32m      1\u001b[0m \u001b[1;31m# 术前1年BS_all\u001b[0m\u001b[1;33m\u001b[0m\u001b[1;33m\u001b[0m\u001b[1;33m\u001b[0m\u001b[0m\n\u001b[1;32m----> 2\u001b[1;33m \u001b[0mbs_x_all\u001b[0m \u001b[1;33m=\u001b[0m \u001b[0mdf_model_cox_all\u001b[0m\u001b[1;33m.\u001b[0m\u001b[0mdrop\u001b[0m\u001b[1;33m(\u001b[0m\u001b[1;33m[\u001b[0m\u001b[1;34m'target_3Y_death'\u001b[0m\u001b[1;33m,\u001b[0m\u001b[1;34m'target_3Y_survival'\u001b[0m\u001b[1;33m,\u001b[0m\u001b[1;34m'sampling'\u001b[0m\u001b[1;33m]\u001b[0m\u001b[1;33m)\u001b[0m\u001b[1;33m\u001b[0m\u001b[1;33m\u001b[0m\u001b[0m\n\u001b[0m\u001b[0;32m      3\u001b[0m \u001b[0mest_all\u001b[0m \u001b[1;33m=\u001b[0m \u001b[0mCoxPHSurvivalAnalysis\u001b[0m\u001b[1;33m(\u001b[0m\u001b[0mties\u001b[0m\u001b[1;33m=\u001b[0m\u001b[1;34m\"efron\"\u001b[0m\u001b[1;33m)\u001b[0m\u001b[1;33m.\u001b[0m\u001b[0mfit\u001b[0m\u001b[1;33m(\u001b[0m\u001b[0mbs_x_all\u001b[0m\u001b[1;33m,\u001b[0m \u001b[0mbs_y\u001b[0m\u001b[1;33m)\u001b[0m\u001b[1;33m\u001b[0m\u001b[1;33m\u001b[0m\u001b[0m\n\u001b[0;32m      4\u001b[0m \u001b[0msurvs_all\u001b[0m \u001b[1;33m=\u001b[0m \u001b[0mest_all\u001b[0m\u001b[1;33m.\u001b[0m\u001b[0mpredict_survival_function\u001b[0m\u001b[1;33m(\u001b[0m\u001b[0mbs_x_all\u001b[0m\u001b[1;33m)\u001b[0m\u001b[1;33m\u001b[0m\u001b[1;33m\u001b[0m\u001b[0m\n\u001b[0;32m      5\u001b[0m \u001b[0mpreds_all\u001b[0m \u001b[1;33m=\u001b[0m \u001b[1;33m[\u001b[0m\u001b[0mfn\u001b[0m\u001b[1;33m(\u001b[0m\u001b[1;36m10\u001b[0m\u001b[1;33m)\u001b[0m \u001b[1;32mfor\u001b[0m \u001b[0mfn\u001b[0m \u001b[1;32min\u001b[0m \u001b[0msurvs_all\u001b[0m\u001b[1;33m]\u001b[0m\u001b[1;33m\u001b[0m\u001b[1;33m\u001b[0m\u001b[0m\n",
      "\u001b[1;32mD:\\Anaconda3\\lib\\site-packages\\pandas\\core\\frame.py\u001b[0m in \u001b[0;36mdrop\u001b[1;34m(self, labels, axis, index, columns, level, inplace, errors)\u001b[0m\n\u001b[0;32m   4172\u001b[0m             \u001b[0mlevel\u001b[0m\u001b[1;33m=\u001b[0m\u001b[0mlevel\u001b[0m\u001b[1;33m,\u001b[0m\u001b[1;33m\u001b[0m\u001b[1;33m\u001b[0m\u001b[0m\n\u001b[0;32m   4173\u001b[0m             \u001b[0minplace\u001b[0m\u001b[1;33m=\u001b[0m\u001b[0minplace\u001b[0m\u001b[1;33m,\u001b[0m\u001b[1;33m\u001b[0m\u001b[1;33m\u001b[0m\u001b[0m\n\u001b[1;32m-> 4174\u001b[1;33m             \u001b[0merrors\u001b[0m\u001b[1;33m=\u001b[0m\u001b[0merrors\u001b[0m\u001b[1;33m,\u001b[0m\u001b[1;33m\u001b[0m\u001b[1;33m\u001b[0m\u001b[0m\n\u001b[0m\u001b[0;32m   4175\u001b[0m         )\n\u001b[0;32m   4176\u001b[0m \u001b[1;33m\u001b[0m\u001b[0m\n",
      "\u001b[1;32mD:\\Anaconda3\\lib\\site-packages\\pandas\\core\\generic.py\u001b[0m in \u001b[0;36mdrop\u001b[1;34m(self, labels, axis, index, columns, level, inplace, errors)\u001b[0m\n\u001b[0;32m   3887\u001b[0m         \u001b[1;32mfor\u001b[0m \u001b[0maxis\u001b[0m\u001b[1;33m,\u001b[0m \u001b[0mlabels\u001b[0m \u001b[1;32min\u001b[0m \u001b[0maxes\u001b[0m\u001b[1;33m.\u001b[0m\u001b[0mitems\u001b[0m\u001b[1;33m(\u001b[0m\u001b[1;33m)\u001b[0m\u001b[1;33m:\u001b[0m\u001b[1;33m\u001b[0m\u001b[1;33m\u001b[0m\u001b[0m\n\u001b[0;32m   3888\u001b[0m             \u001b[1;32mif\u001b[0m \u001b[0mlabels\u001b[0m \u001b[1;32mis\u001b[0m \u001b[1;32mnot\u001b[0m \u001b[1;32mNone\u001b[0m\u001b[1;33m:\u001b[0m\u001b[1;33m\u001b[0m\u001b[1;33m\u001b[0m\u001b[0m\n\u001b[1;32m-> 3889\u001b[1;33m                 \u001b[0mobj\u001b[0m \u001b[1;33m=\u001b[0m \u001b[0mobj\u001b[0m\u001b[1;33m.\u001b[0m\u001b[0m_drop_axis\u001b[0m\u001b[1;33m(\u001b[0m\u001b[0mlabels\u001b[0m\u001b[1;33m,\u001b[0m \u001b[0maxis\u001b[0m\u001b[1;33m,\u001b[0m \u001b[0mlevel\u001b[0m\u001b[1;33m=\u001b[0m\u001b[0mlevel\u001b[0m\u001b[1;33m,\u001b[0m \u001b[0merrors\u001b[0m\u001b[1;33m=\u001b[0m\u001b[0merrors\u001b[0m\u001b[1;33m)\u001b[0m\u001b[1;33m\u001b[0m\u001b[1;33m\u001b[0m\u001b[0m\n\u001b[0m\u001b[0;32m   3890\u001b[0m \u001b[1;33m\u001b[0m\u001b[0m\n\u001b[0;32m   3891\u001b[0m         \u001b[1;32mif\u001b[0m \u001b[0minplace\u001b[0m\u001b[1;33m:\u001b[0m\u001b[1;33m\u001b[0m\u001b[1;33m\u001b[0m\u001b[0m\n",
      "\u001b[1;32mD:\\Anaconda3\\lib\\site-packages\\pandas\\core\\generic.py\u001b[0m in \u001b[0;36m_drop_axis\u001b[1;34m(self, labels, axis, level, errors)\u001b[0m\n\u001b[0;32m   3921\u001b[0m                 \u001b[0mnew_axis\u001b[0m \u001b[1;33m=\u001b[0m \u001b[0maxis\u001b[0m\u001b[1;33m.\u001b[0m\u001b[0mdrop\u001b[0m\u001b[1;33m(\u001b[0m\u001b[0mlabels\u001b[0m\u001b[1;33m,\u001b[0m \u001b[0mlevel\u001b[0m\u001b[1;33m=\u001b[0m\u001b[0mlevel\u001b[0m\u001b[1;33m,\u001b[0m \u001b[0merrors\u001b[0m\u001b[1;33m=\u001b[0m\u001b[0merrors\u001b[0m\u001b[1;33m)\u001b[0m\u001b[1;33m\u001b[0m\u001b[1;33m\u001b[0m\u001b[0m\n\u001b[0;32m   3922\u001b[0m             \u001b[1;32melse\u001b[0m\u001b[1;33m:\u001b[0m\u001b[1;33m\u001b[0m\u001b[1;33m\u001b[0m\u001b[0m\n\u001b[1;32m-> 3923\u001b[1;33m                 \u001b[0mnew_axis\u001b[0m \u001b[1;33m=\u001b[0m \u001b[0maxis\u001b[0m\u001b[1;33m.\u001b[0m\u001b[0mdrop\u001b[0m\u001b[1;33m(\u001b[0m\u001b[0mlabels\u001b[0m\u001b[1;33m,\u001b[0m \u001b[0merrors\u001b[0m\u001b[1;33m=\u001b[0m\u001b[0merrors\u001b[0m\u001b[1;33m)\u001b[0m\u001b[1;33m\u001b[0m\u001b[1;33m\u001b[0m\u001b[0m\n\u001b[0m\u001b[0;32m   3924\u001b[0m             \u001b[0mresult\u001b[0m \u001b[1;33m=\u001b[0m \u001b[0mself\u001b[0m\u001b[1;33m.\u001b[0m\u001b[0mreindex\u001b[0m\u001b[1;33m(\u001b[0m\u001b[1;33m**\u001b[0m\u001b[1;33m{\u001b[0m\u001b[0maxis_name\u001b[0m\u001b[1;33m:\u001b[0m \u001b[0mnew_axis\u001b[0m\u001b[1;33m}\u001b[0m\u001b[1;33m)\u001b[0m\u001b[1;33m\u001b[0m\u001b[1;33m\u001b[0m\u001b[0m\n\u001b[0;32m   3925\u001b[0m \u001b[1;33m\u001b[0m\u001b[0m\n",
      "\u001b[1;32mD:\\Anaconda3\\lib\\site-packages\\pandas\\core\\indexes\\base.py\u001b[0m in \u001b[0;36mdrop\u001b[1;34m(self, labels, errors)\u001b[0m\n\u001b[0;32m   5285\u001b[0m         \u001b[1;32mif\u001b[0m \u001b[0mmask\u001b[0m\u001b[1;33m.\u001b[0m\u001b[0many\u001b[0m\u001b[1;33m(\u001b[0m\u001b[1;33m)\u001b[0m\u001b[1;33m:\u001b[0m\u001b[1;33m\u001b[0m\u001b[1;33m\u001b[0m\u001b[0m\n\u001b[0;32m   5286\u001b[0m             \u001b[1;32mif\u001b[0m \u001b[0merrors\u001b[0m \u001b[1;33m!=\u001b[0m \u001b[1;34m\"ignore\"\u001b[0m\u001b[1;33m:\u001b[0m\u001b[1;33m\u001b[0m\u001b[1;33m\u001b[0m\u001b[0m\n\u001b[1;32m-> 5287\u001b[1;33m                 \u001b[1;32mraise\u001b[0m \u001b[0mKeyError\u001b[0m\u001b[1;33m(\u001b[0m\u001b[1;34mf\"{labels[mask]} not found in axis\"\u001b[0m\u001b[1;33m)\u001b[0m\u001b[1;33m\u001b[0m\u001b[1;33m\u001b[0m\u001b[0m\n\u001b[0m\u001b[0;32m   5288\u001b[0m             \u001b[0mindexer\u001b[0m \u001b[1;33m=\u001b[0m \u001b[0mindexer\u001b[0m\u001b[1;33m[\u001b[0m\u001b[1;33m~\u001b[0m\u001b[0mmask\u001b[0m\u001b[1;33m]\u001b[0m\u001b[1;33m\u001b[0m\u001b[1;33m\u001b[0m\u001b[0m\n\u001b[0;32m   5289\u001b[0m         \u001b[1;32mreturn\u001b[0m \u001b[0mself\u001b[0m\u001b[1;33m.\u001b[0m\u001b[0mdelete\u001b[0m\u001b[1;33m(\u001b[0m\u001b[0mindexer\u001b[0m\u001b[1;33m)\u001b[0m\u001b[1;33m\u001b[0m\u001b[1;33m\u001b[0m\u001b[0m\n",
      "\u001b[1;31mKeyError\u001b[0m: \"['target_3Y_death' 'target_3Y_survival' 'sampling'] not found in axis\""
     ]
    }
   ],
   "source": [
    "# 术前3年BS_all\n",
    "bs_x_all = df_model_cox_all.drop(['target_3Y_death','target_3Y_survival','sampling'],axis=1)\n",
    "est_all = CoxPHSurvivalAnalysis(ties=\"efron\").fit(bs_x_all, bs_y)\n",
    "survs_all = est_all.predict_survival_function(bs_x_all)\n",
    "preds_all = [fn(10) for fn in survs_all]\n",
    "times, bs_3Y_all = brier_score(bs_y, bs_y, preds_all, 10)\n",
    "print(bs_3Y_all)"
   ]
  },
  {
   "cell_type": "markdown",
   "metadata": {},
   "source": [
    "## ML筛选的变量"
   ]
  },
  {
   "cell_type": "code",
   "execution_count": 188,
   "metadata": {},
   "outputs": [],
   "source": [
    "df_model_cox_ML=pd.read_excel(project_path+'/data/reimplementation/df_6.2.2_dataset_cox_ML.xlsx')\n",
    "if 'Unnamed: 0' in df_model_cox_ML.columns:\n",
    "    df_model_cox_ML = df_model_cox_ML.drop(['Unnamed: 0'], axis=1)"
   ]
  },
  {
   "cell_type": "code",
   "execution_count": 189,
   "metadata": {},
   "outputs": [
    {
     "data": {
      "text/plain": [
       "(274, 7)"
      ]
     },
     "execution_count": 189,
     "metadata": {},
     "output_type": "execute_result"
    }
   ],
   "source": [
    "df_model_cox_ML.shape"
   ]
  },
  {
   "cell_type": "code",
   "execution_count": null,
   "metadata": {},
   "outputs": [],
   "source": [
    "# 转换成布尔值\n",
    "df_model_cox_ML['target_death_binary']=df_model_cox_ML.target_3Y_death.astype(bool)\n",
    "# 构建BStrain_data和test_data\n",
    "bs_y = [(d,s) for d,s in zip(df_model_cox_ML.target_death_binary,df_model_cox_ML.target_3Y_survival)]\n",
    "bs_y=np.array(bs_y,dtype=[('cens', '?'), ('time', '<f8')])"
   ]
  },
  {
   "cell_type": "code",
   "execution_count": null,
   "metadata": {},
   "outputs": [],
   "source": [
    "# 术前3年BS_ML\n",
    "bs_x_ML = df_model_cox_ML.drop(['target_3Y_death','target_3Y_survival','sampling'],axis=1)\n",
    "est_ML = CoxPHSurvivalAnalysis(ties=\"efron\").fit(bs_x_ML, bs_y)\n",
    "survs_ML = est_ML.predict_survival_function(bs_x_ML)\n",
    "preds_ML = [fn(10) for fn in survs_ML]\n",
    "times, bs_3Y_ML = brier_score(bs_y, bs_y, preds_ML, 10)\n",
    "print(bs_3Y_ML)"
   ]
  },
  {
   "cell_type": "markdown",
   "metadata": {},
   "source": [
    "## SPSS:backward筛选的变量"
   ]
  },
  {
   "cell_type": "code",
   "execution_count": 190,
   "metadata": {},
   "outputs": [],
   "source": [
    "df_model_cox_backward=pd.read_excel(project_path+'/data/reimplementation/df_6.3.2_dataset_cox_back.xlsx')\n",
    "if 'Unnamed: 0' in df_model_cox_backward.columns:\n",
    "    df_model_cox_backward = df_model_cox_backward.drop(['Unnamed: 0'], axis=1)"
   ]
  },
  {
   "cell_type": "code",
   "execution_count": 191,
   "metadata": {},
   "outputs": [
    {
     "data": {
      "text/plain": [
       "(168, 15)"
      ]
     },
     "execution_count": 191,
     "metadata": {},
     "output_type": "execute_result"
    }
   ],
   "source": [
    "df_model_cox_backward.shape"
   ]
  },
  {
   "cell_type": "code",
   "execution_count": null,
   "metadata": {},
   "outputs": [],
   "source": [
    "# 转换成布尔值\n",
    "df_model_cox_backward['target_death_binary']=df_model_cox_backward.target_3Y_death.astype(bool)\n",
    "# 构建BStrain_data和test_data\n",
    "bs_y = [(d,s) for d,s in zip(df_model_cox_backward.target_death_binary,df_model_cox_backward.target_3Y_survival)]\n",
    "bs_y=np.array(bs_y,dtype=[('cens', '?'), ('time', '<f8')])"
   ]
  },
  {
   "cell_type": "code",
   "execution_count": null,
   "metadata": {},
   "outputs": [],
   "source": [
    "# 术前3年BS_backward\n",
    "bs_x_backward = df_model_cox_backward.drop(['target_3Y_death','target_3Y_survival','sampling'],axis=1)\n",
    "est_backward = CoxPHSurvivalAnalysis(ties=\"efron\").fit(bs_x_backward, bs_y)\n",
    "survs_backward = est_backward.predict_survival_function(bs_x_backward)\n",
    "preds_backward = [fn(10) for fn in survs_backward]\n",
    "times, bs_3Y_backward = brier_score(bs_y, bs_y, preds_backward, 10)\n",
    "print(bs_3Y_backward)"
   ]
  },
  {
   "cell_type": "markdown",
   "metadata": {},
   "source": [
    "## ML+SPSS筛选的变量"
   ]
  },
  {
   "cell_type": "code",
   "execution_count": 199,
   "metadata": {},
   "outputs": [],
   "source": [
    "df_model_cox_ML_back=pd.read_excel(project_path+'/data/reimplementation/df_6.4.2_dataset_cox_ML_back.xlsx')\n",
    "if 'Unnamed: 0' in df_model_cox_ML_back.columns:\n",
    "    df_model_cox_ML_back = df_model_cox_ML_back.drop(['Unnamed: 0'], axis=1)"
   ]
  },
  {
   "cell_type": "code",
   "execution_count": 200,
   "metadata": {},
   "outputs": [
    {
     "data": {
      "text/plain": [
       "(276, 6)"
      ]
     },
     "execution_count": 200,
     "metadata": {},
     "output_type": "execute_result"
    }
   ],
   "source": [
    "df_model_cox_ML_back.shape"
   ]
  },
  {
   "cell_type": "code",
   "execution_count": 197,
   "metadata": {},
   "outputs": [],
   "source": [
    "# 转换成布尔值\n",
    "df_model_cox_ML_back['target_death_binary']=df_model_cox_ML_back.target_3Y_death.astype(bool)\n",
    "# 构建BStrain_data和test_data\n",
    "bs_y = [(d,s) for d,s in zip(df_model_cox_ML_back.target_death_binary,df_model_cox_ML_back.target_3Y_survival)]\n",
    "bs_y=np.array(bs_y,dtype=[('cens', '?'), ('time', '<f8')])"
   ]
  },
  {
   "cell_type": "code",
   "execution_count": 198,
   "metadata": {},
   "outputs": [
    {
     "ename": "NameError",
     "evalue": "name 'CoxPHSurvivalAnalysis' is not defined",
     "output_type": "error",
     "traceback": [
      "\u001b[1;31m---------------------------------------------------------------------------\u001b[0m",
      "\u001b[1;31mNameError\u001b[0m                                 Traceback (most recent call last)",
      "\u001b[1;32m<ipython-input-198-88d7cf619f0f>\u001b[0m in \u001b[0;36m<module>\u001b[1;34m\u001b[0m\n\u001b[0;32m      1\u001b[0m \u001b[1;31m# 术前3年BS_ML_back\u001b[0m\u001b[1;33m\u001b[0m\u001b[1;33m\u001b[0m\u001b[1;33m\u001b[0m\u001b[0m\n\u001b[0;32m      2\u001b[0m \u001b[0mbs_x_ML_back\u001b[0m \u001b[1;33m=\u001b[0m \u001b[0mdf_model_cox_ML_back\u001b[0m\u001b[1;33m.\u001b[0m\u001b[0mdrop\u001b[0m\u001b[1;33m(\u001b[0m\u001b[1;33m[\u001b[0m\u001b[1;34m'target_3Y_death'\u001b[0m\u001b[1;33m,\u001b[0m\u001b[1;34m'target_3Y_survival'\u001b[0m\u001b[1;33m,\u001b[0m\u001b[1;34m'sampling'\u001b[0m\u001b[1;33m]\u001b[0m\u001b[1;33m,\u001b[0m\u001b[0maxis\u001b[0m\u001b[1;33m=\u001b[0m\u001b[1;36m1\u001b[0m\u001b[1;33m)\u001b[0m\u001b[1;33m\u001b[0m\u001b[1;33m\u001b[0m\u001b[0m\n\u001b[1;32m----> 3\u001b[1;33m \u001b[0mest_ML_back\u001b[0m \u001b[1;33m=\u001b[0m \u001b[0mCoxPHSurvivalAnalysis\u001b[0m\u001b[1;33m(\u001b[0m\u001b[0mties\u001b[0m\u001b[1;33m=\u001b[0m\u001b[1;34m\"efron\"\u001b[0m\u001b[1;33m)\u001b[0m\u001b[1;33m.\u001b[0m\u001b[0mfit\u001b[0m\u001b[1;33m(\u001b[0m\u001b[0mbs_x_ML_back\u001b[0m\u001b[1;33m,\u001b[0m \u001b[0mbs_y\u001b[0m\u001b[1;33m)\u001b[0m\u001b[1;33m\u001b[0m\u001b[1;33m\u001b[0m\u001b[0m\n\u001b[0m\u001b[0;32m      4\u001b[0m \u001b[0msurvs_ML_back\u001b[0m \u001b[1;33m=\u001b[0m \u001b[0mest_ML_back\u001b[0m\u001b[1;33m.\u001b[0m\u001b[0mpredict_survival_function\u001b[0m\u001b[1;33m(\u001b[0m\u001b[0mbs_x_ML_back\u001b[0m\u001b[1;33m)\u001b[0m\u001b[1;33m\u001b[0m\u001b[1;33m\u001b[0m\u001b[0m\n\u001b[0;32m      5\u001b[0m \u001b[0mpreds_ML_back\u001b[0m \u001b[1;33m=\u001b[0m \u001b[1;33m[\u001b[0m\u001b[0mfn\u001b[0m\u001b[1;33m(\u001b[0m\u001b[1;36m10\u001b[0m\u001b[1;33m)\u001b[0m \u001b[1;32mfor\u001b[0m \u001b[0mfn\u001b[0m \u001b[1;32min\u001b[0m \u001b[0msurvs_ML_back\u001b[0m\u001b[1;33m]\u001b[0m\u001b[1;33m\u001b[0m\u001b[1;33m\u001b[0m\u001b[0m\n",
      "\u001b[1;31mNameError\u001b[0m: name 'CoxPHSurvivalAnalysis' is not defined"
     ]
    }
   ],
   "source": [
    "# 术前3年BS_ML_back\n",
    "bs_x_ML_back = df_model_cox_ML_back.drop(['target_3Y_death','target_3Y_survival','sampling'],axis=1)\n",
    "est_ML_back = CoxPHSurvivalAnalysis(ties=\"efron\").fit(bs_x_ML_back, bs_y)\n",
    "survs_ML_back = est_ML_back.predict_survival_function(bs_x_ML_back)\n",
    "preds_ML_back = [fn(10) for fn in survs_ML_back]\n",
    "times, bs_3Y_ML_back = brier_score(bs_y, bs_y, preds_ML_back, 10)\n",
    "print(bs_3Y_ML_back)"
   ]
  },
  {
   "cell_type": "markdown",
   "metadata": {},
   "source": [
    "## 保存BS值"
   ]
  },
  {
   "cell_type": "code",
   "execution_count": 474,
   "metadata": {},
   "outputs": [
    {
     "ename": "NameError",
     "evalue": "name 'bs_3Y_all' is not defined",
     "output_type": "error",
     "traceback": [
      "\u001b[1;31m---------------------------------------------------------------------------\u001b[0m",
      "\u001b[1;31mNameError\u001b[0m                                 Traceback (most recent call last)",
      "\u001b[1;32m<ipython-input-474-ccc83f7d906f>\u001b[0m in \u001b[0;36m<module>\u001b[1;34m\u001b[0m\n\u001b[1;32m----> 1\u001b[1;33m df_bs = pd.DataFrame(data={'bs_3Y_all':bs_3Y_all,\n\u001b[0m\u001b[0;32m      2\u001b[0m                           \u001b[1;34m'bs_3Y_ML'\u001b[0m\u001b[1;33m:\u001b[0m\u001b[0mbs_3Y_ML\u001b[0m\u001b[1;33m,\u001b[0m\u001b[1;33m\u001b[0m\u001b[1;33m\u001b[0m\u001b[0m\n\u001b[0;32m      3\u001b[0m                           \u001b[1;34m'bs_3Y_backward'\u001b[0m\u001b[1;33m:\u001b[0m\u001b[0mbs_3Y_backward\u001b[0m\u001b[1;33m,\u001b[0m\u001b[1;33m\u001b[0m\u001b[1;33m\u001b[0m\u001b[0m\n\u001b[0;32m      4\u001b[0m                           'bs_3Y_ML_back':bs_3Y_ML_back})\n",
      "\u001b[1;31mNameError\u001b[0m: name 'bs_3Y_all' is not defined"
     ]
    }
   ],
   "source": [
    "df_bs = pd.DataFrame(data={'bs_3Y_all':bs_3Y_all,\n",
    "                          'bs_3Y_ML':bs_3Y_ML,\n",
    "                          'bs_3Y_backward':bs_3Y_backward,\n",
    "                          'bs_3Y_ML_back':bs_3Y_ML_back})\n",
    "df_bs.to_excel(project_path+'/data/implementation/df_bs.xlsx')"
   ]
  },
  {
   "cell_type": "markdown",
   "metadata": {},
   "source": [
    "# 构建风险评分模型"
   ]
  },
  {
   "cell_type": "markdown",
   "metadata": {},
   "source": [
    "# 计算风险评分"
   ]
  },
  {
   "cell_type": "code",
   "execution_count": 245,
   "metadata": {},
   "outputs": [],
   "source": [
    "# 根据ML+SPSS筛选的变量构建风险模型:'PLT','surgery_result','surgery_plasm'\n",
    "import math\n",
    "# 计算风险评分\n",
    "df_model_risk_before=df_model_relate.reset_index(drop=True)\n",
    "# 缺失项补充为0\n",
    "discrete_col=['surgery_result','AJCC_8']\n",
    "df_model_risk_before[discrete_col]=df_model_risk_before[discrete_col].fillna(0)\n",
    "cotinuous_col=['PLT','surgery_plasm']\n",
    "df_model_risk_before[cotinuous_col]=df_model_risk_before[cotinuous_col].fillna(1)\n",
    "for i in range(df_model_risk_before.shape[0]):\n",
    "    surgery_result=float(df_model_risk_before.loc[i,'surgery_result'])\n",
    "    plt_value=float(df_model_risk_before.loc[i,'PLT'])\n",
    "    surgery_plasm=float(df_model_risk_before.loc[i,'surgery_plasm'])\n",
    "    ajcc=float(df_model_risk_before.loc[i,'AJCC_8'])\n",
    "#     db_value=float(df_model_risk_before.loc[i,'DB'])\n",
    "#     plt=float(df_model_risk_before.loc[i,'PLT'])\n",
    "    # 术前1年生存期risk_score计算\n",
    "    df_model_risk_before.loc[i,'risk_score']=math.log(plt_value)*0.002+ajcc*0.58+0.59*surgery_result+0.0004*surgery_plasm\n",
    "#     df_model_risk_before.loc[i,'risk_score']=math.log(plt)*0.002+0.41*jaundice_value+0.41*gazz_value"
   ]
  },
  {
   "cell_type": "code",
   "execution_count": 246,
   "metadata": {},
   "outputs": [
    {
     "data": {
      "text/plain": [
       "count    450.000000\n",
       "mean       2.414852\n",
       "std        1.101622\n",
       "min        0.000400\n",
       "25%        1.761300\n",
       "50%        2.340675\n",
       "75%        2.915199\n",
       "max        5.011693\n",
       "Name: risk_score, dtype: float64"
      ]
     },
     "execution_count": 246,
     "metadata": {},
     "output_type": "execute_result"
    }
   ],
   "source": [
    "df_model_risk_before.risk_score.describe()"
   ]
  },
  {
   "cell_type": "markdown",
   "metadata": {},
   "source": [
    "## 分期"
   ]
  },
  {
   "cell_type": "code",
   "execution_count": 247,
   "metadata": {},
   "outputs": [],
   "source": [
    "# 术前1年生存期风险评分分期\n",
    "df_model_risk_before['staging']=df_model_risk_before.risk_score.apply(lambda x: 1 if x<=1.5 else\n",
    "                                                                     2 if 1.5<x<=2.5 else\n",
    "                                                                     3 if 2.5<x<=3 else\n",
    "                                                                     4 if x>3 else np.nan)"
   ]
  },
  {
   "cell_type": "code",
   "execution_count": 248,
   "metadata": {
    "scrolled": true
   },
   "outputs": [
    {
     "data": {
      "text/plain": [
       "2    251\n",
       "4     99\n",
       "3     64\n",
       "1     36\n",
       "Name: staging, dtype: int64"
      ]
     },
     "execution_count": 248,
     "metadata": {},
     "output_type": "execute_result"
    }
   ],
   "source": [
    "df_model_risk_before.staging.value_counts()"
   ]
  },
  {
   "cell_type": "code",
   "execution_count": 249,
   "metadata": {},
   "outputs": [],
   "source": [
    "df_model_risk_before.to_excel(project_path+'/data/reimplementation/df_8.1_术后分期.xlsx')"
   ]
  },
  {
   "cell_type": "markdown",
   "metadata": {},
   "source": [
    "## 计算C_index"
   ]
  },
  {
   "cell_type": "markdown",
   "metadata": {},
   "source": [
    "### c_index_us"
   ]
  },
  {
   "cell_type": "code",
   "execution_count": 250,
   "metadata": {},
   "outputs": [
    {
     "name": "stdout",
     "output_type": "stream",
     "text": [
      "\r",
      "Iteration 1: norm_delta = 0.62534, step_size = 0.9000, log_lik = -1397.02600, newton_decrement = 35.93323, seconds_since_start = 0.0\n",
      "\r",
      "Iteration 2: norm_delta = 0.02478, step_size = 0.9000, log_lik = -1364.89529, newton_decrement = 0.07274, seconds_since_start = 0.0\n",
      "\r",
      "Iteration 3: norm_delta = 0.00253, step_size = 0.9000, log_lik = -1364.82321, newton_decrement = 0.00075, seconds_since_start = 0.0\n",
      "\r",
      "Iteration 4: norm_delta = 0.00000, step_size = 1.0000, log_lik = -1364.82246, newton_decrement = 0.00000, seconds_since_start = 0.0\n",
      "Convergence success after 4 iterations.\n",
      "0.6375589733108511\n"
     ]
    }
   ],
   "source": [
    "from lifelines import CoxPHFitter\n",
    "from lifelines.utils import concordance_index\n",
    "# 计算1年生存期分期的c_index_us\n",
    "df_C_index_us = df_model_risk_before[['staging','target_3Y_death','target_3Y_survival']]\n",
    "df_C_index_us = df_C_index_us[df_C_index_us.target_3Y_survival.notnull()]\n",
    "cph = CoxPHFitter()\n",
    "cph.fit(df_C_index_us, duration_col='target_3Y_survival', event_col='target_3Y_death', show_progress=True)\n",
    "c_index_us = cph.concordance_index_\n",
    "print(c_index_us)"
   ]
  },
  {
   "cell_type": "markdown",
   "metadata": {},
   "source": [
    "### c_index_ajcc"
   ]
  },
  {
   "cell_type": "code",
   "execution_count": 251,
   "metadata": {},
   "outputs": [
    {
     "name": "stdout",
     "output_type": "stream",
     "text": [
      "\r",
      "Iteration 1: norm_delta = 0.34658, step_size = 0.9000, log_lik = -1397.02600, newton_decrement = 11.84830, seconds_since_start = 0.0\n",
      "\r",
      "Iteration 2: norm_delta = 0.09256, step_size = 0.9000, log_lik = -1384.48964, newton_decrement = 0.65963, seconds_since_start = 0.0\n",
      "\r",
      "Iteration 3: norm_delta = 0.01199, step_size = 0.9000, log_lik = -1383.82733, newton_decrement = 0.01052, seconds_since_start = 0.0\n",
      "\r",
      "Iteration 4: norm_delta = 0.00004, step_size = 1.0000, log_lik = -1383.81679, newton_decrement = 0.00000, seconds_since_start = 0.0\n",
      "\r",
      "Iteration 5: norm_delta = 0.00000, step_size = 1.0000, log_lik = -1383.81679, newton_decrement = 0.00000, seconds_since_start = 0.0\n",
      "Convergence success after 5 iterations.\n",
      "0.6192921499497556\n"
     ]
    }
   ],
   "source": [
    "# 计算1年生存期分期的c_index_ajcc\n",
    "df_C_index_ajcc = df_model_risk_before[['AJCC_8','target_3Y_death','target_3Y_survival']]\n",
    "df_C_index_ajcc = df_C_index_ajcc[df_C_index_ajcc.target_3Y_survival.notnull() & df_C_index_ajcc.AJCC_8.notnull()]\n",
    "cph = CoxPHFitter()\n",
    "cph.fit(df_C_index_ajcc, duration_col='target_3Y_survival', event_col='target_3Y_death', show_progress=True)\n",
    "c_index_ajcc = cph.concordance_index_\n",
    "print(c_index_ajcc)"
   ]
  },
  {
   "cell_type": "markdown",
   "metadata": {},
   "source": [
    "### c_index_gazz"
   ]
  },
  {
   "cell_type": "code",
   "execution_count": 252,
   "metadata": {},
   "outputs": [
    {
     "name": "stdout",
     "output_type": "stream",
     "text": [
      "Iteration 1: norm_delta = 0.49225, step_size = 0.9000, log_lik = -1273.65809, newton_decrement = 21.87271, seconds_since_start = 0.0\n",
      "Iteration 2: norm_delta = 0.03542, step_size = 0.9000, log_lik = -1254.72405, newton_decrement = 0.16068, seconds_since_start = 0.0\n",
      "Iteration 3: norm_delta = 0.00385, step_size = 0.9000, log_lik = -1254.56431, newton_decrement = 0.00186, seconds_since_start = 0.0\n",
      "Iteration 4: norm_delta = 0.00000, step_size = 1.0000, log_lik = -1254.56245, newton_decrement = 0.00000, seconds_since_start = 0.0\n",
      "Convergence success after 4 iterations.\n",
      "0.6293001536824684\n"
     ]
    }
   ],
   "source": [
    "# 计算1年生存期分期的c_index_gazz\n",
    "df_C_index_gazz = df_model_risk_before[['Gazzaniga_T','target_3Y_death','target_3Y_survival']]\n",
    "df_C_index_gazz = df_C_index_gazz[df_C_index_gazz.target_3Y_survival.notnull() & df_C_index_gazz.Gazzaniga_T.notnull()]\n",
    "cph = CoxPHFitter()\n",
    "cph.fit(df_C_index_gazz, duration_col='target_3Y_survival', event_col='target_3Y_death', show_progress=True)\n",
    "c_index_gazz = cph.concordance_index_\n",
    "print(c_index_gazz)"
   ]
  },
  {
   "cell_type": "markdown",
   "metadata": {},
   "source": [
    "### c_index_mskcc"
   ]
  },
  {
   "cell_type": "code",
   "execution_count": 253,
   "metadata": {},
   "outputs": [
    {
     "name": "stdout",
     "output_type": "stream",
     "text": [
      "\r",
      "Iteration 1: norm_delta = 0.40187, step_size = 0.9000, log_lik = -1273.65809, newton_decrement = 15.65977, seconds_since_start = 0.0\n",
      "\r",
      "Iteration 2: norm_delta = 0.00933, step_size = 0.9000, log_lik = -1259.42443, newton_decrement = 0.01060, seconds_since_start = 0.0\n",
      "\r",
      "Iteration 3: norm_delta = 0.00095, step_size = 0.9000, log_lik = -1259.41393, newton_decrement = 0.00011, seconds_since_start = 0.0\n",
      "\r",
      "Iteration 4: norm_delta = 0.00000, step_size = 1.0000, log_lik = -1259.41382, newton_decrement = 0.00000, seconds_since_start = 0.0\n",
      "Convergence success after 4 iterations.\n",
      "0.6093805414351579\n"
     ]
    }
   ],
   "source": [
    "# 计算1年生存期分期的c_index_mskcc\n",
    "df_C_index_mskcc = df_model_risk_before[['MSKCC','target_3Y_death','target_3Y_survival']]\n",
    "df_C_index_mskcc = df_C_index_mskcc[df_C_index_mskcc.target_3Y_survival.notnull() & df_C_index_mskcc.MSKCC.notnull()]\n",
    "cph = CoxPHFitter()\n",
    "cph.fit(df_C_index_mskcc, duration_col='target_3Y_survival', event_col='target_3Y_death', show_progress=True)\n",
    "c_index_mskcc = cph.concordance_index_\n",
    "print(c_index_mskcc)"
   ]
  },
  {
   "cell_type": "markdown",
   "metadata": {},
   "source": [
    "### c_index_blum"
   ]
  },
  {
   "cell_type": "code",
   "execution_count": 254,
   "metadata": {},
   "outputs": [
    {
     "name": "stdout",
     "output_type": "stream",
     "text": [
      "\r",
      "Iteration 1: norm_delta = 0.40676, step_size = 0.9000, log_lik = -1273.65809, newton_decrement = 16.20180, seconds_since_start = 0.0\n",
      "\r",
      "Iteration 2: norm_delta = 0.00685, step_size = 0.9000, log_lik = -1258.85878, newton_decrement = 0.00567, seconds_since_start = 0.0\n",
      "\r",
      "Iteration 3: norm_delta = 0.00069, step_size = 0.9000, log_lik = -1258.85316, newton_decrement = 0.00006, seconds_since_start = 0.0\n",
      "\r",
      "Iteration 4: norm_delta = 0.00000, step_size = 1.0000, log_lik = -1258.85310, newton_decrement = 0.00000, seconds_since_start = 0.0\n",
      "Convergence success after 4 iterations.\n",
      "0.6107104858730347\n"
     ]
    }
   ],
   "source": [
    "# 计算1年生存期分期的c_index_blumgart\n",
    "df_C_index_blumgart = df_model_risk_before[['Blumgart_T','target_3Y_death','target_3Y_survival']]\n",
    "df_C_index_blumgart = df_C_index_blumgart[df_C_index_blumgart.target_3Y_survival.notnull() & df_C_index_blumgart.Blumgart_T.notnull()]\n",
    "cph = CoxPHFitter()\n",
    "cph.fit(df_C_index_blumgart, duration_col='target_3Y_survival', event_col='target_3Y_death', show_progress=True)\n",
    "c_index_blumgart = cph.concordance_index_\n",
    "print(c_index_blumgart)"
   ]
  },
  {
   "cell_type": "code",
   "execution_count": 255,
   "metadata": {},
   "outputs": [],
   "source": [
    "df_model_risk_before.to_excel(project_path+'/data/reimplementation/df_8.2.4_分期c_index.xlsx')"
   ]
  },
  {
   "cell_type": "markdown",
   "metadata": {},
   "source": [
    "## 计算BS"
   ]
  },
  {
   "cell_type": "code",
   "execution_count": 256,
   "metadata": {},
   "outputs": [],
   "source": [
    "df_model_risk_before=pd.read_excel(project_path+'/data/reimplementation/df_8.1_术后分期.xlsx')\n",
    "if 'Unnamed: 0' in df_model_risk_before.columns:\n",
    "    df_model_risk_before = df_model_risk_before.drop(['Unnamed: 0'], axis=1)"
   ]
  },
  {
   "cell_type": "code",
   "execution_count": 257,
   "metadata": {},
   "outputs": [],
   "source": [
    "# 术前预后1年生存期BS，生成布尔型True、False\n",
    "df_model_bs_3Y=df_model_risk_before[df_model_risk_before.target_3Y_survival.notnull() & \n",
    "                                    df_model_risk_before.MSKCC.notnull()]\n",
    "df_model_bs_3Y['target_death_binary']=df_model_bs_3Y.target_3Y_death.astype(bool)\n",
    "# 构建BStrain_data和test_data\n",
    "bs_y = [(d,s) for d,s in zip(df_model_bs_3Y.target_death_binary,df_model_bs_3Y.target_3Y_survival)]\n",
    "bs_y=np.array(bs_y,dtype=[('cens', '?'), ('time', '<f8')])"
   ]
  },
  {
   "cell_type": "markdown",
   "metadata": {},
   "source": [
    "### bs_us"
   ]
  },
  {
   "cell_type": "code",
   "execution_count": 258,
   "metadata": {},
   "outputs": [
    {
     "ename": "NameError",
     "evalue": "name 'CoxPHSurvivalAnalysis' is not defined",
     "output_type": "error",
     "traceback": [
      "\u001b[1;31m---------------------------------------------------------------------------\u001b[0m",
      "\u001b[1;31mNameError\u001b[0m                                 Traceback (most recent call last)",
      "\u001b[1;32m<ipython-input-258-5b91e88a781b>\u001b[0m in \u001b[0;36m<module>\u001b[1;34m\u001b[0m\n\u001b[0;32m      1\u001b[0m \u001b[1;31m# 术前1年BS_us\u001b[0m\u001b[1;33m\u001b[0m\u001b[1;33m\u001b[0m\u001b[1;33m\u001b[0m\u001b[0m\n\u001b[0;32m      2\u001b[0m \u001b[0mbs_x_us\u001b[0m \u001b[1;33m=\u001b[0m \u001b[0mdf_model_bs_3Y\u001b[0m\u001b[1;33m[\u001b[0m\u001b[1;33m[\u001b[0m\u001b[1;34m'staging'\u001b[0m\u001b[1;33m]\u001b[0m\u001b[1;33m]\u001b[0m\u001b[1;33m\u001b[0m\u001b[1;33m\u001b[0m\u001b[0m\n\u001b[1;32m----> 3\u001b[1;33m \u001b[0mest_us\u001b[0m \u001b[1;33m=\u001b[0m \u001b[0mCoxPHSurvivalAnalysis\u001b[0m\u001b[1;33m(\u001b[0m\u001b[0mties\u001b[0m\u001b[1;33m=\u001b[0m\u001b[1;34m\"efron\"\u001b[0m\u001b[1;33m)\u001b[0m\u001b[1;33m.\u001b[0m\u001b[0mfit\u001b[0m\u001b[1;33m(\u001b[0m\u001b[0mbs_x_us\u001b[0m\u001b[1;33m,\u001b[0m \u001b[0mbs_y\u001b[0m\u001b[1;33m)\u001b[0m\u001b[1;33m\u001b[0m\u001b[1;33m\u001b[0m\u001b[0m\n\u001b[0m\u001b[0;32m      4\u001b[0m \u001b[0msurvs_us\u001b[0m \u001b[1;33m=\u001b[0m \u001b[0mest_us\u001b[0m\u001b[1;33m.\u001b[0m\u001b[0mpredict_survival_function\u001b[0m\u001b[1;33m(\u001b[0m\u001b[0mbs_x_us\u001b[0m\u001b[1;33m)\u001b[0m\u001b[1;33m\u001b[0m\u001b[1;33m\u001b[0m\u001b[0m\n\u001b[0;32m      5\u001b[0m \u001b[0mpreds_us\u001b[0m \u001b[1;33m=\u001b[0m \u001b[1;33m[\u001b[0m\u001b[0mfn\u001b[0m\u001b[1;33m(\u001b[0m\u001b[1;36m10\u001b[0m\u001b[1;33m)\u001b[0m \u001b[1;32mfor\u001b[0m \u001b[0mfn\u001b[0m \u001b[1;32min\u001b[0m \u001b[0msurvs_us\u001b[0m\u001b[1;33m]\u001b[0m\u001b[1;33m\u001b[0m\u001b[1;33m\u001b[0m\u001b[0m\n",
      "\u001b[1;31mNameError\u001b[0m: name 'CoxPHSurvivalAnalysis' is not defined"
     ]
    }
   ],
   "source": [
    "# 术前1年BS_us\n",
    "bs_x_us = df_model_bs_3Y[['staging']]\n",
    "est_us = CoxPHSurvivalAnalysis(ties=\"efron\").fit(bs_x_us, bs_y)\n",
    "survs_us = est_us.predict_survival_function(bs_x_us)\n",
    "preds_us = [fn(10) for fn in survs_us]\n",
    "times, bs_3Y_us = brier_score(bs_y, bs_y, preds_us, 10)\n",
    "print(bs_3Y_us)"
   ]
  },
  {
   "cell_type": "markdown",
   "metadata": {},
   "source": [
    "### bs_AJCC"
   ]
  },
  {
   "cell_type": "code",
   "execution_count": null,
   "metadata": {},
   "outputs": [],
   "source": [
    "# 术前1年BS_ajcc\n",
    "bs_x_ajcc=df_model_bs_3Y[['AJCC_8']]\n",
    "est_ajcc = CoxPHSurvivalAnalysis(ties=\"efron\").fit(bs_x_ajcc, bs_y)\n",
    "survs_ajcc = est_ajcc.predict_survival_function(bs_x_ajcc)\n",
    "preds_ajcc = [fn(10) for fn in survs_ajcc]\n",
    "times, bs_3Y_ajcc = brier_score(bs_y, bs_y, preds_ajcc, 10)\n",
    "print(bs_3Y_ajcc)"
   ]
  },
  {
   "cell_type": "markdown",
   "metadata": {},
   "source": [
    "### bs_gazz"
   ]
  },
  {
   "cell_type": "code",
   "execution_count": null,
   "metadata": {},
   "outputs": [],
   "source": [
    "# 术前1年BS_gazz\n",
    "bs_x_gazz=df_model_bs_3Y[['Gazzaniga_T']]\n",
    "est_gazz = CoxPHSurvivalAnalysis(ties=\"efron\").fit(bs_x_gazz, bs_y)\n",
    "survs_gazz = est_gazz.predict_survival_function(bs_x_gazz)\n",
    "preds_gazz = [fn(10) for fn in survs_gazz]\n",
    "times, bs_3Y_gazz = brier_score(bs_y, bs_y, preds_gazz, 10)\n",
    "print(bs_3Y_gazz)"
   ]
  },
  {
   "cell_type": "markdown",
   "metadata": {},
   "source": [
    "### bs_mskcc"
   ]
  },
  {
   "cell_type": "code",
   "execution_count": null,
   "metadata": {},
   "outputs": [],
   "source": [
    "# 术前1年BS_mskcc\n",
    "bs_x_mskcc=df_model_bs_3Y[['MSKCC']]\n",
    "est_mskcc = CoxPHSurvivalAnalysis(ties=\"efron\").fit(bs_x_mskcc, bs_y)\n",
    "survs_mskcc = est_mskcc.predict_survival_function(bs_x_mskcc)\n",
    "preds_mskcc = [fn(10) for fn in survs_mskcc]\n",
    "times, bs_3Y_mskcc = brier_score(bs_y, bs_y, preds_mskcc, 10)\n",
    "print(bs_3Y_mskcc)"
   ]
  },
  {
   "cell_type": "markdown",
   "metadata": {},
   "source": [
    "### bs_blum"
   ]
  },
  {
   "cell_type": "code",
   "execution_count": null,
   "metadata": {},
   "outputs": [],
   "source": [
    "# 术前1年BS_blumgart\n",
    "bs_x_blumgart=df_model_bs_3Y[['Blumgart_T']]\n",
    "est_blumgart = CoxPHSurvivalAnalysis(ties=\"efron\").fit(bs_x_blumgart, bs_y)\n",
    "survs_blumgart = est_blumgart.predict_survival_function(bs_x_blumgart)\n",
    "preds_blumgart = [fn(10) for fn in survs_blumgart]\n",
    "times, bs_3Y_blumgart = brier_score(bs_y, bs_y, preds_blumgart, 10)\n",
    "print(bs_3Y_blumgart)"
   ]
  }
 ],
 "metadata": {
  "kernelspec": {
   "display_name": "Python 3",
   "language": "python",
   "name": "python3"
  },
  "language_info": {
   "codemirror_mode": {
    "name": "ipython",
    "version": 3
   },
   "file_extension": ".py",
   "mimetype": "text/x-python",
   "name": "python",
   "nbconvert_exporter": "python",
   "pygments_lexer": "ipython3",
   "version": "3.6.8"
  },
  "toc": {
   "base_numbering": 1,
   "nav_menu": {},
   "number_sections": true,
   "sideBar": true,
   "skip_h1_title": false,
   "title_cell": "Table of Contents",
   "title_sidebar": "Contents",
   "toc_cell": false,
   "toc_position": {
    "height": "calc(100% - 180px)",
    "left": "10px",
    "top": "150px",
    "width": "460.8px"
   },
   "toc_section_display": true,
   "toc_window_display": true
  },
  "varInspector": {
   "cols": {
    "lenName": 16,
    "lenType": 16,
    "lenVar": 40
   },
   "kernels_config": {
    "python": {
     "delete_cmd_postfix": "",
     "delete_cmd_prefix": "del ",
     "library": "var_list.py",
     "varRefreshCmd": "print(var_dic_list())"
    },
    "r": {
     "delete_cmd_postfix": ") ",
     "delete_cmd_prefix": "rm(",
     "library": "var_list.r",
     "varRefreshCmd": "cat(var_dic_list()) "
    }
   },
   "types_to_exclude": [
    "module",
    "function",
    "builtin_function_or_method",
    "instance",
    "_Feature"
   ],
   "window_display": false
  }
 },
 "nbformat": 4,
 "nbformat_minor": 2
}
