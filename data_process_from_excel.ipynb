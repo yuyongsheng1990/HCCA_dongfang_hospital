{
 "cells": [
  {
   "cell_type": "code",
   "execution_count": 1,
   "metadata": {},
   "outputs": [],
   "source": [
    "# _*_ coding: utf-8 _*_\n",
    "# @Time: 2022/02/11 10:05 \n",
    "# @Author: yuyongsheng\n",
    "# @Software: PyCharm\n",
    "# @Description: 东方肝胆-肝门胆管癌：1. 数据处理"
   ]
  },
  {
   "cell_type": "markdown",
   "metadata": {},
   "source": [
    "# 原始数据预处理"
   ]
  },
  {
   "cell_type": "markdown",
   "metadata": {},
   "source": [
    "## 导入程序包"
   ]
  },
  {
   "cell_type": "code",
   "execution_count": 2,
   "metadata": {},
   "outputs": [
    {
     "name": "stdout",
     "output_type": "stream",
     "text": [
      "D:\\PycharmProjects\\HCCA_dongfang_hospital\n"
     ]
    }
   ],
   "source": [
    "# 导入程序包\n",
    "import pymysql as MySQLDB\n",
    "import pandas as pd\n",
    "import numpy as np\n",
    "import datetime\n",
    "\n",
    "import re\n",
    "import sys\n",
    "import os\n",
    "project_path = os.getcwd()\n",
    "print(project_path)"
   ]
  },
  {
   "cell_type": "markdown",
   "metadata": {},
   "source": [
    "## 导入预定义函数"
   ]
  },
  {
   "cell_type": "code",
   "execution_count": 3,
   "metadata": {},
   "outputs": [],
   "source": [
    "# 过滤文字\n",
    "import numpy as np\n",
    "def filter_string(df,feature):\n",
    "    # 过滤文字!!!!!!!!!!!!!!!!!!!!!!!!!!!\n",
    "    df=df[df[feature].str.contains('\\d')]\n",
    "    return df"
   ]
  },
  {
   "cell_type": "code",
   "execution_count": 4,
   "metadata": {},
   "outputs": [],
   "source": [
    "# 过滤特殊字符\n",
    "def filter_spec_character(x):\n",
    "    if pd.isnull(x):\n",
    "        return np.nan\n",
    "    else:\n",
    "        x = re.sub('<|>|＞|＜|\\+|\\/|-|cm|kg','',str(x))\n",
    "        return x"
   ]
  },
  {
   "cell_type": "code",
   "execution_count": 5,
   "metadata": {},
   "outputs": [],
   "source": [
    "# 过滤异常大值\n",
    "def filter_huge_value(df,feature,median_value=1):\n",
    "    # 过滤异常大值!!!!!!!!!!!!!!!!!!!!!!!!!!\n",
    "    if not median_value:\n",
    "        median_value=df[feature].median()\n",
    "    df[feature]=df[feature].apply(lambda x: np.nan if x<0 else x if float(x) <= 100 * median_value else 100*median_value)\n",
    "    df=df[df[feature].notnull()]\n",
    "    return df"
   ]
  },
  {
   "cell_type": "markdown",
   "metadata": {},
   "source": [
    "## 读取raw_data"
   ]
  },
  {
   "cell_type": "code",
   "execution_count": 6,
   "metadata": {},
   "outputs": [],
   "source": [
    "# 从df_doctor_order读入数据\n",
    "df_raw_data =pd.read_excel(project_path +'/data/raw_data/HCCA -2022_1原始数据_规范化.xlsx')\n",
    "if 'Unnamed: 0' in df_raw_data.columns:\n",
    "    df_raw_data = df_raw_data.drop(['Unnamed: 0'], axis=1)"
   ]
  },
  {
   "cell_type": "code",
   "execution_count": 7,
   "metadata": {},
   "outputs": [
    {
     "name": "stdout",
     "output_type": "stream",
     "text": [
      "(483, 222)\n"
     ]
    }
   ],
   "source": [
    "print(df_raw_data.shape)"
   ]
  },
  {
   "cell_type": "markdown",
   "metadata": {},
   "source": [
    "### 院方要删除的变量"
   ]
  },
  {
   "cell_type": "code",
   "execution_count": 8,
   "metadata": {},
   "outputs": [],
   "source": [
    "# 院方要删除的变量\n",
    "df_raw_data=df_raw_data.drop(['民族','婚姻状况','职业','体表面积M2','主诉','肝炎病史（1=有，写具体，0=无）','肿瘤病史（1=有，写具体，0=无）',\n",
    "                             'CA72-4 u/ml <6.9','CA153u/ml <25','CA24-2 u/ml <25','CA-50 u/ml <=30','铁蛋白 ng/ml 30-400',\n",
    "                              '异常凝血酶原 mAU/ml <=40','乙肝表面抗体（阳性=1，阴性=0）','术后病理TNM分期','术前PVE（1=有，0=无）',\n",
    "                              '术前放疗','手术方式','术中探查','切缘','临床诊断','病理诊断','报告日期','免疫组化'],axis=1)"
   ]
  },
  {
   "cell_type": "code",
   "execution_count": 9,
   "metadata": {},
   "outputs": [
    {
     "name": "stdout",
     "output_type": "stream",
     "text": [
      "(483, 198)\n"
     ]
    }
   ],
   "source": [
    "print(df_raw_data.shape)"
   ]
  },
  {
   "cell_type": "code",
   "execution_count": 10,
   "metadata": {
    "scrolled": true
   },
   "outputs": [
    {
     "data": {
      "text/html": [
       "<div>\n",
       "<style scoped>\n",
       "    .dataframe tbody tr th:only-of-type {\n",
       "        vertical-align: middle;\n",
       "    }\n",
       "\n",
       "    .dataframe tbody tr th {\n",
       "        vertical-align: top;\n",
       "    }\n",
       "\n",
       "    .dataframe thead th {\n",
       "        text-align: right;\n",
       "    }\n",
       "</style>\n",
       "<table border=\"1\" class=\"dataframe\">\n",
       "  <thead>\n",
       "    <tr style=\"text-align: right;\">\n",
       "      <th></th>\n",
       "      <th>id</th>\n",
       "      <th>取样方法</th>\n",
       "      <th>性别</th>\n",
       "      <th>年龄（岁）</th>\n",
       "      <th>身高（cm）</th>\n",
       "      <th>体重（kg）</th>\n",
       "      <th>体重指数</th>\n",
       "      <th>发病时有无黄疸（1=有，0=无）</th>\n",
       "      <th>有无消瘦（有=1，无=0）</th>\n",
       "      <th>emaciation_day</th>\n",
       "      <th>...</th>\n",
       "      <th>SUOX</th>\n",
       "      <th>TFF3</th>\n",
       "      <th>Villin</th>\n",
       "      <th>WT-1</th>\n",
       "      <th>围手术期并发症【Clavien-Dindo分级系统】（I级、II级、IIIa级、IIIb级、IVa级、IVb级、V级）</th>\n",
       "      <th>围手术期死亡【术后90天内】（0=无；1=死亡）</th>\n",
       "      <th>后续治疗及随访</th>\n",
       "      <th>目前是否生存（1=存活；2=死亡）</th>\n",
       "      <th>死亡时间</th>\n",
       "      <th>生存时间(天)</th>\n",
       "    </tr>\n",
       "  </thead>\n",
       "  <tbody>\n",
       "    <tr>\n",
       "      <th>0</th>\n",
       "      <td>1</td>\n",
       "      <td>手术标本</td>\n",
       "      <td>男</td>\n",
       "      <td>59.0</td>\n",
       "      <td>NaN</td>\n",
       "      <td>NaN</td>\n",
       "      <td>NaN</td>\n",
       "      <td>1</td>\n",
       "      <td>1，20天减轻3kg</td>\n",
       "      <td>20.0</td>\n",
       "      <td>...</td>\n",
       "      <td>NaN</td>\n",
       "      <td>NaN</td>\n",
       "      <td>0.0</td>\n",
       "      <td>NaN</td>\n",
       "      <td>Ⅱ，输血</td>\n",
       "      <td>0</td>\n",
       "      <td>术后服用替吉奥胶囊化疗，后来出现全身淋巴结肿大，活检提示炎症，后来又出现腹水，2019年初经...</td>\n",
       "      <td>1</td>\n",
       "      <td>NaN</td>\n",
       "      <td>NaN</td>\n",
       "    </tr>\n",
       "    <tr>\n",
       "      <th>1</th>\n",
       "      <td>2</td>\n",
       "      <td>手术标本</td>\n",
       "      <td>男</td>\n",
       "      <td>64.0</td>\n",
       "      <td>NaN</td>\n",
       "      <td>NaN</td>\n",
       "      <td>NaN</td>\n",
       "      <td>1</td>\n",
       "      <td>1，1月减轻5公斤</td>\n",
       "      <td>30.0</td>\n",
       "      <td>...</td>\n",
       "      <td>NaN</td>\n",
       "      <td>NaN</td>\n",
       "      <td>0.0</td>\n",
       "      <td>NaN</td>\n",
       "      <td>Ⅰ</td>\n",
       "      <td>NaN</td>\n",
       "      <td>术后予以PD-1（O药）使用6次，2019年8月复查发现区域淋巴结复发，肝内复发可疑，予以行...</td>\n",
       "      <td>2，2020年3月</td>\n",
       "      <td>NaN</td>\n",
       "      <td>NaN</td>\n",
       "    </tr>\n",
       "    <tr>\n",
       "      <th>2</th>\n",
       "      <td>3</td>\n",
       "      <td>手术标本</td>\n",
       "      <td>男</td>\n",
       "      <td>52.0</td>\n",
       "      <td>NaN</td>\n",
       "      <td>NaN</td>\n",
       "      <td>NaN</td>\n",
       "      <td>1</td>\n",
       "      <td>1，1月减轻10公斤</td>\n",
       "      <td>30.0</td>\n",
       "      <td>...</td>\n",
       "      <td>NaN</td>\n",
       "      <td>NaN</td>\n",
       "      <td>NaN</td>\n",
       "      <td>NaN</td>\n",
       "      <td>Ⅰ</td>\n",
       "      <td>0</td>\n",
       "      <td>2019-05-27至2019-6-6行射波刀放疗6次（针对中肝叶术区及肝门淋巴结），后行肝移植术</td>\n",
       "      <td>2，2019年12月</td>\n",
       "      <td>NaN</td>\n",
       "      <td>NaN</td>\n",
       "    </tr>\n",
       "    <tr>\n",
       "      <th>3</th>\n",
       "      <td>4</td>\n",
       "      <td>手术标本</td>\n",
       "      <td>男</td>\n",
       "      <td>65.0</td>\n",
       "      <td>NaN</td>\n",
       "      <td>NaN</td>\n",
       "      <td>NaN</td>\n",
       "      <td>0</td>\n",
       "      <td>1，减轻约2公斤</td>\n",
       "      <td>NaN</td>\n",
       "      <td>...</td>\n",
       "      <td>NaN</td>\n",
       "      <td>NaN</td>\n",
       "      <td>NaN</td>\n",
       "      <td>NaN</td>\n",
       "      <td>Ⅲa，术后胆道感染，行PTCD穿刺引流</td>\n",
       "      <td>0</td>\n",
       "      <td>反复胆道感染，最终导致死亡</td>\n",
       "      <td>2，2019年2月</td>\n",
       "      <td>NaN</td>\n",
       "      <td>NaN</td>\n",
       "    </tr>\n",
       "    <tr>\n",
       "      <th>4</th>\n",
       "      <td>5</td>\n",
       "      <td>手术标本</td>\n",
       "      <td>女</td>\n",
       "      <td>59.0</td>\n",
       "      <td>NaN</td>\n",
       "      <td>NaN</td>\n",
       "      <td>NaN</td>\n",
       "      <td>1</td>\n",
       "      <td>0</td>\n",
       "      <td>NaN</td>\n",
       "      <td>...</td>\n",
       "      <td>NaN</td>\n",
       "      <td>NaN</td>\n",
       "      <td>0.0</td>\n",
       "      <td>NaN</td>\n",
       "      <td>V级，术后多次大量输血，术后行胸腔、腹腔穿刺引流，后治疗效果差，多器官功能衰竭，自动出院</td>\n",
       "      <td>1，自动出院</td>\n",
       "      <td>NaN</td>\n",
       "      <td>2，术后20余天</td>\n",
       "      <td>NaN</td>\n",
       "      <td>20天</td>\n",
       "    </tr>\n",
       "  </tbody>\n",
       "</table>\n",
       "<p>5 rows × 198 columns</p>\n",
       "</div>"
      ],
      "text/plain": [
       "   id  取样方法 性别  年龄（岁）  身高（cm）  体重（kg）  体重指数 发病时有无黄疸（1=有，0=无） 有无消瘦（有=1，无=0）  \\\n",
       "0   1  手术标本  男   59.0     NaN     NaN   NaN                1    1，20天减轻3kg   \n",
       "1   2  手术标本  男   64.0     NaN     NaN   NaN                1     1，1月减轻5公斤   \n",
       "2   3  手术标本  男   52.0     NaN     NaN   NaN                1    1，1月减轻10公斤   \n",
       "3   4  手术标本  男   65.0     NaN     NaN   NaN                0      1，减轻约2公斤   \n",
       "4   5  手术标本  女   59.0     NaN     NaN   NaN                1             0   \n",
       "\n",
       "   emaciation_day  ...  SUOX TFF3 Villin WT-1  \\\n",
       "0            20.0  ...   NaN  NaN    0.0  NaN   \n",
       "1            30.0  ...   NaN  NaN    0.0  NaN   \n",
       "2            30.0  ...   NaN  NaN    NaN  NaN   \n",
       "3             NaN  ...   NaN  NaN    NaN  NaN   \n",
       "4             NaN  ...   NaN  NaN    0.0  NaN   \n",
       "\n",
       "  围手术期并发症【Clavien-Dindo分级系统】（I级、II级、IIIa级、IIIb级、IVa级、IVb级、V级）  \\\n",
       "0                                               Ⅱ，输血            \n",
       "1                                                  Ⅰ            \n",
       "2                                                  Ⅰ            \n",
       "3                                Ⅲa，术后胆道感染，行PTCD穿刺引流            \n",
       "4       V级，术后多次大量输血，术后行胸腔、腹腔穿刺引流，后治疗效果差，多器官功能衰竭，自动出院            \n",
       "\n",
       "   围手术期死亡【术后90天内】（0=无；1=死亡）  \\\n",
       "0                         0   \n",
       "1                       NaN   \n",
       "2                         0   \n",
       "3                         0   \n",
       "4                    1，自动出院   \n",
       "\n",
       "                                             后续治疗及随访 目前是否生存（1=存活；2=死亡） 死亡时间  \\\n",
       "0  术后服用替吉奥胶囊化疗，后来出现全身淋巴结肿大，活检提示炎症，后来又出现腹水，2019年初经...                 1  NaN   \n",
       "1  术后予以PD-1（O药）使用6次，2019年8月复查发现区域淋巴结复发，肝内复发可疑，予以行...         2，2020年3月  NaN   \n",
       "2  2019-05-27至2019-6-6行射波刀放疗6次（针对中肝叶术区及肝门淋巴结），后行肝移植术        2，2019年12月  NaN   \n",
       "3                                      反复胆道感染，最终导致死亡         2，2019年2月  NaN   \n",
       "4                                                NaN          2，术后20余天  NaN   \n",
       "\n",
       "  生存时间(天)  \n",
       "0     NaN  \n",
       "1     NaN  \n",
       "2     NaN  \n",
       "3     NaN  \n",
       "4     20天  \n",
       "\n",
       "[5 rows x 198 columns]"
      ]
     },
     "execution_count": 10,
     "metadata": {},
     "output_type": "execute_result"
    }
   ],
   "source": [
    "df_raw_data.head()"
   ]
  },
  {
   "cell_type": "markdown",
   "metadata": {},
   "source": [
    "### 合并基因突变数据"
   ]
  },
  {
   "cell_type": "code",
   "execution_count": 11,
   "metadata": {},
   "outputs": [],
   "source": [
    "gene_mutation_index=df_raw_data.columns.to_list().index('KRAS-Exon-2')\n",
    "gene_mutation_col=['KRAS-Exon-2','KRAS-Exon-3','KRAS-Exon-4','BRAF-Exon-15','NRAS-Exon-2','NRAS-Exon-3','NRAS-Exon-4','PIK3CA-exon-20',\n",
    "          'SOX2','APOBEC3B','BRCA2','CCND1','CCND3','CDK12','CDKN2A','CDKN2B','DOT1L','EPHA7','ERBB2','ETV1','FAT1','FGF3','FGF4',\n",
    "          'FGF14','FGF19','FLI1','KDM5A','LRP1B','MAP2K4','MAP3K1','MED12','MET','MLH1（MMR相关蛋白表达）','MSH2（MMR相关蛋白表达）',\n",
    "          'MSH6（MMR相关蛋白表达）','MTOR','NF2','PMS2（MMR相关蛋白表达）','PRKD1','RARA','RET','SF3B1','SMAD4','STK11-exon4','STK24',\n",
    "          'TGFBR1','TOP2A','TP53','VEGFA']"
   ]
  },
  {
   "cell_type": "code",
   "execution_count": 12,
   "metadata": {},
   "outputs": [],
   "source": [
    "gene_mutation_index\n",
    "df_raw_data.insert(gene_mutation_index,'基因突变',np.nan)"
   ]
  },
  {
   "cell_type": "code",
   "execution_count": 13,
   "metadata": {},
   "outputs": [],
   "source": [
    "for i in range(df_raw_data.shape[0]):\n",
    "    if df_raw_data.loc[i,gene_mutation_col].isnull().sum() < len(gene_mutation_col):\n",
    "        df_raw_data.loc[i,'基因突变']=1\n",
    "    else:\n",
    "        df_raw_data.loc[i,'基因突变']=0"
   ]
  },
  {
   "cell_type": "code",
   "execution_count": 14,
   "metadata": {},
   "outputs": [],
   "source": [
    "# 删除基因突变列\n",
    "df_raw_data=df_raw_data.drop(gene_mutation_col,axis=1)"
   ]
  },
  {
   "cell_type": "code",
   "execution_count": 15,
   "metadata": {},
   "outputs": [
    {
     "name": "stdout",
     "output_type": "stream",
     "text": [
      "(483, 150)\n"
     ]
    }
   ],
   "source": [
    "print(df_raw_data.shape)"
   ]
  },
  {
   "cell_type": "code",
   "execution_count": 16,
   "metadata": {},
   "outputs": [],
   "source": [
    "df_raw_data.to_excel(project_path+'/data/processed_data/df_1.3.2_合并基因突变数据.xlsx')"
   ]
  },
  {
   "cell_type": "markdown",
   "metadata": {},
   "source": [
    "### 删除缺失超过90%变量"
   ]
  },
  {
   "cell_type": "code",
   "execution_count": 17,
   "metadata": {
    "scrolled": true
   },
   "outputs": [
    {
     "name": "stdout",
     "output_type": "stream",
     "text": [
      "CHD4\n",
      "CYP2A6\n",
      "ERCC3\n",
      "FAM135B\n",
      "HLA-DRB1\n",
      "KEAP1\n",
      "MYC\n",
      "PTCH1\n",
      "PTEN\n",
      "PTK2\n",
      "RB1\n",
      "SLC2A2\n",
      "SMARCA4-exon10\n",
      "SULT1A1\n",
      "UGT1A7\n",
      "α1-AT\n",
      "AKR1\n",
      "AMACR\n",
      "Anti-CRP\n",
      "AQP-1\n",
      "Arginase\n",
      "B-catenin\n",
      "CA19-9\n",
      "Calretinin\n",
      "CD3\n",
      "CD10\n",
      "CD20\n",
      "CD31\n",
      "CD34\n",
      "CD68\n",
      "CK\n",
      "CK18\n",
      "D2-40\n",
      "Desmin\n",
      "Epcam\n",
      "FGF2\n",
      "gal-4\n",
      "GLy-3\n",
      "GPC3\n",
      "GS\n",
      "HBME-1\n",
      "HBsAg\n",
      "Hep-1(-)\n",
      "HER1\n",
      "HER2\n",
      "HMB45\n",
      "HNF4a\n",
      "HSP70\n",
      "Ki67\n",
      "Lysozyme\n",
      "MC\n",
      "MRP3\n",
      "MUC-2\n",
      "NSE\n",
      "OPN\n",
      "P40\n",
      "P53\n",
      "P62\n",
      "P63\n",
      "PCNA\n",
      "PGM-1\n",
      "PS6\n",
      "S-100\n",
      "SDHB\n",
      "SMA\n",
      "SUOX\n",
      "TFF3\n",
      "Villin\n",
      "WT-1\n"
     ]
    }
   ],
   "source": [
    "# 保护变量\n",
    "protect_col=['emaciation_day','微卫星不稳','TMB','PD-1','PD-L1(DAKO,22C3)','PD-L1(罗氏，SP263)','死亡时间','生存时间(天)']\n",
    "col=[i for i in df_raw_data.columns if i not in protect_col]\n",
    "for i in col:\n",
    "    if df_raw_data[i].isnull().sum()/df_raw_data.shape[0] > 0.9:\n",
    "        print(i)\n",
    "        del df_raw_data[i]"
   ]
  },
  {
   "cell_type": "code",
   "execution_count": 18,
   "metadata": {},
   "outputs": [
    {
     "name": "stdout",
     "output_type": "stream",
     "text": [
      "(483, 81)\n"
     ]
    }
   ],
   "source": [
    "print(df_raw_data.shape)"
   ]
  },
  {
   "cell_type": "code",
   "execution_count": 19,
   "metadata": {},
   "outputs": [],
   "source": [
    "df_raw_data.to_excel(project_path+'/data/processed_data/df_1.3.3_预处理原始数据.xlsx')"
   ]
  },
  {
   "cell_type": "markdown",
   "metadata": {},
   "source": [
    "### 取样方法"
   ]
  },
  {
   "cell_type": "code",
   "execution_count": 20,
   "metadata": {},
   "outputs": [],
   "source": [
    "# 手术标本标记为1，未手术标记为0\n",
    "df_raw_data.rename(columns={'取样方法':'sampling'},inplace=True)\n",
    "df_raw_data['sampling']=df_raw_data['sampling'].apply(lambda x: np.nan if pd.isnull(x) else\n",
    "                                                              0 if re.match('.*?[无未].*?',str(x)) else\n",
    "                                                              1 if re.match('.*?手术.*?',str(x)) else x) "
   ]
  },
  {
   "cell_type": "code",
   "execution_count": 21,
   "metadata": {},
   "outputs": [
    {
     "data": {
      "text/plain": [
       "1.0    446\n",
       "0.0     29\n",
       "Name: sampling, dtype: int64"
      ]
     },
     "execution_count": 21,
     "metadata": {},
     "output_type": "execute_result"
    }
   ],
   "source": [
    "df_raw_data['sampling'].value_counts()"
   ]
  },
  {
   "cell_type": "markdown",
   "metadata": {},
   "source": [
    "## 计算生存时间"
   ]
  },
  {
   "cell_type": "code",
   "execution_count": 22,
   "metadata": {},
   "outputs": [],
   "source": [
    "aaa=df_raw_data[df_raw_data['生存时间(天)'].notnull()]\n",
    "bbb=df_raw_data[df_raw_data['生存时间(天)'].isnull()]"
   ]
  },
  {
   "cell_type": "markdown",
   "metadata": {},
   "source": [
    "### aaa生存时间处理"
   ]
  },
  {
   "cell_type": "code",
   "execution_count": 23,
   "metadata": {},
   "outputs": [
    {
     "data": {
      "text/plain": [
       "(83, 81)"
      ]
     },
     "execution_count": 23,
     "metadata": {},
     "output_type": "execute_result"
    }
   ],
   "source": [
    "aaa.shape"
   ]
  },
  {
   "cell_type": "code",
   "execution_count": 24,
   "metadata": {},
   "outputs": [
    {
     "data": {
      "text/html": [
       "<div>\n",
       "<style scoped>\n",
       "    .dataframe tbody tr th:only-of-type {\n",
       "        vertical-align: middle;\n",
       "    }\n",
       "\n",
       "    .dataframe tbody tr th {\n",
       "        vertical-align: top;\n",
       "    }\n",
       "\n",
       "    .dataframe thead th {\n",
       "        text-align: right;\n",
       "    }\n",
       "</style>\n",
       "<table border=\"1\" class=\"dataframe\">\n",
       "  <thead>\n",
       "    <tr style=\"text-align: right;\">\n",
       "      <th></th>\n",
       "      <th>id</th>\n",
       "      <th>sampling</th>\n",
       "      <th>性别</th>\n",
       "      <th>年龄（岁）</th>\n",
       "      <th>身高（cm）</th>\n",
       "      <th>体重（kg）</th>\n",
       "      <th>体重指数</th>\n",
       "      <th>发病时有无黄疸（1=有，0=无）</th>\n",
       "      <th>有无消瘦（有=1，无=0）</th>\n",
       "      <th>emaciation_day</th>\n",
       "      <th>...</th>\n",
       "      <th>MUC-1</th>\n",
       "      <th>MOC-31</th>\n",
       "      <th>PD-1</th>\n",
       "      <th>PD-L1(DAKO,22C3)</th>\n",
       "      <th>围手术期并发症【Clavien-Dindo分级系统】（I级、II级、IIIa级、IIIb级、IVa级、IVb级、V级）</th>\n",
       "      <th>围手术期死亡【术后90天内】（0=无；1=死亡）</th>\n",
       "      <th>后续治疗及随访</th>\n",
       "      <th>目前是否生存（1=存活；2=死亡）</th>\n",
       "      <th>死亡时间</th>\n",
       "      <th>生存时间(天)</th>\n",
       "    </tr>\n",
       "  </thead>\n",
       "  <tbody>\n",
       "    <tr>\n",
       "      <th>4</th>\n",
       "      <td>5</td>\n",
       "      <td>1.0</td>\n",
       "      <td>女</td>\n",
       "      <td>59.0</td>\n",
       "      <td>NaN</td>\n",
       "      <td>NaN</td>\n",
       "      <td>NaN</td>\n",
       "      <td>1</td>\n",
       "      <td>0</td>\n",
       "      <td>NaN</td>\n",
       "      <td>...</td>\n",
       "      <td>0.0</td>\n",
       "      <td>NaN</td>\n",
       "      <td>NaN</td>\n",
       "      <td>NaN</td>\n",
       "      <td>V级，术后多次大量输血，术后行胸腔、腹腔穿刺引流，后治疗效果差，多器官功能衰竭，自动出院</td>\n",
       "      <td>1，自动出院</td>\n",
       "      <td>NaN</td>\n",
       "      <td>2，术后20余天</td>\n",
       "      <td>NaN</td>\n",
       "      <td>20天</td>\n",
       "    </tr>\n",
       "    <tr>\n",
       "      <th>25</th>\n",
       "      <td>26</td>\n",
       "      <td>1.0</td>\n",
       "      <td>女</td>\n",
       "      <td>64.0</td>\n",
       "      <td>NaN</td>\n",
       "      <td>NaN</td>\n",
       "      <td>NaN</td>\n",
       "      <td>1</td>\n",
       "      <td>体重下降约5kg</td>\n",
       "      <td>NaN</td>\n",
       "      <td>...</td>\n",
       "      <td>NaN</td>\n",
       "      <td>NaN</td>\n",
       "      <td>NaN</td>\n",
       "      <td>NaN</td>\n",
       "      <td>V，感染性休克，出现多器官功能衰竭，自动出院</td>\n",
       "      <td>1，自动出院</td>\n",
       "      <td>NaN</td>\n",
       "      <td>2，术后20天</td>\n",
       "      <td>NaN</td>\n",
       "      <td>20天</td>\n",
       "    </tr>\n",
       "    <tr>\n",
       "      <th>52</th>\n",
       "      <td>53</td>\n",
       "      <td>1.0</td>\n",
       "      <td>女</td>\n",
       "      <td>68.0</td>\n",
       "      <td>NaN</td>\n",
       "      <td>NaN</td>\n",
       "      <td>NaN</td>\n",
       "      <td>1</td>\n",
       "      <td>1月来减轻5公斤</td>\n",
       "      <td>30.0</td>\n",
       "      <td>...</td>\n",
       "      <td>1.0</td>\n",
       "      <td>NaN</td>\n",
       "      <td>0.0</td>\n",
       "      <td>0</td>\n",
       "      <td>V，死于肝功能衰竭</td>\n",
       "      <td>1</td>\n",
       "      <td>NaN</td>\n",
       "      <td>2，术后20天左右</td>\n",
       "      <td>NaN</td>\n",
       "      <td>20天</td>\n",
       "    </tr>\n",
       "    <tr>\n",
       "      <th>53</th>\n",
       "      <td>54</td>\n",
       "      <td>1.0</td>\n",
       "      <td>男</td>\n",
       "      <td>74.0</td>\n",
       "      <td>NaN</td>\n",
       "      <td>NaN</td>\n",
       "      <td>NaN</td>\n",
       "      <td>1</td>\n",
       "      <td>体重下降10kg</td>\n",
       "      <td>NaN</td>\n",
       "      <td>...</td>\n",
       "      <td>1.0</td>\n",
       "      <td>NaN</td>\n",
       "      <td>0.0</td>\n",
       "      <td>0</td>\n",
       "      <td>V，术后8天胆瘘，肾衰予以透析引流，14天死亡</td>\n",
       "      <td>1</td>\n",
       "      <td>NaN</td>\n",
       "      <td>2，术后14天</td>\n",
       "      <td>NaN</td>\n",
       "      <td>14天</td>\n",
       "    </tr>\n",
       "    <tr>\n",
       "      <th>55</th>\n",
       "      <td>56</td>\n",
       "      <td>1.0</td>\n",
       "      <td>女</td>\n",
       "      <td>55.0</td>\n",
       "      <td>NaN</td>\n",
       "      <td>NaN</td>\n",
       "      <td>NaN</td>\n",
       "      <td>0</td>\n",
       "      <td>0</td>\n",
       "      <td>NaN</td>\n",
       "      <td>...</td>\n",
       "      <td>1.0</td>\n",
       "      <td>NaN</td>\n",
       "      <td>NaN</td>\n",
       "      <td>NaN</td>\n",
       "      <td>Ⅴ级，腹腔出血，DSA效果欠佳，自动出院</td>\n",
       "      <td>1，自动出院</td>\n",
       "      <td>NaN</td>\n",
       "      <td>2，术后20天左右</td>\n",
       "      <td>NaN</td>\n",
       "      <td>20天</td>\n",
       "    </tr>\n",
       "  </tbody>\n",
       "</table>\n",
       "<p>5 rows × 81 columns</p>\n",
       "</div>"
      ],
      "text/plain": [
       "    id  sampling 性别  年龄（岁）  身高（cm）  体重（kg）  体重指数 发病时有无黄疸（1=有，0=无）  \\\n",
       "4    5       1.0  女   59.0     NaN     NaN   NaN                1   \n",
       "25  26       1.0  女   64.0     NaN     NaN   NaN                1   \n",
       "52  53       1.0  女   68.0     NaN     NaN   NaN                1   \n",
       "53  54       1.0  男   74.0     NaN     NaN   NaN                1   \n",
       "55  56       1.0  女   55.0     NaN     NaN   NaN                0   \n",
       "\n",
       "   有无消瘦（有=1，无=0）  emaciation_day  ...  MUC-1 MOC-31 PD-1 PD-L1(DAKO,22C3)  \\\n",
       "4              0             NaN  ...    0.0    NaN  NaN              NaN   \n",
       "25      体重下降约5kg             NaN  ...    NaN    NaN  NaN              NaN   \n",
       "52      1月来减轻5公斤            30.0  ...    1.0    NaN  0.0                0   \n",
       "53      体重下降10kg             NaN  ...    1.0    NaN  0.0                0   \n",
       "55             0             NaN  ...    1.0    NaN  NaN              NaN   \n",
       "\n",
       "   围手术期并发症【Clavien-Dindo分级系统】（I级、II级、IIIa级、IIIb级、IVa级、IVb级、V级）  \\\n",
       "4        V级，术后多次大量输血，术后行胸腔、腹腔穿刺引流，后治疗效果差，多器官功能衰竭，自动出院            \n",
       "25                             V，感染性休克，出现多器官功能衰竭，自动出院            \n",
       "52                                          V，死于肝功能衰竭            \n",
       "53                            V，术后8天胆瘘，肾衰予以透析引流，14天死亡            \n",
       "55                               Ⅴ级，腹腔出血，DSA效果欠佳，自动出院            \n",
       "\n",
       "    围手术期死亡【术后90天内】（0=无；1=死亡） 后续治疗及随访 目前是否生存（1=存活；2=死亡） 死亡时间 生存时间(天)  \n",
       "4                     1，自动出院     NaN          2，术后20余天  NaN     20天  \n",
       "25                    1，自动出院     NaN           2，术后20天  NaN     20天  \n",
       "52                         1     NaN         2，术后20天左右  NaN     20天  \n",
       "53                         1     NaN           2，术后14天  NaN     14天  \n",
       "55                    1，自动出院     NaN         2，术后20天左右  NaN     20天  \n",
       "\n",
       "[5 rows x 81 columns]"
      ]
     },
     "execution_count": 24,
     "metadata": {},
     "output_type": "execute_result"
    }
   ],
   "source": [
    "aaa.head()"
   ]
  },
  {
   "cell_type": "code",
   "execution_count": 25,
   "metadata": {},
   "outputs": [
    {
     "name": "stderr",
     "output_type": "stream",
     "text": [
      "D:\\Anaconda3\\lib\\site-packages\\ipykernel_launcher.py:2: SettingWithCopyWarning: \n",
      "A value is trying to be set on a copy of a slice from a DataFrame.\n",
      "Try using .loc[row_indexer,col_indexer] = value instead\n",
      "\n",
      "See the caveats in the documentation: https://pandas.pydata.org/pandas-docs/stable/user_guide/indexing.html#returning-a-view-versus-a-copy\n",
      "  \n"
     ]
    }
   ],
   "source": [
    "# 月转换为天\n",
    "aaa['生存时间(天)']=aaa['生存时间(天)'].apply(lambda x: int(x.replace('月',''))*30 if re.match('\\d*月',x) else int(x.replace('天','')))"
   ]
  },
  {
   "cell_type": "code",
   "execution_count": 26,
   "metadata": {
    "scrolled": true
   },
   "outputs": [
    {
     "data": {
      "text/html": [
       "<div>\n",
       "<style scoped>\n",
       "    .dataframe tbody tr th:only-of-type {\n",
       "        vertical-align: middle;\n",
       "    }\n",
       "\n",
       "    .dataframe tbody tr th {\n",
       "        vertical-align: top;\n",
       "    }\n",
       "\n",
       "    .dataframe thead th {\n",
       "        text-align: right;\n",
       "    }\n",
       "</style>\n",
       "<table border=\"1\" class=\"dataframe\">\n",
       "  <thead>\n",
       "    <tr style=\"text-align: right;\">\n",
       "      <th></th>\n",
       "      <th>id</th>\n",
       "      <th>sampling</th>\n",
       "      <th>性别</th>\n",
       "      <th>年龄（岁）</th>\n",
       "      <th>身高（cm）</th>\n",
       "      <th>体重（kg）</th>\n",
       "      <th>体重指数</th>\n",
       "      <th>发病时有无黄疸（1=有，0=无）</th>\n",
       "      <th>有无消瘦（有=1，无=0）</th>\n",
       "      <th>emaciation_day</th>\n",
       "      <th>...</th>\n",
       "      <th>MUC-1</th>\n",
       "      <th>MOC-31</th>\n",
       "      <th>PD-1</th>\n",
       "      <th>PD-L1(DAKO,22C3)</th>\n",
       "      <th>围手术期并发症【Clavien-Dindo分级系统】（I级、II级、IIIa级、IIIb级、IVa级、IVb级、V级）</th>\n",
       "      <th>围手术期死亡【术后90天内】（0=无；1=死亡）</th>\n",
       "      <th>后续治疗及随访</th>\n",
       "      <th>目前是否生存（1=存活；2=死亡）</th>\n",
       "      <th>死亡时间</th>\n",
       "      <th>生存时间(天)</th>\n",
       "    </tr>\n",
       "  </thead>\n",
       "  <tbody>\n",
       "    <tr>\n",
       "      <th>4</th>\n",
       "      <td>5</td>\n",
       "      <td>1.0</td>\n",
       "      <td>女</td>\n",
       "      <td>59.0</td>\n",
       "      <td>NaN</td>\n",
       "      <td>NaN</td>\n",
       "      <td>NaN</td>\n",
       "      <td>1</td>\n",
       "      <td>0</td>\n",
       "      <td>NaN</td>\n",
       "      <td>...</td>\n",
       "      <td>0.0</td>\n",
       "      <td>NaN</td>\n",
       "      <td>NaN</td>\n",
       "      <td>NaN</td>\n",
       "      <td>V级，术后多次大量输血，术后行胸腔、腹腔穿刺引流，后治疗效果差，多器官功能衰竭，自动出院</td>\n",
       "      <td>1，自动出院</td>\n",
       "      <td>NaN</td>\n",
       "      <td>2，术后20余天</td>\n",
       "      <td>NaN</td>\n",
       "      <td>20</td>\n",
       "    </tr>\n",
       "    <tr>\n",
       "      <th>25</th>\n",
       "      <td>26</td>\n",
       "      <td>1.0</td>\n",
       "      <td>女</td>\n",
       "      <td>64.0</td>\n",
       "      <td>NaN</td>\n",
       "      <td>NaN</td>\n",
       "      <td>NaN</td>\n",
       "      <td>1</td>\n",
       "      <td>体重下降约5kg</td>\n",
       "      <td>NaN</td>\n",
       "      <td>...</td>\n",
       "      <td>NaN</td>\n",
       "      <td>NaN</td>\n",
       "      <td>NaN</td>\n",
       "      <td>NaN</td>\n",
       "      <td>V，感染性休克，出现多器官功能衰竭，自动出院</td>\n",
       "      <td>1，自动出院</td>\n",
       "      <td>NaN</td>\n",
       "      <td>2，术后20天</td>\n",
       "      <td>NaN</td>\n",
       "      <td>20</td>\n",
       "    </tr>\n",
       "    <tr>\n",
       "      <th>52</th>\n",
       "      <td>53</td>\n",
       "      <td>1.0</td>\n",
       "      <td>女</td>\n",
       "      <td>68.0</td>\n",
       "      <td>NaN</td>\n",
       "      <td>NaN</td>\n",
       "      <td>NaN</td>\n",
       "      <td>1</td>\n",
       "      <td>1月来减轻5公斤</td>\n",
       "      <td>30.0</td>\n",
       "      <td>...</td>\n",
       "      <td>1.0</td>\n",
       "      <td>NaN</td>\n",
       "      <td>0.0</td>\n",
       "      <td>0</td>\n",
       "      <td>V，死于肝功能衰竭</td>\n",
       "      <td>1</td>\n",
       "      <td>NaN</td>\n",
       "      <td>2，术后20天左右</td>\n",
       "      <td>NaN</td>\n",
       "      <td>20</td>\n",
       "    </tr>\n",
       "    <tr>\n",
       "      <th>53</th>\n",
       "      <td>54</td>\n",
       "      <td>1.0</td>\n",
       "      <td>男</td>\n",
       "      <td>74.0</td>\n",
       "      <td>NaN</td>\n",
       "      <td>NaN</td>\n",
       "      <td>NaN</td>\n",
       "      <td>1</td>\n",
       "      <td>体重下降10kg</td>\n",
       "      <td>NaN</td>\n",
       "      <td>...</td>\n",
       "      <td>1.0</td>\n",
       "      <td>NaN</td>\n",
       "      <td>0.0</td>\n",
       "      <td>0</td>\n",
       "      <td>V，术后8天胆瘘，肾衰予以透析引流，14天死亡</td>\n",
       "      <td>1</td>\n",
       "      <td>NaN</td>\n",
       "      <td>2，术后14天</td>\n",
       "      <td>NaN</td>\n",
       "      <td>14</td>\n",
       "    </tr>\n",
       "    <tr>\n",
       "      <th>55</th>\n",
       "      <td>56</td>\n",
       "      <td>1.0</td>\n",
       "      <td>女</td>\n",
       "      <td>55.0</td>\n",
       "      <td>NaN</td>\n",
       "      <td>NaN</td>\n",
       "      <td>NaN</td>\n",
       "      <td>0</td>\n",
       "      <td>0</td>\n",
       "      <td>NaN</td>\n",
       "      <td>...</td>\n",
       "      <td>1.0</td>\n",
       "      <td>NaN</td>\n",
       "      <td>NaN</td>\n",
       "      <td>NaN</td>\n",
       "      <td>Ⅴ级，腹腔出血，DSA效果欠佳，自动出院</td>\n",
       "      <td>1，自动出院</td>\n",
       "      <td>NaN</td>\n",
       "      <td>2，术后20天左右</td>\n",
       "      <td>NaN</td>\n",
       "      <td>20</td>\n",
       "    </tr>\n",
       "    <tr>\n",
       "      <th>...</th>\n",
       "      <td>...</td>\n",
       "      <td>...</td>\n",
       "      <td>...</td>\n",
       "      <td>...</td>\n",
       "      <td>...</td>\n",
       "      <td>...</td>\n",
       "      <td>...</td>\n",
       "      <td>...</td>\n",
       "      <td>...</td>\n",
       "      <td>...</td>\n",
       "      <td>...</td>\n",
       "      <td>...</td>\n",
       "      <td>...</td>\n",
       "      <td>...</td>\n",
       "      <td>...</td>\n",
       "      <td>...</td>\n",
       "      <td>...</td>\n",
       "      <td>...</td>\n",
       "      <td>...</td>\n",
       "      <td>...</td>\n",
       "      <td>...</td>\n",
       "    </tr>\n",
       "    <tr>\n",
       "      <th>434</th>\n",
       "      <td>435</td>\n",
       "      <td>1.0</td>\n",
       "      <td>女</td>\n",
       "      <td>46.0</td>\n",
       "      <td>168.0</td>\n",
       "      <td>67.5</td>\n",
       "      <td>23.92</td>\n",
       "      <td>1</td>\n",
       "      <td>NaN</td>\n",
       "      <td>NaN</td>\n",
       "      <td>...</td>\n",
       "      <td>NaN</td>\n",
       "      <td>NaN</td>\n",
       "      <td>NaN</td>\n",
       "      <td>NaN</td>\n",
       "      <td>ⅢB，术后腹腔出血，再手术止血</td>\n",
       "      <td>0</td>\n",
       "      <td>NaN</td>\n",
       "      <td>2，术后69个月</td>\n",
       "      <td>NaN</td>\n",
       "      <td>2070</td>\n",
       "    </tr>\n",
       "    <tr>\n",
       "      <th>435</th>\n",
       "      <td>436</td>\n",
       "      <td>1.0</td>\n",
       "      <td>男</td>\n",
       "      <td>62.0</td>\n",
       "      <td>162.0</td>\n",
       "      <td>72.0</td>\n",
       "      <td>27.43</td>\n",
       "      <td>0</td>\n",
       "      <td>NaN</td>\n",
       "      <td>NaN</td>\n",
       "      <td>...</td>\n",
       "      <td>NaN</td>\n",
       "      <td>NaN</td>\n",
       "      <td>NaN</td>\n",
       "      <td>NaN</td>\n",
       "      <td>NaN</td>\n",
       "      <td>0</td>\n",
       "      <td>NaN</td>\n",
       "      <td>2，术后37个月</td>\n",
       "      <td>NaN</td>\n",
       "      <td>1110</td>\n",
       "    </tr>\n",
       "    <tr>\n",
       "      <th>438</th>\n",
       "      <td>439</td>\n",
       "      <td>1.0</td>\n",
       "      <td>女</td>\n",
       "      <td>68.0</td>\n",
       "      <td>150.0</td>\n",
       "      <td>48.0</td>\n",
       "      <td>21.33</td>\n",
       "      <td>1</td>\n",
       "      <td>1，1月内减轻5公斤</td>\n",
       "      <td>30.0</td>\n",
       "      <td>...</td>\n",
       "      <td>NaN</td>\n",
       "      <td>NaN</td>\n",
       "      <td>NaN</td>\n",
       "      <td>NaN</td>\n",
       "      <td>NaN</td>\n",
       "      <td>NaN</td>\n",
       "      <td>NaN</td>\n",
       "      <td>2，术后3年去世</td>\n",
       "      <td>NaN</td>\n",
       "      <td>1080</td>\n",
       "    </tr>\n",
       "    <tr>\n",
       "      <th>479</th>\n",
       "      <td>480</td>\n",
       "      <td>1.0</td>\n",
       "      <td>女</td>\n",
       "      <td>55.0</td>\n",
       "      <td>NaN</td>\n",
       "      <td>NaN</td>\n",
       "      <td>NaN</td>\n",
       "      <td>0</td>\n",
       "      <td>0</td>\n",
       "      <td>NaN</td>\n",
       "      <td>...</td>\n",
       "      <td>NaN</td>\n",
       "      <td>NaN</td>\n",
       "      <td>NaN</td>\n",
       "      <td>NaN</td>\n",
       "      <td>无</td>\n",
       "      <td>0</td>\n",
       "      <td>NaN</td>\n",
       "      <td>2，生存3月</td>\n",
       "      <td>NaN</td>\n",
       "      <td>90</td>\n",
       "    </tr>\n",
       "    <tr>\n",
       "      <th>482</th>\n",
       "      <td>483</td>\n",
       "      <td>1.0</td>\n",
       "      <td>NaN</td>\n",
       "      <td>64.0</td>\n",
       "      <td>NaN</td>\n",
       "      <td>NaN</td>\n",
       "      <td>NaN</td>\n",
       "      <td>1</td>\n",
       "      <td>1，体重减轻5公斤</td>\n",
       "      <td>NaN</td>\n",
       "      <td>...</td>\n",
       "      <td>NaN</td>\n",
       "      <td>NaN</td>\n",
       "      <td>NaN</td>\n",
       "      <td>NaN</td>\n",
       "      <td>NaN</td>\n",
       "      <td>NaN</td>\n",
       "      <td>NaN</td>\n",
       "      <td>2，术后9月</td>\n",
       "      <td>NaN</td>\n",
       "      <td>270</td>\n",
       "    </tr>\n",
       "  </tbody>\n",
       "</table>\n",
       "<p>83 rows × 81 columns</p>\n",
       "</div>"
      ],
      "text/plain": [
       "      id  sampling   性别  年龄（岁）  身高（cm）  体重（kg）   体重指数 发病时有无黄疸（1=有，0=无）  \\\n",
       "4      5       1.0    女   59.0     NaN     NaN    NaN                1   \n",
       "25    26       1.0    女   64.0     NaN     NaN    NaN                1   \n",
       "52    53       1.0    女   68.0     NaN     NaN    NaN                1   \n",
       "53    54       1.0    男   74.0     NaN     NaN    NaN                1   \n",
       "55    56       1.0    女   55.0     NaN     NaN    NaN                0   \n",
       "..   ...       ...  ...    ...     ...     ...    ...              ...   \n",
       "434  435       1.0    女   46.0   168.0    67.5  23.92                1   \n",
       "435  436       1.0    男   62.0   162.0    72.0  27.43                0   \n",
       "438  439       1.0    女   68.0   150.0    48.0  21.33                1   \n",
       "479  480       1.0    女   55.0     NaN     NaN    NaN                0   \n",
       "482  483       1.0  NaN   64.0     NaN     NaN    NaN                1   \n",
       "\n",
       "    有无消瘦（有=1，无=0）  emaciation_day  ...  MUC-1 MOC-31 PD-1 PD-L1(DAKO,22C3)  \\\n",
       "4               0             NaN  ...    0.0    NaN  NaN              NaN   \n",
       "25       体重下降约5kg             NaN  ...    NaN    NaN  NaN              NaN   \n",
       "52       1月来减轻5公斤            30.0  ...    1.0    NaN  0.0                0   \n",
       "53       体重下降10kg             NaN  ...    1.0    NaN  0.0                0   \n",
       "55              0             NaN  ...    1.0    NaN  NaN              NaN   \n",
       "..            ...             ...  ...    ...    ...  ...              ...   \n",
       "434           NaN             NaN  ...    NaN    NaN  NaN              NaN   \n",
       "435           NaN             NaN  ...    NaN    NaN  NaN              NaN   \n",
       "438    1，1月内减轻5公斤            30.0  ...    NaN    NaN  NaN              NaN   \n",
       "479             0             NaN  ...    NaN    NaN  NaN              NaN   \n",
       "482     1，体重减轻5公斤             NaN  ...    NaN    NaN  NaN              NaN   \n",
       "\n",
       "    围手术期并发症【Clavien-Dindo分级系统】（I级、II级、IIIa级、IIIb级、IVa级、IVb级、V级）  \\\n",
       "4         V级，术后多次大量输血，术后行胸腔、腹腔穿刺引流，后治疗效果差，多器官功能衰竭，自动出院            \n",
       "25                              V，感染性休克，出现多器官功能衰竭，自动出院            \n",
       "52                                           V，死于肝功能衰竭            \n",
       "53                             V，术后8天胆瘘，肾衰予以透析引流，14天死亡            \n",
       "55                                Ⅴ级，腹腔出血，DSA效果欠佳，自动出院            \n",
       "..                                                 ...            \n",
       "434                                    ⅢB，术后腹腔出血，再手术止血            \n",
       "435                                                NaN            \n",
       "438                                                NaN            \n",
       "479                                                  无            \n",
       "482                                                NaN            \n",
       "\n",
       "     围手术期死亡【术后90天内】（0=无；1=死亡） 后续治疗及随访 目前是否生存（1=存活；2=死亡） 死亡时间 生存时间(天)  \n",
       "4                      1，自动出院     NaN          2，术后20余天  NaN      20  \n",
       "25                     1，自动出院     NaN           2，术后20天  NaN      20  \n",
       "52                          1     NaN         2，术后20天左右  NaN      20  \n",
       "53                          1     NaN           2，术后14天  NaN      14  \n",
       "55                     1，自动出院     NaN         2，术后20天左右  NaN      20  \n",
       "..                        ...     ...               ...  ...     ...  \n",
       "434                         0     NaN          2，术后69个月  NaN    2070  \n",
       "435                         0     NaN          2，术后37个月  NaN    1110  \n",
       "438                       NaN     NaN          2，术后3年去世  NaN    1080  \n",
       "479                         0     NaN            2，生存3月  NaN      90  \n",
       "482                       NaN     NaN            2，术后9月  NaN     270  \n",
       "\n",
       "[83 rows x 81 columns]"
      ]
     },
     "execution_count": 26,
     "metadata": {},
     "output_type": "execute_result"
    }
   ],
   "source": [
    "aaa"
   ]
  },
  {
   "cell_type": "code",
   "execution_count": 27,
   "metadata": {},
   "outputs": [],
   "source": [
    "aaa.to_excel(project_path+'/data/processed_data/aaa.xlsx')"
   ]
  },
  {
   "cell_type": "markdown",
   "metadata": {},
   "source": [
    "### bbb生存事件处理"
   ]
  },
  {
   "cell_type": "code",
   "execution_count": 28,
   "metadata": {},
   "outputs": [
    {
     "data": {
      "text/plain": [
       "(400, 81)"
      ]
     },
     "execution_count": 28,
     "metadata": {},
     "output_type": "execute_result"
    }
   ],
   "source": [
    "bbb.shape"
   ]
  },
  {
   "cell_type": "code",
   "execution_count": 29,
   "metadata": {
    "scrolled": true
   },
   "outputs": [
    {
     "data": {
      "text/html": [
       "<div>\n",
       "<style scoped>\n",
       "    .dataframe tbody tr th:only-of-type {\n",
       "        vertical-align: middle;\n",
       "    }\n",
       "\n",
       "    .dataframe tbody tr th {\n",
       "        vertical-align: top;\n",
       "    }\n",
       "\n",
       "    .dataframe thead th {\n",
       "        text-align: right;\n",
       "    }\n",
       "</style>\n",
       "<table border=\"1\" class=\"dataframe\">\n",
       "  <thead>\n",
       "    <tr style=\"text-align: right;\">\n",
       "      <th></th>\n",
       "      <th>id</th>\n",
       "      <th>sampling</th>\n",
       "      <th>性别</th>\n",
       "      <th>年龄（岁）</th>\n",
       "      <th>身高（cm）</th>\n",
       "      <th>体重（kg）</th>\n",
       "      <th>体重指数</th>\n",
       "      <th>发病时有无黄疸（1=有，0=无）</th>\n",
       "      <th>有无消瘦（有=1，无=0）</th>\n",
       "      <th>emaciation_day</th>\n",
       "      <th>...</th>\n",
       "      <th>MUC-1</th>\n",
       "      <th>MOC-31</th>\n",
       "      <th>PD-1</th>\n",
       "      <th>PD-L1(DAKO,22C3)</th>\n",
       "      <th>围手术期并发症【Clavien-Dindo分级系统】（I级、II级、IIIa级、IIIb级、IVa级、IVb级、V级）</th>\n",
       "      <th>围手术期死亡【术后90天内】（0=无；1=死亡）</th>\n",
       "      <th>后续治疗及随访</th>\n",
       "      <th>目前是否生存（1=存活；2=死亡）</th>\n",
       "      <th>死亡时间</th>\n",
       "      <th>生存时间(天)</th>\n",
       "    </tr>\n",
       "  </thead>\n",
       "  <tbody>\n",
       "    <tr>\n",
       "      <th>0</th>\n",
       "      <td>1</td>\n",
       "      <td>1.0</td>\n",
       "      <td>男</td>\n",
       "      <td>59.0</td>\n",
       "      <td>NaN</td>\n",
       "      <td>NaN</td>\n",
       "      <td>NaN</td>\n",
       "      <td>1</td>\n",
       "      <td>1，20天减轻3kg</td>\n",
       "      <td>20.0</td>\n",
       "      <td>...</td>\n",
       "      <td>1.0</td>\n",
       "      <td>NaN</td>\n",
       "      <td>0.0</td>\n",
       "      <td>0.05</td>\n",
       "      <td>Ⅱ，输血</td>\n",
       "      <td>0</td>\n",
       "      <td>术后服用替吉奥胶囊化疗，后来出现全身淋巴结肿大，活检提示炎症，后来又出现腹水，2019年初经...</td>\n",
       "      <td>1</td>\n",
       "      <td>NaN</td>\n",
       "      <td>NaN</td>\n",
       "    </tr>\n",
       "    <tr>\n",
       "      <th>1</th>\n",
       "      <td>2</td>\n",
       "      <td>1.0</td>\n",
       "      <td>男</td>\n",
       "      <td>64.0</td>\n",
       "      <td>NaN</td>\n",
       "      <td>NaN</td>\n",
       "      <td>NaN</td>\n",
       "      <td>1</td>\n",
       "      <td>1，1月减轻5公斤</td>\n",
       "      <td>30.0</td>\n",
       "      <td>...</td>\n",
       "      <td>1.0</td>\n",
       "      <td>NaN</td>\n",
       "      <td>0.0</td>\n",
       "      <td>0.02</td>\n",
       "      <td>Ⅰ</td>\n",
       "      <td>NaN</td>\n",
       "      <td>术后予以PD-1（O药）使用6次，2019年8月复查发现区域淋巴结复发，肝内复发可疑，予以行...</td>\n",
       "      <td>2，2020年3月</td>\n",
       "      <td>NaN</td>\n",
       "      <td>NaN</td>\n",
       "    </tr>\n",
       "    <tr>\n",
       "      <th>2</th>\n",
       "      <td>3</td>\n",
       "      <td>1.0</td>\n",
       "      <td>男</td>\n",
       "      <td>52.0</td>\n",
       "      <td>NaN</td>\n",
       "      <td>NaN</td>\n",
       "      <td>NaN</td>\n",
       "      <td>1</td>\n",
       "      <td>1，1月减轻10公斤</td>\n",
       "      <td>30.0</td>\n",
       "      <td>...</td>\n",
       "      <td>NaN</td>\n",
       "      <td>NaN</td>\n",
       "      <td>NaN</td>\n",
       "      <td>NaN</td>\n",
       "      <td>Ⅰ</td>\n",
       "      <td>0</td>\n",
       "      <td>2019-05-27至2019-6-6行射波刀放疗6次（针对中肝叶术区及肝门淋巴结），后行肝移植术</td>\n",
       "      <td>2，2019年12月</td>\n",
       "      <td>NaN</td>\n",
       "      <td>NaN</td>\n",
       "    </tr>\n",
       "    <tr>\n",
       "      <th>3</th>\n",
       "      <td>4</td>\n",
       "      <td>1.0</td>\n",
       "      <td>男</td>\n",
       "      <td>65.0</td>\n",
       "      <td>NaN</td>\n",
       "      <td>NaN</td>\n",
       "      <td>NaN</td>\n",
       "      <td>0</td>\n",
       "      <td>1，减轻约2公斤</td>\n",
       "      <td>NaN</td>\n",
       "      <td>...</td>\n",
       "      <td>NaN</td>\n",
       "      <td>NaN</td>\n",
       "      <td>NaN</td>\n",
       "      <td>NaN</td>\n",
       "      <td>Ⅲa，术后胆道感染，行PTCD穿刺引流</td>\n",
       "      <td>0</td>\n",
       "      <td>反复胆道感染，最终导致死亡</td>\n",
       "      <td>2，2019年2月</td>\n",
       "      <td>NaN</td>\n",
       "      <td>NaN</td>\n",
       "    </tr>\n",
       "    <tr>\n",
       "      <th>5</th>\n",
       "      <td>6</td>\n",
       "      <td>1.0</td>\n",
       "      <td>女</td>\n",
       "      <td>68.0</td>\n",
       "      <td>NaN</td>\n",
       "      <td>NaN</td>\n",
       "      <td>NaN</td>\n",
       "      <td>1</td>\n",
       "      <td>0</td>\n",
       "      <td>NaN</td>\n",
       "      <td>...</td>\n",
       "      <td>0.0</td>\n",
       "      <td>NaN</td>\n",
       "      <td>NaN</td>\n",
       "      <td>NaN</td>\n",
       "      <td>Ⅰ</td>\n",
       "      <td>0</td>\n",
       "      <td>NaN</td>\n",
       "      <td>2，2019年2月</td>\n",
       "      <td>NaN</td>\n",
       "      <td>NaN</td>\n",
       "    </tr>\n",
       "  </tbody>\n",
       "</table>\n",
       "<p>5 rows × 81 columns</p>\n",
       "</div>"
      ],
      "text/plain": [
       "   id  sampling 性别  年龄（岁）  身高（cm）  体重（kg）  体重指数 发病时有无黄疸（1=有，0=无）  \\\n",
       "0   1       1.0  男   59.0     NaN     NaN   NaN                1   \n",
       "1   2       1.0  男   64.0     NaN     NaN   NaN                1   \n",
       "2   3       1.0  男   52.0     NaN     NaN   NaN                1   \n",
       "3   4       1.0  男   65.0     NaN     NaN   NaN                0   \n",
       "5   6       1.0  女   68.0     NaN     NaN   NaN                1   \n",
       "\n",
       "  有无消瘦（有=1，无=0）  emaciation_day  ...  MUC-1 MOC-31 PD-1 PD-L1(DAKO,22C3)  \\\n",
       "0    1，20天减轻3kg            20.0  ...    1.0    NaN  0.0             0.05   \n",
       "1     1，1月减轻5公斤            30.0  ...    1.0    NaN  0.0             0.02   \n",
       "2    1，1月减轻10公斤            30.0  ...    NaN    NaN  NaN              NaN   \n",
       "3      1，减轻约2公斤             NaN  ...    NaN    NaN  NaN              NaN   \n",
       "5             0             NaN  ...    0.0    NaN  NaN              NaN   \n",
       "\n",
       "  围手术期并发症【Clavien-Dindo分级系统】（I级、II级、IIIa级、IIIb级、IVa级、IVb级、V级）  \\\n",
       "0                                               Ⅱ，输血            \n",
       "1                                                  Ⅰ            \n",
       "2                                                  Ⅰ            \n",
       "3                                Ⅲa，术后胆道感染，行PTCD穿刺引流            \n",
       "5                                                  Ⅰ            \n",
       "\n",
       "   围手术期死亡【术后90天内】（0=无；1=死亡）  \\\n",
       "0                         0   \n",
       "1                       NaN   \n",
       "2                         0   \n",
       "3                         0   \n",
       "5                         0   \n",
       "\n",
       "                                             后续治疗及随访 目前是否生存（1=存活；2=死亡） 死亡时间  \\\n",
       "0  术后服用替吉奥胶囊化疗，后来出现全身淋巴结肿大，活检提示炎症，后来又出现腹水，2019年初经...                 1  NaN   \n",
       "1  术后予以PD-1（O药）使用6次，2019年8月复查发现区域淋巴结复发，肝内复发可疑，予以行...         2，2020年3月  NaN   \n",
       "2  2019-05-27至2019-6-6行射波刀放疗6次（针对中肝叶术区及肝门淋巴结），后行肝移植术        2，2019年12月  NaN   \n",
       "3                                      反复胆道感染，最终导致死亡         2，2019年2月  NaN   \n",
       "5                                                NaN         2，2019年2月  NaN   \n",
       "\n",
       "  生存时间(天)  \n",
       "0     NaN  \n",
       "1     NaN  \n",
       "2     NaN  \n",
       "3     NaN  \n",
       "5     NaN  \n",
       "\n",
       "[5 rows x 81 columns]"
      ]
     },
     "execution_count": 29,
     "metadata": {},
     "output_type": "execute_result"
    }
   ],
   "source": [
    "bbb.head()"
   ]
  },
  {
   "cell_type": "code",
   "execution_count": 30,
   "metadata": {},
   "outputs": [],
   "source": [
    "# 提取死亡时间，并转换\n",
    "bbb=bbb.reset_index(drop=True)\n",
    "for i in range(bbb.shape[0]):\n",
    "#     print(i)\n",
    "    label=bbb.loc[i,'目前是否生存（1=存活；2=死亡）']\n",
    "    if re.match('2,|2，',str(label)):\n",
    "        label_split=re.split(',|，|年|月|日|号|-|/|\\.|（',str(label).replace(' ',''))\n",
    "        # 提取死亡时间\n",
    "        if label_split[-1]=='':\n",
    "            death_time='/'.join(label_split[1:-1])\n",
    "        else:\n",
    "            death_time='/'.join(label_split[1:])\n",
    "        death_time=pd.to_datetime(death_time)\n",
    "        bbb.loc[i,'死亡时间']=death_time\n",
    "        # 调整手术时间格式\n",
    "        surgery_date=bbb.loc[i,'手术日期']\n",
    "        if not isinstance(surgery_date,datetime.datetime):\n",
    "            surgery_date=pd.to_datetime(surgery_date)\n",
    "#         print(type(surgery_date))\n",
    "        try:\n",
    "            bbb.loc[i,'生存时间(天)']=(death_time-surgery_date).days\n",
    "        except:\n",
    "            bbb.loc[i,'生存时间(天)']=np.nan"
   ]
  },
  {
   "cell_type": "code",
   "execution_count": 31,
   "metadata": {
    "scrolled": true
   },
   "outputs": [
    {
     "data": {
      "text/html": [
       "<div>\n",
       "<style scoped>\n",
       "    .dataframe tbody tr th:only-of-type {\n",
       "        vertical-align: middle;\n",
       "    }\n",
       "\n",
       "    .dataframe tbody tr th {\n",
       "        vertical-align: top;\n",
       "    }\n",
       "\n",
       "    .dataframe thead th {\n",
       "        text-align: right;\n",
       "    }\n",
       "</style>\n",
       "<table border=\"1\" class=\"dataframe\">\n",
       "  <thead>\n",
       "    <tr style=\"text-align: right;\">\n",
       "      <th></th>\n",
       "      <th>id</th>\n",
       "      <th>sampling</th>\n",
       "      <th>性别</th>\n",
       "      <th>年龄（岁）</th>\n",
       "      <th>身高（cm）</th>\n",
       "      <th>体重（kg）</th>\n",
       "      <th>体重指数</th>\n",
       "      <th>发病时有无黄疸（1=有，0=无）</th>\n",
       "      <th>有无消瘦（有=1，无=0）</th>\n",
       "      <th>emaciation_day</th>\n",
       "      <th>...</th>\n",
       "      <th>MUC-1</th>\n",
       "      <th>MOC-31</th>\n",
       "      <th>PD-1</th>\n",
       "      <th>PD-L1(DAKO,22C3)</th>\n",
       "      <th>围手术期并发症【Clavien-Dindo分级系统】（I级、II级、IIIa级、IIIb级、IVa级、IVb级、V级）</th>\n",
       "      <th>围手术期死亡【术后90天内】（0=无；1=死亡）</th>\n",
       "      <th>后续治疗及随访</th>\n",
       "      <th>目前是否生存（1=存活；2=死亡）</th>\n",
       "      <th>死亡时间</th>\n",
       "      <th>生存时间(天)</th>\n",
       "    </tr>\n",
       "  </thead>\n",
       "  <tbody>\n",
       "    <tr>\n",
       "      <th>0</th>\n",
       "      <td>1</td>\n",
       "      <td>1.0</td>\n",
       "      <td>男</td>\n",
       "      <td>59.0</td>\n",
       "      <td>NaN</td>\n",
       "      <td>NaN</td>\n",
       "      <td>NaN</td>\n",
       "      <td>1</td>\n",
       "      <td>1，20天减轻3kg</td>\n",
       "      <td>20.0</td>\n",
       "      <td>...</td>\n",
       "      <td>1.0</td>\n",
       "      <td>NaN</td>\n",
       "      <td>0.0</td>\n",
       "      <td>0.05</td>\n",
       "      <td>Ⅱ，输血</td>\n",
       "      <td>0</td>\n",
       "      <td>术后服用替吉奥胶囊化疗，后来出现全身淋巴结肿大，活检提示炎症，后来又出现腹水，2019年初经...</td>\n",
       "      <td>1</td>\n",
       "      <td>NaN</td>\n",
       "      <td>NaN</td>\n",
       "    </tr>\n",
       "    <tr>\n",
       "      <th>1</th>\n",
       "      <td>2</td>\n",
       "      <td>1.0</td>\n",
       "      <td>男</td>\n",
       "      <td>64.0</td>\n",
       "      <td>NaN</td>\n",
       "      <td>NaN</td>\n",
       "      <td>NaN</td>\n",
       "      <td>1</td>\n",
       "      <td>1，1月减轻5公斤</td>\n",
       "      <td>30.0</td>\n",
       "      <td>...</td>\n",
       "      <td>1.0</td>\n",
       "      <td>NaN</td>\n",
       "      <td>0.0</td>\n",
       "      <td>0.02</td>\n",
       "      <td>Ⅰ</td>\n",
       "      <td>NaN</td>\n",
       "      <td>术后予以PD-1（O药）使用6次，2019年8月复查发现区域淋巴结复发，肝内复发可疑，予以行...</td>\n",
       "      <td>2，2020年3月</td>\n",
       "      <td>2020-03-01 00:00:00</td>\n",
       "      <td>536</td>\n",
       "    </tr>\n",
       "    <tr>\n",
       "      <th>2</th>\n",
       "      <td>3</td>\n",
       "      <td>1.0</td>\n",
       "      <td>男</td>\n",
       "      <td>52.0</td>\n",
       "      <td>NaN</td>\n",
       "      <td>NaN</td>\n",
       "      <td>NaN</td>\n",
       "      <td>1</td>\n",
       "      <td>1，1月减轻10公斤</td>\n",
       "      <td>30.0</td>\n",
       "      <td>...</td>\n",
       "      <td>NaN</td>\n",
       "      <td>NaN</td>\n",
       "      <td>NaN</td>\n",
       "      <td>NaN</td>\n",
       "      <td>Ⅰ</td>\n",
       "      <td>0</td>\n",
       "      <td>2019-05-27至2019-6-6行射波刀放疗6次（针对中肝叶术区及肝门淋巴结），后行肝移植术</td>\n",
       "      <td>2，2019年12月</td>\n",
       "      <td>2019-12-01 00:00:00</td>\n",
       "      <td>325</td>\n",
       "    </tr>\n",
       "    <tr>\n",
       "      <th>3</th>\n",
       "      <td>4</td>\n",
       "      <td>1.0</td>\n",
       "      <td>男</td>\n",
       "      <td>65.0</td>\n",
       "      <td>NaN</td>\n",
       "      <td>NaN</td>\n",
       "      <td>NaN</td>\n",
       "      <td>0</td>\n",
       "      <td>1，减轻约2公斤</td>\n",
       "      <td>NaN</td>\n",
       "      <td>...</td>\n",
       "      <td>NaN</td>\n",
       "      <td>NaN</td>\n",
       "      <td>NaN</td>\n",
       "      <td>NaN</td>\n",
       "      <td>Ⅲa，术后胆道感染，行PTCD穿刺引流</td>\n",
       "      <td>0</td>\n",
       "      <td>反复胆道感染，最终导致死亡</td>\n",
       "      <td>2，2019年2月</td>\n",
       "      <td>2019-02-01 00:00:00</td>\n",
       "      <td>44</td>\n",
       "    </tr>\n",
       "    <tr>\n",
       "      <th>4</th>\n",
       "      <td>6</td>\n",
       "      <td>1.0</td>\n",
       "      <td>女</td>\n",
       "      <td>68.0</td>\n",
       "      <td>NaN</td>\n",
       "      <td>NaN</td>\n",
       "      <td>NaN</td>\n",
       "      <td>1</td>\n",
       "      <td>0</td>\n",
       "      <td>NaN</td>\n",
       "      <td>...</td>\n",
       "      <td>0.0</td>\n",
       "      <td>NaN</td>\n",
       "      <td>NaN</td>\n",
       "      <td>NaN</td>\n",
       "      <td>Ⅰ</td>\n",
       "      <td>0</td>\n",
       "      <td>NaN</td>\n",
       "      <td>2，2019年2月</td>\n",
       "      <td>2019-02-01 00:00:00</td>\n",
       "      <td>37</td>\n",
       "    </tr>\n",
       "  </tbody>\n",
       "</table>\n",
       "<p>5 rows × 81 columns</p>\n",
       "</div>"
      ],
      "text/plain": [
       "   id  sampling 性别  年龄（岁）  身高（cm）  体重（kg）  体重指数 发病时有无黄疸（1=有，0=无）  \\\n",
       "0   1       1.0  男   59.0     NaN     NaN   NaN                1   \n",
       "1   2       1.0  男   64.0     NaN     NaN   NaN                1   \n",
       "2   3       1.0  男   52.0     NaN     NaN   NaN                1   \n",
       "3   4       1.0  男   65.0     NaN     NaN   NaN                0   \n",
       "4   6       1.0  女   68.0     NaN     NaN   NaN                1   \n",
       "\n",
       "  有无消瘦（有=1，无=0）  emaciation_day  ...  MUC-1 MOC-31 PD-1 PD-L1(DAKO,22C3)  \\\n",
       "0    1，20天减轻3kg            20.0  ...    1.0    NaN  0.0             0.05   \n",
       "1     1，1月减轻5公斤            30.0  ...    1.0    NaN  0.0             0.02   \n",
       "2    1，1月减轻10公斤            30.0  ...    NaN    NaN  NaN              NaN   \n",
       "3      1，减轻约2公斤             NaN  ...    NaN    NaN  NaN              NaN   \n",
       "4             0             NaN  ...    0.0    NaN  NaN              NaN   \n",
       "\n",
       "  围手术期并发症【Clavien-Dindo分级系统】（I级、II级、IIIa级、IIIb级、IVa级、IVb级、V级）  \\\n",
       "0                                               Ⅱ，输血            \n",
       "1                                                  Ⅰ            \n",
       "2                                                  Ⅰ            \n",
       "3                                Ⅲa，术后胆道感染，行PTCD穿刺引流            \n",
       "4                                                  Ⅰ            \n",
       "\n",
       "   围手术期死亡【术后90天内】（0=无；1=死亡）  \\\n",
       "0                         0   \n",
       "1                       NaN   \n",
       "2                         0   \n",
       "3                         0   \n",
       "4                         0   \n",
       "\n",
       "                                             后续治疗及随访 目前是否生存（1=存活；2=死亡）  \\\n",
       "0  术后服用替吉奥胶囊化疗，后来出现全身淋巴结肿大，活检提示炎症，后来又出现腹水，2019年初经...                 1   \n",
       "1  术后予以PD-1（O药）使用6次，2019年8月复查发现区域淋巴结复发，肝内复发可疑，予以行...         2，2020年3月   \n",
       "2  2019-05-27至2019-6-6行射波刀放疗6次（针对中肝叶术区及肝门淋巴结），后行肝移植术        2，2019年12月   \n",
       "3                                      反复胆道感染，最终导致死亡         2，2019年2月   \n",
       "4                                                NaN         2，2019年2月   \n",
       "\n",
       "                  死亡时间 生存时间(天)  \n",
       "0                  NaN     NaN  \n",
       "1  2020-03-01 00:00:00     536  \n",
       "2  2019-12-01 00:00:00     325  \n",
       "3  2019-02-01 00:00:00      44  \n",
       "4  2019-02-01 00:00:00      37  \n",
       "\n",
       "[5 rows x 81 columns]"
      ]
     },
     "execution_count": 31,
     "metadata": {},
     "output_type": "execute_result"
    }
   ],
   "source": [
    "bbb.head()"
   ]
  },
  {
   "cell_type": "code",
   "execution_count": 32,
   "metadata": {},
   "outputs": [],
   "source": [
    "bbb.to_excel(project_path+'/data/processed_data/bbb.xlsx')"
   ]
  },
  {
   "cell_type": "markdown",
   "metadata": {},
   "source": [
    "### 合并aaa+bbb"
   ]
  },
  {
   "cell_type": "code",
   "execution_count": 33,
   "metadata": {},
   "outputs": [],
   "source": [
    "df_survive=pd.concat([aaa,bbb],axis=0).reset_index(drop=True)"
   ]
  },
  {
   "cell_type": "code",
   "execution_count": 34,
   "metadata": {},
   "outputs": [],
   "source": [
    "# 计算生存时间(月)\n",
    "import math\n",
    "df_survive['生存时间(月)']=df_survive['生存时间(天)'].apply(lambda x: math.ceil(x/30) if not pd.isnull(x) else x)"
   ]
  },
  {
   "cell_type": "code",
   "execution_count": 35,
   "metadata": {},
   "outputs": [],
   "source": [
    "df_survive=df_survive.drop(['死亡时间'],axis=1)"
   ]
  },
  {
   "cell_type": "code",
   "execution_count": 36,
   "metadata": {},
   "outputs": [
    {
     "data": {
      "text/plain": [
       "(483, 81)"
      ]
     },
     "execution_count": 36,
     "metadata": {},
     "output_type": "execute_result"
    }
   ],
   "source": [
    "df_survive.shape"
   ]
  },
  {
   "cell_type": "code",
   "execution_count": 37,
   "metadata": {
    "scrolled": true
   },
   "outputs": [
    {
     "data": {
      "text/html": [
       "<div>\n",
       "<style scoped>\n",
       "    .dataframe tbody tr th:only-of-type {\n",
       "        vertical-align: middle;\n",
       "    }\n",
       "\n",
       "    .dataframe tbody tr th {\n",
       "        vertical-align: top;\n",
       "    }\n",
       "\n",
       "    .dataframe thead th {\n",
       "        text-align: right;\n",
       "    }\n",
       "</style>\n",
       "<table border=\"1\" class=\"dataframe\">\n",
       "  <thead>\n",
       "    <tr style=\"text-align: right;\">\n",
       "      <th></th>\n",
       "      <th>id</th>\n",
       "      <th>sampling</th>\n",
       "      <th>性别</th>\n",
       "      <th>年龄（岁）</th>\n",
       "      <th>身高（cm）</th>\n",
       "      <th>体重（kg）</th>\n",
       "      <th>体重指数</th>\n",
       "      <th>发病时有无黄疸（1=有，0=无）</th>\n",
       "      <th>有无消瘦（有=1，无=0）</th>\n",
       "      <th>emaciation_day</th>\n",
       "      <th>...</th>\n",
       "      <th>MUC-1</th>\n",
       "      <th>MOC-31</th>\n",
       "      <th>PD-1</th>\n",
       "      <th>PD-L1(DAKO,22C3)</th>\n",
       "      <th>围手术期并发症【Clavien-Dindo分级系统】（I级、II级、IIIa级、IIIb级、IVa级、IVb级、V级）</th>\n",
       "      <th>围手术期死亡【术后90天内】（0=无；1=死亡）</th>\n",
       "      <th>后续治疗及随访</th>\n",
       "      <th>目前是否生存（1=存活；2=死亡）</th>\n",
       "      <th>生存时间(天)</th>\n",
       "      <th>生存时间(月)</th>\n",
       "    </tr>\n",
       "  </thead>\n",
       "  <tbody>\n",
       "    <tr>\n",
       "      <th>0</th>\n",
       "      <td>5</td>\n",
       "      <td>1.0</td>\n",
       "      <td>女</td>\n",
       "      <td>59.0</td>\n",
       "      <td>NaN</td>\n",
       "      <td>NaN</td>\n",
       "      <td>NaN</td>\n",
       "      <td>1</td>\n",
       "      <td>0</td>\n",
       "      <td>NaN</td>\n",
       "      <td>...</td>\n",
       "      <td>0.0</td>\n",
       "      <td>NaN</td>\n",
       "      <td>NaN</td>\n",
       "      <td>NaN</td>\n",
       "      <td>V级，术后多次大量输血，术后行胸腔、腹腔穿刺引流，后治疗效果差，多器官功能衰竭，自动出院</td>\n",
       "      <td>1，自动出院</td>\n",
       "      <td>NaN</td>\n",
       "      <td>2，术后20余天</td>\n",
       "      <td>20</td>\n",
       "      <td>1.0</td>\n",
       "    </tr>\n",
       "    <tr>\n",
       "      <th>1</th>\n",
       "      <td>26</td>\n",
       "      <td>1.0</td>\n",
       "      <td>女</td>\n",
       "      <td>64.0</td>\n",
       "      <td>NaN</td>\n",
       "      <td>NaN</td>\n",
       "      <td>NaN</td>\n",
       "      <td>1</td>\n",
       "      <td>体重下降约5kg</td>\n",
       "      <td>NaN</td>\n",
       "      <td>...</td>\n",
       "      <td>NaN</td>\n",
       "      <td>NaN</td>\n",
       "      <td>NaN</td>\n",
       "      <td>NaN</td>\n",
       "      <td>V，感染性休克，出现多器官功能衰竭，自动出院</td>\n",
       "      <td>1，自动出院</td>\n",
       "      <td>NaN</td>\n",
       "      <td>2，术后20天</td>\n",
       "      <td>20</td>\n",
       "      <td>1.0</td>\n",
       "    </tr>\n",
       "    <tr>\n",
       "      <th>2</th>\n",
       "      <td>53</td>\n",
       "      <td>1.0</td>\n",
       "      <td>女</td>\n",
       "      <td>68.0</td>\n",
       "      <td>NaN</td>\n",
       "      <td>NaN</td>\n",
       "      <td>NaN</td>\n",
       "      <td>1</td>\n",
       "      <td>1月来减轻5公斤</td>\n",
       "      <td>30.0</td>\n",
       "      <td>...</td>\n",
       "      <td>1.0</td>\n",
       "      <td>NaN</td>\n",
       "      <td>0.0</td>\n",
       "      <td>0</td>\n",
       "      <td>V，死于肝功能衰竭</td>\n",
       "      <td>1</td>\n",
       "      <td>NaN</td>\n",
       "      <td>2，术后20天左右</td>\n",
       "      <td>20</td>\n",
       "      <td>1.0</td>\n",
       "    </tr>\n",
       "    <tr>\n",
       "      <th>3</th>\n",
       "      <td>54</td>\n",
       "      <td>1.0</td>\n",
       "      <td>男</td>\n",
       "      <td>74.0</td>\n",
       "      <td>NaN</td>\n",
       "      <td>NaN</td>\n",
       "      <td>NaN</td>\n",
       "      <td>1</td>\n",
       "      <td>体重下降10kg</td>\n",
       "      <td>NaN</td>\n",
       "      <td>...</td>\n",
       "      <td>1.0</td>\n",
       "      <td>NaN</td>\n",
       "      <td>0.0</td>\n",
       "      <td>0</td>\n",
       "      <td>V，术后8天胆瘘，肾衰予以透析引流，14天死亡</td>\n",
       "      <td>1</td>\n",
       "      <td>NaN</td>\n",
       "      <td>2，术后14天</td>\n",
       "      <td>14</td>\n",
       "      <td>1.0</td>\n",
       "    </tr>\n",
       "    <tr>\n",
       "      <th>4</th>\n",
       "      <td>56</td>\n",
       "      <td>1.0</td>\n",
       "      <td>女</td>\n",
       "      <td>55.0</td>\n",
       "      <td>NaN</td>\n",
       "      <td>NaN</td>\n",
       "      <td>NaN</td>\n",
       "      <td>0</td>\n",
       "      <td>0</td>\n",
       "      <td>NaN</td>\n",
       "      <td>...</td>\n",
       "      <td>1.0</td>\n",
       "      <td>NaN</td>\n",
       "      <td>NaN</td>\n",
       "      <td>NaN</td>\n",
       "      <td>Ⅴ级，腹腔出血，DSA效果欠佳，自动出院</td>\n",
       "      <td>1，自动出院</td>\n",
       "      <td>NaN</td>\n",
       "      <td>2，术后20天左右</td>\n",
       "      <td>20</td>\n",
       "      <td>1.0</td>\n",
       "    </tr>\n",
       "  </tbody>\n",
       "</table>\n",
       "<p>5 rows × 81 columns</p>\n",
       "</div>"
      ],
      "text/plain": [
       "   id  sampling 性别  年龄（岁）  身高（cm）  体重（kg）  体重指数 发病时有无黄疸（1=有，0=无）  \\\n",
       "0   5       1.0  女   59.0     NaN     NaN   NaN                1   \n",
       "1  26       1.0  女   64.0     NaN     NaN   NaN                1   \n",
       "2  53       1.0  女   68.0     NaN     NaN   NaN                1   \n",
       "3  54       1.0  男   74.0     NaN     NaN   NaN                1   \n",
       "4  56       1.0  女   55.0     NaN     NaN   NaN                0   \n",
       "\n",
       "  有无消瘦（有=1，无=0）  emaciation_day  ...  MUC-1 MOC-31 PD-1 PD-L1(DAKO,22C3)  \\\n",
       "0             0             NaN  ...    0.0    NaN  NaN              NaN   \n",
       "1      体重下降约5kg             NaN  ...    NaN    NaN  NaN              NaN   \n",
       "2      1月来减轻5公斤            30.0  ...    1.0    NaN  0.0                0   \n",
       "3      体重下降10kg             NaN  ...    1.0    NaN  0.0                0   \n",
       "4             0             NaN  ...    1.0    NaN  NaN              NaN   \n",
       "\n",
       "  围手术期并发症【Clavien-Dindo分级系统】（I级、II级、IIIa级、IIIb级、IVa级、IVb级、V级）  \\\n",
       "0       V级，术后多次大量输血，术后行胸腔、腹腔穿刺引流，后治疗效果差，多器官功能衰竭，自动出院            \n",
       "1                             V，感染性休克，出现多器官功能衰竭，自动出院            \n",
       "2                                          V，死于肝功能衰竭            \n",
       "3                            V，术后8天胆瘘，肾衰予以透析引流，14天死亡            \n",
       "4                               Ⅴ级，腹腔出血，DSA效果欠佳，自动出院            \n",
       "\n",
       "   围手术期死亡【术后90天内】（0=无；1=死亡） 后续治疗及随访 目前是否生存（1=存活；2=死亡） 生存时间(天) 生存时间(月)  \n",
       "0                    1，自动出院     NaN          2，术后20余天      20     1.0  \n",
       "1                    1，自动出院     NaN           2，术后20天      20     1.0  \n",
       "2                         1     NaN         2，术后20天左右      20     1.0  \n",
       "3                         1     NaN           2，术后14天      14     1.0  \n",
       "4                    1，自动出院     NaN         2，术后20天左右      20     1.0  \n",
       "\n",
       "[5 rows x 81 columns]"
      ]
     },
     "execution_count": 37,
     "metadata": {},
     "output_type": "execute_result"
    }
   ],
   "source": [
    "df_survive.head()"
   ]
  },
  {
   "cell_type": "code",
   "execution_count": 38,
   "metadata": {},
   "outputs": [],
   "source": [
    "df_survive.to_excel(project_path+'/data/processed_data/df_1.4.3_提取生存时间.xlsx')"
   ]
  },
  {
   "cell_type": "code",
   "execution_count": 39,
   "metadata": {},
   "outputs": [
    {
     "data": {
      "text/plain": [
       "count     368.000000\n",
       "mean      659.720109\n",
       "std       637.379958\n",
       "min         0.000000\n",
       "25%       180.000000\n",
       "50%       425.500000\n",
       "75%       942.000000\n",
       "max      2910.000000\n",
       "Name: 生存时间(天), dtype: float64"
      ]
     },
     "execution_count": 39,
     "metadata": {},
     "output_type": "execute_result"
    }
   ],
   "source": [
    "df_survive['生存时间(天)']=df_survive['生存时间(天)'].apply(lambda x: int(x) if not pd.isnull(x) else x)\n",
    "df_survive['生存时间(天)'].describe()"
   ]
  },
  {
   "cell_type": "code",
   "execution_count": 40,
   "metadata": {},
   "outputs": [
    {
     "data": {
      "text/plain": [
       "count    368.000000\n",
       "mean      22.380435\n",
       "std       21.275201\n",
       "min        0.000000\n",
       "25%        6.000000\n",
       "50%       15.000000\n",
       "75%       32.000000\n",
       "max       97.000000\n",
       "Name: 生存时间(月), dtype: float64"
      ]
     },
     "execution_count": 40,
     "metadata": {},
     "output_type": "execute_result"
    }
   ],
   "source": [
    "df_survive['生存时间(月)'].describe()"
   ]
  },
  {
   "cell_type": "markdown",
   "metadata": {},
   "source": [
    "## 人口学特征清洗"
   ]
  },
  {
   "cell_type": "markdown",
   "metadata": {},
   "source": [
    "### gender"
   ]
  },
  {
   "cell_type": "code",
   "execution_count": 41,
   "metadata": {},
   "outputs": [],
   "source": [
    "df_survive.rename(columns={'性别':'gender',\n",
    "                           '年龄（岁）':'age'},inplace=True)\n",
    "# 数据转换：男1，女0\n",
    "df_survive['gender']=df_survive['gender'].apply(lambda x: np.nan if pd.isnull(x) else\n",
    "                                                          0 if str(x)=='2' else\n",
    "                                                          1 if str(x)=='1' else\n",
    "                                                          1 if re.match('男',str(x)) else\n",
    "                                                          0 if re.match('女',str(x)) else x)"
   ]
  },
  {
   "cell_type": "code",
   "execution_count": 42,
   "metadata": {
    "scrolled": true
   },
   "outputs": [
    {
     "data": {
      "text/html": [
       "<div>\n",
       "<style scoped>\n",
       "    .dataframe tbody tr th:only-of-type {\n",
       "        vertical-align: middle;\n",
       "    }\n",
       "\n",
       "    .dataframe tbody tr th {\n",
       "        vertical-align: top;\n",
       "    }\n",
       "\n",
       "    .dataframe thead th {\n",
       "        text-align: right;\n",
       "    }\n",
       "</style>\n",
       "<table border=\"1\" class=\"dataframe\">\n",
       "  <thead>\n",
       "    <tr style=\"text-align: right;\">\n",
       "      <th></th>\n",
       "      <th>id</th>\n",
       "      <th>sampling</th>\n",
       "      <th>gender</th>\n",
       "      <th>age</th>\n",
       "      <th>身高（cm）</th>\n",
       "      <th>体重（kg）</th>\n",
       "      <th>体重指数</th>\n",
       "      <th>发病时有无黄疸（1=有，0=无）</th>\n",
       "      <th>有无消瘦（有=1，无=0）</th>\n",
       "      <th>emaciation_day</th>\n",
       "      <th>...</th>\n",
       "      <th>MUC-1</th>\n",
       "      <th>MOC-31</th>\n",
       "      <th>PD-1</th>\n",
       "      <th>PD-L1(DAKO,22C3)</th>\n",
       "      <th>围手术期并发症【Clavien-Dindo分级系统】（I级、II级、IIIa级、IIIb级、IVa级、IVb级、V级）</th>\n",
       "      <th>围手术期死亡【术后90天内】（0=无；1=死亡）</th>\n",
       "      <th>后续治疗及随访</th>\n",
       "      <th>目前是否生存（1=存活；2=死亡）</th>\n",
       "      <th>生存时间(天)</th>\n",
       "      <th>生存时间(月)</th>\n",
       "    </tr>\n",
       "  </thead>\n",
       "  <tbody>\n",
       "    <tr>\n",
       "      <th>0</th>\n",
       "      <td>5</td>\n",
       "      <td>1.0</td>\n",
       "      <td>0.0</td>\n",
       "      <td>59.0</td>\n",
       "      <td>NaN</td>\n",
       "      <td>NaN</td>\n",
       "      <td>NaN</td>\n",
       "      <td>1</td>\n",
       "      <td>0</td>\n",
       "      <td>NaN</td>\n",
       "      <td>...</td>\n",
       "      <td>0.0</td>\n",
       "      <td>NaN</td>\n",
       "      <td>NaN</td>\n",
       "      <td>NaN</td>\n",
       "      <td>V级，术后多次大量输血，术后行胸腔、腹腔穿刺引流，后治疗效果差，多器官功能衰竭，自动出院</td>\n",
       "      <td>1，自动出院</td>\n",
       "      <td>NaN</td>\n",
       "      <td>2，术后20余天</td>\n",
       "      <td>20.0</td>\n",
       "      <td>1.0</td>\n",
       "    </tr>\n",
       "    <tr>\n",
       "      <th>1</th>\n",
       "      <td>26</td>\n",
       "      <td>1.0</td>\n",
       "      <td>0.0</td>\n",
       "      <td>64.0</td>\n",
       "      <td>NaN</td>\n",
       "      <td>NaN</td>\n",
       "      <td>NaN</td>\n",
       "      <td>1</td>\n",
       "      <td>体重下降约5kg</td>\n",
       "      <td>NaN</td>\n",
       "      <td>...</td>\n",
       "      <td>NaN</td>\n",
       "      <td>NaN</td>\n",
       "      <td>NaN</td>\n",
       "      <td>NaN</td>\n",
       "      <td>V，感染性休克，出现多器官功能衰竭，自动出院</td>\n",
       "      <td>1，自动出院</td>\n",
       "      <td>NaN</td>\n",
       "      <td>2，术后20天</td>\n",
       "      <td>20.0</td>\n",
       "      <td>1.0</td>\n",
       "    </tr>\n",
       "    <tr>\n",
       "      <th>2</th>\n",
       "      <td>53</td>\n",
       "      <td>1.0</td>\n",
       "      <td>0.0</td>\n",
       "      <td>68.0</td>\n",
       "      <td>NaN</td>\n",
       "      <td>NaN</td>\n",
       "      <td>NaN</td>\n",
       "      <td>1</td>\n",
       "      <td>1月来减轻5公斤</td>\n",
       "      <td>30.0</td>\n",
       "      <td>...</td>\n",
       "      <td>1.0</td>\n",
       "      <td>NaN</td>\n",
       "      <td>0.0</td>\n",
       "      <td>0</td>\n",
       "      <td>V，死于肝功能衰竭</td>\n",
       "      <td>1</td>\n",
       "      <td>NaN</td>\n",
       "      <td>2，术后20天左右</td>\n",
       "      <td>20.0</td>\n",
       "      <td>1.0</td>\n",
       "    </tr>\n",
       "    <tr>\n",
       "      <th>3</th>\n",
       "      <td>54</td>\n",
       "      <td>1.0</td>\n",
       "      <td>1.0</td>\n",
       "      <td>74.0</td>\n",
       "      <td>NaN</td>\n",
       "      <td>NaN</td>\n",
       "      <td>NaN</td>\n",
       "      <td>1</td>\n",
       "      <td>体重下降10kg</td>\n",
       "      <td>NaN</td>\n",
       "      <td>...</td>\n",
       "      <td>1.0</td>\n",
       "      <td>NaN</td>\n",
       "      <td>0.0</td>\n",
       "      <td>0</td>\n",
       "      <td>V，术后8天胆瘘，肾衰予以透析引流，14天死亡</td>\n",
       "      <td>1</td>\n",
       "      <td>NaN</td>\n",
       "      <td>2，术后14天</td>\n",
       "      <td>14.0</td>\n",
       "      <td>1.0</td>\n",
       "    </tr>\n",
       "    <tr>\n",
       "      <th>4</th>\n",
       "      <td>56</td>\n",
       "      <td>1.0</td>\n",
       "      <td>0.0</td>\n",
       "      <td>55.0</td>\n",
       "      <td>NaN</td>\n",
       "      <td>NaN</td>\n",
       "      <td>NaN</td>\n",
       "      <td>0</td>\n",
       "      <td>0</td>\n",
       "      <td>NaN</td>\n",
       "      <td>...</td>\n",
       "      <td>1.0</td>\n",
       "      <td>NaN</td>\n",
       "      <td>NaN</td>\n",
       "      <td>NaN</td>\n",
       "      <td>Ⅴ级，腹腔出血，DSA效果欠佳，自动出院</td>\n",
       "      <td>1，自动出院</td>\n",
       "      <td>NaN</td>\n",
       "      <td>2，术后20天左右</td>\n",
       "      <td>20.0</td>\n",
       "      <td>1.0</td>\n",
       "    </tr>\n",
       "  </tbody>\n",
       "</table>\n",
       "<p>5 rows × 81 columns</p>\n",
       "</div>"
      ],
      "text/plain": [
       "   id  sampling  gender   age  身高（cm）  体重（kg）  体重指数 发病时有无黄疸（1=有，0=无）  \\\n",
       "0   5       1.0     0.0  59.0     NaN     NaN   NaN                1   \n",
       "1  26       1.0     0.0  64.0     NaN     NaN   NaN                1   \n",
       "2  53       1.0     0.0  68.0     NaN     NaN   NaN                1   \n",
       "3  54       1.0     1.0  74.0     NaN     NaN   NaN                1   \n",
       "4  56       1.0     0.0  55.0     NaN     NaN   NaN                0   \n",
       "\n",
       "  有无消瘦（有=1，无=0）  emaciation_day  ...  MUC-1 MOC-31 PD-1 PD-L1(DAKO,22C3)  \\\n",
       "0             0             NaN  ...    0.0    NaN  NaN              NaN   \n",
       "1      体重下降约5kg             NaN  ...    NaN    NaN  NaN              NaN   \n",
       "2      1月来减轻5公斤            30.0  ...    1.0    NaN  0.0                0   \n",
       "3      体重下降10kg             NaN  ...    1.0    NaN  0.0                0   \n",
       "4             0             NaN  ...    1.0    NaN  NaN              NaN   \n",
       "\n",
       "  围手术期并发症【Clavien-Dindo分级系统】（I级、II级、IIIa级、IIIb级、IVa级、IVb级、V级）  \\\n",
       "0       V级，术后多次大量输血，术后行胸腔、腹腔穿刺引流，后治疗效果差，多器官功能衰竭，自动出院            \n",
       "1                             V，感染性休克，出现多器官功能衰竭，自动出院            \n",
       "2                                          V，死于肝功能衰竭            \n",
       "3                            V，术后8天胆瘘，肾衰予以透析引流，14天死亡            \n",
       "4                               Ⅴ级，腹腔出血，DSA效果欠佳，自动出院            \n",
       "\n",
       "   围手术期死亡【术后90天内】（0=无；1=死亡） 后续治疗及随访 目前是否生存（1=存活；2=死亡） 生存时间(天) 生存时间(月)  \n",
       "0                    1，自动出院     NaN          2，术后20余天    20.0     1.0  \n",
       "1                    1，自动出院     NaN           2，术后20天    20.0     1.0  \n",
       "2                         1     NaN         2，术后20天左右    20.0     1.0  \n",
       "3                         1     NaN           2，术后14天    14.0     1.0  \n",
       "4                    1，自动出院     NaN         2，术后20天左右    20.0     1.0  \n",
       "\n",
       "[5 rows x 81 columns]"
      ]
     },
     "execution_count": 42,
     "metadata": {},
     "output_type": "execute_result"
    }
   ],
   "source": [
    "df_survive.head()"
   ]
  },
  {
   "cell_type": "markdown",
   "metadata": {},
   "source": [
    "### 计算BMI"
   ]
  },
  {
   "cell_type": "code",
   "execution_count": 43,
   "metadata": {
    "scrolled": true
   },
   "outputs": [],
   "source": [
    "df_survive.rename(columns={'身高（cm）':'height',\n",
    "                          '体重（kg）':'weight',\n",
    "                          '体重指数':'BMI'},inplace=True)"
   ]
  },
  {
   "cell_type": "code",
   "execution_count": 44,
   "metadata": {
    "scrolled": true
   },
   "outputs": [],
   "source": [
    "df_survive['BMI']=[round(x*10000/y/y,2) \n",
    "              for (x,y) in zip(df_survive['weight'].astype('float').tolist(),df_survive['height'].astype('float').tolist())]"
   ]
  },
  {
   "cell_type": "code",
   "execution_count": 45,
   "metadata": {},
   "outputs": [
    {
     "name": "stdout",
     "output_type": "stream",
     "text": [
      "(483, 81)\n"
     ]
    }
   ],
   "source": [
    "print(df_survive.shape)"
   ]
  },
  {
   "cell_type": "code",
   "execution_count": 46,
   "metadata": {
    "scrolled": true
   },
   "outputs": [
    {
     "data": {
      "text/html": [
       "<div>\n",
       "<style scoped>\n",
       "    .dataframe tbody tr th:only-of-type {\n",
       "        vertical-align: middle;\n",
       "    }\n",
       "\n",
       "    .dataframe tbody tr th {\n",
       "        vertical-align: top;\n",
       "    }\n",
       "\n",
       "    .dataframe thead th {\n",
       "        text-align: right;\n",
       "    }\n",
       "</style>\n",
       "<table border=\"1\" class=\"dataframe\">\n",
       "  <thead>\n",
       "    <tr style=\"text-align: right;\">\n",
       "      <th></th>\n",
       "      <th>id</th>\n",
       "      <th>sampling</th>\n",
       "      <th>gender</th>\n",
       "      <th>age</th>\n",
       "      <th>height</th>\n",
       "      <th>weight</th>\n",
       "      <th>BMI</th>\n",
       "      <th>发病时有无黄疸（1=有，0=无）</th>\n",
       "      <th>有无消瘦（有=1，无=0）</th>\n",
       "      <th>emaciation_day</th>\n",
       "      <th>...</th>\n",
       "      <th>MUC-1</th>\n",
       "      <th>MOC-31</th>\n",
       "      <th>PD-1</th>\n",
       "      <th>PD-L1(DAKO,22C3)</th>\n",
       "      <th>围手术期并发症【Clavien-Dindo分级系统】（I级、II级、IIIa级、IIIb级、IVa级、IVb级、V级）</th>\n",
       "      <th>围手术期死亡【术后90天内】（0=无；1=死亡）</th>\n",
       "      <th>后续治疗及随访</th>\n",
       "      <th>目前是否生存（1=存活；2=死亡）</th>\n",
       "      <th>生存时间(天)</th>\n",
       "      <th>生存时间(月)</th>\n",
       "    </tr>\n",
       "  </thead>\n",
       "  <tbody>\n",
       "    <tr>\n",
       "      <th>0</th>\n",
       "      <td>5</td>\n",
       "      <td>1.0</td>\n",
       "      <td>0.0</td>\n",
       "      <td>59.0</td>\n",
       "      <td>NaN</td>\n",
       "      <td>NaN</td>\n",
       "      <td>NaN</td>\n",
       "      <td>1</td>\n",
       "      <td>0</td>\n",
       "      <td>NaN</td>\n",
       "      <td>...</td>\n",
       "      <td>0.0</td>\n",
       "      <td>NaN</td>\n",
       "      <td>NaN</td>\n",
       "      <td>NaN</td>\n",
       "      <td>V级，术后多次大量输血，术后行胸腔、腹腔穿刺引流，后治疗效果差，多器官功能衰竭，自动出院</td>\n",
       "      <td>1，自动出院</td>\n",
       "      <td>NaN</td>\n",
       "      <td>2，术后20余天</td>\n",
       "      <td>20.0</td>\n",
       "      <td>1.0</td>\n",
       "    </tr>\n",
       "    <tr>\n",
       "      <th>1</th>\n",
       "      <td>26</td>\n",
       "      <td>1.0</td>\n",
       "      <td>0.0</td>\n",
       "      <td>64.0</td>\n",
       "      <td>NaN</td>\n",
       "      <td>NaN</td>\n",
       "      <td>NaN</td>\n",
       "      <td>1</td>\n",
       "      <td>体重下降约5kg</td>\n",
       "      <td>NaN</td>\n",
       "      <td>...</td>\n",
       "      <td>NaN</td>\n",
       "      <td>NaN</td>\n",
       "      <td>NaN</td>\n",
       "      <td>NaN</td>\n",
       "      <td>V，感染性休克，出现多器官功能衰竭，自动出院</td>\n",
       "      <td>1，自动出院</td>\n",
       "      <td>NaN</td>\n",
       "      <td>2，术后20天</td>\n",
       "      <td>20.0</td>\n",
       "      <td>1.0</td>\n",
       "    </tr>\n",
       "    <tr>\n",
       "      <th>2</th>\n",
       "      <td>53</td>\n",
       "      <td>1.0</td>\n",
       "      <td>0.0</td>\n",
       "      <td>68.0</td>\n",
       "      <td>NaN</td>\n",
       "      <td>NaN</td>\n",
       "      <td>NaN</td>\n",
       "      <td>1</td>\n",
       "      <td>1月来减轻5公斤</td>\n",
       "      <td>30.0</td>\n",
       "      <td>...</td>\n",
       "      <td>1.0</td>\n",
       "      <td>NaN</td>\n",
       "      <td>0.0</td>\n",
       "      <td>0</td>\n",
       "      <td>V，死于肝功能衰竭</td>\n",
       "      <td>1</td>\n",
       "      <td>NaN</td>\n",
       "      <td>2，术后20天左右</td>\n",
       "      <td>20.0</td>\n",
       "      <td>1.0</td>\n",
       "    </tr>\n",
       "    <tr>\n",
       "      <th>3</th>\n",
       "      <td>54</td>\n",
       "      <td>1.0</td>\n",
       "      <td>1.0</td>\n",
       "      <td>74.0</td>\n",
       "      <td>NaN</td>\n",
       "      <td>NaN</td>\n",
       "      <td>NaN</td>\n",
       "      <td>1</td>\n",
       "      <td>体重下降10kg</td>\n",
       "      <td>NaN</td>\n",
       "      <td>...</td>\n",
       "      <td>1.0</td>\n",
       "      <td>NaN</td>\n",
       "      <td>0.0</td>\n",
       "      <td>0</td>\n",
       "      <td>V，术后8天胆瘘，肾衰予以透析引流，14天死亡</td>\n",
       "      <td>1</td>\n",
       "      <td>NaN</td>\n",
       "      <td>2，术后14天</td>\n",
       "      <td>14.0</td>\n",
       "      <td>1.0</td>\n",
       "    </tr>\n",
       "    <tr>\n",
       "      <th>4</th>\n",
       "      <td>56</td>\n",
       "      <td>1.0</td>\n",
       "      <td>0.0</td>\n",
       "      <td>55.0</td>\n",
       "      <td>NaN</td>\n",
       "      <td>NaN</td>\n",
       "      <td>NaN</td>\n",
       "      <td>0</td>\n",
       "      <td>0</td>\n",
       "      <td>NaN</td>\n",
       "      <td>...</td>\n",
       "      <td>1.0</td>\n",
       "      <td>NaN</td>\n",
       "      <td>NaN</td>\n",
       "      <td>NaN</td>\n",
       "      <td>Ⅴ级，腹腔出血，DSA效果欠佳，自动出院</td>\n",
       "      <td>1，自动出院</td>\n",
       "      <td>NaN</td>\n",
       "      <td>2，术后20天左右</td>\n",
       "      <td>20.0</td>\n",
       "      <td>1.0</td>\n",
       "    </tr>\n",
       "  </tbody>\n",
       "</table>\n",
       "<p>5 rows × 81 columns</p>\n",
       "</div>"
      ],
      "text/plain": [
       "   id  sampling  gender   age  height  weight  BMI 发病时有无黄疸（1=有，0=无）  \\\n",
       "0   5       1.0     0.0  59.0     NaN     NaN  NaN                1   \n",
       "1  26       1.0     0.0  64.0     NaN     NaN  NaN                1   \n",
       "2  53       1.0     0.0  68.0     NaN     NaN  NaN                1   \n",
       "3  54       1.0     1.0  74.0     NaN     NaN  NaN                1   \n",
       "4  56       1.0     0.0  55.0     NaN     NaN  NaN                0   \n",
       "\n",
       "  有无消瘦（有=1，无=0）  emaciation_day  ...  MUC-1 MOC-31 PD-1 PD-L1(DAKO,22C3)  \\\n",
       "0             0             NaN  ...    0.0    NaN  NaN              NaN   \n",
       "1      体重下降约5kg             NaN  ...    NaN    NaN  NaN              NaN   \n",
       "2      1月来减轻5公斤            30.0  ...    1.0    NaN  0.0                0   \n",
       "3      体重下降10kg             NaN  ...    1.0    NaN  0.0                0   \n",
       "4             0             NaN  ...    1.0    NaN  NaN              NaN   \n",
       "\n",
       "  围手术期并发症【Clavien-Dindo分级系统】（I级、II级、IIIa级、IIIb级、IVa级、IVb级、V级）  \\\n",
       "0       V级，术后多次大量输血，术后行胸腔、腹腔穿刺引流，后治疗效果差，多器官功能衰竭，自动出院            \n",
       "1                             V，感染性休克，出现多器官功能衰竭，自动出院            \n",
       "2                                          V，死于肝功能衰竭            \n",
       "3                            V，术后8天胆瘘，肾衰予以透析引流，14天死亡            \n",
       "4                               Ⅴ级，腹腔出血，DSA效果欠佳，自动出院            \n",
       "\n",
       "   围手术期死亡【术后90天内】（0=无；1=死亡） 后续治疗及随访 目前是否生存（1=存活；2=死亡） 生存时间(天) 生存时间(月)  \n",
       "0                    1，自动出院     NaN          2，术后20余天    20.0     1.0  \n",
       "1                    1，自动出院     NaN           2，术后20天    20.0     1.0  \n",
       "2                         1     NaN         2，术后20天左右    20.0     1.0  \n",
       "3                         1     NaN           2，术后14天    14.0     1.0  \n",
       "4                    1，自动出院     NaN         2，术后20天左右    20.0     1.0  \n",
       "\n",
       "[5 rows x 81 columns]"
      ]
     },
     "execution_count": 46,
     "metadata": {},
     "output_type": "execute_result"
    }
   ],
   "source": [
    "df_survive.head()"
   ]
  },
  {
   "cell_type": "code",
   "execution_count": 47,
   "metadata": {},
   "outputs": [],
   "source": [
    "df_survive.to_excel(project_path+'/data/processed_data/df_1.5.2_计算BMI.xlsx')"
   ]
  },
  {
   "cell_type": "code",
   "execution_count": 48,
   "metadata": {},
   "outputs": [
    {
     "data": {
      "text/plain": [
       "(483, 81)"
      ]
     },
     "execution_count": 48,
     "metadata": {},
     "output_type": "execute_result"
    }
   ],
   "source": [
    "df_survive.shape"
   ]
  },
  {
   "cell_type": "markdown",
   "metadata": {},
   "source": [
    "## 病史清洗"
   ]
  },
  {
   "cell_type": "code",
   "execution_count": 49,
   "metadata": {},
   "outputs": [],
   "source": [
    "df_history=df_survive.copy()"
   ]
  },
  {
   "cell_type": "markdown",
   "metadata": {},
   "source": [
    "### 黄疸jaundice"
   ]
  },
  {
   "cell_type": "code",
   "execution_count": 50,
   "metadata": {},
   "outputs": [],
   "source": [
    "df_history.rename(columns={'发病时有无黄疸（1=有，0=无）':'jaundice'},inplace=True)"
   ]
  },
  {
   "cell_type": "code",
   "execution_count": 51,
   "metadata": {},
   "outputs": [],
   "source": [
    "df_history['jaundice']=df_history['jaundice'].apply(lambda x: 1 if re.match('有|轻度',str(x)) else \n",
    "                                                               0 if re.match('未知',str(x)) else x)"
   ]
  },
  {
   "cell_type": "code",
   "execution_count": 52,
   "metadata": {},
   "outputs": [
    {
     "data": {
      "text/plain": [
       "1    401\n",
       "0     59\n",
       "1     17\n",
       "0      6\n",
       "Name: jaundice, dtype: int64"
      ]
     },
     "execution_count": 52,
     "metadata": {},
     "output_type": "execute_result"
    }
   ],
   "source": [
    "df_history['jaundice'].value_counts()"
   ]
  },
  {
   "cell_type": "markdown",
   "metadata": {},
   "source": [
    "### 有无消瘦"
   ]
  },
  {
   "cell_type": "code",
   "execution_count": 53,
   "metadata": {},
   "outputs": [],
   "source": [
    "emaciation_index=df_history.columns.to_list().index('emaciation_kg')\n",
    "df_history.insert(emaciation_index+1,'emaciation','')\n",
    "df_history.insert(emaciation_index+1,'emaciation/month','')"
   ]
  },
  {
   "cell_type": "code",
   "execution_count": 54,
   "metadata": {},
   "outputs": [],
   "source": [
    "# 1月下降体重\n",
    "df_history['emaciation/month']=[round(y*30/x,2) \n",
    "              for (x,y) in zip(df_history['emaciation_day'].astype('float').tolist(),df_history['emaciation_kg'].astype('float').tolist())]"
   ]
  },
  {
   "cell_type": "code",
   "execution_count": 55,
   "metadata": {},
   "outputs": [
    {
     "data": {
      "text/plain": [
       "5.00     17\n",
       "10.00    15\n",
       "2.50      8\n",
       "3.00      8\n",
       "6.00      5\n",
       "7.50      3\n",
       "4.50      3\n",
       "1.00      3\n",
       "2.00      3\n",
       "8.57      2\n",
       "3.75      2\n",
       "8.00      2\n",
       "7.00      2\n",
       "9.00      1\n",
       "4.00      1\n",
       "7.14      1\n",
       "3.33      1\n",
       "1.50      1\n",
       "0.33      1\n",
       "0.58      1\n",
       "1.67      1\n",
       "1.33      1\n",
       "6.67      1\n",
       "0.67      1\n",
       "3.57      1\n",
       "2.67      1\n",
       "6.43      1\n",
       "10.50     1\n",
       "Name: emaciation/month, dtype: int64"
      ]
     },
     "execution_count": 55,
     "metadata": {},
     "output_type": "execute_result"
    }
   ],
   "source": [
    "df_history['emaciation/month'].value_counts()"
   ]
  },
  {
   "cell_type": "code",
   "execution_count": 56,
   "metadata": {},
   "outputs": [],
   "source": [
    "# 标签：<=2kg,0; 2kg<x<5kg,1; >=5kg,2\n",
    "df_history['emaciation']=df_history['emaciation/month'].apply(lambda x: 0 if x<=2 else\n",
    "                                                                        1 if 2<x<5 else\n",
    "                                                                        2 if x>=5 else x)"
   ]
  },
  {
   "cell_type": "code",
   "execution_count": 57,
   "metadata": {},
   "outputs": [],
   "source": [
    "# 补充标签0\n",
    "for i in range(df_history.shape[0]):\n",
    "    if str(df_history.loc[i,'有无消瘦（有=1，无=0）']) == '0':\n",
    "#         print(i)\n",
    "        df_history.loc[i,'emaciation']=0"
   ]
  },
  {
   "cell_type": "code",
   "execution_count": 58,
   "metadata": {},
   "outputs": [],
   "source": [
    "# 删除消瘦计算列\n",
    "df_history=df_history.drop(['有无消瘦（有=1，无=0）','emaciation_day','emaciation_kg','emaciation/month'],axis=1)"
   ]
  },
  {
   "cell_type": "code",
   "execution_count": 59,
   "metadata": {
    "scrolled": true
   },
   "outputs": [],
   "source": [
    "df_history.to_excel(project_path+'/data/processed_data/df_1.6.2_有无消瘦数据清洗.xlsx')"
   ]
  },
  {
   "cell_type": "markdown",
   "metadata": {},
   "source": [
    "### 呼吸系统疾病"
   ]
  },
  {
   "cell_type": "code",
   "execution_count": 60,
   "metadata": {},
   "outputs": [],
   "source": [
    "df_history.rename(columns={'既往呼吸系统病史（1=有，写具体，0=无）':'breath_disease'},inplace=True)\n",
    "df_history['breath_disease']=df_history['breath_disease'].apply(lambda x: np.nan if pd.isnull(x) else\n",
    "                                                                           0 if str(x)=='0' else 1)"
   ]
  },
  {
   "cell_type": "code",
   "execution_count": 61,
   "metadata": {},
   "outputs": [
    {
     "data": {
      "text/plain": [
       "0.0    470\n",
       "1.0     12\n",
       "Name: breath_disease, dtype: int64"
      ]
     },
     "execution_count": 61,
     "metadata": {},
     "output_type": "execute_result"
    }
   ],
   "source": [
    "df_history['breath_disease'].value_counts()"
   ]
  },
  {
   "cell_type": "code",
   "execution_count": 62,
   "metadata": {},
   "outputs": [],
   "source": [
    "df_history.to_excel(project_path+'/data/processed_data/df_1.6.3_呼吸系统疾病.xlsx')"
   ]
  },
  {
   "cell_type": "markdown",
   "metadata": {},
   "source": [
    "### 心血管疾病"
   ]
  },
  {
   "cell_type": "code",
   "execution_count": 63,
   "metadata": {},
   "outputs": [],
   "source": [
    "df_history.rename(columns={'既往心脑血管系统病史（1=有，写具体，0=无）':'cardio_disease'},inplace=True)\n",
    "df_history['cardio_disease']=df_history['cardio_disease'].apply(lambda x: np.nan if pd.isnull(x) else\n",
    "                                                                           0 if str(x)=='0' else 1)"
   ]
  },
  {
   "cell_type": "code",
   "execution_count": 64,
   "metadata": {},
   "outputs": [
    {
     "data": {
      "text/plain": [
       "0.0    372\n",
       "1.0    110\n",
       "Name: cardio_disease, dtype: int64"
      ]
     },
     "execution_count": 64,
     "metadata": {},
     "output_type": "execute_result"
    }
   ],
   "source": [
    "df_history['cardio_disease'].value_counts()"
   ]
  },
  {
   "cell_type": "code",
   "execution_count": 65,
   "metadata": {},
   "outputs": [],
   "source": [
    "df_history.to_excel(project_path+'/data/processed_data/df_1.6.4_心脑血管疾病.xlsx')"
   ]
  },
  {
   "cell_type": "markdown",
   "metadata": {},
   "source": [
    "### 非胆道消化系统疾病"
   ]
  },
  {
   "cell_type": "code",
   "execution_count": 66,
   "metadata": {},
   "outputs": [],
   "source": [
    "df_history.rename(columns={'既往非胆道消化系统病史（1=有，写具体，0=无）':'nbdd'},inplace=True)\n",
    "df_history['nbdd']=df_history['nbdd'].apply(lambda x: np.nan if pd.isnull(x) else\n",
    "                                                       0 if str(x)=='0' else 1)"
   ]
  },
  {
   "cell_type": "code",
   "execution_count": 67,
   "metadata": {},
   "outputs": [
    {
     "data": {
      "text/plain": [
       "0.0    433\n",
       "1.0     49\n",
       "Name: nbdd, dtype: int64"
      ]
     },
     "execution_count": 67,
     "metadata": {},
     "output_type": "execute_result"
    }
   ],
   "source": [
    "df_history['nbdd'].value_counts()"
   ]
  },
  {
   "cell_type": "code",
   "execution_count": 68,
   "metadata": {},
   "outputs": [],
   "source": [
    "df_history.to_excel(project_path+'/data/processed_data/df_1.6.5_非胆道消化系统疾病.xlsx')"
   ]
  },
  {
   "cell_type": "markdown",
   "metadata": {},
   "source": [
    "### 泌尿系统疾病"
   ]
  },
  {
   "cell_type": "code",
   "execution_count": 69,
   "metadata": {},
   "outputs": [],
   "source": [
    "df_history.rename(columns={'既往泌尿系统病史（1=有，写具体，0=无）':'urinary_disease'},inplace=True)\n",
    "df_history['urinary_disease']=df_history['urinary_disease'].apply(lambda x: np.nan if pd.isnull(x) else\n",
    "                                                                           0 if str(x)=='0' else 1)"
   ]
  },
  {
   "cell_type": "code",
   "execution_count": 70,
   "metadata": {},
   "outputs": [
    {
     "data": {
      "text/plain": [
       "0.0    469\n",
       "1.0     11\n",
       "Name: urinary_disease, dtype: int64"
      ]
     },
     "execution_count": 70,
     "metadata": {},
     "output_type": "execute_result"
    }
   ],
   "source": [
    "df_history['urinary_disease'].value_counts()"
   ]
  },
  {
   "cell_type": "code",
   "execution_count": 71,
   "metadata": {},
   "outputs": [],
   "source": [
    "df_history.to_excel(project_path+'/data/processed_data/df_1.6.6_泌尿系统疾病.xlsx')"
   ]
  },
  {
   "cell_type": "markdown",
   "metadata": {},
   "source": [
    "### 血液系统疾病"
   ]
  },
  {
   "cell_type": "code",
   "execution_count": 72,
   "metadata": {},
   "outputs": [],
   "source": [
    "df_history=df_history.drop(['既往血液系统病史（1=有，写具体，0=无）'],axis=1)"
   ]
  },
  {
   "cell_type": "code",
   "execution_count": 73,
   "metadata": {},
   "outputs": [
    {
     "data": {
      "text/plain": [
       "(483, 78)"
      ]
     },
     "execution_count": 73,
     "metadata": {},
     "output_type": "execute_result"
    }
   ],
   "source": [
    "df_history.shape"
   ]
  },
  {
   "cell_type": "markdown",
   "metadata": {},
   "source": [
    "### 内分泌系统疾病"
   ]
  },
  {
   "cell_type": "code",
   "execution_count": 74,
   "metadata": {},
   "outputs": [],
   "source": [
    "df_history.rename(columns={'既往内分泌系统及代谢系统病史（1=有，写具体，0=无）':'endocrine_disease'},inplace=True)\n",
    "df_history['endocrine_disease']=df_history['endocrine_disease'].apply(lambda x: np.nan if pd.isnull(x) else\n",
    "                                                                           0 if str(x)=='0' else 1)"
   ]
  },
  {
   "cell_type": "code",
   "execution_count": 75,
   "metadata": {},
   "outputs": [
    {
     "data": {
      "text/plain": [
       "0.0    420\n",
       "1.0     61\n",
       "Name: endocrine_disease, dtype: int64"
      ]
     },
     "execution_count": 75,
     "metadata": {},
     "output_type": "execute_result"
    }
   ],
   "source": [
    "df_history['endocrine_disease'].value_counts()"
   ]
  },
  {
   "cell_type": "code",
   "execution_count": 76,
   "metadata": {},
   "outputs": [],
   "source": [
    "df_history.to_excel(project_path+'/data/processed_data/df_1.6.8_内分泌系统疾病.xlsx')"
   ]
  },
  {
   "cell_type": "markdown",
   "metadata": {},
   "source": [
    "### 风湿免疫系统疾病"
   ]
  },
  {
   "cell_type": "code",
   "execution_count": 77,
   "metadata": {},
   "outputs": [],
   "source": [
    "df_history=df_history.drop(['既往风湿免疫系统病史（1=有，写具体，0=无）'],axis=1)"
   ]
  },
  {
   "cell_type": "code",
   "execution_count": 78,
   "metadata": {},
   "outputs": [
    {
     "data": {
      "text/plain": [
       "(483, 77)"
      ]
     },
     "execution_count": 78,
     "metadata": {},
     "output_type": "execute_result"
    }
   ],
   "source": [
    "df_history.shape"
   ]
  },
  {
   "cell_type": "markdown",
   "metadata": {},
   "source": [
    "### 胆道系统疾病"
   ]
  },
  {
   "cell_type": "code",
   "execution_count": 79,
   "metadata": {},
   "outputs": [],
   "source": [
    "df_history.rename(columns={'既往胆道系统病史或本次发现胆道结石（1=有，写具体，0=无）':'biliary_disease'},inplace=True)\n",
    "df_history['biliary_disease']=df_history['biliary_disease'].apply(lambda x: np.nan if pd.isnull(x) else\n",
    "                                                                           0 if str(x)=='0' else 1)"
   ]
  },
  {
   "cell_type": "code",
   "execution_count": 80,
   "metadata": {},
   "outputs": [
    {
     "data": {
      "text/plain": [
       "0.0    406\n",
       "1.0     75\n",
       "Name: biliary_disease, dtype: int64"
      ]
     },
     "execution_count": 80,
     "metadata": {},
     "output_type": "execute_result"
    }
   ],
   "source": [
    "df_history['biliary_disease'].value_counts()"
   ]
  },
  {
   "cell_type": "code",
   "execution_count": 81,
   "metadata": {},
   "outputs": [],
   "source": [
    "df_history.to_excel(project_path+'/data/processed_data/df_1.6.10_胆道系统疾病.xlsx')"
   ]
  },
  {
   "cell_type": "markdown",
   "metadata": {},
   "source": [
    "### 其他疾病病史"
   ]
  },
  {
   "cell_type": "code",
   "execution_count": 82,
   "metadata": {},
   "outputs": [],
   "source": [
    "df_history.rename(columns={'既往其他病史（1=有，写具体，0=无）':'other_disease'},inplace=True)\n",
    "df_history['other_disease']=df_history['other_disease'].apply(lambda x: np.nan if pd.isnull(x) else\n",
    "                                                                           0 if str(x)=='0' else 1)"
   ]
  },
  {
   "cell_type": "code",
   "execution_count": 83,
   "metadata": {},
   "outputs": [
    {
     "data": {
      "text/plain": [
       "0.0    369\n",
       "1.0    110\n",
       "Name: other_disease, dtype: int64"
      ]
     },
     "execution_count": 83,
     "metadata": {},
     "output_type": "execute_result"
    }
   ],
   "source": [
    "df_history['other_disease'].value_counts()"
   ]
  },
  {
   "cell_type": "code",
   "execution_count": 84,
   "metadata": {},
   "outputs": [],
   "source": [
    "df_history.to_excel(project_path+'/data/processed_data/df_1.6.11_其他疾病病史.xlsx')"
   ]
  },
  {
   "cell_type": "markdown",
   "metadata": {},
   "source": [
    "### 吸烟史"
   ]
  },
  {
   "cell_type": "code",
   "execution_count": 85,
   "metadata": {},
   "outputs": [],
   "source": [
    "# 少量吸烟标记为0\n",
    "df_history.rename(columns={'吸烟史（1=有，0=无）':'smoke'},inplace=True)\n",
    "df_history['smoke']=df_history['smoke'].apply(lambda x: np.nan if pd.isnull(x) else\n",
    "                                                        0 if str(x)=='0' else\n",
    "                                                        0 if re.match('.*?[少无否认].*',str(x)) else 1)"
   ]
  },
  {
   "cell_type": "code",
   "execution_count": 86,
   "metadata": {},
   "outputs": [
    {
     "data": {
      "text/plain": [
       "0    348\n",
       "1    135\n",
       "Name: smoke, dtype: int64"
      ]
     },
     "execution_count": 86,
     "metadata": {},
     "output_type": "execute_result"
    }
   ],
   "source": [
    "df_history['smoke'].value_counts()"
   ]
  },
  {
   "cell_type": "code",
   "execution_count": 87,
   "metadata": {},
   "outputs": [],
   "source": [
    "df_history.to_excel(project_path+'/data/processed_data/df_1.6.12_吸烟史.xlsx')"
   ]
  },
  {
   "cell_type": "markdown",
   "metadata": {},
   "source": [
    "### 饮酒史"
   ]
  },
  {
   "cell_type": "code",
   "execution_count": 88,
   "metadata": {},
   "outputs": [],
   "source": [
    "# 少量饮酒、偶尔饮酒标记为0\n",
    "df_history.rename(columns={'饮酒史（1=有，0=无）':'drinking'},inplace=True)\n",
    "df_history['drinking']=df_history['drinking'].apply(lambda x: np.nan if pd.isnull(x) else\n",
    "                                                        0 if str(x)=='0' else\n",
    "                                                        0 if re.match('.*?[少偶无否认].*',str(x)) else 1)"
   ]
  },
  {
   "cell_type": "code",
   "execution_count": 89,
   "metadata": {},
   "outputs": [
    {
     "data": {
      "text/plain": [
       "0.0    368\n",
       "1.0     91\n",
       "Name: drinking, dtype: int64"
      ]
     },
     "execution_count": 89,
     "metadata": {},
     "output_type": "execute_result"
    }
   ],
   "source": [
    "df_history['drinking'].value_counts()"
   ]
  },
  {
   "cell_type": "code",
   "execution_count": 90,
   "metadata": {},
   "outputs": [],
   "source": [
    "df_history.to_excel(project_path+'/data/processed_data/df_1.6.13_饮酒史.xlsx')"
   ]
  },
  {
   "cell_type": "markdown",
   "metadata": {},
   "source": [
    "### 家族史"
   ]
  },
  {
   "cell_type": "code",
   "execution_count": 91,
   "metadata": {},
   "outputs": [],
   "source": [
    "df_history.rename(columns={'家族史':'family_history'},inplace=True)\n",
    "df_history['family_history']=df_history['family_history'].apply(lambda x: np.nan if pd.isnull(x) else\n",
    "                                                        0 if str(x)=='0' else\n",
    "                                                        0 if re.match('无',str(x)) else 1)"
   ]
  },
  {
   "cell_type": "code",
   "execution_count": 92,
   "metadata": {},
   "outputs": [
    {
     "data": {
      "text/plain": [
       "0.0    447\n",
       "1.0     29\n",
       "Name: family_history, dtype: int64"
      ]
     },
     "execution_count": 92,
     "metadata": {},
     "output_type": "execute_result"
    }
   ],
   "source": [
    "df_history['family_history'].value_counts()"
   ]
  },
  {
   "cell_type": "code",
   "execution_count": 93,
   "metadata": {},
   "outputs": [],
   "source": [
    "df_history.to_excel(project_path+'/data/processed_data/df_1.6.14_家族史.xlsx')"
   ]
  },
  {
   "cell_type": "markdown",
   "metadata": {},
   "source": [
    "### 血型"
   ]
  },
  {
   "cell_type": "code",
   "execution_count": 94,
   "metadata": {},
   "outputs": [],
   "source": [
    "# A型血标记1，B型血标记为2，AB型血标记为3，O型血标记为0\n",
    "df_history.rename(columns={'血型':'blood_type'},inplace=True)\n",
    "df_history['blood_type']=df_history['blood_type'].apply(lambda x: np.nan if pd.isnull(x) else\n",
    "                                                        3 if re.match('AB.*?',str(x)) else\n",
    "                                                        2 if re.match('B.*?',str(x)) else\n",
    "                                                        1 if re.match('A.*?',str(x)) else\n",
    "                                                        0 if re.match('[Oo0].*?',str(x)) else np.nan)"
   ]
  },
  {
   "cell_type": "code",
   "execution_count": 95,
   "metadata": {},
   "outputs": [
    {
     "data": {
      "text/plain": [
       "1.0    44\n",
       "0.0    40\n",
       "2.0    35\n",
       "3.0    18\n",
       "Name: blood_type, dtype: int64"
      ]
     },
     "execution_count": 95,
     "metadata": {},
     "output_type": "execute_result"
    }
   ],
   "source": [
    "df_history['blood_type'].value_counts()"
   ]
  },
  {
   "cell_type": "code",
   "execution_count": 96,
   "metadata": {},
   "outputs": [],
   "source": [
    "df_history.to_excel(project_path+'/data/processed_data/df_1.6.15_血型.xlsx')"
   ]
  },
  {
   "cell_type": "markdown",
   "metadata": {},
   "source": [
    "## 术前检测"
   ]
  },
  {
   "cell_type": "code",
   "execution_count": 97,
   "metadata": {},
   "outputs": [],
   "source": [
    "df_test=df_history.copy()"
   ]
  },
  {
   "cell_type": "code",
   "execution_count": 98,
   "metadata": {},
   "outputs": [],
   "source": [
    "# 删除总胆汁酸\n",
    "df_test=df_test.drop(['总胆汁酸（umol/L）<=12'],axis=1)\n",
    "# 14个变量重命名\n",
    "df_test=df_test.rename(columns={'白细胞计数（*109/L）（3.5-9.5）':'WBC',\n",
    "                                '血红蛋白（g/L)（115-150）':'HGB',\n",
    "                                '血小板计数（*109/L）（125-350）':'PLT',\n",
    "                                '总胆红素（umol/L）（<=23）':'TB',\n",
    "                                '直接胆红素（umol/L）(<=8)':'DB',\n",
    "                                '总蛋白（g/L）65-85':'TP',\n",
    "                                '白蛋白（g/L）40-55':'ALB',\n",
    "                                '球蛋白（g/L）20-40':'LG',\n",
    "                                '白球比 1.2-2.4':'AG',\n",
    "                                '前白蛋白（mg/L）170-420':'PAB',\n",
    "                                '谷丙转氨酶（U/L）7-40':'ALT',\n",
    "                                '谷草转氨酶（U/L）13-35':'AST',\n",
    "                                'γ-GT（U/L）7-45':'GT',\n",
    "                                '碱性磷酸酶（U/L）35-135':'ALP'})"
   ]
  },
  {
   "cell_type": "code",
   "execution_count": 99,
   "metadata": {},
   "outputs": [],
   "source": [
    "df_test['TB']=df_test['TB'].apply(lambda x: str(x).replace('（PTCD后）','').replace('已行PTCD',''))"
   ]
  },
  {
   "cell_type": "code",
   "execution_count": 100,
   "metadata": {},
   "outputs": [
    {
     "data": {
      "text/plain": [
       "(483, 76)"
      ]
     },
     "execution_count": 100,
     "metadata": {},
     "output_type": "execute_result"
    }
   ],
   "source": [
    "df_test.shape"
   ]
  },
  {
   "cell_type": "code",
   "execution_count": 101,
   "metadata": {},
   "outputs": [],
   "source": [
    "df_test.to_excel(project_path+'/data/processed_data/df_1.7_术前检测.xlsx')"
   ]
  },
  {
   "cell_type": "markdown",
   "metadata": {},
   "source": [
    "## 基因水平"
   ]
  },
  {
   "cell_type": "markdown",
   "metadata": {},
   "source": [
    "### 肿瘤指标"
   ]
  },
  {
   "cell_type": "code",
   "execution_count": 102,
   "metadata": {},
   "outputs": [],
   "source": [
    "df_tumor=df_test.copy()"
   ]
  },
  {
   "cell_type": "code",
   "execution_count": 103,
   "metadata": {},
   "outputs": [],
   "source": [
    "### CA19-9，CEA等\n",
    "df_tumor=df_tumor.rename(columns={'AFP ng/ml<20':'tumor_AFP',\n",
    "                                'CEAng/ml <10':'tumor_CEA',\n",
    "                                'CA19-9 u/ml <39':'tumor_CA199',\n",
    "                                'CA125 u/ml <35':'tumor_CA125'})"
   ]
  },
  {
   "cell_type": "markdown",
   "metadata": {},
   "source": [
    "#### AFP异常值处理"
   ]
  },
  {
   "cell_type": "code",
   "execution_count": 104,
   "metadata": {},
   "outputs": [],
   "source": [
    "# 删除文字\n",
    "df_tumor['tumor_AFP']=df_tumor['tumor_AFP'].apply(lambda x: np.nan if pd.isnull(x) else\n",
    "                                                    x if re.match('.*?\\d+.*?',str(x)) else np.nan)\n",
    "# 删除特殊符号\n",
    "df_tumor['tumor_AFP']=df_tumor['tumor_AFP'].apply(filter_spec_character)"
   ]
  },
  {
   "cell_type": "code",
   "execution_count": 105,
   "metadata": {},
   "outputs": [
    {
     "data": {
      "text/plain": [
       "array(['2.8', '3.9', '5.2', '5.3', '4.3', '4.8', '4.1', '3', '7.2', '1.6',\n",
       "       '2.1', nan, '11', '3.2', '7.1', '6', '2.5', '2.4', '4.5', '1.3',\n",
       "       '3.1', '7.3', '2.7', '3.7', '2.6', '11.4', '3.4', '2.2', '4.9',\n",
       "       '4.7', '1', '2.9', '1.5', '1.4', '0.1', '2', '4.6', '4.4', '1.8',\n",
       "       '5.4', '4', '1.2', '1.7', '3.5', '3.6', '6.6', '2.3', '9.18',\n",
       "       '5.7', '5.5', '3.8', '1.9', '4.2', '7.4', '5.9', '14.7', '18.3',\n",
       "       '6.9', '8.3', '10.2', '3.3', '7', '12.2', '407.1', '6.8', '5',\n",
       "       '6.7', '5.1', '6.2', '14.8', '0.9', '11.8', '0.7', '8.8', '3.44',\n",
       "       '3.07', '8.2', '3.06', '19.5', '14.3', '6.3', '6.5', '1.1', '7.7',\n",
       "       '3.11', '1.97', '12.3', '5.84', '4.62', '3.12', '3.79', '7.56',\n",
       "       '3.83', '1.47', '2.62', '3.52', '5.68', '12.1', '9', '4.15',\n",
       "       '3.53', '6.63', '1.24', '2.93', '6.84', '6.91', '4.53', '1.76',\n",
       "       '1.02', '2.29', '3.65', '1210'], dtype=object)"
      ]
     },
     "execution_count": 105,
     "metadata": {},
     "output_type": "execute_result"
    }
   ],
   "source": [
    "df_tumor['tumor_AFP'].unique()"
   ]
  },
  {
   "cell_type": "code",
   "execution_count": 106,
   "metadata": {},
   "outputs": [
    {
     "data": {
      "text/plain": [
       "(464, 76)"
      ]
     },
     "execution_count": 106,
     "metadata": {},
     "output_type": "execute_result"
    }
   ],
   "source": [
    "df_tumor[df_tumor['tumor_AFP'].notnull()].shape"
   ]
  },
  {
   "cell_type": "code",
   "execution_count": 107,
   "metadata": {},
   "outputs": [],
   "source": [
    "df_tumor.to_excel(project_path+'/data/processed_data/df_1.8.1.1_AFP处理.xlsx')"
   ]
  },
  {
   "cell_type": "markdown",
   "metadata": {},
   "source": [
    "#### CEA异常值处理"
   ]
  },
  {
   "cell_type": "code",
   "execution_count": 108,
   "metadata": {},
   "outputs": [],
   "source": [
    "# 删除文字\n",
    "df_tumor['tumor_CEA']=df_tumor['tumor_CEA'].apply(lambda x: np.nan if pd.isnull(x) else\n",
    "                                                x if re.match('.*?\\d+.*?',str(x)) else np.nan)"
   ]
  },
  {
   "cell_type": "code",
   "execution_count": 109,
   "metadata": {},
   "outputs": [
    {
     "data": {
      "text/plain": [
       "array([0.6, 2.3, 2.7, 1.9, 12.5, 3.3, '3.9', '4.4', '3.1', '4.7', '1.8',\n",
       "       '97.7', '7.3', '7.5', 2.1, 3.4, 6.8, 1.4, 3.5, 24.2, 4.6, 4.3, 1.3,\n",
       "       4.4, 5.1, 3.7, 2.9, 3.9, 4.1, 12.7, 2.5, 22.2, 4.2, 67.2, 7.8, 3.6,\n",
       "       7.6, 3, 5.6, 5.3, 2.2, 8.3, 9.1, 103.4, 4.7, 39.2, 1.6, 4, 5.7,\n",
       "       21.6, 15.4, 1.7, nan, 9.9, 10.9, 2.6, 2.8, 10.39, 6.2, 5.8, 2.4,\n",
       "       3.1, 8.8, 3.2, 5, 1.1, 105.4, 0.7, 0.8, 14.1, 4.5, 1.5, 1.2, 12,\n",
       "       8.2, 4.8, 7.3, 26, 1, 8.7, 122.6, 2, 8.4, 4.9, 6.9, '3.0', '6.2',\n",
       "       '2.3', '0.7', '2.0', '3.2', '4.5', '5.5', '18.1', '2.1', '1.3',\n",
       "       '4.8', '4.9', '14.7', '2.2', '4.6', '2.6', '2.8', '0.3', '1.9',\n",
       "       '12.8', '1.5', '21.2', '1.2', '5.3', '10.5', '55.4', '6.7', '2',\n",
       "       '9.7', '3.7', '3.3', '3.8', '20.6', '5.6', '2.9', '1.4', '3.4',\n",
       "       '8.8', '6.1', '9', '3', '6.4', '2.5', '4', '2.7', '5.8', '4.1',\n",
       "       '9.9', '34.7', '8.2', '10.2', '1', '0.9', '7.7', '10', '0.6', '7',\n",
       "       27.2, 1.94, 3.04, 4.38, 5.9, 276, 1.8, 5.2, 10.8, 3.8, 9.06, 23.9,\n",
       "       6.3, 5.4, 13.7, 13.8, 7.9, 12.6, 7.5, 11, 13.4, 10.7, 8.9, 10.5,\n",
       "       0.9, 84.1, 2.14, 1.21, 1.09, 1.79, 6.42, 4.82, 3.11, 12.46, 2.04,\n",
       "       1.56, 4.99, 90.6, 8.62, 1.95, 10.65, 2.42, 7.66, 0.95, 1.51, 1.91,\n",
       "       23.92, 12.79, 5.99, 1.28], dtype=object)"
      ]
     },
     "execution_count": 109,
     "metadata": {},
     "output_type": "execute_result"
    }
   ],
   "source": [
    "df_tumor['tumor_CEA'].unique()"
   ]
  },
  {
   "cell_type": "code",
   "execution_count": 110,
   "metadata": {},
   "outputs": [
    {
     "data": {
      "text/plain": [
       "(471, 76)"
      ]
     },
     "execution_count": 110,
     "metadata": {},
     "output_type": "execute_result"
    }
   ],
   "source": [
    "df_tumor[df_tumor['tumor_CEA'].notnull()].shape"
   ]
  },
  {
   "cell_type": "markdown",
   "metadata": {},
   "source": [
    "#### CA19-9异常处理"
   ]
  },
  {
   "cell_type": "code",
   "execution_count": 111,
   "metadata": {},
   "outputs": [],
   "source": [
    "# 删除特殊符号\n",
    "df_tumor['tumor_CA199']=df_tumor['tumor_CA199'].apply(filter_spec_character)\n",
    "# 最大值设定为1000\n",
    "df_tumor['tumor_CA199']=df_tumor['tumor_CA199'].apply(lambda x: 1000 if float(x)>1000 else x)"
   ]
  },
  {
   "cell_type": "code",
   "execution_count": 112,
   "metadata": {},
   "outputs": [
    {
     "data": {
      "text/plain": [
       "array(['287.8', '1000', '614.5', '215.3', '3.7', '71.9', '341', '134.9',\n",
       "       '113.3', '64.9', '289', '215.9', '99.4', '128.7', '1', '201.4',\n",
       "       '297.5', '359', '58.2', '23.8', '45.6', '106.6', '133.7', '292.6',\n",
       "       '949', '493.1', '78.1', '2.9', '604.1', '330.9', '1.8', '165.9',\n",
       "       '29.7', '48.1', '293', '61.5', '8.8', '486.6', '0.7', '227.7',\n",
       "       '121.5', '308.5', '944.7', '0.5', '558.2', '178.9', '775.3',\n",
       "       '590.8', '658', '155', '176.5', '177.9', '381.8', '856.9', '29.9',\n",
       "       '162.5', '39.6', '33.1', '292.7', '39.3', '309', '38.7', '38.4',\n",
       "       '86.4', '880.6', '262.9', '918.6', '217.7', '1.7', '69.7', '10.2',\n",
       "       '204.2', '206.2', '431.4', '63.6', '28.7', '12.1', '2.7', '86.2',\n",
       "       '146.4', '10.1', '328.7', '407.3', '96.4', '73.9', '846.8', '75.3',\n",
       "       '95.9', '124.6', '50', '143', '324', '659.2', '0.6', '334', '336',\n",
       "       '150', '41.7', '199.7', '152.9', '209.5', '416.7', '106.5',\n",
       "       '100.4', '56.4', '170.3', '2.1', '418', '18.2', '77.3', '82.4',\n",
       "       '10.9', '318.8', '55.4', '85', '331.3', '170.9', '516', '162.4',\n",
       "       '80.7', '506.6', '729.8', '862.8', '42.4', '828.5', '96.6', '47.9',\n",
       "       '573.3', '243.0', '124.1', '195.1', '427.9', '187.9', '79.2',\n",
       "       '399', '9.3', '405.2', '228.3', '91.4', '797.2', '67', '501.7',\n",
       "       '7.9', '96.7', '255.7', '21.4', '636.1', '69.2', '28.5', '102.3',\n",
       "       '156.1', '114.7', '265.4', '22', '34.8', '95.6', '10.8', '26',\n",
       "       '135', '88.7', '288.8', '277.9', '104.6', '158.9', '880.8', '33.3',\n",
       "       '94.2', '84.4', '113.2', '106.9', nan, '72.1', '157.1', '644.2',\n",
       "       '42.8', '16.7', '21.9', '108.1', '10.6', '66.7', '124.8', '846.1',\n",
       "       '643.1', '25.9', '203.4', '236', '200.3', '265.5', '18', '188.7',\n",
       "       '414.6', '68.4', '193.3', '425.1', '151.5', '32.1', '34', '10',\n",
       "       '405.5', '970', '145.6', '32.9', '694.5', '83.7', '865.7', '30.9',\n",
       "       '163.9', '78.8', '173.4', '73.5', '268.5', '69.6', '240.7',\n",
       "       '189.1', '266.1', '103.9', '364.5', '431.3', '210.7', '103.1',\n",
       "       '25.6', '13.9', '41.3', '276.5', '550.4', '0.9', '412.9', '507.6',\n",
       "       '436.7', '745.8', '721.8', '79.9', '389.9', '219.4', '195.5',\n",
       "       '35.2', '24.8', '155.8', '270.1', '281.3', '193.8', '639.5',\n",
       "       '63.1', '235.2', '37.7', '535.1', '229.5', '131.3', '204.9',\n",
       "       '591.5', '218.7', '441.78', '875', '41.9', '474', '80.1', '162.8',\n",
       "       '36.6', '50.7', '70.1', '307.7', '42.7', '1.6', '272.7', '29.2',\n",
       "       '128.8', '322.5', '483.5', '440.4', '205.6', '114.3', '19.2',\n",
       "       '150.2', '356.1', '355.7', '594.3', '295.6', '112.8', '69.8',\n",
       "       '201.5', '157.4', '9', '253.9', '232.3', '2.8', '442.9', '167.4',\n",
       "       '338.3', '36.9', '198.3', '27.1', '82.3', '8.6', '51.1', '222.9',\n",
       "       '411.8', '39.1', '31.7', '110.8', '568.8', '100.5', '93.8',\n",
       "       '107.5', '194.9', '43.9', '78.5', '159.2', '19.9', '24.5', '497.6',\n",
       "       '448.2', '400', '297.6', '420.8', '30.4', '18.1', '149.9', '102.7',\n",
       "       '24', '879.5', '98.8', '250.1', '440', '81.1', '368.3', '18.9',\n",
       "       '40', '190.5', '176.6', '164.2', '23', '260.2', '76.9', '16.17',\n",
       "       '535.2', '680.2', '34.26', '196.8', '29.67', '43.11', '487.5',\n",
       "       '28.91', 1000, '60.48', '1.13', '453', '278.7', '375.9', '375',\n",
       "       '12.34', '166.4', '175.8', '49.79', '322.2', '426.4', '454.7',\n",
       "       '24.27'], dtype=object)"
      ]
     },
     "execution_count": 112,
     "metadata": {},
     "output_type": "execute_result"
    }
   ],
   "source": [
    "df_tumor['tumor_CA199'].unique()"
   ]
  },
  {
   "cell_type": "code",
   "execution_count": 113,
   "metadata": {},
   "outputs": [
    {
     "data": {
      "text/plain": [
       "(477, 76)"
      ]
     },
     "execution_count": 113,
     "metadata": {},
     "output_type": "execute_result"
    }
   ],
   "source": [
    "df_tumor[df_tumor['tumor_CA199'].notnull()].shape"
   ]
  },
  {
   "cell_type": "markdown",
   "metadata": {},
   "source": [
    "#### CA125异常值处理"
   ]
  },
  {
   "cell_type": "code",
   "execution_count": 114,
   "metadata": {},
   "outputs": [
    {
     "data": {
      "text/plain": [
       "(319, 76)"
      ]
     },
     "execution_count": 114,
     "metadata": {},
     "output_type": "execute_result"
    }
   ],
   "source": [
    "df_tumor[df_tumor['tumor_CA125'].notnull()].shape"
   ]
  },
  {
   "cell_type": "markdown",
   "metadata": {},
   "source": [
    "#### 肿瘤最大径"
   ]
  },
  {
   "cell_type": "code",
   "execution_count": 115,
   "metadata": {},
   "outputs": [],
   "source": [
    "# 肿瘤最大径（cm）\n",
    "df_tumor.rename(columns={'肿瘤最大径（cm）':'tumor_size'},inplace=True)\n",
    "# 3*3cm提取直径\n",
    "df_tumor['tumor_size']=df_tumor['tumor_size'].apply(lambda x: re.findall(r'[*](\\d+?)cm',str(x))[0] if '*' in str(x) else x)\n",
    "# 剔除cm和?\n",
    "df_tumor['tumor_size']=df_tumor['tumor_size'].apply(lambda x: str(x).replace('cm','').replace('?',''))"
   ]
  },
  {
   "cell_type": "code",
   "execution_count": 116,
   "metadata": {},
   "outputs": [],
   "source": [
    "# 剔除cm\n",
    "df_tumor['tumor_size']=df_tumor['tumor_size'].apply(filter_spec_character)"
   ]
  },
  {
   "cell_type": "code",
   "execution_count": 117,
   "metadata": {},
   "outputs": [],
   "source": [
    "# 删除文字\n",
    "df_tumor['tumor_size']=df_tumor['tumor_size'].apply(lambda x: np.nan if pd.isnull(x) else\n",
    "                                        x if re.match('.*?\\d+.*?',str(x)) else np.nan)"
   ]
  },
  {
   "cell_type": "code",
   "execution_count": 118,
   "metadata": {},
   "outputs": [
    {
     "data": {
      "text/plain": [
       "array(['1', '3', '3.1', '1.8', '2.1', '2', '2.5', '4', nan, '6', '5',\n",
       "       '1.2', '0', '8', '1.1', '1.5', '3.5', '7.2', '4.1', '4.2', '3.2',\n",
       "       '3.4', '2.2', '5.8', '4.5', '2.8', '0.5', '1.3', '8.3'],\n",
       "      dtype=object)"
      ]
     },
     "execution_count": 118,
     "metadata": {},
     "output_type": "execute_result"
    }
   ],
   "source": [
    "df_tumor['tumor_size'].unique()"
   ]
  },
  {
   "cell_type": "code",
   "execution_count": 119,
   "metadata": {},
   "outputs": [
    {
     "data": {
      "text/plain": [
       "(370, 76)"
      ]
     },
     "execution_count": 119,
     "metadata": {},
     "output_type": "execute_result"
    }
   ],
   "source": [
    "df_tumor[df_tumor['tumor_size'].notnull()].shape"
   ]
  },
  {
   "cell_type": "code",
   "execution_count": 120,
   "metadata": {},
   "outputs": [],
   "source": [
    "df_tumor.to_excel(project_path+'/data/processed_data/df_1.8.1_肿瘤指标.xlsx')"
   ]
  },
  {
   "cell_type": "markdown",
   "metadata": {},
   "source": [
    "### 乙肝丙肝"
   ]
  },
  {
   "cell_type": "code",
   "execution_count": 121,
   "metadata": {},
   "outputs": [],
   "source": [
    "df_HB=df_tumor.copy()"
   ]
  },
  {
   "cell_type": "code",
   "execution_count": 122,
   "metadata": {},
   "outputs": [],
   "source": [
    "# 乙肝表面抗原（阳性=1，阴性=0）\n",
    "df_HB.rename(columns={'乙肝表面抗原（阳性=1，阴性=0）':'HBsAg'},inplace=True)\n",
    "df_HB['HBsAg']=df_HB['HBsAg'].apply(lambda x: np.nan if pd.isnull(x) else\n",
    "                                                    0 if str(x)=='0' else \n",
    "                                                    1 if str(x)=='1' else x)"
   ]
  },
  {
   "cell_type": "code",
   "execution_count": 123,
   "metadata": {},
   "outputs": [
    {
     "data": {
      "text/plain": [
       "0.0    417\n",
       "1.0     21\n",
       "Name: HBsAg, dtype: int64"
      ]
     },
     "execution_count": 123,
     "metadata": {},
     "output_type": "execute_result"
    }
   ],
   "source": [
    "df_HB['HBsAg'].value_counts()"
   ]
  },
  {
   "cell_type": "code",
   "execution_count": 124,
   "metadata": {},
   "outputs": [],
   "source": [
    "# 乙肝e抗原（阳性=1，阴性=0）\n",
    "df_HB.rename(columns={'乙肝e抗原（阳性=1，阴性=0）':'HBeAg'},inplace=True)\n",
    "df_HB['HBeAg']=df_HB['HBeAg'].apply(lambda x: np.nan if pd.isnull(x) else\n",
    "                                                    0 if str(x)=='0' else \n",
    "                                                    1 if str(x)=='1' else x)"
   ]
  },
  {
   "cell_type": "code",
   "execution_count": 125,
   "metadata": {},
   "outputs": [
    {
     "data": {
      "text/plain": [
       "0.0    406\n",
       "1.0      4\n",
       "Name: HBeAg, dtype: int64"
      ]
     },
     "execution_count": 125,
     "metadata": {},
     "output_type": "execute_result"
    }
   ],
   "source": [
    "df_HB['HBeAg'].value_counts()"
   ]
  },
  {
   "cell_type": "code",
   "execution_count": 126,
   "metadata": {},
   "outputs": [],
   "source": [
    "# 乙肝e抗体（阳性=1，阴性=0）\n",
    "df_HB.rename(columns={'乙肝e抗体（阳性=1，阴性=0）':'HBeAb'},inplace=True)\n",
    "df_HB['HBeAb']=df_HB['HBeAb'].apply(lambda x: np.nan if pd.isnull(x) else\n",
    "                                                    0 if str(x)=='0' else \n",
    "                                                    1 if str(x)=='1' else x)"
   ]
  },
  {
   "cell_type": "code",
   "execution_count": 127,
   "metadata": {},
   "outputs": [
    {
     "data": {
      "text/plain": [
       "0.0    300\n",
       "1.0    110\n",
       "Name: HBeAb, dtype: int64"
      ]
     },
     "execution_count": 127,
     "metadata": {},
     "output_type": "execute_result"
    }
   ],
   "source": [
    "df_HB['HBeAb'].value_counts()"
   ]
  },
  {
   "cell_type": "code",
   "execution_count": 128,
   "metadata": {},
   "outputs": [],
   "source": [
    "# 乙肝核心抗体（阳性=1，阴性=0）\n",
    "df_HB.rename(columns={'乙肝核心抗体（阳性=1，阴性=0）':'HBcAb'},inplace=True)\n",
    "df_HB['HBcAb']=df_HB['HBcAb'].apply(lambda x: np.nan if pd.isnull(x) else\n",
    "                                                    0 if str(x)=='0' else \n",
    "                                                    1 if str(x)=='1' else x)"
   ]
  },
  {
   "cell_type": "code",
   "execution_count": 129,
   "metadata": {},
   "outputs": [
    {
     "data": {
      "text/plain": [
       "1.0    268\n",
       "0.0    141\n",
       "Name: HBcAb, dtype: int64"
      ]
     },
     "execution_count": 129,
     "metadata": {},
     "output_type": "execute_result"
    }
   ],
   "source": [
    "df_HB['HBcAb'].value_counts()"
   ]
  },
  {
   "cell_type": "code",
   "execution_count": 130,
   "metadata": {},
   "outputs": [],
   "source": [
    "# 丙肝抗体（阳性=1，阴性=0）\n",
    "df_HB.rename(columns={'丙肝抗体（阳性=1，阴性=0）':'HCVAb'},inplace=True)\n",
    "df_HB['HCVAb']=df_HB['HCVAb'].apply(lambda x: np.nan if pd.isnull(x) else\n",
    "                                                    0 if str(x)=='0' else \n",
    "                                                    1 if str(x)=='1' else x)"
   ]
  },
  {
   "cell_type": "code",
   "execution_count": 131,
   "metadata": {},
   "outputs": [
    {
     "data": {
      "text/plain": [
       "0.0    401\n",
       "1.0      3\n",
       "Name: HCVAb, dtype: int64"
      ]
     },
     "execution_count": 131,
     "metadata": {},
     "output_type": "execute_result"
    }
   ],
   "source": [
    "df_HB['HCVAb'].value_counts()"
   ]
  },
  {
   "cell_type": "code",
   "execution_count": 132,
   "metadata": {},
   "outputs": [],
   "source": [
    "# 有无肝硬化（有=1，无=0）\n",
    "df_HB.rename(columns={'有无肝硬化（有=1，无=0）':'LC'},inplace=True)\n",
    "df_HB['LC']=df_HB['LC'].apply(lambda x: np.nan if pd.isnull(x) else\n",
    "                                                    0 if str(x)=='0' else \n",
    "                                                    1 if str(x)=='1' else x)"
   ]
  },
  {
   "cell_type": "code",
   "execution_count": 133,
   "metadata": {},
   "outputs": [
    {
     "data": {
      "text/plain": [
       "0.0    348\n",
       "1.0     10\n",
       "Name: LC, dtype: int64"
      ]
     },
     "execution_count": 133,
     "metadata": {},
     "output_type": "execute_result"
    }
   ],
   "source": [
    "df_HB['LC'].value_counts()"
   ]
  },
  {
   "cell_type": "code",
   "execution_count": 134,
   "metadata": {},
   "outputs": [],
   "source": [
    "df_HB.to_excel(project_path+'/data/processed_data/df_1.8.2_乙肝丙肝.xlsx')"
   ]
  },
  {
   "cell_type": "markdown",
   "metadata": {},
   "source": [
    "### 术前术后分期"
   ]
  },
  {
   "cell_type": "code",
   "execution_count": 135,
   "metadata": {},
   "outputs": [],
   "source": [
    "df_staging=df_HB.copy()"
   ]
  },
  {
   "cell_type": "markdown",
   "metadata": {},
   "source": [
    "#### 术后AJCC-8分期"
   ]
  },
  {
   "cell_type": "code",
   "execution_count": 136,
   "metadata": {},
   "outputs": [
    {
     "name": "stdout",
     "output_type": "stream",
     "text": [
      "true\n"
     ]
    }
   ],
   "source": [
    "if re.match('.*?ⅢA|Ⅲa.*?','ⅢA'):\n",
    "    print('true')"
   ]
  },
  {
   "cell_type": "code",
   "execution_count": 137,
   "metadata": {},
   "outputs": [],
   "source": [
    "'''\n",
    "术后病理AJCC-8分期\n",
    "标签：0、I、II、III、IVA -- 0、1、2、3、4\n",
    "'''\n",
    "df_staging.rename(columns={'术后病理AJCC-8分期':'AJCC_8'},inplace=True)\n",
    "df_staging['AJCC_8']=df_staging['AJCC_8'].apply(lambda x: np.nan if pd.isnull(x) else \n",
    "                                                        np.nan if str(x)=='未手术' else\n",
    "                                                        0 if str(x)=='0' else \n",
    "                                                        1 if re.match('.*?Ⅰ.*?',str(x)) else\n",
    "                                                        2 if re.match('.*?Ⅱ.*?',str(x)) else\n",
    "                                                        3 if re.match('.*?Ⅲ.*?',str(x)) else\n",
    "                                                        4 if re.match('.*?Ⅳ.*?',str(x)) else x)"
   ]
  },
  {
   "cell_type": "code",
   "execution_count": 138,
   "metadata": {},
   "outputs": [
    {
     "data": {
      "text/plain": [
       "3.0    217\n",
       "2.0    172\n",
       "4.0     50\n",
       "0.0      5\n",
       "1.0      1\n",
       "Name: AJCC_8, dtype: int64"
      ]
     },
     "execution_count": 138,
     "metadata": {},
     "output_type": "execute_result"
    }
   ],
   "source": [
    "df_staging['AJCC_8'].value_counts()"
   ]
  },
  {
   "cell_type": "markdown",
   "metadata": {},
   "source": [
    "#### 术前Gazzaniga T 分期"
   ]
  },
  {
   "cell_type": "code",
   "execution_count": 139,
   "metadata": {},
   "outputs": [],
   "source": [
    "'''\n",
    "术前Gazzaniga T 分期\n",
    "标签：I、II、III、IV -- 1、2、3、4\n",
    "'''\n",
    "df_staging.rename(columns={'术前Gazzaniga T 分期':'Gazzaniga_T'},inplace=True)\n",
    "df_staging['Gazzaniga_T']=df_staging['Gazzaniga_T'].apply(lambda x: np.nan if pd.isnull(x) else \n",
    "                                                        np.nan if str(x)=='未手术' else\n",
    "                                                        1 if re.match('.*?Ⅰ|T1.*?',str(x)) else\n",
    "                                                        2 if re.match('.*?Ⅱ.*?',str(x)) else\n",
    "                                                        3 if re.match('.*?Ⅲ.*?',str(x)) else\n",
    "                                                        4 if re.match('.*?Ⅳ.*?',str(x)) else x)"
   ]
  },
  {
   "cell_type": "code",
   "execution_count": 140,
   "metadata": {},
   "outputs": [
    {
     "data": {
      "text/plain": [
       "1.0    265\n",
       "3.0     75\n",
       "2.0     55\n",
       "4.0     47\n",
       "Name: Gazzaniga_T, dtype: int64"
      ]
     },
     "execution_count": 140,
     "metadata": {},
     "output_type": "execute_result"
    }
   ],
   "source": [
    "df_staging['Gazzaniga_T'].value_counts()"
   ]
  },
  {
   "cell_type": "markdown",
   "metadata": {},
   "source": [
    "#### 术前MSKCC 分期"
   ]
  },
  {
   "cell_type": "code",
   "execution_count": 141,
   "metadata": {},
   "outputs": [],
   "source": [
    "'''\n",
    "术前MSKCC 分期\n",
    "标签：I、II、III -- 1、2、3\n",
    "'''\n",
    "df_staging.rename(columns={'术前MSKCC 分期':'MSKCC'},inplace=True)\n",
    "df_staging['MSKCC']=df_staging['MSKCC'].apply(lambda x: np.nan if pd.isnull(x) else \n",
    "                                                        np.nan if str(x)=='未手术' else\n",
    "                                                        1 if re.match('.*?Ⅰ|T1.*?',str(x)) else\n",
    "                                                        2 if re.match('.*?Ⅱ|T2.*?',str(x)) else\n",
    "                                                        3 if re.match('.*?Ⅲ|T3.*?',str(x)) else x)"
   ]
  },
  {
   "cell_type": "code",
   "execution_count": 142,
   "metadata": {},
   "outputs": [
    {
     "data": {
      "text/plain": [
       "1.0    271\n",
       "3.0    110\n",
       "2.0     61\n",
       "Name: MSKCC, dtype: int64"
      ]
     },
     "execution_count": 142,
     "metadata": {},
     "output_type": "execute_result"
    }
   ],
   "source": [
    "df_staging['MSKCC'].value_counts()"
   ]
  },
  {
   "cell_type": "markdown",
   "metadata": {},
   "source": [
    "#### 术前Blumgart T分期"
   ]
  },
  {
   "cell_type": "code",
   "execution_count": 143,
   "metadata": {},
   "outputs": [],
   "source": [
    "'''\n",
    "术前Blumgart T分期\n",
    "标签：I、II、III、IV -- 1、2、3、4\n",
    "'''\n",
    "df_staging.rename(columns={'术前Blumgart T分期':'Blumgart_T'},inplace=True)\n",
    "df_staging['Blumgart_T']=df_staging['Blumgart_T'].apply(lambda x: np.nan if pd.isnull(x) else \n",
    "                                                        np.nan if str(x)=='未手术' else\n",
    "                                                        1 if re.match('.*?Ⅰ|T1.*?',str(x)) else\n",
    "                                                        2 if re.match('.*?Ⅱ|T2.*?',str(x)) else\n",
    "                                                        3 if re.match('.*?Ⅲ|T3.*?',str(x)) else\n",
    "                                                        4 if re.match('.*?Ⅳ|T4.*?',str(x)) else x)"
   ]
  },
  {
   "cell_type": "code",
   "execution_count": 144,
   "metadata": {},
   "outputs": [
    {
     "data": {
      "text/plain": [
       "1.0    270\n",
       "4.0    110\n",
       "3.0     41\n",
       "2.0     21\n",
       "Name: Blumgart_T, dtype: int64"
      ]
     },
     "execution_count": 144,
     "metadata": {},
     "output_type": "execute_result"
    }
   ],
   "source": [
    "df_staging['Blumgart_T'].value_counts()"
   ]
  },
  {
   "cell_type": "markdown",
   "metadata": {},
   "source": [
    "#### 解剖学Bismuth-Corlette分型"
   ]
  },
  {
   "cell_type": "code",
   "execution_count": 145,
   "metadata": {},
   "outputs": [],
   "source": [
    "'''\n",
    "解剖学Bismuth-Corlette分型\n",
    "标签：I、II、III、IV -- 1、2、3、4\n",
    "'''\n",
    "df_staging.rename(columns={'解剖学Bismuth-Corlette分型':'Bismuth_C'},inplace=True)\n",
    "df_staging['Bismuth_C']=df_staging['Bismuth_C'].apply(lambda x: np.nan if pd.isnull(x) else \n",
    "                                                        1 if re.match('.*?Ⅰ.*?',str(x)) else\n",
    "                                                        2 if re.match('.*?Ⅱ.*?',str(x)) else\n",
    "                                                        3 if re.match('.*?Ⅲ|III.*?',str(x)) else\n",
    "                                                        4 if re.match('.*?Ⅳ.*?',str(x)) else np.nan)"
   ]
  },
  {
   "cell_type": "code",
   "execution_count": 146,
   "metadata": {},
   "outputs": [
    {
     "data": {
      "text/plain": [
       "3.0    262\n",
       "4.0     67\n",
       "1.0     64\n",
       "2.0     53\n",
       "Name: Bismuth_C, dtype: int64"
      ]
     },
     "execution_count": 146,
     "metadata": {},
     "output_type": "execute_result"
    }
   ],
   "source": [
    "df_staging['Bismuth_C'].value_counts()"
   ]
  },
  {
   "cell_type": "code",
   "execution_count": 147,
   "metadata": {},
   "outputs": [],
   "source": [
    "df_staging.to_excel(project_path+'/data/processed_data/df_1.8.3_术前术后分型.xlsx')"
   ]
  },
  {
   "cell_type": "markdown",
   "metadata": {},
   "source": [
    "### 手术surgery"
   ]
  },
  {
   "cell_type": "code",
   "execution_count": 148,
   "metadata": {},
   "outputs": [],
   "source": [
    "df_surgery=df_staging.copy()"
   ]
  },
  {
   "cell_type": "markdown",
   "metadata": {},
   "source": [
    "#### 术前PTCD、ERCP等减黄（1=有，0=无）"
   ]
  },
  {
   "cell_type": "code",
   "execution_count": 149,
   "metadata": {},
   "outputs": [
    {
     "name": "stdout",
     "output_type": "stream",
     "text": [
      "true\n"
     ]
    }
   ],
   "source": [
    "if re.match('.*?E.*?PTCD.*?|.*?PTCD.*?E.*?','EM,203PTCD'):\n",
    "    print('true')"
   ]
  },
  {
   "cell_type": "code",
   "execution_count": 150,
   "metadata": {},
   "outputs": [],
   "source": [
    "'''\n",
    "术前PTCD、ERCP等减黄（1=有，0=无）\n",
    "标签:0、PTCD、ERCP、PTCD+ERCP --0、1、2、3\n",
    "'''\n",
    "df_surgery.rename(columns={'术前PTCD、ERCP等减黄（1=有，0=无）':'PTCD_ERCP'},inplace=True)\n",
    "df_surgery['PTCD_ERCP']=df_surgery['PTCD_ERCP'].apply(lambda x: np.nan if pd.isnull(x) else\n",
    "                                                                0 if str(x)=='0' else\n",
    "                                                                1 if str(x)=='1' else\n",
    "                                                                3 if re.match('.*?E.*?PTCD.*?|.*?PTCD.*?E.*?',str(x)) else\n",
    "                                                                1 if re.match('.*?PTCD.*?',str(x)) else\n",
    "                                                                2 if re.match('.*?E.*?',str(x)) else np.nan)"
   ]
  },
  {
   "cell_type": "code",
   "execution_count": 151,
   "metadata": {},
   "outputs": [
    {
     "data": {
      "text/plain": [
       "1.0    252\n",
       "0.0    155\n",
       "2.0     31\n",
       "3.0     15\n",
       "Name: PTCD_ERCP, dtype: int64"
      ]
     },
     "execution_count": 151,
     "metadata": {},
     "output_type": "execute_result"
    }
   ],
   "source": [
    "df_surgery['PTCD_ERCP'].value_counts()"
   ]
  },
  {
   "cell_type": "markdown",
   "metadata": {},
   "source": [
    "#### 术中出血（ml）"
   ]
  },
  {
   "cell_type": "code",
   "execution_count": 152,
   "metadata": {},
   "outputs": [],
   "source": [
    "'''\n",
    "术中出血（ml）\n",
    "出血少：定义为150；出血0定义为10ml\n",
    "'''\n",
    "df_surgery.rename(columns={'术中出血（ml）':'surgery_bleeding'},inplace=True)\n",
    "df_surgery['surgery_bleeding']=df_surgery['surgery_bleeding'].apply(lambda x: np.nan if pd.isnull(x) else\n",
    "                                                                10 if str(x)=='0' else\n",
    "                                                                150 if re.match('[出血少不多]',str(x)) else\n",
    "                                                                int(x) if re.match('\\d+?',str(x)) else np.nan)"
   ]
  },
  {
   "cell_type": "code",
   "execution_count": 153,
   "metadata": {},
   "outputs": [
    {
     "data": {
      "text/plain": [
       "(431, 76)"
      ]
     },
     "execution_count": 153,
     "metadata": {},
     "output_type": "execute_result"
    }
   ],
   "source": [
    "df_surgery[df_surgery['surgery_bleeding'].notnull()].shape"
   ]
  },
  {
   "cell_type": "code",
   "execution_count": 154,
   "metadata": {},
   "outputs": [
    {
     "data": {
      "text/plain": [
       "150.0     74\n",
       "200.0     73\n",
       "300.0     63\n",
       "400.0     51\n",
       "500.0     40\n",
       "600.0     28\n",
       "100.0     28\n",
       "800.0     20\n",
       "700.0      8\n",
       "1500.0     6\n",
       "1000.0     6\n",
       "50.0       6\n",
       "1200.0     5\n",
       "250.0      4\n",
       "350.0      4\n",
       "1600.0     2\n",
       "80.0       2\n",
       "2000.0     2\n",
       "4000.0     2\n",
       "1300.0     1\n",
       "5.0        1\n",
       "450.0      1\n",
       "10.0       1\n",
       "1400.0     1\n",
       "20.0       1\n",
       "750.0      1\n",
       "Name: surgery_bleeding, dtype: int64"
      ]
     },
     "execution_count": 154,
     "metadata": {},
     "output_type": "execute_result"
    }
   ],
   "source": [
    "df_surgery['surgery_bleeding'].value_counts()"
   ]
  },
  {
   "cell_type": "markdown",
   "metadata": {},
   "source": [
    "#### 输红细胞悬液（u）"
   ]
  },
  {
   "cell_type": "code",
   "execution_count": 155,
   "metadata": {},
   "outputs": [],
   "source": [
    "# 输红细胞悬液（u）\n",
    "df_surgery.rename(columns={'输红细胞悬液（u）':'surgery_CRCS'},inplace=True)\n",
    "df_surgery['surgery_CRCS']=df_surgery['surgery_CRCS'].apply(lambda x: np.nan if pd.isnull(x) else\n",
    "                                                            int(x) if re.match('\\d+?',str(x)) else np.nan)"
   ]
  },
  {
   "cell_type": "code",
   "execution_count": 156,
   "metadata": {},
   "outputs": [
    {
     "data": {
      "text/plain": [
       "(430, 76)"
      ]
     },
     "execution_count": 156,
     "metadata": {},
     "output_type": "execute_result"
    }
   ],
   "source": [
    "df_surgery[df_surgery['surgery_CRCS'].notnull()].shape"
   ]
  },
  {
   "cell_type": "code",
   "execution_count": 157,
   "metadata": {},
   "outputs": [
    {
     "data": {
      "text/plain": [
       "0.0       310\n",
       "4.0        42\n",
       "2.0        28\n",
       "3.0        20\n",
       "6.0         6\n",
       "300.0       5\n",
       "8.0         5\n",
       "5.0         5\n",
       "600.0       3\n",
       "12.0        2\n",
       "1200.0      1\n",
       "20.0        1\n",
       "1.0         1\n",
       "10.0        1\n",
       "Name: surgery_CRCS, dtype: int64"
      ]
     },
     "execution_count": 157,
     "metadata": {},
     "output_type": "execute_result"
    }
   ],
   "source": [
    "df_surgery['surgery_CRCS'].value_counts()"
   ]
  },
  {
   "cell_type": "markdown",
   "metadata": {},
   "source": [
    "#### 输血浆（ml）"
   ]
  },
  {
   "cell_type": "code",
   "execution_count": 158,
   "metadata": {},
   "outputs": [],
   "source": [
    "# 输血浆（ml）\n",
    "df_surgery.rename(columns={'输血浆（ml）':'surgery_plasm'},inplace=True)\n",
    "df_surgery['surgery_plasm']=df_surgery['surgery_plasm'].apply(lambda x: np.nan if pd.isnull(x) else\n",
    "                                                            int(x) if re.match('\\d+?',str(x)) else np.nan)"
   ]
  },
  {
   "cell_type": "code",
   "execution_count": 159,
   "metadata": {},
   "outputs": [
    {
     "data": {
      "text/plain": [
       "(428, 76)"
      ]
     },
     "execution_count": 159,
     "metadata": {},
     "output_type": "execute_result"
    }
   ],
   "source": [
    "df_surgery[df_surgery['surgery_plasm'].notnull()].shape"
   ]
  },
  {
   "cell_type": "code",
   "execution_count": 160,
   "metadata": {},
   "outputs": [
    {
     "data": {
      "text/plain": [
       "0.0       272\n",
       "400.0      61\n",
       "600.0      33\n",
       "800.0      24\n",
       "200.0      18\n",
       "1000.0     10\n",
       "300.0       3\n",
       "1400.0      2\n",
       "1200.0      2\n",
       "1100.0      1\n",
       "2800.0      1\n",
       "1600.0      1\n",
       "Name: surgery_plasm, dtype: int64"
      ]
     },
     "execution_count": 160,
     "metadata": {},
     "output_type": "execute_result"
    }
   ],
   "source": [
    "df_surgery['surgery_plasm'].value_counts()"
   ]
  },
  {
   "cell_type": "markdown",
   "metadata": {},
   "source": [
    "#### 冷沉淀（u）"
   ]
  },
  {
   "cell_type": "code",
   "execution_count": 161,
   "metadata": {},
   "outputs": [],
   "source": [
    "# 冷沉淀（u）\n",
    "df_surgery.rename(columns={'冷沉淀（u）':'surgery_CP'},inplace=True)"
   ]
  },
  {
   "cell_type": "code",
   "execution_count": 162,
   "metadata": {},
   "outputs": [
    {
     "data": {
      "text/plain": [
       "0.0     342\n",
       "10.0      3\n",
       "31.0      1\n",
       "20.0      1\n",
       "Name: surgery_CP, dtype: int64"
      ]
     },
     "execution_count": 162,
     "metadata": {},
     "output_type": "execute_result"
    }
   ],
   "source": [
    "df_surgery['surgery_CP'].value_counts()"
   ]
  },
  {
   "cell_type": "markdown",
   "metadata": {},
   "source": [
    "#### 手术根治情况"
   ]
  },
  {
   "cell_type": "code",
   "execution_count": 163,
   "metadata": {},
   "outputs": [],
   "source": [
    "# 手术根治情况（1=R0切除；2=R1切除；3=R2切除；4=剖腹探查、活检）\n",
    "df_surgery.rename(columns={'手术根治情况（1=R0切除；2=R1切除；3=R2切除；4=剖腹探查、活检）':'surgery_result'},inplace=True)\n",
    "df_surgery['surgery_result']=df_surgery['surgery_result'].apply(lambda x: np.nan if pd.isnull(x) else\n",
    "                                                                1 if re.match('1',str(x)) else\n",
    "                                                                2 if re.match('2',str(x)) else\n",
    "                                                                3 if re.match('3',str(x)) else\n",
    "                                                                4 if re.match('4',str(x)) else np.nan)"
   ]
  },
  {
   "cell_type": "code",
   "execution_count": 164,
   "metadata": {},
   "outputs": [
    {
     "data": {
      "text/plain": [
       "1.0    305\n",
       "4.0     65\n",
       "3.0     31\n",
       "2.0     29\n",
       "Name: surgery_result, dtype: int64"
      ]
     },
     "execution_count": 164,
     "metadata": {},
     "output_type": "execute_result"
    }
   ],
   "source": [
    "df_surgery['surgery_result'].value_counts()"
   ]
  },
  {
   "cell_type": "code",
   "execution_count": 165,
   "metadata": {},
   "outputs": [],
   "source": [
    "df_surgery.to_excel(project_path+'/data/processed_data/df_1.8.4_手术surgery.xlsx')"
   ]
  },
  {
   "cell_type": "markdown",
   "metadata": {},
   "source": [
    "### 基因突变"
   ]
  },
  {
   "cell_type": "code",
   "execution_count": 166,
   "metadata": {},
   "outputs": [],
   "source": [
    "df_gene=df_surgery.copy()"
   ]
  },
  {
   "cell_type": "markdown",
   "metadata": {},
   "source": [
    "#### 基因指标"
   ]
  },
  {
   "cell_type": "code",
   "execution_count": 167,
   "metadata": {},
   "outputs": [],
   "source": [
    "df_gene.rename(columns={'基因突变':'gene_mutation'},inplace=True)"
   ]
  },
  {
   "cell_type": "markdown",
   "metadata": {},
   "source": [
    "#### 微卫星不稳"
   ]
  },
  {
   "cell_type": "code",
   "execution_count": 168,
   "metadata": {},
   "outputs": [],
   "source": [
    "'''\n",
    "微卫星不稳\n",
    "标签：MSS--0；MSI-H--1\n",
    "'''\n",
    "df_gene.rename(columns={'微卫星不稳':'gene_MSI'},inplace=True)\n",
    "df_gene['gene_MSI']=df_gene['gene_MSI'].apply(lambda x: np.nan if pd.isnull(x) else\n",
    "                                                        0 if re.match('MSS',str(x)) else\n",
    "                                                        1 if re.match('MSI-H',str(x)) else np.nan)"
   ]
  },
  {
   "cell_type": "code",
   "execution_count": 169,
   "metadata": {},
   "outputs": [
    {
     "data": {
      "text/plain": [
       "0.0    28\n",
       "1.0     1\n",
       "Name: gene_MSI, dtype: int64"
      ]
     },
     "execution_count": 169,
     "metadata": {},
     "output_type": "execute_result"
    }
   ],
   "source": [
    "df_gene['gene_MSI'].value_counts()"
   ]
  },
  {
   "cell_type": "markdown",
   "metadata": {},
   "source": [
    "#### TMB"
   ]
  },
  {
   "cell_type": "code",
   "execution_count": 170,
   "metadata": {},
   "outputs": [],
   "source": [
    "# TMB\n",
    "df_gene['TMB']=df_gene['TMB'].apply(lambda x: np.nan if pd.isnull(x) else\n",
    "                                            np.nan if not re.match('.*?\\d.*?',str(x)) else\n",
    "                                            re.findall('\\d\\.\\d',str(x))[0])"
   ]
  },
  {
   "cell_type": "code",
   "execution_count": 171,
   "metadata": {},
   "outputs": [
    {
     "data": {
      "text/plain": [
       "0.5    1\n",
       "1.7    1\n",
       "2.8    1\n",
       "1.4    1\n",
       "6.1    1\n",
       "1.5    1\n",
       "7.7    1\n",
       "Name: TMB, dtype: int64"
      ]
     },
     "execution_count": 171,
     "metadata": {},
     "output_type": "execute_result"
    }
   ],
   "source": [
    "df_gene['TMB'].value_counts()"
   ]
  },
  {
   "cell_type": "code",
   "execution_count": 172,
   "metadata": {},
   "outputs": [],
   "source": [
    "df_gene.to_excel(project_path+'/data/processed_data/df_1.8.5_基因指标.xlsx')"
   ]
  },
  {
   "cell_type": "markdown",
   "metadata": {},
   "source": [
    "## 免疫组化"
   ]
  },
  {
   "cell_type": "code",
   "execution_count": 173,
   "metadata": {},
   "outputs": [],
   "source": [
    "df_IHC=df_gene.copy()"
   ]
  },
  {
   "cell_type": "code",
   "execution_count": 174,
   "metadata": {},
   "outputs": [],
   "source": [
    "IHC_col=['CDX-2','CEA','CK5/6','CK7','CK19','CK20','MUC-1','MOC-31','PD-1','PD-L1(DAKO,22C3)']\n",
    "# 将可疑阳性0.5替换1\n",
    "for i in IHC_col:\n",
    "    df_IHC[i]=df_IHC[i].apply(lambda x: np.nan if pd.isnull(x) else 1 if str(x)=='0.5' else x)"
   ]
  },
  {
   "cell_type": "code",
   "execution_count": 175,
   "metadata": {},
   "outputs": [],
   "source": [
    "# 重命名\n",
    "df_IHC=df_IHC.rename(columns={'CDX-2':'IHC_cdx2',\n",
    "                              'CEA':'IHC_cea',\n",
    "                              'CK5/6':'IHC_ck5',\n",
    "                              'CK7':'IHC_ck7',\n",
    "                              'CK19':'IHC_ck19',\n",
    "                              'CK20':'IHC_ck20',\n",
    "                              'MUC-1':'IHC_muc1',\n",
    "                              'MOC-31':'IHC_moc31',\n",
    "                              'PD-1':'IHC_pd1',\n",
    "                              'PD-L1(DAKO,22C3)':'IHC_pdl1'})"
   ]
  },
  {
   "cell_type": "markdown",
   "metadata": {},
   "source": [
    "### PD-L1"
   ]
  },
  {
   "cell_type": "code",
   "execution_count": 176,
   "metadata": {},
   "outputs": [],
   "source": [
    "'''\n",
    "PD-L1\n",
    "标签：阴性--0，表示pdl1<1%; 阳性--1，表示pdl1>=1%\n",
    "'''\n",
    "df_IHC['IHC_pdl1']=df_IHC['IHC_pdl1'].apply(lambda x: np.nan if pd.isnull(x) else\n",
    "                                                      0 if re.match('.*<1%|阴性.*?',str(x)) else\n",
    "                                                      1 if re.match('.*?阳性.*?',str(x)) else\n",
    "                                                      0 if float(x)<0.01 else \n",
    "                                                      1 if float(x)>=0.01 else np.nan)"
   ]
  },
  {
   "cell_type": "code",
   "execution_count": 177,
   "metadata": {},
   "outputs": [
    {
     "data": {
      "text/plain": [
       "0.0    15\n",
       "1.0     3\n",
       "Name: IHC_pdl1, dtype: int64"
      ]
     },
     "execution_count": 177,
     "metadata": {},
     "output_type": "execute_result"
    }
   ],
   "source": [
    "df_IHC['IHC_pdl1'].value_counts()"
   ]
  },
  {
   "cell_type": "code",
   "execution_count": 178,
   "metadata": {},
   "outputs": [],
   "source": [
    "df_IHC.to_excel(project_path+'/data/processed_data/df_1.9_免疫组化.xlsx')"
   ]
  },
  {
   "cell_type": "markdown",
   "metadata": {},
   "source": [
    "# 目标变量"
   ]
  },
  {
   "cell_type": "code",
   "execution_count": 179,
   "metadata": {},
   "outputs": [],
   "source": [
    "df_target=df_IHC.copy()"
   ]
  },
  {
   "cell_type": "markdown",
   "metadata": {},
   "source": [
    "## 术后并发症"
   ]
  },
  {
   "cell_type": "code",
   "execution_count": 180,
   "metadata": {},
   "outputs": [],
   "source": [
    "# 围手术期并发症【Clavien-Dindo分级系统】（I级、II级、IIIa级、IIIb级、IVa级、IVb级、V级）\n",
    "df_target.rename(columns={'围手术期并发症【Clavien-Dindo分级系统】（I级、II级、IIIa级、IIIb级、IVa级、IVb级、V级）':'target_POC'},inplace=True)\n",
    "df_target['target_POC']=df_target['target_POC'].apply(lambda x: np.nan if pd.isnull(x) else \n",
    "                                                        np.nan if str(x)=='未手术' else\n",
    "                                                        0 if str(x)=='0' else\n",
    "                                                        1 if str(x)=='1' else\n",
    "                                                        5 if re.match('V|Ⅴ',str(x)) else\n",
    "                                                        4 if re.match('.*?Ⅳ|IV.*?',str(x)) else\n",
    "                                                        3 if re.match('.*?Ⅲ|III.*?',str(x)) else\n",
    "                                                        2 if re.match('.*?Ⅱ|II.*?',str(x)) else\n",
    "                                                        1 if re.match('.*?I|Ⅰ.*?',str(x)) else np.nan)"
   ]
  },
  {
   "cell_type": "code",
   "execution_count": 181,
   "metadata": {},
   "outputs": [
    {
     "data": {
      "text/plain": [
       "1.0    240\n",
       "2.0     63\n",
       "3.0     49\n",
       "4.0     18\n",
       "5.0     15\n",
       "0.0     10\n",
       "Name: target_POC, dtype: int64"
      ]
     },
     "execution_count": 181,
     "metadata": {},
     "output_type": "execute_result"
    }
   ],
   "source": [
    "df_target['target_POC'].value_counts()"
   ]
  },
  {
   "cell_type": "markdown",
   "metadata": {},
   "source": [
    "## 围手术期死亡"
   ]
  },
  {
   "cell_type": "code",
   "execution_count": 182,
   "metadata": {},
   "outputs": [],
   "source": [
    "# 围手术期死亡【术后90天内】（0=无；1=死亡）\n",
    "df_target.rename(columns={'围手术期死亡【术后90天内】（0=无；1=死亡）':'target_POD'},inplace=True)\n",
    "df_target['target_POD']=df_target['target_POD'].apply(lambda x: np.nan if pd.isnull(x) else \n",
    "                                                                0 if re.match('0',str(x)) else\n",
    "                                                                1 if re.match('1',str(x)) else\n",
    "                                                                1 if re.match('.*?死亡.*?',str(x)) else x)"
   ]
  },
  {
   "cell_type": "code",
   "execution_count": 183,
   "metadata": {},
   "outputs": [
    {
     "data": {
      "text/plain": [
       "0.0    391\n",
       "1.0     21\n",
       "Name: target_POD, dtype: int64"
      ]
     },
     "execution_count": 183,
     "metadata": {},
     "output_type": "execute_result"
    }
   ],
   "source": [
    "df_target['target_POD'].value_counts()"
   ]
  },
  {
   "cell_type": "code",
   "execution_count": 184,
   "metadata": {},
   "outputs": [],
   "source": [
    "df_target=df_target.drop(['target_POD'],axis=1)"
   ]
  },
  {
   "cell_type": "markdown",
   "metadata": {},
   "source": [
    "## 后续治疗及随访"
   ]
  },
  {
   "cell_type": "code",
   "execution_count": 185,
   "metadata": {},
   "outputs": [],
   "source": [
    "# 后续治疗及随访\n",
    "df_target.rename(columns={'后续治疗及随访':'target_following'},inplace=True)"
   ]
  },
  {
   "cell_type": "code",
   "execution_count": 186,
   "metadata": {},
   "outputs": [],
   "source": [
    "df_target=df_target.drop(['target_following'],axis=1)"
   ]
  },
  {
   "cell_type": "code",
   "execution_count": 187,
   "metadata": {},
   "outputs": [
    {
     "data": {
      "text/plain": [
       "(483, 74)"
      ]
     },
     "execution_count": 187,
     "metadata": {},
     "output_type": "execute_result"
    }
   ],
   "source": [
    "df_target.shape"
   ]
  },
  {
   "cell_type": "markdown",
   "metadata": {},
   "source": [
    "## 目前是否死亡"
   ]
  },
  {
   "cell_type": "code",
   "execution_count": 188,
   "metadata": {},
   "outputs": [],
   "source": [
    "# 目前是否生存（1=存活；2=死亡）\n",
    "df_target.rename(columns={'目前是否生存（1=存活；2=死亡）':'target_death'},inplace=True)\n",
    "df_target['target_death']=df_target['target_death'].apply(lambda x: np.nan if pd.isnull(x) else\n",
    "                                                                1 if re.match('生存\\d+?.*?',str(x)) else\n",
    "                                                                0 if re.match('1',str(x)) else\n",
    "                                                                1 if re.match('2',str(x)) else np.nan)"
   ]
  },
  {
   "cell_type": "code",
   "execution_count": 189,
   "metadata": {},
   "outputs": [
    {
     "data": {
      "text/plain": [
       "1.0    379\n",
       "0.0    103\n",
       "Name: target_death, dtype: int64"
      ]
     },
     "execution_count": 189,
     "metadata": {},
     "output_type": "execute_result"
    }
   ],
   "source": [
    "df_target['target_death'].value_counts()"
   ]
  },
  {
   "cell_type": "markdown",
   "metadata": {},
   "source": [
    "## 术后生存时间"
   ]
  },
  {
   "cell_type": "code",
   "execution_count": 190,
   "metadata": {},
   "outputs": [],
   "source": [
    "df_target.rename(columns={'生存时间(天)':'target_survival_day'},inplace=True)\n",
    "df_target.rename(columns={'生存时间(月)':'target_survival_month'},inplace=True)"
   ]
  },
  {
   "cell_type": "code",
   "execution_count": 191,
   "metadata": {},
   "outputs": [
    {
     "data": {
      "text/plain": [
       "(483, 74)"
      ]
     },
     "execution_count": 191,
     "metadata": {},
     "output_type": "execute_result"
    }
   ],
   "source": [
    "df_target.shape"
   ]
  },
  {
   "cell_type": "code",
   "execution_count": 192,
   "metadata": {},
   "outputs": [],
   "source": [
    "df_target.to_excel(project_path+'/data/processed_data/df_2_目标变量处理.xlsx')"
   ]
  },
  {
   "cell_type": "markdown",
   "metadata": {},
   "source": [
    "# 划分数据集"
   ]
  },
  {
   "cell_type": "code",
   "execution_count": 261,
   "metadata": {},
   "outputs": [],
   "source": [
    "df_dataset=df_target.copy()"
   ]
  },
  {
   "cell_type": "markdown",
   "metadata": {},
   "source": [
    "## 术后预后数据集"
   ]
  },
  {
   "cell_type": "code",
   "execution_count": 262,
   "metadata": {},
   "outputs": [
    {
     "data": {
      "text/plain": [
       "'\\n删除并发症、存活时间(天)\\n删除target_death、sampling缺失\\n删除1个月内死亡\\n删除超过1个月手术相关的死亡(4,105,312,344)\\ncox回归标签：\\n    1年生存期\\n    3年生存期\\nmodel标签：\\n    1，一年以内死亡\\n    2，1-3年死亡\\n    3，3-8年死亡\\n    4，未死亡\\n'"
      ]
     },
     "execution_count": 262,
     "metadata": {},
     "output_type": "execute_result"
    }
   ],
   "source": [
    "'''\n",
    "删除并发症、存活时间(天)\n",
    "删除target_death、sampling缺失\n",
    "删除1个月内死亡\n",
    "删除超过1个月手术相关的死亡(4,105,312,344)\n",
    "cox回归标签：\n",
    "    1年生存期\n",
    "    3年生存期\n",
    "model标签：\n",
    "    1，一年以内死亡\n",
    "    2，1-3年死亡\n",
    "    3，3-8年死亡\n",
    "    4，未死亡\n",
    "'''"
   ]
  },
  {
   "cell_type": "code",
   "execution_count": 263,
   "metadata": {},
   "outputs": [],
   "source": [
    "# 去除并发症、target_survival_day\n",
    "df_dataset_survival=df_dataset.drop(['target_POC','target_survival_day'],axis=1)\n",
    "# 删除target_death、sampling缺失\n",
    "df_dataset_survival=df_dataset_survival[df_dataset_survival.target_death.notnull() & df_dataset_survival.sampling.notnull()]\n",
    "# 删除少于1个月的生存时间\n",
    "df_dataset_survival=df_dataset_survival[~ (df_dataset_survival.target_survival_month<=1)]"
   ]
  },
  {
   "cell_type": "code",
   "execution_count": 264,
   "metadata": {},
   "outputs": [
    {
     "data": {
      "text/plain": [
       "(454, 72)"
      ]
     },
     "execution_count": 264,
     "metadata": {},
     "output_type": "execute_result"
    }
   ],
   "source": [
    "df_dataset_survival.shape"
   ]
  },
  {
   "cell_type": "code",
   "execution_count": 265,
   "metadata": {},
   "outputs": [],
   "source": [
    "# 删除超过1个月的手术相关死亡。id：105, 312, 344\n",
    "del_surg_id=[4,105,312,344]\n",
    "df_dataset_survival=df_dataset_survival[~ df_dataset_survival['id'].isin(del_surg_id)]"
   ]
  },
  {
   "cell_type": "code",
   "execution_count": 266,
   "metadata": {},
   "outputs": [
    {
     "data": {
      "text/plain": [
       "(451, 72)"
      ]
     },
     "execution_count": 266,
     "metadata": {},
     "output_type": "execute_result"
    }
   ],
   "source": [
    "df_dataset_survival.shape"
   ]
  },
  {
   "cell_type": "code",
   "execution_count": 267,
   "metadata": {},
   "outputs": [
    {
     "data": {
      "text/plain": [
       "False"
      ]
     },
     "execution_count": 267,
     "metadata": {},
     "output_type": "execute_result"
    }
   ],
   "source": [
    "df_dataset_survival.target_death.isnull().any()"
   ]
  },
  {
   "cell_type": "markdown",
   "metadata": {},
   "source": [
    "### 术后预后风险-cox数据集"
   ]
  },
  {
   "cell_type": "code",
   "execution_count": 268,
   "metadata": {},
   "outputs": [],
   "source": [
    "# 术后数据\n",
    "df_dataset_survival_cox=df_dataset_survival.copy()\n",
    "df_dataset_survival_cox=df_dataset_survival_cox.reset_index(drop=True)"
   ]
  },
  {
   "cell_type": "code",
   "execution_count": 269,
   "metadata": {},
   "outputs": [
    {
     "data": {
      "text/plain": [
       "'\\ncox生存分析模型：\\n计算1年、3年、8年生存期和标签\\n'"
      ]
     },
     "execution_count": 269,
     "metadata": {},
     "output_type": "execute_result"
    }
   ],
   "source": [
    "'''\n",
    "cox生存分析模型：\n",
    "计算1年、3年、8年生存期和标签\n",
    "'''"
   ]
  },
  {
   "cell_type": "code",
   "execution_count": 270,
   "metadata": {},
   "outputs": [],
   "source": [
    "# 计算cox-1年生存期的标签和生存期\n",
    "for i in range(df_dataset_survival_cox.shape[0]):\n",
    "    # 判断患者是否死亡\n",
    "    if df_dataset_survival_cox.loc[i,'target_death']==0:\n",
    "        df_dataset_survival_cox.loc[i,'target_1Y_death']=0\n",
    "        df_dataset_survival_cox.loc[i,'target_1Y_survival']=12\n",
    "    elif df_dataset_survival_cox.loc[i,'target_death']==1:\n",
    "        # 判断患者是否在1年内死亡\n",
    "        df_dataset_survival_cox.loc[i,'target_1Y_death']=1\n",
    "        survival_month=df_dataset_survival_cox.loc[i,'target_survival_month']\n",
    "        if  survival_month <=12:\n",
    "            df_dataset_survival_cox.loc[i,'target_1Y_survival']=survival_month"
   ]
  },
  {
   "cell_type": "code",
   "execution_count": 271,
   "metadata": {},
   "outputs": [],
   "source": [
    "# 计算cox-3年生存期的标签和生存期\n",
    "for i in range(df_dataset_survival_cox.shape[0]):\n",
    "    # 判断患者是否死亡\n",
    "    if df_dataset_survival_cox.loc[i,'target_death']==0:\n",
    "        df_dataset_survival_cox.loc[i,'target_3Y_death']=0\n",
    "        df_dataset_survival_cox.loc[i,'target_3Y_survival']=36\n",
    "    elif df_dataset_survival_cox.loc[i,'target_death']==1:\n",
    "        # 判断患者是否在1年内死亡\n",
    "        df_dataset_survival_cox.loc[i,'target_3Y_death']=1\n",
    "        survival_month=df_dataset_survival_cox.loc[i,'target_survival_month']\n",
    "        if  survival_month <=36:\n",
    "            df_dataset_survival_cox.loc[i,'target_3Y_survival']=survival_month"
   ]
  },
  {
   "cell_type": "code",
   "execution_count": 272,
   "metadata": {},
   "outputs": [],
   "source": [
    "# 计算cox-5年生存期的标签和生存期\n",
    "for i in range(df_dataset_survival_cox.shape[0]):\n",
    "    # 判断患者是否死亡\n",
    "    if df_dataset_survival_cox.loc[i,'target_death']==0:\n",
    "        df_dataset_survival_cox.loc[i,'target_5Y_death']=0\n",
    "        df_dataset_survival_cox.loc[i,'target_5Y_survival']=60\n",
    "    elif df_dataset_survival_cox.loc[i,'target_death']==1:\n",
    "        # 判断患者是否在1年内死亡\n",
    "        df_dataset_survival_cox.loc[i,'target_5Y_death']=1\n",
    "        survival_month=df_dataset_survival_cox.loc[i,'target_survival_month']\n",
    "        if  survival_month <=60:\n",
    "            df_dataset_survival_cox.loc[i,'target_5Y_survival']=survival_month"
   ]
  },
  {
   "cell_type": "code",
   "execution_count": 273,
   "metadata": {
    "code_folding": []
   },
   "outputs": [],
   "source": [
    "# 计算cox-8年生存期的标签和生存期\n",
    "for i in range(df_dataset_survival_cox.shape[0]):\n",
    "    # 判断患者是否死亡\n",
    "    if df_dataset_survival_cox.loc[i,'target_death']==0:\n",
    "        df_dataset_survival_cox.loc[i,'target_8Y_death']=0\n",
    "        df_dataset_survival_cox.loc[i,'target_8Y_survival']=96\n",
    "    elif df_dataset_survival_cox.loc[i,'target_death']==1:\n",
    "        # 判断患者是否在1年内死亡\n",
    "        df_dataset_survival_cox.loc[i,'target_8Y_death']=1\n",
    "        survival_month=df_dataset_survival_cox.loc[i,'target_survival_month']\n",
    "        if  survival_month <=96:\n",
    "            df_dataset_survival_cox.loc[i,'target_8Y_survival']=survival_month"
   ]
  },
  {
   "cell_type": "code",
   "execution_count": 274,
   "metadata": {},
   "outputs": [
    {
     "data": {
      "text/plain": [
       "(451, 80)"
      ]
     },
     "execution_count": 274,
     "metadata": {},
     "output_type": "execute_result"
    }
   ],
   "source": [
    "df_dataset_survival_cox.shape"
   ]
  },
  {
   "cell_type": "code",
   "execution_count": 275,
   "metadata": {},
   "outputs": [],
   "source": [
    "df_dataset_survival_cox.to_excel(project_path+'/data/processed_data/df_3.1.1_术后预后cox数据集.xlsx')"
   ]
  },
  {
   "cell_type": "markdown",
   "metadata": {},
   "source": [
    "### 术后预后生存-model数据集"
   ]
  },
  {
   "cell_type": "code",
   "execution_count": 276,
   "metadata": {},
   "outputs": [],
   "source": [
    "# 术后数据\n",
    "df_dataset_survival_model=df_dataset_survival.copy()\n",
    "df_dataset_survival_model=df_dataset_survival_model.reset_index(drop=True)"
   ]
  },
  {
   "cell_type": "code",
   "execution_count": 277,
   "metadata": {},
   "outputs": [],
   "source": [
    "'''\n",
    "预后生存时长预测模型：打标签\n",
    "死亡：1年以内--1，1-3年--2，3-8年--3，未死亡--0\n",
    "'''\n",
    "df_dataset_survival_model['label']=df_dataset_survival_model.target_survival_month.apply(lambda x: np.nan if pd.isnull(x) else\n",
    "                                                                                       1 if int(x)<12 else\n",
    "                                                                                       2 if 12<=int(x)<36 else\n",
    "                                                                                       3 if 36<=int(x)<=96 else np.nan)\n",
    "# 未死亡标签4\n",
    "for i in range(df_dataset_survival_model.shape[0]):\n",
    "    if df_dataset_survival_model.loc[i,'target_death']==0:\n",
    "        df_dataset_survival_model.loc[i,'label']=0"
   ]
  },
  {
   "cell_type": "code",
   "execution_count": 278,
   "metadata": {},
   "outputs": [
    {
     "data": {
      "text/plain": [
       "(451, 73)"
      ]
     },
     "execution_count": 278,
     "metadata": {},
     "output_type": "execute_result"
    }
   ],
   "source": [
    "df_dataset_survival_model.shape"
   ]
  },
  {
   "cell_type": "code",
   "execution_count": 279,
   "metadata": {},
   "outputs": [],
   "source": [
    "# 删除标签缺失\n",
    "df_dataset_survival_model=df_dataset_survival_model[df_dataset_survival_model.label.notnull()]\n",
    "# 建模的时候要剔除未手术部分！！\n",
    "df_dataset_survival_model=df_dataset_survival_model[df_dataset_survival_model['sampling']==1]"
   ]
  },
  {
   "cell_type": "code",
   "execution_count": 280,
   "metadata": {},
   "outputs": [
    {
     "data": {
      "text/plain": [
       "(419, 73)"
      ]
     },
     "execution_count": 280,
     "metadata": {},
     "output_type": "execute_result"
    }
   ],
   "source": [
    "df_dataset_survival_model.shape"
   ]
  },
  {
   "cell_type": "code",
   "execution_count": 281,
   "metadata": {},
   "outputs": [],
   "source": [
    "df_dataset_survival_model.to_excel(project_path+'/data/processed_data/df_3.1.2_术后预后model数据集.xlsx')"
   ]
  },
  {
   "cell_type": "markdown",
   "metadata": {},
   "source": [
    "## 术前预后数据集"
   ]
  },
  {
   "cell_type": "code",
   "execution_count": 282,
   "metadata": {},
   "outputs": [],
   "source": [
    "# 术后变量\n",
    "post_surgery_col=['AJCC_8','surgery_bleeding','surgery_CRCS','surgery_plasm','surgery_CP','surgery_result','IHC_cdx2',\n",
    "                  'IHC_cea','IHC_ck5','IHC_ck7','IHC_ck19','IHC_ck20','IHC_muc1','IHC_moc31','IHC_pd1','IHC_pdl1']"
   ]
  },
  {
   "cell_type": "code",
   "execution_count": 283,
   "metadata": {},
   "outputs": [
    {
     "data": {
      "text/plain": [
       "16"
      ]
     },
     "execution_count": 283,
     "metadata": {},
     "output_type": "execute_result"
    }
   ],
   "source": [
    "len(post_surgery_col)"
   ]
  },
  {
   "cell_type": "markdown",
   "metadata": {},
   "source": [
    "### 术前预后风险-cox数据集"
   ]
  },
  {
   "cell_type": "code",
   "execution_count": 284,
   "metadata": {},
   "outputs": [],
   "source": [
    "df_dataset_survival_cox_before = df_dataset_survival_cox.drop(post_surgery_col,axis=1)"
   ]
  },
  {
   "cell_type": "code",
   "execution_count": 285,
   "metadata": {},
   "outputs": [
    {
     "data": {
      "text/plain": [
       "(451, 64)"
      ]
     },
     "execution_count": 285,
     "metadata": {},
     "output_type": "execute_result"
    }
   ],
   "source": [
    "df_dataset_survival_cox_before.shape"
   ]
  },
  {
   "cell_type": "code",
   "execution_count": 286,
   "metadata": {},
   "outputs": [],
   "source": [
    "df_dataset_survival_cox_before.to_excel(project_path+'/data/processed_data/df_3.2.1_术前预后cox数据集.xlsx')"
   ]
  },
  {
   "cell_type": "markdown",
   "metadata": {},
   "source": [
    "### 术前预后生存-model数据集"
   ]
  },
  {
   "cell_type": "code",
   "execution_count": 287,
   "metadata": {},
   "outputs": [],
   "source": [
    "df_dataset_survival_model_after=df_dataset_survival_model.drop(post_surgery_col,axis=1)"
   ]
  },
  {
   "cell_type": "code",
   "execution_count": 288,
   "metadata": {},
   "outputs": [
    {
     "data": {
      "text/plain": [
       "(419, 57)"
      ]
     },
     "execution_count": 288,
     "metadata": {},
     "output_type": "execute_result"
    }
   ],
   "source": [
    "df_dataset_survival_model_after.shape"
   ]
  },
  {
   "cell_type": "code",
   "execution_count": 289,
   "metadata": {},
   "outputs": [],
   "source": [
    "df_dataset_survival_model_after.to_excel(project_path+'/data/processed_data/df_3.2.2_术前预后model数据集.xlsx')"
   ]
  },
  {
   "cell_type": "markdown",
   "metadata": {},
   "source": [
    "## 术后并发症数据集"
   ]
  },
  {
   "cell_type": "code",
   "execution_count": 290,
   "metadata": {},
   "outputs": [
    {
     "data": {
      "text/plain": [
       "'\\n删除存活时间\\n删除缺失\\n删除并发症--0、5\\n删除未手术记录\\n'"
      ]
     },
     "execution_count": 290,
     "metadata": {},
     "output_type": "execute_result"
    }
   ],
   "source": [
    "'''\n",
    "删除存活时间\n",
    "删除缺失\n",
    "删除并发症--0、5\n",
    "删除未手术记录\n",
    "'''"
   ]
  },
  {
   "cell_type": "code",
   "execution_count": 291,
   "metadata": {},
   "outputs": [],
   "source": [
    "# 去除target_death, target_survival_day, target_survival_month\n",
    "df_dataset_POC=df_dataset.drop(['target_death','target_survival_day','target_survival_month'],axis=1)\n",
    "# 删除缺失\n",
    "df_dataset_POC=df_dataset_POC[df_dataset_POC.target_POC.notnull()]\n",
    "# 删除并发症--0,5\n",
    "df_dataset_POC=df_dataset_POC[~ df_dataset_POC.target_POC.isin([0,5])]\n",
    "# 删除未手术记录\n",
    "df_dataset_POC=df_dataset_POC[df_dataset_POC.sampling==1]"
   ]
  },
  {
   "cell_type": "code",
   "execution_count": 292,
   "metadata": {},
   "outputs": [
    {
     "data": {
      "text/plain": [
       "(369, 71)"
      ]
     },
     "execution_count": 292,
     "metadata": {},
     "output_type": "execute_result"
    }
   ],
   "source": [
    "df_dataset_POC.shape"
   ]
  },
  {
   "cell_type": "code",
   "execution_count": 293,
   "metadata": {},
   "outputs": [
    {
     "name": "stdout",
     "output_type": "stream",
     "text": [
      "1.0    239\n",
      "2.0     63\n",
      "3.0     49\n",
      "4.0     18\n",
      "Name: target_POC, dtype: int64\n"
     ]
    }
   ],
   "source": [
    "print(df_dataset_POC.target_POC.value_counts())"
   ]
  },
  {
   "cell_type": "code",
   "execution_count": 294,
   "metadata": {},
   "outputs": [],
   "source": [
    "df_dataset_POC.to_excel(project_path+'/data/processed_data/df_3.3_术后并发症数据集.xlsx')"
   ]
  },
  {
   "cell_type": "code",
   "execution_count": null,
   "metadata": {},
   "outputs": [],
   "source": []
  },
  {
   "cell_type": "code",
   "execution_count": null,
   "metadata": {},
   "outputs": [],
   "source": []
  }
 ],
 "metadata": {
  "kernelspec": {
   "display_name": "Python 3",
   "language": "python",
   "name": "python3"
  },
  "language_info": {
   "codemirror_mode": {
    "name": "ipython",
    "version": 3
   },
   "file_extension": ".py",
   "mimetype": "text/x-python",
   "name": "python",
   "nbconvert_exporter": "python",
   "pygments_lexer": "ipython3",
   "version": "3.6.8"
  },
  "toc": {
   "base_numbering": 1,
   "nav_menu": {},
   "number_sections": true,
   "sideBar": true,
   "skip_h1_title": false,
   "title_cell": "Table of Contents",
   "title_sidebar": "Contents",
   "toc_cell": false,
   "toc_position": {
    "height": "902.4px",
    "left": "39px",
    "top": "124.956px",
    "width": "409.594px"
   },
   "toc_section_display": true,
   "toc_window_display": true
  },
  "varInspector": {
   "cols": {
    "lenName": 16,
    "lenType": 16,
    "lenVar": 40
   },
   "kernels_config": {
    "python": {
     "delete_cmd_postfix": "",
     "delete_cmd_prefix": "del ",
     "library": "var_list.py",
     "varRefreshCmd": "print(var_dic_list())"
    },
    "r": {
     "delete_cmd_postfix": ") ",
     "delete_cmd_prefix": "rm(",
     "library": "var_list.r",
     "varRefreshCmd": "cat(var_dic_list()) "
    }
   },
   "types_to_exclude": [
    "module",
    "function",
    "builtin_function_or_method",
    "instance",
    "_Feature"
   ],
   "window_display": false
  }
 },
 "nbformat": 4,
 "nbformat_minor": 2
}
