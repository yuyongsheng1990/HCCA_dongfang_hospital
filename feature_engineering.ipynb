{
 "cells": [
  {
   "cell_type": "code",
   "execution_count": 1,
   "metadata": {
    "ExecuteTime": {
     "end_time": "2022-03-10T06:53:05.884506Z",
     "start_time": "2022-03-10T06:53:05.868550Z"
    }
   },
   "outputs": [],
   "source": [
    "# _*_ coding: utf-8 _*_\n",
    "# @Time: 2022/02/21 16:05 \n",
    "# @Author: yuyongsheng\n",
    "# @Software: PyCharm\n",
    "# @Description: 东方肝胆-肝门胆管癌：1. 逐步向前 2. 建模"
   ]
  },
  {
   "cell_type": "code",
   "execution_count": 2,
   "metadata": {
    "ExecuteTime": {
     "end_time": "2022-03-10T06:53:05.900463Z",
     "start_time": "2022-03-10T06:53:05.885504Z"
    },
    "scrolled": true
   },
   "outputs": [],
   "source": [
    "# 导入程序包\n",
    "import pymysql as MySQLDB\n",
    "import pandas as pd\n",
    "import numpy as np\n",
    "\n",
    "import re\n",
    "import sys\n",
    "import os\n",
    "project_path = os.getcwd()"
   ]
  },
  {
   "cell_type": "code",
   "execution_count": 3,
   "metadata": {
    "ExecuteTime": {
     "end_time": "2022-03-10T06:53:05.915423Z",
     "start_time": "2022-03-10T06:53:05.902458Z"
    },
    "scrolled": false
   },
   "outputs": [],
   "source": [
    "# 字符串转换为时间格式\n",
    "import datetime\n",
    "def str_to_datetime(x):\n",
    "    try:\n",
    "        a = datetime.datetime.strptime(x, \"%d/%m/%Y %H:%M:%S\")\n",
    "        return a\n",
    "    except:\n",
    "        return np.NaN"
   ]
  },
  {
   "cell_type": "markdown",
   "metadata": {},
   "source": [
    "# 数据清洗"
   ]
  },
  {
   "cell_type": "code",
   "execution_count": 4,
   "metadata": {
    "ExecuteTime": {
     "end_time": "2022-03-10T06:53:06.274754Z",
     "start_time": "2022-03-10T06:53:05.917418Z"
    },
    "scrolled": true
   },
   "outputs": [],
   "source": [
    "df_model=pd.read_excel(project_path+'/data/processed_data/df_3.1.2_术后预后model数据集.xlsx',index_col=0)"
   ]
  },
  {
   "cell_type": "code",
   "execution_count": 5,
   "metadata": {
    "ExecuteTime": {
     "end_time": "2022-03-10T06:53:06.290691Z",
     "start_time": "2022-03-10T06:53:06.276726Z"
    },
    "scrolled": true
   },
   "outputs": [
    {
     "name": "stdout",
     "output_type": "stream",
     "text": [
      "(419, 74)\n"
     ]
    }
   ],
   "source": [
    "print(df_model.shape)"
   ]
  },
  {
   "cell_type": "markdown",
   "metadata": {},
   "source": [
    "## 删除无关特征"
   ]
  },
  {
   "cell_type": "code",
   "execution_count": 6,
   "metadata": {
    "ExecuteTime": {
     "end_time": "2022-03-10T06:53:06.306645Z",
     "start_time": "2022-03-10T06:53:06.292675Z"
    },
    "scrolled": true
   },
   "outputs": [
    {
     "data": {
      "text/plain": [
       "Index(['sampling', 'gender', 'age', 'height', 'weight', 'BMI', 'jaundice',\n",
       "       'emaciation', 'breath_disease', 'cardio_disease', 'nbdd',\n",
       "       'urinary_disease', 'endocrine_disease', 'biliary_disease',\n",
       "       'other_disease', 'smoke', 'drinking', 'family_history', 'blood_type',\n",
       "       'WBC', 'HGB', 'PLT', 'TB', 'DB', 'TBA', 'TP', 'ALB', 'LG', 'AG', 'PAB',\n",
       "       'ALT', 'AST', 'GT', 'ALP', 'tumor_AFP', 'tumor_CEA', 'tumor_CA19-9',\n",
       "       'tumor_CA125', 'TF', 'tumor_size', 'HBsAg', 'HBeAg', 'HBeAb', 'HBcAb',\n",
       "       'HCVAb', 'LC', 'T', 'N', 'M', 'AJCC_8', 'Gazzaniga_T', 'MSKCC',\n",
       "       'Blumgart_T', 'Bismuth_C', 'PTCD_ERCP', '手术日期', 'surgery_bleeding',\n",
       "       'surgery_CRCS', 'surgery_plasm', 'surgery_CP', 'surgery_result',\n",
       "       'gene_MSI', 'TMB', 'IHC_cdx2', 'IHC_cea', 'IHC_ck5', 'IHC_ck7',\n",
       "       'IHC_ck19', 'IHC_ck20', 'IHC_muc1', 'IHC_moc31', 'IHC_pd1', 'IHC_pdl1',\n",
       "       'label'],\n",
       "      dtype='object')"
      ]
     },
     "execution_count": 6,
     "metadata": {},
     "output_type": "execute_result"
    }
   ],
   "source": [
    "df_model.columns"
   ]
  },
  {
   "cell_type": "code",
   "execution_count": 7,
   "metadata": {
    "ExecuteTime": {
     "end_time": "2022-03-10T06:53:06.321579Z",
     "start_time": "2022-03-10T06:53:06.308613Z"
    },
    "scrolled": true
   },
   "outputs": [],
   "source": [
    "# df_model=df_model.drop(['sampling'],axis=1)\n",
    "df_model=df_model.drop(['sampling','手术日期','AJCC_8'],axis=1)"
   ]
  },
  {
   "cell_type": "code",
   "execution_count": 8,
   "metadata": {
    "ExecuteTime": {
     "end_time": "2022-03-10T06:53:06.337535Z",
     "start_time": "2022-03-10T06:53:06.324575Z"
    },
    "scrolled": true
   },
   "outputs": [
    {
     "data": {
      "text/plain": [
       "(419, 71)"
      ]
     },
     "execution_count": 8,
     "metadata": {},
     "output_type": "execute_result"
    }
   ],
   "source": [
    "df_model.shape"
   ]
  },
  {
   "cell_type": "markdown",
   "metadata": {},
   "source": [
    "## 删除高线性相关的变量"
   ]
  },
  {
   "cell_type": "code",
   "execution_count": 9,
   "metadata": {
    "ExecuteTime": {
     "end_time": "2022-03-10T06:53:06.352525Z",
     "start_time": "2022-03-10T06:53:06.340541Z"
    },
    "scrolled": true
   },
   "outputs": [
    {
     "data": {
      "text/plain": [
       "Index(['gender', 'age', 'height', 'weight', 'BMI', 'jaundice', 'emaciation',\n",
       "       'breath_disease', 'cardio_disease', 'nbdd', 'urinary_disease',\n",
       "       'endocrine_disease', 'biliary_disease', 'other_disease', 'smoke',\n",
       "       'drinking', 'family_history', 'blood_type', 'WBC', 'HGB', 'PLT', 'TB',\n",
       "       'DB', 'TBA', 'TP', 'ALB', 'LG', 'AG', 'PAB', 'ALT', 'AST', 'GT', 'ALP',\n",
       "       'tumor_AFP', 'tumor_CEA', 'tumor_CA19-9', 'tumor_CA125', 'TF',\n",
       "       'tumor_size', 'HBsAg', 'HBeAg', 'HBeAb', 'HBcAb', 'HCVAb', 'LC', 'T',\n",
       "       'N', 'M', 'Gazzaniga_T', 'MSKCC', 'Blumgart_T', 'Bismuth_C',\n",
       "       'PTCD_ERCP', 'surgery_bleeding', 'surgery_CRCS', 'surgery_plasm',\n",
       "       'surgery_CP', 'surgery_result', 'gene_MSI', 'TMB', 'IHC_cdx2',\n",
       "       'IHC_cea', 'IHC_ck5', 'IHC_ck7', 'IHC_ck19', 'IHC_ck20', 'IHC_muc1',\n",
       "       'IHC_moc31', 'IHC_pd1', 'IHC_pdl1', 'label'],\n",
       "      dtype='object')"
      ]
     },
     "execution_count": 9,
     "metadata": {},
     "output_type": "execute_result"
    }
   ],
   "source": [
    "df_model.columns"
   ]
  },
  {
   "cell_type": "code",
   "execution_count": 10,
   "metadata": {},
   "outputs": [],
   "source": [
    "corr_result=df_model[['gender', 'age', 'height', 'weight', 'BMI', 'jaundice', 'emaciation',\n",
    "       'breath_disease', 'cardio_disease', 'nbdd', 'urinary_disease',\n",
    "       'endocrine_disease', 'biliary_disease', 'other_disease', 'smoke',\n",
    "       'drinking', 'family_history', 'blood_type', 'WBC', 'HGB', 'PLT', 'TB',\n",
    "       'DB', 'TP', 'ALB', 'AG', 'PAB', 'ALT', 'AST', 'GT', 'ALP',\n",
    "       'tumor_AFP', 'tumor_CEA', 'tumor_CA19-9', 'tumor_CA125', 'tumor_size',\n",
    "       'HBsAg', 'HBeAg', 'HBeAb', 'HBcAb', 'HCVAb', 'LC', 'Gazzaniga_T',\n",
    "       'MSKCC', 'Blumgart_T', 'Bismuth_C']].corr()"
   ]
  },
  {
   "cell_type": "code",
   "execution_count": 11,
   "metadata": {
    "ExecuteTime": {
     "end_time": "2022-03-10T06:53:06.368485Z",
     "start_time": "2022-03-10T06:53:06.353493Z"
    },
    "scrolled": true
   },
   "outputs": [],
   "source": [
    "# corr_result=df_model[['gender', 'age', 'height', 'weight', 'BMI', 'jaundice', 'emaciation',\n",
    "#        'breath_disease', 'cardio_disease', 'nbdd', 'urinary_disease',\n",
    "#        'endocrine_disease', 'biliary_disease', 'other_disease', 'smoke',\n",
    "#        'drinking', 'family_history', 'blood_type', 'WBC', 'HGB', 'PLT', 'TB',\n",
    "#        'DB', 'TP', 'ALB', 'LG', 'AG', 'PAB', 'ALT', 'AST', 'GT', 'ALP',\n",
    "#        'tumor_AFP', 'tumor_CEA', 'tumor_CA199', 'tumor_CA125', 'tumor_size',\n",
    "#        'HBsAg', 'HBeAg', 'HBeAb', 'HBcAb', 'HCVAb', 'LC', 'Gazzaniga_T',\n",
    "#        'MSKCC', 'Blumgart_T', 'Bismuth_C', 'PTCD_ERCP', 'gene_mutation',\n",
    "#        'gene_MSI', 'TMB']].corr()"
   ]
  },
  {
   "cell_type": "code",
   "execution_count": 12,
   "metadata": {
    "ExecuteTime": {
     "end_time": "2022-03-10T06:53:06.446272Z",
     "start_time": "2022-03-10T06:53:06.432283Z"
    },
    "scrolled": true
   },
   "outputs": [
    {
     "data": {
      "text/plain": [
       "'\\n总胆红素、直接胆红素：0.98\\n球蛋白、乙肝e抗原：0.97\\nMSKCC、Blumgart：0.99\\n'"
      ]
     },
     "execution_count": 12,
     "metadata": {},
     "output_type": "execute_result"
    }
   ],
   "source": [
    "'''\n",
    "总胆红素、直接胆红素：0.98\n",
    "球蛋白、乙肝e抗原：0.97\n",
    "MSKCC、Blumgart：0.99\n",
    "'''"
   ]
  },
  {
   "cell_type": "code",
   "execution_count": 13,
   "metadata": {
    "ExecuteTime": {
     "end_time": "2022-03-10T06:53:06.757413Z",
     "start_time": "2022-03-10T06:53:06.448239Z"
    },
    "scrolled": true
   },
   "outputs": [],
   "source": [
    "df_model.to_excel(project_path+'/data/result/feature_engineering/df_1.2_删除高线性相关变量.xlsx')"
   ]
  },
  {
   "cell_type": "markdown",
   "metadata": {},
   "source": [
    "## 删除缺失超过50%的特征"
   ]
  },
  {
   "cell_type": "markdown",
   "metadata": {},
   "source": [
    "### 删除列缺失超过50%的列"
   ]
  },
  {
   "cell_type": "code",
   "execution_count": 14,
   "metadata": {
    "ExecuteTime": {
     "end_time": "2022-03-10T06:53:06.788372Z",
     "start_time": "2022-03-10T06:53:06.758409Z"
    },
    "scrolled": true
   },
   "outputs": [
    {
     "name": "stdout",
     "output_type": "stream",
     "text": [
      "blood_type\n",
      "LG\n",
      "TF\n",
      "gene_MSI\n",
      "TMB\n",
      "IHC_cdx2\n",
      "IHC_cea\n",
      "IHC_ck5\n",
      "IHC_ck7\n",
      "IHC_ck19\n",
      "IHC_ck20\n",
      "IHC_muc1\n",
      "IHC_moc31\n",
      "IHC_pd1\n",
      "IHC_pdl1\n"
     ]
    }
   ],
   "source": [
    "protect_col=['']\n",
    "col=[i for i in df_model.columns if i not in protect_col]\n",
    "for i in col:\n",
    "    if df_model[i].isnull().sum()/df_model.shape[0] >= 0.5:\n",
    "        print(i)\n",
    "        del df_model[i]"
   ]
  },
  {
   "cell_type": "code",
   "execution_count": 15,
   "metadata": {
    "ExecuteTime": {
     "end_time": "2022-03-10T06:53:06.804319Z",
     "start_time": "2022-03-10T06:53:06.789327Z"
    },
    "scrolled": true
   },
   "outputs": [
    {
     "name": "stdout",
     "output_type": "stream",
     "text": [
      "(419, 56)\n"
     ]
    }
   ],
   "source": [
    "print(df_model.shape) "
   ]
  },
  {
   "cell_type": "markdown",
   "metadata": {},
   "source": [
    "### 删除行缺失超过50%的行"
   ]
  },
  {
   "cell_type": "code",
   "execution_count": 16,
   "metadata": {
    "ExecuteTime": {
     "end_time": "2022-03-10T06:53:06.990817Z",
     "start_time": "2022-03-10T06:53:06.805284Z"
    },
    "scrolled": true
   },
   "outputs": [
    {
     "name": "stdout",
     "output_type": "stream",
     "text": [
      "176\n",
      "251\n"
     ]
    }
   ],
   "source": [
    "df_model=df_model.reset_index(drop=True)\n",
    "for i in range(df_model.shape[0]):\n",
    "    if df_model.loc[i].isnull().sum()/df_model.loc[i].shape[0] >= 0.5:\n",
    "        print(i)\n",
    "        df_model.drop([i],axis=0,inplace=True)"
   ]
  },
  {
   "cell_type": "code",
   "execution_count": 17,
   "metadata": {
    "ExecuteTime": {
     "end_time": "2022-03-10T06:53:07.256352Z",
     "start_time": "2022-03-10T06:53:06.991785Z"
    },
    "scrolled": true
   },
   "outputs": [],
   "source": [
    "# 删除缺失超过50%的特征\n",
    "writer=pd.ExcelWriter(project_path+'/data/result/feature_engineering/df_1.3_删除缺失超过50%.xlsx')\n",
    "df_model.to_excel(writer)\n",
    "writer.save()"
   ]
  },
  {
   "cell_type": "markdown",
   "metadata": {},
   "source": [
    "## 删除分类极不平衡的特征"
   ]
  },
  {
   "cell_type": "code",
   "execution_count": 18,
   "metadata": {
    "ExecuteTime": {
     "end_time": "2022-03-10T06:53:07.303188Z",
     "start_time": "2022-03-10T06:53:07.257282Z"
    },
    "scrolled": true
   },
   "outputs": [
    {
     "name": "stdout",
     "output_type": "stream",
     "text": [
      "breath_disease\n",
      "urinary_disease\n",
      "family_history\n"
     ]
    }
   ],
   "source": [
    "# 保护目标变量、tdm数据\n",
    "protect_col=['M']\n",
    "col=[i for i in df_model.columns if i not in protect_col]\n",
    "for i in col:\n",
    "    if df_model[i].nunique() < 2:\n",
    "        print(i)\n",
    "        del df_model[i]\n",
    "        continue\n",
    "    if df_model[i].nunique() == 2:\n",
    "        # 如果分类变量中某一变量的占比超过90%，则删除该指标\n",
    "        num_1 = df_model[i].value_counts()  # df一列中不同变量的数目\n",
    "        num_2 = num_1.div(df_model.shape[0])  # div除法，所有元素都除以相同数值\n",
    "        num_3 = num_2.max()  # 取出最大值\n",
    "        if num_3 >= 0.9:\n",
    "            print(i)\n",
    "            del df_model[i]"
   ]
  },
  {
   "cell_type": "code",
   "execution_count": 19,
   "metadata": {
    "ExecuteTime": {
     "end_time": "2022-03-10T06:53:07.318120Z",
     "start_time": "2022-03-10T06:53:07.305155Z"
    },
    "scrolled": true
   },
   "outputs": [
    {
     "data": {
      "text/plain": [
       "(417, 53)"
      ]
     },
     "execution_count": 19,
     "metadata": {},
     "output_type": "execute_result"
    }
   ],
   "source": [
    "df_model.shape"
   ]
  },
  {
   "cell_type": "code",
   "execution_count": 20,
   "metadata": {
    "ExecuteTime": {
     "end_time": "2022-03-10T06:53:07.583466Z",
     "start_time": "2022-03-10T06:53:07.320115Z"
    },
    "scrolled": true
   },
   "outputs": [],
   "source": [
    "# 删除缺失超过50%的特征\n",
    "df_model.to_excel(project_path+'/data/result/feature_engineering/df_1.4_删除分类极不平衡.xlsx')"
   ]
  },
  {
   "cell_type": "markdown",
   "metadata": {},
   "source": [
    "## 过滤异常值"
   ]
  },
  {
   "cell_type": "code",
   "execution_count": 21,
   "metadata": {
    "ExecuteTime": {
     "end_time": "2022-03-10T06:53:07.629288Z",
     "start_time": "2022-03-10T06:53:07.585433Z"
    },
    "scrolled": true
   },
   "outputs": [
    {
     "name": "stdout",
     "output_type": "stream",
     "text": [
      "surgery_CRCS 1200.0 1068.75\n"
     ]
    }
   ],
   "source": [
    "# 过滤异常值，大于正常值超过100倍！\n",
    "for i in df_model.columns:\n",
    "    # 测试特征是否存在异常值\n",
    "    if df_model[i].nunique()<=5:\n",
    "        continue\n",
    "    median_value= max(df_model[i].median(),df_model[i].mean())\n",
    "    max_value = df_model[i].astype(float).max()\n",
    "    if max_value > 100 * median_value:\n",
    "        print(i,max_value,100 * median_value)\n",
    "    df_model[i]=df_model[i].apply(lambda x: np.nan if pd.isnull(x) else \n",
    "                                            np.nan if float(x) > 100*median_value else x)"
   ]
  },
  {
   "cell_type": "code",
   "execution_count": 22,
   "metadata": {
    "ExecuteTime": {
     "end_time": "2022-03-10T06:53:07.645245Z",
     "start_time": "2022-03-10T06:53:07.631283Z"
    },
    "scrolled": true
   },
   "outputs": [
    {
     "data": {
      "text/plain": [
       "(417, 53)"
      ]
     },
     "execution_count": 22,
     "metadata": {},
     "output_type": "execute_result"
    }
   ],
   "source": [
    "df_model.shape"
   ]
  },
  {
   "cell_type": "code",
   "execution_count": 23,
   "metadata": {},
   "outputs": [
    {
     "data": {
      "text/plain": [
       "Index(['gender', 'age', 'height', 'weight', 'BMI', 'jaundice', 'emaciation',\n",
       "       'cardio_disease', 'nbdd', 'endocrine_disease', 'biliary_disease',\n",
       "       'other_disease', 'smoke', 'drinking', 'WBC', 'HGB', 'PLT', 'TB', 'DB',\n",
       "       'TBA', 'TP', 'ALB', 'AG', 'PAB', 'ALT', 'AST', 'GT', 'ALP', 'tumor_AFP',\n",
       "       'tumor_CEA', 'tumor_CA19-9', 'tumor_CA125', 'tumor_size', 'HBsAg',\n",
       "       'HBeAg', 'HBeAb', 'HBcAb', 'HCVAb', 'LC', 'T', 'N', 'M', 'Gazzaniga_T',\n",
       "       'MSKCC', 'Blumgart_T', 'Bismuth_C', 'PTCD_ERCP', 'surgery_bleeding',\n",
       "       'surgery_CRCS', 'surgery_plasm', 'surgery_CP', 'surgery_result',\n",
       "       'label'],\n",
       "      dtype='object')"
      ]
     },
     "execution_count": 23,
     "metadata": {},
     "output_type": "execute_result"
    }
   ],
   "source": [
    "df_model.columns"
   ]
  },
  {
   "cell_type": "code",
   "execution_count": 24,
   "metadata": {
    "ExecuteTime": {
     "end_time": "2022-03-10T06:53:08.049164Z",
     "start_time": "2022-03-10T06:53:07.650232Z"
    },
    "scrolled": true
   },
   "outputs": [],
   "source": [
    "# 保存特征清洗\n",
    "df_model.to_excel(project_path + '/data/result/feature_engineering/df_1_特征清洗.xlsx')"
   ]
  },
  {
   "cell_type": "markdown",
   "metadata": {},
   "source": [
    "# 显著性检验"
   ]
  },
  {
   "cell_type": "code",
   "execution_count": 25,
   "metadata": {
    "ExecuteTime": {
     "end_time": "2022-03-10T06:53:08.064152Z",
     "start_time": "2022-03-10T06:53:08.052157Z"
    },
    "scrolled": true
   },
   "outputs": [
    {
     "data": {
      "text/plain": [
       "Index(['gender', 'age', 'height', 'weight', 'BMI', 'jaundice', 'emaciation',\n",
       "       'cardio_disease', 'nbdd', 'endocrine_disease', 'biliary_disease',\n",
       "       'other_disease', 'smoke', 'drinking', 'WBC', 'HGB', 'PLT', 'TB', 'DB',\n",
       "       'TBA', 'TP', 'ALB', 'AG', 'PAB', 'ALT', 'AST', 'GT', 'ALP', 'tumor_AFP',\n",
       "       'tumor_CEA', 'tumor_CA19-9', 'tumor_CA125', 'tumor_size', 'HBsAg',\n",
       "       'HBeAg', 'HBeAb', 'HBcAb', 'HCVAb', 'LC', 'T', 'N', 'M', 'Gazzaniga_T',\n",
       "       'MSKCC', 'Blumgart_T', 'Bismuth_C', 'PTCD_ERCP', 'surgery_bleeding',\n",
       "       'surgery_CRCS', 'surgery_plasm', 'surgery_CP', 'surgery_result',\n",
       "       'label'],\n",
       "      dtype='object')"
      ]
     },
     "execution_count": 25,
     "metadata": {},
     "output_type": "execute_result"
    }
   ],
   "source": [
    "df_model.columns"
   ]
  },
  {
   "cell_type": "code",
   "execution_count": 39,
   "metadata": {
    "ExecuteTime": {
     "end_time": "2022-03-10T06:53:08.080111Z",
     "start_time": "2022-03-10T06:53:08.065122Z"
    },
    "scrolled": true
   },
   "outputs": [],
   "source": [
    "# # 术前分类变量\n",
    "# discrete_col=['gender','jaundice','emaciation','cardio_disease','nbdd','endocrine_disease','biliary_disease','other_disease',\n",
    "#              'smoke','drinking','HBsAg','HBeAg','HBeAb','HBcAb','HCVAb','LC','Gazzaniga_T','MSKCC',\n",
    "#               'Blumgart_T','Bismuth_C']\n",
    "# 术后分类变量\n",
    "discrete_col=['gender','jaundice','emaciation','cardio_disease','nbdd','endocrine_disease','biliary_disease','other_disease',\n",
    "             'smoke','drinking','HBsAg','HBeAg','HBeAb','HBcAb','HCVAb','LC','T', 'N', 'M','Gazzaniga_T','MSKCC',\n",
    "              'Blumgart_T','Bismuth_C','PTCD_ERCP','surgery_plasm','surgery_result']\n",
    "continuous_col=[x for x in df_model.columns if x not in discrete_col]\n",
    "continuous_col.remove('label')"
   ]
  },
  {
   "cell_type": "markdown",
   "metadata": {},
   "source": [
    "## 分类变量显著性检验"
   ]
  },
  {
   "cell_type": "code",
   "execution_count": 40,
   "metadata": {
    "ExecuteTime": {
     "end_time": "2022-03-10T06:53:08.095285Z",
     "start_time": "2022-03-10T06:53:08.081079Z"
    },
    "scrolled": true
   },
   "outputs": [],
   "source": [
    "# 分类-分类：卡方"
   ]
  },
  {
   "cell_type": "code",
   "execution_count": 41,
   "metadata": {
    "ExecuteTime": {
     "end_time": "2022-03-10T06:53:08.361548Z",
     "start_time": "2022-03-10T06:53:08.097254Z"
    },
    "scrolled": true
   },
   "outputs": [
    {
     "name": "stdout",
     "output_type": "stream",
     "text": [
      "gender\n",
      "jaundice\n",
      "emaciation\n",
      "cardio_disease\n",
      "nbdd\n",
      "endocrine_disease\n",
      "biliary_disease\n",
      "other_disease\n",
      "smoke\n",
      "drinking\n",
      "HBsAg\n",
      "HBeAg\n",
      "HBeAb\n",
      "HBcAb\n",
      "HCVAb\n",
      "LC\n",
      "T\n",
      "N\n",
      "M\n",
      "Gazzaniga_T\n",
      "MSKCC\n",
      "Blumgart_T\n",
      "Bismuth_C\n",
      "PTCD_ERCP\n",
      "surgery_plasm\n",
      "surgery_result\n"
     ]
    }
   ],
   "source": [
    "from scipy.stats import chi2_contingency\n",
    "feature_list=[]\n",
    "y_list=[]\n",
    "t_list=[]\n",
    "p_list=[]\n",
    "sig_list=[]\n",
    "for i in discrete_col:\n",
    "    print(i)\n",
    "    result = chi2_contingency(pd.crosstab(df_model['label'],df_model[i]))\n",
    "    t,p=result[0:2]\n",
    "    t=round(t,2)\n",
    "    p=round(p,3)\n",
    "    feature_list.append(i)\n",
    "    y_list.append('卡方检验')\n",
    "    t_list.append(t)\n",
    "    p_list.append(p)\n",
    "    if p <=0.05:\n",
    "        sig='显著'\n",
    "    else:\n",
    "        sig='不显著'\n",
    "    sig_list.append(sig)"
   ]
  },
  {
   "cell_type": "code",
   "execution_count": 42,
   "metadata": {
    "ExecuteTime": {
     "end_time": "2022-03-10T06:53:08.376509Z",
     "start_time": "2022-03-10T06:53:08.363542Z"
    },
    "scrolled": true
   },
   "outputs": [],
   "source": [
    "df_discrete_corr_sig=pd.DataFrame(data={'feature':discrete_col,\n",
    "                                        'method':y_list,\n",
    "                                        't':t_list,\n",
    "                                        'p':p_list,\n",
    "                                        'result':sig_list})"
   ]
  },
  {
   "cell_type": "code",
   "execution_count": 43,
   "metadata": {
    "ExecuteTime": {
     "end_time": "2022-03-10T06:53:08.422502Z",
     "start_time": "2022-03-10T06:53:08.380497Z"
    },
    "scrolled": true
   },
   "outputs": [],
   "source": [
    "# 连续-分类变量相关性分析\n",
    "df_discrete_corr_sig.to_excel(project_path+'/data/result/feature_engineering/df_2.1_分类-分类变量显著性检验.xlsx')"
   ]
  },
  {
   "cell_type": "code",
   "execution_count": 44,
   "metadata": {
    "ExecuteTime": {
     "end_time": "2022-03-10T06:53:08.454410Z",
     "start_time": "2022-03-10T06:53:08.423464Z"
    },
    "scrolled": true
   },
   "outputs": [
    {
     "data": {
      "text/html": [
       "<div>\n",
       "<style scoped>\n",
       "    .dataframe tbody tr th:only-of-type {\n",
       "        vertical-align: middle;\n",
       "    }\n",
       "\n",
       "    .dataframe tbody tr th {\n",
       "        vertical-align: top;\n",
       "    }\n",
       "\n",
       "    .dataframe thead th {\n",
       "        text-align: right;\n",
       "    }\n",
       "</style>\n",
       "<table border=\"1\" class=\"dataframe\">\n",
       "  <thead>\n",
       "    <tr style=\"text-align: right;\">\n",
       "      <th></th>\n",
       "      <th>feature</th>\n",
       "      <th>method</th>\n",
       "      <th>t</th>\n",
       "      <th>p</th>\n",
       "      <th>result</th>\n",
       "    </tr>\n",
       "  </thead>\n",
       "  <tbody>\n",
       "    <tr>\n",
       "      <th>0</th>\n",
       "      <td>gender</td>\n",
       "      <td>卡方检验</td>\n",
       "      <td>3.10</td>\n",
       "      <td>0.376</td>\n",
       "      <td>不显著</td>\n",
       "    </tr>\n",
       "    <tr>\n",
       "      <th>1</th>\n",
       "      <td>jaundice</td>\n",
       "      <td>卡方检验</td>\n",
       "      <td>16.01</td>\n",
       "      <td>0.001</td>\n",
       "      <td>显著</td>\n",
       "    </tr>\n",
       "    <tr>\n",
       "      <th>2</th>\n",
       "      <td>emaciation</td>\n",
       "      <td>卡方检验</td>\n",
       "      <td>2.55</td>\n",
       "      <td>0.863</td>\n",
       "      <td>不显著</td>\n",
       "    </tr>\n",
       "    <tr>\n",
       "      <th>3</th>\n",
       "      <td>cardio_disease</td>\n",
       "      <td>卡方检验</td>\n",
       "      <td>1.32</td>\n",
       "      <td>0.724</td>\n",
       "      <td>不显著</td>\n",
       "    </tr>\n",
       "    <tr>\n",
       "      <th>4</th>\n",
       "      <td>nbdd</td>\n",
       "      <td>卡方检验</td>\n",
       "      <td>6.33</td>\n",
       "      <td>0.097</td>\n",
       "      <td>不显著</td>\n",
       "    </tr>\n",
       "    <tr>\n",
       "      <th>5</th>\n",
       "      <td>endocrine_disease</td>\n",
       "      <td>卡方检验</td>\n",
       "      <td>3.91</td>\n",
       "      <td>0.271</td>\n",
       "      <td>不显著</td>\n",
       "    </tr>\n",
       "    <tr>\n",
       "      <th>6</th>\n",
       "      <td>biliary_disease</td>\n",
       "      <td>卡方检验</td>\n",
       "      <td>9.19</td>\n",
       "      <td>0.027</td>\n",
       "      <td>显著</td>\n",
       "    </tr>\n",
       "    <tr>\n",
       "      <th>7</th>\n",
       "      <td>other_disease</td>\n",
       "      <td>卡方检验</td>\n",
       "      <td>3.92</td>\n",
       "      <td>0.271</td>\n",
       "      <td>不显著</td>\n",
       "    </tr>\n",
       "    <tr>\n",
       "      <th>8</th>\n",
       "      <td>smoke</td>\n",
       "      <td>卡方检验</td>\n",
       "      <td>3.90</td>\n",
       "      <td>0.273</td>\n",
       "      <td>不显著</td>\n",
       "    </tr>\n",
       "    <tr>\n",
       "      <th>9</th>\n",
       "      <td>drinking</td>\n",
       "      <td>卡方检验</td>\n",
       "      <td>6.38</td>\n",
       "      <td>0.094</td>\n",
       "      <td>不显著</td>\n",
       "    </tr>\n",
       "    <tr>\n",
       "      <th>10</th>\n",
       "      <td>HBsAg</td>\n",
       "      <td>卡方检验</td>\n",
       "      <td>8.89</td>\n",
       "      <td>0.031</td>\n",
       "      <td>显著</td>\n",
       "    </tr>\n",
       "    <tr>\n",
       "      <th>11</th>\n",
       "      <td>HBeAg</td>\n",
       "      <td>卡方检验</td>\n",
       "      <td>11.23</td>\n",
       "      <td>0.011</td>\n",
       "      <td>显著</td>\n",
       "    </tr>\n",
       "    <tr>\n",
       "      <th>12</th>\n",
       "      <td>HBeAb</td>\n",
       "      <td>卡方检验</td>\n",
       "      <td>1.17</td>\n",
       "      <td>0.759</td>\n",
       "      <td>不显著</td>\n",
       "    </tr>\n",
       "    <tr>\n",
       "      <th>13</th>\n",
       "      <td>HBcAb</td>\n",
       "      <td>卡方检验</td>\n",
       "      <td>6.34</td>\n",
       "      <td>0.096</td>\n",
       "      <td>不显著</td>\n",
       "    </tr>\n",
       "    <tr>\n",
       "      <th>14</th>\n",
       "      <td>HCVAb</td>\n",
       "      <td>卡方检验</td>\n",
       "      <td>3.29</td>\n",
       "      <td>0.349</td>\n",
       "      <td>不显著</td>\n",
       "    </tr>\n",
       "    <tr>\n",
       "      <th>15</th>\n",
       "      <td>LC</td>\n",
       "      <td>卡方检验</td>\n",
       "      <td>1.72</td>\n",
       "      <td>0.632</td>\n",
       "      <td>不显著</td>\n",
       "    </tr>\n",
       "    <tr>\n",
       "      <th>16</th>\n",
       "      <td>T</td>\n",
       "      <td>卡方检验</td>\n",
       "      <td>93.18</td>\n",
       "      <td>0.000</td>\n",
       "      <td>显著</td>\n",
       "    </tr>\n",
       "    <tr>\n",
       "      <th>17</th>\n",
       "      <td>N</td>\n",
       "      <td>卡方检验</td>\n",
       "      <td>52.48</td>\n",
       "      <td>0.000</td>\n",
       "      <td>显著</td>\n",
       "    </tr>\n",
       "    <tr>\n",
       "      <th>18</th>\n",
       "      <td>M</td>\n",
       "      <td>卡方检验</td>\n",
       "      <td>54.04</td>\n",
       "      <td>0.000</td>\n",
       "      <td>显著</td>\n",
       "    </tr>\n",
       "    <tr>\n",
       "      <th>19</th>\n",
       "      <td>Gazzaniga_T</td>\n",
       "      <td>卡方检验</td>\n",
       "      <td>75.06</td>\n",
       "      <td>0.000</td>\n",
       "      <td>显著</td>\n",
       "    </tr>\n",
       "    <tr>\n",
       "      <th>20</th>\n",
       "      <td>MSKCC</td>\n",
       "      <td>卡方检验</td>\n",
       "      <td>56.87</td>\n",
       "      <td>0.000</td>\n",
       "      <td>显著</td>\n",
       "    </tr>\n",
       "    <tr>\n",
       "      <th>21</th>\n",
       "      <td>Blumgart_T</td>\n",
       "      <td>卡方检验</td>\n",
       "      <td>58.69</td>\n",
       "      <td>0.000</td>\n",
       "      <td>显著</td>\n",
       "    </tr>\n",
       "    <tr>\n",
       "      <th>22</th>\n",
       "      <td>Bismuth_C</td>\n",
       "      <td>卡方检验</td>\n",
       "      <td>23.28</td>\n",
       "      <td>0.006</td>\n",
       "      <td>显著</td>\n",
       "    </tr>\n",
       "    <tr>\n",
       "      <th>23</th>\n",
       "      <td>PTCD_ERCP</td>\n",
       "      <td>卡方检验</td>\n",
       "      <td>11.60</td>\n",
       "      <td>0.237</td>\n",
       "      <td>不显著</td>\n",
       "    </tr>\n",
       "    <tr>\n",
       "      <th>24</th>\n",
       "      <td>surgery_plasm</td>\n",
       "      <td>卡方检验</td>\n",
       "      <td>44.48</td>\n",
       "      <td>0.018</td>\n",
       "      <td>显著</td>\n",
       "    </tr>\n",
       "    <tr>\n",
       "      <th>25</th>\n",
       "      <td>surgery_result</td>\n",
       "      <td>卡方检验</td>\n",
       "      <td>87.65</td>\n",
       "      <td>0.000</td>\n",
       "      <td>显著</td>\n",
       "    </tr>\n",
       "  </tbody>\n",
       "</table>\n",
       "</div>"
      ],
      "text/plain": [
       "              feature method      t      p result\n",
       "0              gender   卡方检验   3.10  0.376    不显著\n",
       "1            jaundice   卡方检验  16.01  0.001     显著\n",
       "2          emaciation   卡方检验   2.55  0.863    不显著\n",
       "3      cardio_disease   卡方检验   1.32  0.724    不显著\n",
       "4                nbdd   卡方检验   6.33  0.097    不显著\n",
       "5   endocrine_disease   卡方检验   3.91  0.271    不显著\n",
       "6     biliary_disease   卡方检验   9.19  0.027     显著\n",
       "7       other_disease   卡方检验   3.92  0.271    不显著\n",
       "8               smoke   卡方检验   3.90  0.273    不显著\n",
       "9            drinking   卡方检验   6.38  0.094    不显著\n",
       "10              HBsAg   卡方检验   8.89  0.031     显著\n",
       "11              HBeAg   卡方检验  11.23  0.011     显著\n",
       "12              HBeAb   卡方检验   1.17  0.759    不显著\n",
       "13              HBcAb   卡方检验   6.34  0.096    不显著\n",
       "14              HCVAb   卡方检验   3.29  0.349    不显著\n",
       "15                 LC   卡方检验   1.72  0.632    不显著\n",
       "16                  T   卡方检验  93.18  0.000     显著\n",
       "17                  N   卡方检验  52.48  0.000     显著\n",
       "18                  M   卡方检验  54.04  0.000     显著\n",
       "19        Gazzaniga_T   卡方检验  75.06  0.000     显著\n",
       "20              MSKCC   卡方检验  56.87  0.000     显著\n",
       "21         Blumgart_T   卡方检验  58.69  0.000     显著\n",
       "22          Bismuth_C   卡方检验  23.28  0.006     显著\n",
       "23          PTCD_ERCP   卡方检验  11.60  0.237    不显著\n",
       "24      surgery_plasm   卡方检验  44.48  0.018     显著\n",
       "25     surgery_result   卡方检验  87.65  0.000     显著"
      ]
     },
     "execution_count": 44,
     "metadata": {},
     "output_type": "execute_result"
    }
   ],
   "source": [
    "df_discrete_corr_sig"
   ]
  },
  {
   "cell_type": "code",
   "execution_count": 45,
   "metadata": {
    "ExecuteTime": {
     "end_time": "2022-03-10T06:55:35.233974Z",
     "start_time": "2022-03-10T06:55:35.217018Z"
    },
    "scrolled": true
   },
   "outputs": [],
   "source": [
    "discrete_relate=list(df_discrete_corr_sig[df_discrete_corr_sig.result=='显著']['feature'])"
   ]
  },
  {
   "cell_type": "code",
   "execution_count": 46,
   "metadata": {
    "ExecuteTime": {
     "end_time": "2022-03-10T06:55:35.530427Z",
     "start_time": "2022-03-10T06:55:35.524415Z"
    },
    "scrolled": true
   },
   "outputs": [
    {
     "data": {
      "text/plain": [
       "['jaundice',\n",
       " 'biliary_disease',\n",
       " 'HBsAg',\n",
       " 'HBeAg',\n",
       " 'T',\n",
       " 'N',\n",
       " 'M',\n",
       " 'Gazzaniga_T',\n",
       " 'MSKCC',\n",
       " 'Blumgart_T',\n",
       " 'Bismuth_C',\n",
       " 'surgery_plasm',\n",
       " 'surgery_result']"
      ]
     },
     "execution_count": 46,
     "metadata": {},
     "output_type": "execute_result"
    }
   ],
   "source": [
    "discrete_relate"
   ]
  },
  {
   "cell_type": "code",
   "execution_count": 47,
   "metadata": {
    "ExecuteTime": {
     "end_time": "2022-03-10T06:55:36.139748Z",
     "start_time": "2022-03-10T06:55:36.117810Z"
    },
    "scrolled": true
   },
   "outputs": [
    {
     "data": {
      "text/plain": [
       "['gender',\n",
       " 'emaciation',\n",
       " 'cardio_disease',\n",
       " 'nbdd',\n",
       " 'endocrine_disease',\n",
       " 'other_disease',\n",
       " 'smoke',\n",
       " 'drinking',\n",
       " 'HBeAb',\n",
       " 'HBcAb',\n",
       " 'HCVAb',\n",
       " 'LC',\n",
       " 'PTCD_ERCP']"
      ]
     },
     "execution_count": 47,
     "metadata": {},
     "output_type": "execute_result"
    }
   ],
   "source": [
    "list(df_discrete_corr_sig[df_discrete_corr_sig.result=='不显著']['feature'])"
   ]
  },
  {
   "cell_type": "code",
   "execution_count": 48,
   "metadata": {
    "ExecuteTime": {
     "end_time": "2022-03-10T06:55:36.606929Z",
     "start_time": "2022-03-10T06:55:36.591968Z"
    },
    "scrolled": true
   },
   "outputs": [],
   "source": [
    "# # 术前--保留业务需要的不显著变量\n",
    "# discrete_relate.extend(['gender','emaciation', 'cardio_disease', 'nbdd','endocrine_disease', \n",
    "#                     'drinking','HBcAb','HCVAb','LC'])\n",
    "# 术后--保留业务需要的不显著变量\n",
    "discrete_relate.extend(['gender','emaciation', 'cardio_disease', 'nbdd','endocrine_disease', \n",
    "                    'drinking','HBcAb','HCVAb','LC','PTCD_ERCP'])"
   ]
  },
  {
   "cell_type": "code",
   "execution_count": 49,
   "metadata": {
    "ExecuteTime": {
     "end_time": "2022-03-10T06:55:37.573450Z",
     "start_time": "2022-03-10T06:55:37.564506Z"
    },
    "scrolled": true
   },
   "outputs": [
    {
     "data": {
      "text/plain": [
       "['jaundice',\n",
       " 'biliary_disease',\n",
       " 'HBsAg',\n",
       " 'HBeAg',\n",
       " 'T',\n",
       " 'N',\n",
       " 'M',\n",
       " 'Gazzaniga_T',\n",
       " 'MSKCC',\n",
       " 'Blumgart_T',\n",
       " 'Bismuth_C',\n",
       " 'surgery_plasm',\n",
       " 'surgery_result',\n",
       " 'gender',\n",
       " 'emaciation',\n",
       " 'cardio_disease',\n",
       " 'nbdd',\n",
       " 'endocrine_disease',\n",
       " 'drinking',\n",
       " 'HBcAb',\n",
       " 'HCVAb',\n",
       " 'LC',\n",
       " 'PTCD_ERCP']"
      ]
     },
     "execution_count": 49,
     "metadata": {},
     "output_type": "execute_result"
    }
   ],
   "source": [
    "discrete_relate"
   ]
  },
  {
   "cell_type": "markdown",
   "metadata": {},
   "source": [
    "## 连续变量显著性检验"
   ]
  },
  {
   "cell_type": "code",
   "execution_count": 50,
   "metadata": {
    "ExecuteTime": {
     "end_time": "2022-03-10T06:55:38.916900Z",
     "start_time": "2022-03-10T06:55:38.899914Z"
    },
    "scrolled": true
   },
   "outputs": [],
   "source": [
    "# 多分类-连续：方差分析"
   ]
  },
  {
   "cell_type": "code",
   "execution_count": 51,
   "metadata": {},
   "outputs": [
    {
     "data": {
      "text/plain": [
       "array([3, 1, 2, 0], dtype=int64)"
      ]
     },
     "execution_count": 51,
     "metadata": {},
     "output_type": "execute_result"
    }
   ],
   "source": [
    "df_model['label'].unique()"
   ]
  },
  {
   "cell_type": "code",
   "execution_count": 52,
   "metadata": {
    "ExecuteTime": {
     "end_time": "2022-03-10T06:55:39.370181Z",
     "start_time": "2022-03-10T06:55:39.358214Z"
    },
    "scrolled": true
   },
   "outputs": [],
   "source": [
    "import scipy.stats as st\n",
    "# 连续变量的显著性检验\n",
    "def test2(data_a,data_b,data_c,data_d):\n",
    "    x = 1\n",
    "    y = '单因素方差分析'\n",
    "    t, p = st.f_oneway(list(data_a),list(data_b),list(data_c),list(data_d))\n",
    "    return x,y,t,p"
   ]
  },
  {
   "cell_type": "code",
   "execution_count": 53,
   "metadata": {
    "ExecuteTime": {
     "end_time": "2022-03-10T06:55:40.043978Z",
     "start_time": "2022-03-10T06:55:40.021010Z"
    },
    "scrolled": true
   },
   "outputs": [],
   "source": [
    "def sig_test(df_model,continuous_col):\n",
    "\n",
    "    feature_list=[]  # 特征列表\n",
    "    y_list=[]  # 显著性检验方法\n",
    "    t_list=[]  # 统计量\n",
    "    p_list=[]  # p值\n",
    "    result_list=[]  # 是否显著\n",
    "\n",
    "    for i in continuous_col:\n",
    "        print(i)\n",
    "        # 含有空值，方差分析返回nan\n",
    "        df_model_nt=df_model[df_model[i].notnull()]\n",
    "        # 多分类：4类\n",
    "        data_1=df_model_nt[df_model_nt['label']==0][i]\n",
    "        data_2=df_model_nt[df_model_nt['label']==1][i]\n",
    "        data_3=df_model_nt[df_model_nt['label']==2][i]\n",
    "        data_4=df_model_nt[df_model_nt['label']==3][i]\n",
    "#         print(data_1,data_2,data_3,data_4)\n",
    "        # 计算高低剂量组显著性差异\n",
    "        if df_model.shape[0] >= 10:\n",
    "            # 连续变量检验\n",
    "            x,y,t,p = test2(data_1,data_2,data_3,data_4)\n",
    "            t=round(t,2)\n",
    "            p=round(p,3)\n",
    "            if p <=0.05:\n",
    "                sig='显著'\n",
    "            else:\n",
    "                sig='不显著'\n",
    "            # 显著性 \n",
    "            feature_list.append(i)\n",
    "            y_list.append(y)\n",
    "            t_list.append(t)\n",
    "            p_list.append(p)\n",
    "            result_list.append(sig)\n",
    "    df_result=pd.DataFrame({'特征':feature_list,\n",
    "                            '检验指标':y_list,\n",
    "                            't值':t_list,\n",
    "                            'p值':p_list,\n",
    "                            '显著性结果':result_list})\n",
    "    return df_result"
   ]
  },
  {
   "cell_type": "code",
   "execution_count": 54,
   "metadata": {
    "ExecuteTime": {
     "end_time": "2022-03-10T06:55:41.244336Z",
     "start_time": "2022-03-10T06:55:41.149591Z"
    },
    "scrolled": true
   },
   "outputs": [
    {
     "name": "stdout",
     "output_type": "stream",
     "text": [
      "age\n",
      "height\n",
      "weight\n",
      "BMI\n",
      "WBC\n",
      "HGB\n",
      "PLT\n",
      "TB\n",
      "DB\n",
      "TBA\n",
      "TP\n",
      "ALB\n",
      "AG\n",
      "PAB\n",
      "ALT\n",
      "AST\n",
      "GT\n",
      "ALP\n",
      "tumor_AFP\n",
      "tumor_CEA\n",
      "tumor_CA19-9\n",
      "tumor_CA125\n",
      "tumor_size\n",
      "surgery_bleeding\n",
      "surgery_CRCS\n",
      "surgery_CP\n"
     ]
    }
   ],
   "source": [
    "df_continuous_sig = sig_test(df_model,continuous_col)\n",
    "df_continuous_sig = df_continuous_sig.reset_index(drop=True)"
   ]
  },
  {
   "cell_type": "code",
   "execution_count": 55,
   "metadata": {
    "ExecuteTime": {
     "end_time": "2022-03-10T06:55:42.040202Z",
     "start_time": "2022-03-10T06:55:42.010312Z"
    },
    "scrolled": true
   },
   "outputs": [
    {
     "data": {
      "text/html": [
       "<div>\n",
       "<style scoped>\n",
       "    .dataframe tbody tr th:only-of-type {\n",
       "        vertical-align: middle;\n",
       "    }\n",
       "\n",
       "    .dataframe tbody tr th {\n",
       "        vertical-align: top;\n",
       "    }\n",
       "\n",
       "    .dataframe thead th {\n",
       "        text-align: right;\n",
       "    }\n",
       "</style>\n",
       "<table border=\"1\" class=\"dataframe\">\n",
       "  <thead>\n",
       "    <tr style=\"text-align: right;\">\n",
       "      <th></th>\n",
       "      <th>特征</th>\n",
       "      <th>检验指标</th>\n",
       "      <th>t值</th>\n",
       "      <th>p值</th>\n",
       "      <th>显著性结果</th>\n",
       "    </tr>\n",
       "  </thead>\n",
       "  <tbody>\n",
       "    <tr>\n",
       "      <th>0</th>\n",
       "      <td>age</td>\n",
       "      <td>单因素方差分析</td>\n",
       "      <td>1.42</td>\n",
       "      <td>0.236</td>\n",
       "      <td>不显著</td>\n",
       "    </tr>\n",
       "    <tr>\n",
       "      <th>1</th>\n",
       "      <td>height</td>\n",
       "      <td>单因素方差分析</td>\n",
       "      <td>2.31</td>\n",
       "      <td>0.076</td>\n",
       "      <td>不显著</td>\n",
       "    </tr>\n",
       "    <tr>\n",
       "      <th>2</th>\n",
       "      <td>weight</td>\n",
       "      <td>单因素方差分析</td>\n",
       "      <td>2.02</td>\n",
       "      <td>0.112</td>\n",
       "      <td>不显著</td>\n",
       "    </tr>\n",
       "    <tr>\n",
       "      <th>3</th>\n",
       "      <td>BMI</td>\n",
       "      <td>单因素方差分析</td>\n",
       "      <td>1.04</td>\n",
       "      <td>0.374</td>\n",
       "      <td>不显著</td>\n",
       "    </tr>\n",
       "    <tr>\n",
       "      <th>4</th>\n",
       "      <td>WBC</td>\n",
       "      <td>单因素方差分析</td>\n",
       "      <td>0.49</td>\n",
       "      <td>0.689</td>\n",
       "      <td>不显著</td>\n",
       "    </tr>\n",
       "    <tr>\n",
       "      <th>5</th>\n",
       "      <td>HGB</td>\n",
       "      <td>单因素方差分析</td>\n",
       "      <td>1.12</td>\n",
       "      <td>0.339</td>\n",
       "      <td>不显著</td>\n",
       "    </tr>\n",
       "    <tr>\n",
       "      <th>6</th>\n",
       "      <td>PLT</td>\n",
       "      <td>单因素方差分析</td>\n",
       "      <td>4.42</td>\n",
       "      <td>0.005</td>\n",
       "      <td>显著</td>\n",
       "    </tr>\n",
       "    <tr>\n",
       "      <th>7</th>\n",
       "      <td>TB</td>\n",
       "      <td>单因素方差分析</td>\n",
       "      <td>4.66</td>\n",
       "      <td>0.003</td>\n",
       "      <td>显著</td>\n",
       "    </tr>\n",
       "    <tr>\n",
       "      <th>8</th>\n",
       "      <td>DB</td>\n",
       "      <td>单因素方差分析</td>\n",
       "      <td>4.34</td>\n",
       "      <td>0.005</td>\n",
       "      <td>显著</td>\n",
       "    </tr>\n",
       "    <tr>\n",
       "      <th>9</th>\n",
       "      <td>TBA</td>\n",
       "      <td>单因素方差分析</td>\n",
       "      <td>1.80</td>\n",
       "      <td>0.147</td>\n",
       "      <td>不显著</td>\n",
       "    </tr>\n",
       "    <tr>\n",
       "      <th>10</th>\n",
       "      <td>TP</td>\n",
       "      <td>单因素方差分析</td>\n",
       "      <td>1.08</td>\n",
       "      <td>0.359</td>\n",
       "      <td>不显著</td>\n",
       "    </tr>\n",
       "    <tr>\n",
       "      <th>11</th>\n",
       "      <td>ALB</td>\n",
       "      <td>单因素方差分析</td>\n",
       "      <td>1.44</td>\n",
       "      <td>0.232</td>\n",
       "      <td>不显著</td>\n",
       "    </tr>\n",
       "    <tr>\n",
       "      <th>12</th>\n",
       "      <td>AG</td>\n",
       "      <td>单因素方差分析</td>\n",
       "      <td>1.00</td>\n",
       "      <td>0.392</td>\n",
       "      <td>不显著</td>\n",
       "    </tr>\n",
       "    <tr>\n",
       "      <th>13</th>\n",
       "      <td>PAB</td>\n",
       "      <td>单因素方差分析</td>\n",
       "      <td>4.41</td>\n",
       "      <td>0.005</td>\n",
       "      <td>显著</td>\n",
       "    </tr>\n",
       "    <tr>\n",
       "      <th>14</th>\n",
       "      <td>ALT</td>\n",
       "      <td>单因素方差分析</td>\n",
       "      <td>1.71</td>\n",
       "      <td>0.165</td>\n",
       "      <td>不显著</td>\n",
       "    </tr>\n",
       "    <tr>\n",
       "      <th>15</th>\n",
       "      <td>AST</td>\n",
       "      <td>单因素方差分析</td>\n",
       "      <td>0.63</td>\n",
       "      <td>0.595</td>\n",
       "      <td>不显著</td>\n",
       "    </tr>\n",
       "    <tr>\n",
       "      <th>16</th>\n",
       "      <td>GT</td>\n",
       "      <td>单因素方差分析</td>\n",
       "      <td>2.56</td>\n",
       "      <td>0.055</td>\n",
       "      <td>不显著</td>\n",
       "    </tr>\n",
       "    <tr>\n",
       "      <th>17</th>\n",
       "      <td>ALP</td>\n",
       "      <td>单因素方差分析</td>\n",
       "      <td>0.17</td>\n",
       "      <td>0.919</td>\n",
       "      <td>不显著</td>\n",
       "    </tr>\n",
       "    <tr>\n",
       "      <th>18</th>\n",
       "      <td>tumor_AFP</td>\n",
       "      <td>单因素方差分析</td>\n",
       "      <td>1.38</td>\n",
       "      <td>0.248</td>\n",
       "      <td>不显著</td>\n",
       "    </tr>\n",
       "    <tr>\n",
       "      <th>19</th>\n",
       "      <td>tumor_CEA</td>\n",
       "      <td>单因素方差分析</td>\n",
       "      <td>3.28</td>\n",
       "      <td>0.021</td>\n",
       "      <td>显著</td>\n",
       "    </tr>\n",
       "    <tr>\n",
       "      <th>20</th>\n",
       "      <td>tumor_CA19-9</td>\n",
       "      <td>单因素方差分析</td>\n",
       "      <td>22.25</td>\n",
       "      <td>0.000</td>\n",
       "      <td>显著</td>\n",
       "    </tr>\n",
       "    <tr>\n",
       "      <th>21</th>\n",
       "      <td>tumor_CA125</td>\n",
       "      <td>单因素方差分析</td>\n",
       "      <td>3.06</td>\n",
       "      <td>0.029</td>\n",
       "      <td>显著</td>\n",
       "    </tr>\n",
       "    <tr>\n",
       "      <th>22</th>\n",
       "      <td>tumor_size</td>\n",
       "      <td>单因素方差分析</td>\n",
       "      <td>4.82</td>\n",
       "      <td>0.003</td>\n",
       "      <td>显著</td>\n",
       "    </tr>\n",
       "    <tr>\n",
       "      <th>23</th>\n",
       "      <td>surgery_bleeding</td>\n",
       "      <td>单因素方差分析</td>\n",
       "      <td>1.55</td>\n",
       "      <td>0.201</td>\n",
       "      <td>不显著</td>\n",
       "    </tr>\n",
       "    <tr>\n",
       "      <th>24</th>\n",
       "      <td>surgery_CRCS</td>\n",
       "      <td>单因素方差分析</td>\n",
       "      <td>7.04</td>\n",
       "      <td>0.000</td>\n",
       "      <td>显著</td>\n",
       "    </tr>\n",
       "    <tr>\n",
       "      <th>25</th>\n",
       "      <td>surgery_CP</td>\n",
       "      <td>单因素方差分析</td>\n",
       "      <td>0.62</td>\n",
       "      <td>0.604</td>\n",
       "      <td>不显著</td>\n",
       "    </tr>\n",
       "  </tbody>\n",
       "</table>\n",
       "</div>"
      ],
      "text/plain": [
       "                  特征     检验指标     t值     p值 显著性结果\n",
       "0                age  单因素方差分析   1.42  0.236   不显著\n",
       "1             height  单因素方差分析   2.31  0.076   不显著\n",
       "2             weight  单因素方差分析   2.02  0.112   不显著\n",
       "3                BMI  单因素方差分析   1.04  0.374   不显著\n",
       "4                WBC  单因素方差分析   0.49  0.689   不显著\n",
       "5                HGB  单因素方差分析   1.12  0.339   不显著\n",
       "6                PLT  单因素方差分析   4.42  0.005    显著\n",
       "7                 TB  单因素方差分析   4.66  0.003    显著\n",
       "8                 DB  单因素方差分析   4.34  0.005    显著\n",
       "9                TBA  单因素方差分析   1.80  0.147   不显著\n",
       "10                TP  单因素方差分析   1.08  0.359   不显著\n",
       "11               ALB  单因素方差分析   1.44  0.232   不显著\n",
       "12                AG  单因素方差分析   1.00  0.392   不显著\n",
       "13               PAB  单因素方差分析   4.41  0.005    显著\n",
       "14               ALT  单因素方差分析   1.71  0.165   不显著\n",
       "15               AST  单因素方差分析   0.63  0.595   不显著\n",
       "16                GT  单因素方差分析   2.56  0.055   不显著\n",
       "17               ALP  单因素方差分析   0.17  0.919   不显著\n",
       "18         tumor_AFP  单因素方差分析   1.38  0.248   不显著\n",
       "19         tumor_CEA  单因素方差分析   3.28  0.021    显著\n",
       "20      tumor_CA19-9  单因素方差分析  22.25  0.000    显著\n",
       "21       tumor_CA125  单因素方差分析   3.06  0.029    显著\n",
       "22        tumor_size  单因素方差分析   4.82  0.003    显著\n",
       "23  surgery_bleeding  单因素方差分析   1.55  0.201   不显著\n",
       "24      surgery_CRCS  单因素方差分析   7.04  0.000    显著\n",
       "25        surgery_CP  单因素方差分析   0.62  0.604   不显著"
      ]
     },
     "execution_count": 55,
     "metadata": {},
     "output_type": "execute_result"
    }
   ],
   "source": [
    "df_continuous_sig"
   ]
  },
  {
   "cell_type": "code",
   "execution_count": 56,
   "metadata": {
    "ExecuteTime": {
     "end_time": "2022-03-10T06:55:42.599450Z",
     "start_time": "2022-03-10T06:55:42.559557Z"
    },
    "scrolled": true
   },
   "outputs": [],
   "source": [
    "# 多分类-连续方差分析\n",
    "df_continuous_sig.to_excel(project_path+r'/data/result/feature_engineering/df_2.2_多分类-连续变量显著性检验.xlsx')"
   ]
  },
  {
   "cell_type": "code",
   "execution_count": 57,
   "metadata": {
    "ExecuteTime": {
     "end_time": "2022-03-10T06:55:44.128303Z",
     "start_time": "2022-03-10T06:55:44.109327Z"
    },
    "scrolled": true
   },
   "outputs": [],
   "source": [
    "continuous_relate = list(df_continuous_sig[df_continuous_sig['显著性结果']=='显著']['特征'])"
   ]
  },
  {
   "cell_type": "code",
   "execution_count": 58,
   "metadata": {
    "ExecuteTime": {
     "end_time": "2022-03-10T06:55:45.220032Z",
     "start_time": "2022-03-10T06:55:45.206068Z"
    },
    "scrolled": true
   },
   "outputs": [
    {
     "data": {
      "text/plain": [
       "['PLT',\n",
       " 'TB',\n",
       " 'DB',\n",
       " 'PAB',\n",
       " 'tumor_CEA',\n",
       " 'tumor_CA19-9',\n",
       " 'tumor_CA125',\n",
       " 'tumor_size',\n",
       " 'surgery_CRCS']"
      ]
     },
     "execution_count": 58,
     "metadata": {},
     "output_type": "execute_result"
    }
   ],
   "source": [
    "continuous_relate"
   ]
  },
  {
   "cell_type": "code",
   "execution_count": 59,
   "metadata": {
    "ExecuteTime": {
     "end_time": "2022-03-10T06:53:08.782503Z",
     "start_time": "2022-03-10T06:53:08.768542Z"
    },
    "scrolled": true
   },
   "outputs": [
    {
     "data": {
      "text/plain": [
       "['age',\n",
       " 'height',\n",
       " 'weight',\n",
       " 'BMI',\n",
       " 'WBC',\n",
       " 'HGB',\n",
       " 'TBA',\n",
       " 'TP',\n",
       " 'ALB',\n",
       " 'AG',\n",
       " 'ALT',\n",
       " 'AST',\n",
       " 'GT',\n",
       " 'ALP',\n",
       " 'tumor_AFP',\n",
       " 'surgery_bleeding',\n",
       " 'surgery_CP']"
      ]
     },
     "execution_count": 59,
     "metadata": {},
     "output_type": "execute_result"
    }
   ],
   "source": [
    "list(df_continuous_sig[df_continuous_sig['显著性结果']=='不显著']['特征'])"
   ]
  },
  {
   "cell_type": "code",
   "execution_count": 60,
   "metadata": {
    "ExecuteTime": {
     "end_time": "2022-03-10T06:56:19.005568Z",
     "start_time": "2022-03-10T06:56:18.999551Z"
    },
    "scrolled": true
   },
   "outputs": [],
   "source": [
    "# # 术前--业务角度需要保留：\n",
    "# continuous_relate.extend(['age','BMI','WBC','HGB','TBA','TP','ALB','AG','ALT','AST','ALP','tumor_AFP'])\n",
    "# 术后--业务角度需要保留：\n",
    "continuous_relate.extend(['age','BMI','WBC','HGB','TBA','TP','ALB','AG','ALT','AST','ALP','tumor_AFP',\n",
    "                         'surgery_bleeding','surgery_CP'])"
   ]
  },
  {
   "cell_type": "code",
   "execution_count": 61,
   "metadata": {
    "ExecuteTime": {
     "end_time": "2022-03-10T06:56:20.270867Z",
     "start_time": "2022-03-10T06:56:20.247898Z"
    },
    "scrolled": true
   },
   "outputs": [],
   "source": [
    "# 提取相关性特征\n",
    "feature_relate=discrete_relate + continuous_relate\n",
    "# 加入目标变量\n",
    "feature_relate.insert(0,'label')\n",
    "df_model_relate=df_model[feature_relate]"
   ]
  },
  {
   "cell_type": "code",
   "execution_count": 62,
   "metadata": {
    "ExecuteTime": {
     "end_time": "2022-03-10T06:56:21.269252Z",
     "start_time": "2022-03-10T06:56:21.259247Z"
    },
    "scrolled": true
   },
   "outputs": [
    {
     "data": {
      "text/plain": [
       "['label',\n",
       " 'jaundice',\n",
       " 'biliary_disease',\n",
       " 'HBsAg',\n",
       " 'HBeAg',\n",
       " 'T',\n",
       " 'N',\n",
       " 'M',\n",
       " 'Gazzaniga_T',\n",
       " 'MSKCC',\n",
       " 'Blumgart_T',\n",
       " 'Bismuth_C',\n",
       " 'surgery_plasm',\n",
       " 'surgery_result',\n",
       " 'gender',\n",
       " 'emaciation',\n",
       " 'cardio_disease',\n",
       " 'nbdd',\n",
       " 'endocrine_disease',\n",
       " 'drinking',\n",
       " 'HBcAb',\n",
       " 'HCVAb',\n",
       " 'LC',\n",
       " 'PTCD_ERCP',\n",
       " 'PLT',\n",
       " 'TB',\n",
       " 'DB',\n",
       " 'PAB',\n",
       " 'tumor_CEA',\n",
       " 'tumor_CA19-9',\n",
       " 'tumor_CA125',\n",
       " 'tumor_size',\n",
       " 'surgery_CRCS',\n",
       " 'age',\n",
       " 'BMI',\n",
       " 'WBC',\n",
       " 'HGB',\n",
       " 'TBA',\n",
       " 'TP',\n",
       " 'ALB',\n",
       " 'AG',\n",
       " 'ALT',\n",
       " 'AST',\n",
       " 'ALP',\n",
       " 'tumor_AFP',\n",
       " 'surgery_bleeding',\n",
       " 'surgery_CP']"
      ]
     },
     "execution_count": 62,
     "metadata": {},
     "output_type": "execute_result"
    }
   ],
   "source": [
    "feature_relate"
   ]
  },
  {
   "cell_type": "code",
   "execution_count": 63,
   "metadata": {
    "ExecuteTime": {
     "end_time": "2022-03-10T06:56:21.937981Z",
     "start_time": "2022-03-10T06:56:21.918034Z"
    },
    "scrolled": true
   },
   "outputs": [
    {
     "data": {
      "text/plain": [
       "(417, 47)"
      ]
     },
     "execution_count": 63,
     "metadata": {},
     "output_type": "execute_result"
    }
   ],
   "source": [
    "df_model_relate.shape"
   ]
  },
  {
   "cell_type": "code",
   "execution_count": 67,
   "metadata": {
    "ExecuteTime": {
     "end_time": "2022-03-10T06:56:32.695476Z",
     "start_time": "2022-03-10T06:56:32.477984Z"
    },
    "scrolled": true
   },
   "outputs": [],
   "source": [
    "# 保存显著性分析结果\n",
    "df_model_relate.to_excel(project_path + '/data/result/feature_engineering/df_2_data_model_relate-术后.xlsx')"
   ]
  },
  {
   "cell_type": "markdown",
   "metadata": {},
   "source": [
    "# 重要性评分"
   ]
  },
  {
   "cell_type": "code",
   "execution_count": 68,
   "metadata": {
    "ExecuteTime": {
     "end_time": "2022-03-10T06:56:33.946540Z",
     "start_time": "2022-03-10T06:56:33.926594Z"
    },
    "scrolled": true
   },
   "outputs": [
    {
     "data": {
      "text/plain": [
       "(417, 47)"
      ]
     },
     "execution_count": 68,
     "metadata": {},
     "output_type": "execute_result"
    }
   ],
   "source": [
    "df_model_relate.shape"
   ]
  },
  {
   "cell_type": "code",
   "execution_count": 69,
   "metadata": {
    "ExecuteTime": {
     "end_time": "2022-03-10T06:56:34.681104Z",
     "start_time": "2022-03-10T06:56:34.661125Z"
    }
   },
   "outputs": [
    {
     "data": {
      "text/plain": [
       "label                1\n",
       "WBC                  1\n",
       "DB                   1\n",
       "PAB                  1\n",
       "tumor_CEA            1\n",
       "tumor_CA19-9         1\n",
       "tumor_CA125          1\n",
       "tumor_size           1\n",
       "surgery_CRCS         1\n",
       "age                  1\n",
       "BMI                  1\n",
       "HGB                  1\n",
       "PLT                  1\n",
       "TBA                  1\n",
       "TP                   1\n",
       "ALB                  1\n",
       "AG                   1\n",
       "ALT                  1\n",
       "AST                  1\n",
       "ALP                  1\n",
       "tumor_AFP            1\n",
       "surgery_bleeding     1\n",
       "TB                   1\n",
       "PTCD_ERCP            1\n",
       "jaundice             1\n",
       "Bismuth_C            1\n",
       "biliary_disease      1\n",
       "HBsAg                1\n",
       "HBeAg                1\n",
       "T                    1\n",
       "N                    1\n",
       "M                    1\n",
       "Gazzaniga_T          1\n",
       "MSKCC                1\n",
       "Blumgart_T           1\n",
       "surgery_plasm        1\n",
       "LC                   1\n",
       "surgery_result       1\n",
       "gender               1\n",
       "emaciation           1\n",
       "cardio_disease       1\n",
       "nbdd                 1\n",
       "endocrine_disease    1\n",
       "drinking             1\n",
       "HBcAb                1\n",
       "HCVAb                1\n",
       "surgery_CP           1\n",
       "dtype: int64"
      ]
     },
     "execution_count": 69,
     "metadata": {},
     "output_type": "execute_result"
    }
   ],
   "source": [
    "df_model_relate.columns.value_counts()"
   ]
  },
  {
   "cell_type": "code",
   "execution_count": 70,
   "metadata": {
    "ExecuteTime": {
     "end_time": "2022-03-10T06:56:36.146238Z",
     "start_time": "2022-03-10T06:56:36.131246Z"
    },
    "scrolled": true
   },
   "outputs": [],
   "source": [
    "from sklearn.model_selection import train_test_split\n",
    "\n",
    "# 划分训练集和测试集，比例为8:2\n",
    "x = df_model_relate.drop(['label'],axis=1)\n",
    "y = df_model_relate['label']\n",
    "tran_x, test_x, tran_y, test_y = train_test_split(x, y, test_size=0.2, random_state=5)"
   ]
  },
  {
   "cell_type": "code",
   "execution_count": 73,
   "metadata": {
    "ExecuteTime": {
     "end_time": "2022-03-10T06:56:38.130669Z",
     "start_time": "2022-03-10T06:56:37.120375Z"
    },
    "scrolled": true
   },
   "outputs": [
    {
     "name": "stdout",
     "output_type": "stream",
     "text": [
      "[21:12:48] WARNING: C:/Users/Administrator/workspace/xgboost-win64_release_1.6.0/src/learner.cc:627: \n",
      "Parameters: { \"scale_pos_weight\" } might not be used.\n",
      "\n",
      "  This could be a false alarm, with some parameters getting used by language bindings but\n",
      "  then being mistakenly passed down to XGBoost core, or some parameter actually being used\n",
      "  but getting flagged wrongly here. Please open an issue if you find any such cases.\n",
      "\n",
      "\n",
      "Index(['jaundice', 'biliary_disease', 'HBsAg', 'HBeAg', 'T', 'N', 'M',\n",
      "       'Gazzaniga_T', 'MSKCC', 'Blumgart_T', 'Bismuth_C', 'surgery_plasm',\n",
      "       'surgery_result', 'gender', 'emaciation', 'cardio_disease', 'nbdd',\n",
      "       'endocrine_disease', 'drinking', 'HBcAb', 'HCVAb', 'LC', 'PTCD_ERCP',\n",
      "       'PLT', 'TB', 'DB', 'PAB', 'tumor_CEA', 'tumor_CA19-9', 'tumor_CA125',\n",
      "       'tumor_size', 'surgery_CRCS', 'age', 'BMI', 'WBC', 'HGB', 'TBA', 'TP',\n",
      "       'ALB', 'AG', 'ALT', 'AST', 'ALP', 'tumor_AFP', 'surgery_bleeding',\n",
      "       'surgery_CP'],\n",
      "      dtype='object')\n",
      "[0.01809724 0.01419496 0.01574323 0.01606033 0.03607944 0.03115455\n",
      " 0.02582384 0.0282732  0.03349249 0.03091496 0.01634455 0.0160038\n",
      " 0.05208305 0.01794077 0.01619161 0.02972827 0.01553988 0.01510396\n",
      " 0.01602046 0.01774808 0.01495843 0.02036977 0.01481939 0.02207188\n",
      " 0.01653945 0.03127547 0.01952459 0.01727163 0.03362571 0.02094104\n",
      " 0.0207294  0.01479293 0.01646773 0.04435923 0.01932556 0.01805981\n",
      " 0.01854658 0.02172845 0.01757896 0.01758787 0.02659124 0.01998536\n",
      " 0.01854601 0.01678366 0.01930154 0.01567961]\n"
     ]
    }
   ],
   "source": [
    "# 重要性\n",
    "import catboost,xgboost\n",
    "model_boost=xgboost.XGBClassifier(max_depth=5,\n",
    "                                learning_rate=0.01,\n",
    "                                n_estimators=500,\n",
    "                                min_child_weight=0.5,\n",
    "                                eta=0.1,\n",
    "                                gamma=0.5,\n",
    "                                reg_lambda=10,\n",
    "                                subsample=0.5,\n",
    "                                colsample_bytree=0.8,\n",
    "                                nthread=4,\n",
    "                                scale_pos_weight=1)\n",
    "model_boost.fit(tran_x,tran_y)\n",
    "importance = model_boost.feature_importances_\n",
    "print(tran_x.columns)\n",
    "print(importance)"
   ]
  },
  {
   "cell_type": "code",
   "execution_count": 74,
   "metadata": {
    "ExecuteTime": {
     "end_time": "2022-03-10T06:56:44.996671Z",
     "start_time": "2022-03-10T06:56:44.983705Z"
    },
    "scrolled": true
   },
   "outputs": [],
   "source": [
    "df_importance= pd.DataFrame(data={'特征':tran_x.columns,'重要性评分':importance})\n",
    "df_importance['重要性评分']=df_importance['重要性评分'].apply(lambda x: round(x,3))\n",
    "df_importance=df_importance.sort_values(['重要性评分'],ascending=False)\n",
    "df_importance=df_importance.reset_index(drop=True)"
   ]
  },
  {
   "cell_type": "code",
   "execution_count": 75,
   "metadata": {
    "ExecuteTime": {
     "end_time": "2022-03-10T06:56:45.966449Z",
     "start_time": "2022-03-10T06:56:45.925532Z"
    },
    "scrolled": true
   },
   "outputs": [],
   "source": [
    "df_importance.to_excel(project_path + '/data/result/feature_engineering/df_3_模型重要性评分.xlsx')"
   ]
  },
  {
   "cell_type": "code",
   "execution_count": 76,
   "metadata": {
    "ExecuteTime": {
     "end_time": "2022-03-10T06:57:21.872074Z",
     "start_time": "2022-03-10T06:57:21.845148Z"
    },
    "scrolled": true
   },
   "outputs": [],
   "source": [
    "# 筛选重要特征组建建模数据\n",
    "df_importance_select=df_importance[df_importance['重要性评分']>0]\n",
    "select_list = list(df_importance_select['特征'])\n",
    "select_list.insert(0,'label')"
   ]
  },
  {
   "cell_type": "code",
   "execution_count": 77,
   "metadata": {
    "ExecuteTime": {
     "end_time": "2022-03-10T06:57:22.668681Z",
     "start_time": "2022-03-10T06:57:22.658674Z"
    },
    "scrolled": true
   },
   "outputs": [],
   "source": [
    "df_model_importance = df_model_relate[select_list]"
   ]
  },
  {
   "cell_type": "code",
   "execution_count": 78,
   "metadata": {
    "ExecuteTime": {
     "end_time": "2022-03-10T06:57:23.470826Z",
     "start_time": "2022-03-10T06:57:23.458857Z"
    },
    "scrolled": true
   },
   "outputs": [
    {
     "data": {
      "text/plain": [
       "(417, 47)"
      ]
     },
     "execution_count": 78,
     "metadata": {},
     "output_type": "execute_result"
    }
   ],
   "source": [
    "df_model_importance.shape"
   ]
  },
  {
   "cell_type": "code",
   "execution_count": 79,
   "metadata": {
    "ExecuteTime": {
     "end_time": "2022-03-10T06:57:25.990224Z",
     "start_time": "2022-03-10T06:57:25.730377Z"
    },
    "scrolled": true
   },
   "outputs": [],
   "source": [
    "# 保存重要性评分筛选后的建模数据\n",
    "df_model_importance.to_excel(project_path + '/data/result/feature_engineering/df_3_data_model_importance.xlsx')"
   ]
  },
  {
   "cell_type": "markdown",
   "metadata": {},
   "source": [
    "# 逐步向前"
   ]
  },
  {
   "cell_type": "markdown",
   "metadata": {},
   "source": [
    "## 插补数据"
   ]
  },
  {
   "cell_type": "code",
   "execution_count": 80,
   "metadata": {
    "ExecuteTime": {
     "end_time": "2022-03-10T06:57:29.911301Z",
     "start_time": "2022-03-10T06:57:29.691188Z"
    },
    "scrolled": true
   },
   "outputs": [],
   "source": [
    "# 使用随机森林对缺失值进行插补\n",
    "import pandas as pd\n",
    "pd.set_option('mode.chained_assignment', None)\n",
    "import numpy as np\n",
    "from sklearn.ensemble import RandomForestRegressor\n",
    "from sklearn.model_selection import GridSearchCV\n",
    "def missing_value_interpolation(df):\n",
    "    df = df.reset_index(drop=True)\n",
    "    # 提取存在缺失值的列名\n",
    "    missing_list = []\n",
    "    for i in df.columns:\n",
    "        if df[i].isnull().sum() > 0:\n",
    "            missing_list.append(i)\n",
    "    missing_list_copy = missing_list.copy()\n",
    "    # 用该列未缺失的值训练随机森林，然后用训练好的rf预测缺失值\n",
    "    for i in range(len(missing_list)):\n",
    "        name=missing_list[0]\n",
    "        df_missing = df[missing_list_copy]\n",
    "        # 将其他列的缺失值用0表示。\n",
    "        missing_list.remove(name)\n",
    "        for j in missing_list:\n",
    "            df_missing[j]=df_missing[j].astype('str').apply(lambda x: 0 if x=='nan' else x)\n",
    "        df_missing_is = df_missing[df_missing[name].isnull()]\n",
    "        df_missing_not = df_missing[df_missing[name].notnull()]\n",
    "        y = df_missing_not[name]\n",
    "        x = df_missing_not.drop([name],axis=1)\n",
    "        # 列出参数列表\n",
    "        tree_grid_parameter = {'n_estimators': list((10, 50, 100, 150, 200))}\n",
    "        # 进行参数的搜索组合\n",
    "        grid = GridSearchCV(RandomForestRegressor(),param_grid=tree_grid_parameter,cv=3)\n",
    "        #rfr=RandomForestRegressor(random_state=0,n_estimators=100,n_jobs=-1)\n",
    "        #根据已有数据去拟合随机森林模型\n",
    "        grid.fit(x, y)\n",
    "        rfr = RandomForestRegressor(n_estimators=grid.best_params_['n_estimators'])\n",
    "        rfr.fit(x, y)\n",
    "        #预测缺失值\n",
    "        predict = rfr.predict(df_missing_is.drop([name],axis=1))\n",
    "        #填补缺失值\n",
    "        df.loc[df[name].isnull(),name] = predict\n",
    "    return df"
   ]
  },
  {
   "cell_type": "code",
   "execution_count": 81,
   "metadata": {
    "ExecuteTime": {
     "end_time": "2022-03-10T06:57:30.548453Z",
     "start_time": "2022-03-10T06:57:30.534491Z"
    },
    "scrolled": true
   },
   "outputs": [],
   "source": [
    "# df_model_cb=missing_value_interpolation(df_model_relate)\n",
    "df_model_cb=df_model_relate"
   ]
  },
  {
   "cell_type": "code",
   "execution_count": 82,
   "metadata": {
    "ExecuteTime": {
     "end_time": "2022-03-10T06:58:36.097917Z",
     "start_time": "2022-03-10T06:58:35.865453Z"
    },
    "scrolled": true
   },
   "outputs": [],
   "source": [
    "df_model_cb.to_excel(project_path+'/data/result/feature_engineering/df_4.1_df_model_cb_after.xlsx')"
   ]
  },
  {
   "cell_type": "code",
   "execution_count": 26,
   "metadata": {},
   "outputs": [],
   "source": [
    "df_model_cb=pd.read_excel(project_path+'/data/result/feature_engineering/df_2_data_model_relate-术后.xlsx',index_col=0)"
   ]
  },
  {
   "cell_type": "code",
   "execution_count": 27,
   "metadata": {
    "ExecuteTime": {
     "end_time": "2022-03-10T06:57:31.066088Z",
     "start_time": "2022-03-10T06:57:31.050134Z"
    },
    "scrolled": true
   },
   "outputs": [
    {
     "data": {
      "text/plain": [
       "(417, 47)"
      ]
     },
     "execution_count": 27,
     "metadata": {},
     "output_type": "execute_result"
    }
   ],
   "source": [
    "df_model_cb.shape"
   ]
  },
  {
   "cell_type": "code",
   "execution_count": 28,
   "metadata": {},
   "outputs": [
    {
     "data": {
      "text/plain": [
       "Index(['label', 'jaundice', 'biliary_disease', 'HBsAg', 'HBeAg', 'T', 'N', 'M',\n",
       "       'Gazzaniga_T', 'MSKCC', 'Blumgart_T', 'Bismuth_C', 'surgery_plasm',\n",
       "       'surgery_result', 'gender', 'emaciation', 'cardio_disease', 'nbdd',\n",
       "       'endocrine_disease', 'drinking', 'HBcAb', 'HCVAb', 'LC', 'PTCD_ERCP',\n",
       "       'PLT', 'TB', 'DB', 'PAB', 'tumor_CEA', 'tumor_CA19-9', 'tumor_CA125',\n",
       "       'tumor_size', 'surgery_CRCS', 'age', 'BMI', 'WBC', 'HGB', 'TBA', 'TP',\n",
       "       'ALB', 'AG', 'ALT', 'AST', 'ALP', 'tumor_AFP', 'surgery_bleeding',\n",
       "       'surgery_CP'],\n",
       "      dtype='object')"
      ]
     },
     "execution_count": 28,
     "metadata": {},
     "output_type": "execute_result"
    }
   ],
   "source": [
    "df_model_cb.columns"
   ]
  },
  {
   "cell_type": "markdown",
   "metadata": {},
   "source": [
    "## 划分数据集"
   ]
  },
  {
   "cell_type": "code",
   "execution_count": 29,
   "metadata": {
    "ExecuteTime": {
     "end_time": "2022-03-10T06:59:06.464708Z",
     "start_time": "2022-03-10T06:59:06.444729Z"
    },
    "scrolled": true
   },
   "outputs": [],
   "source": [
    "from sklearn.model_selection import train_test_split\n",
    "# 划分训练集和测试集，比例为8:2\n",
    "x = df_model_cb.drop(['label'],axis=1)\n",
    "y = df_model_cb['label']\n",
    "\n",
    "tran_x, tran_y=x,y"
   ]
  },
  {
   "cell_type": "code",
   "execution_count": 30,
   "metadata": {
    "ExecuteTime": {
     "end_time": "2022-03-10T06:59:08.195071Z",
     "start_time": "2022-03-10T06:59:08.178085Z"
    },
    "scrolled": true
   },
   "outputs": [
    {
     "data": {
      "text/plain": [
       "(417, 46)"
      ]
     },
     "execution_count": 30,
     "metadata": {},
     "output_type": "execute_result"
    }
   ],
   "source": [
    "tran_x.shape"
   ]
  },
  {
   "cell_type": "code",
   "execution_count": 31,
   "metadata": {
    "ExecuteTime": {
     "end_time": "2022-03-10T06:59:10.133162Z",
     "start_time": "2022-03-10T06:59:10.111223Z"
    },
    "scrolled": true
   },
   "outputs": [
    {
     "data": {
      "text/plain": [
       "2    129\n",
       "1    111\n",
       "0    100\n",
       "3     77\n",
       "Name: label, dtype: int64"
      ]
     },
     "execution_count": 31,
     "metadata": {},
     "output_type": "execute_result"
    }
   ],
   "source": [
    "tran_y.value_counts()"
   ]
  },
  {
   "cell_type": "code",
   "execution_count": 32,
   "metadata": {
    "ExecuteTime": {
     "end_time": "2022-03-10T06:59:10.724476Z",
     "start_time": "2022-03-10T06:59:10.707493Z"
    },
    "scrolled": true
   },
   "outputs": [
    {
     "ename": "NameError",
     "evalue": "name 'test_y' is not defined",
     "output_type": "error",
     "traceback": [
      "\u001b[1;31m---------------------------------------------------------------------------\u001b[0m",
      "\u001b[1;31mNameError\u001b[0m                                 Traceback (most recent call last)",
      "Input \u001b[1;32mIn [32]\u001b[0m, in \u001b[0;36m<cell line: 1>\u001b[1;34m()\u001b[0m\n\u001b[1;32m----> 1\u001b[0m \u001b[43mtest_y\u001b[49m\u001b[38;5;241m.\u001b[39mvalue_counts()\n",
      "\u001b[1;31mNameError\u001b[0m: name 'test_y' is not defined"
     ]
    }
   ],
   "source": [
    "test_y.value_counts()"
   ]
  },
  {
   "cell_type": "markdown",
   "metadata": {},
   "source": [
    "## stepwise forward for regression"
   ]
  },
  {
   "cell_type": "code",
   "execution_count": 33,
   "metadata": {
    "scrolled": true
   },
   "outputs": [
    {
     "name": "stdout",
     "output_type": "stream",
     "text": [
      "Object `SFS` not found.\n"
     ]
    }
   ],
   "source": [
    "?SFS"
   ]
  },
  {
   "cell_type": "code",
   "execution_count": 34,
   "metadata": {
    "ExecuteTime": {
     "end_time": "2022-03-10T10:59:18.297349Z",
     "start_time": "2022-03-10T07:00:09.076907Z"
    },
    "scrolled": true
   },
   "outputs": [
    {
     "name": "stderr",
     "output_type": "stream",
     "text": [
      "[Parallel(n_jobs=-1)]: Using backend LokyBackend with 8 concurrent workers.\n",
      "[Parallel(n_jobs=-1)]: Done  25 tasks      | elapsed:   14.6s\n",
      "[Parallel(n_jobs=-1)]: Done  46 out of  46 | elapsed:   22.3s finished\n",
      "\n",
      "[2022-06-28 21:21:11] Features: 1/1 -- score: 0.38609112709832133[Parallel(n_jobs=-1)]: Using backend LokyBackend with 8 concurrent workers.\n",
      "[Parallel(n_jobs=-1)]: Done  25 tasks      | elapsed:   11.8s\n",
      "[Parallel(n_jobs=-1)]: Done  46 out of  46 | elapsed:   19.3s finished\n",
      "\n",
      "[2022-06-28 21:21:30] Features: 1/2 -- score: 0.38609112709832133[Parallel(n_jobs=-1)]: Using backend LokyBackend with 8 concurrent workers.\n",
      "[Parallel(n_jobs=-1)]: Done  25 tasks      | elapsed:   11.4s\n",
      "[Parallel(n_jobs=-1)]: Done  45 out of  45 | elapsed:   17.4s finished\n",
      "\n",
      "[2022-06-28 21:21:48] Features: 2/2 -- score: 0.44604316546762596[Parallel(n_jobs=-1)]: Using backend LokyBackend with 8 concurrent workers.\n",
      "[Parallel(n_jobs=-1)]: Done  25 tasks      | elapsed:   13.5s\n",
      "[Parallel(n_jobs=-1)]: Done  46 out of  46 | elapsed:   21.8s finished\n",
      "\n",
      "[2022-06-28 21:22:10] Features: 1/3 -- score: 0.38609112709832133[Parallel(n_jobs=-1)]: Using backend LokyBackend with 8 concurrent workers.\n",
      "[Parallel(n_jobs=-1)]: Done  25 tasks      | elapsed:   11.5s\n",
      "[Parallel(n_jobs=-1)]: Done  45 out of  45 | elapsed:   17.6s finished\n",
      "\n",
      "[2022-06-28 21:22:27] Features: 2/3 -- score: 0.44604316546762596[Parallel(n_jobs=-1)]: Using backend LokyBackend with 8 concurrent workers.\n",
      "[Parallel(n_jobs=-1)]: Done  25 tasks      | elapsed:   15.4s\n",
      "[Parallel(n_jobs=-1)]: Done  44 out of  44 | elapsed:   21.9s finished\n",
      "\n",
      "[2022-06-28 21:22:49] Features: 3/3 -- score: 0.4508393285371703[Parallel(n_jobs=-1)]: Using backend LokyBackend with 8 concurrent workers.\n",
      "[Parallel(n_jobs=-1)]: Done  25 tasks      | elapsed:   11.2s\n",
      "[Parallel(n_jobs=-1)]: Done  46 out of  46 | elapsed:   18.6s finished\n",
      "\n",
      "[2022-06-28 21:23:08] Features: 1/4 -- score: 0.38609112709832133[Parallel(n_jobs=-1)]: Using backend LokyBackend with 8 concurrent workers.\n",
      "[Parallel(n_jobs=-1)]: Done  25 tasks      | elapsed:   11.0s\n",
      "[Parallel(n_jobs=-1)]: Done  45 out of  45 | elapsed:   16.9s finished\n",
      "\n",
      "[2022-06-28 21:23:25] Features: 2/4 -- score: 0.44604316546762596[Parallel(n_jobs=-1)]: Using backend LokyBackend with 8 concurrent workers.\n",
      "[Parallel(n_jobs=-1)]: Done  25 tasks      | elapsed:   14.9s\n",
      "[Parallel(n_jobs=-1)]: Done  44 out of  44 | elapsed:   21.5s finished\n",
      "\n",
      "[2022-06-28 21:23:47] Features: 3/4 -- score: 0.4508393285371703[Parallel(n_jobs=-1)]: Using backend LokyBackend with 8 concurrent workers.\n",
      "[Parallel(n_jobs=-1)]: Done  25 tasks      | elapsed:   17.7s\n",
      "[Parallel(n_jobs=-1)]: Done  43 out of  43 | elapsed:   24.9s finished\n",
      "\n",
      "[2022-06-28 21:24:12] Features: 4/4 -- score: 0.48441247002398086"
     ]
    }
   ],
   "source": [
    "from mlxtend.feature_selection import SequentialFeatureSelector as SFS\n",
    "from sklearn.ensemble import RandomForestClassifier\n",
    "import xgboost,catboost\n",
    "f1_max_list=[]\n",
    "feature_max_list=[]\n",
    "for i in range(1,5):\n",
    "    # 津源xgboost模型\n",
    "    sfs = SFS(xgboost.XGBClassifier(max_depth=5,\n",
    "                        learning_rate=0.01,\n",
    "                        n_estimators=300,\n",
    "                        min_child_weight=0.5,\n",
    "                        eta=0.1,\n",
    "                        gamma=0.5,\n",
    "                        reg_lambda=10,\n",
    "                        subsample=0.5,\n",
    "                        colsample_bytree=0.8,\n",
    "                        nthread=4,\n",
    "                        scale_pos_weight=1,\n",
    "                        random_state=3),\n",
    "              n_jobs=-1, # 并行使用的进程数，默认1个，如果设置为-1，该值为总的核数\n",
    "              k_features=i,\n",
    "             forward=True,\n",
    "             floating=False,  \n",
    "             verbose=2,  # 显示输出的一些参数，默认为0不输出\n",
    "             scoring='accuracy', # for binary targets\n",
    "             cv=3)  # cv交叉验证\n",
    "\n",
    "    sfs = sfs.fit(tran_x, tran_y)\n",
    "    # 选择特征\n",
    "    selected_feat= tran_x.columns[list(sfs.k_feature_idx_)]\n",
    "    f1_max=sfs.k_score_\n",
    "    # 保存\n",
    "    f1_max_list.append(f1_max)\n",
    "    feature_max_list.append(selected_feat)"
   ]
  },
  {
   "cell_type": "code",
   "execution_count": 35,
   "metadata": {
    "ExecuteTime": {
     "end_time": "2022-03-10T12:25:18.689044Z",
     "start_time": "2022-03-10T12:25:18.647135Z"
    },
    "scrolled": true
   },
   "outputs": [],
   "source": [
    "df_forward_result=pd.DataFrame(data={'auc':f1_max_list,\n",
    "                                    'feature_names':feature_max_list})\n",
    "# 保存模型测试和测试结果到本地文件\n",
    "df_forward_result.to_excel(project_path + '/data/result/feature_engineering/df_4.3_逐步向前特征测试结果-术后.xlsx')"
   ]
  },
  {
   "cell_type": "markdown",
   "metadata": {},
   "source": [
    "## 逐步向前画图"
   ]
  },
  {
   "cell_type": "code",
   "execution_count": 36,
   "metadata": {},
   "outputs": [],
   "source": [
    "df_forward_result =pd.read_excel(project_path +'/data/result/feature_engineering/df_4.3_逐步向前特征测试结果-术后.xlsx',index_col=0)"
   ]
  },
  {
   "cell_type": "code",
   "execution_count": 37,
   "metadata": {
    "scrolled": true
   },
   "outputs": [],
   "source": [
    "f1_max_list=list(df_forward_result['auc'])\n",
    "feature_max_list=list(df_forward_result['feature_names'])"
   ]
  },
  {
   "cell_type": "code",
   "execution_count": 38,
   "metadata": {
    "scrolled": true
   },
   "outputs": [
    {
     "data": {
      "text/html": [
       "<div>\n",
       "<style scoped>\n",
       "    .dataframe tbody tr th:only-of-type {\n",
       "        vertical-align: middle;\n",
       "    }\n",
       "\n",
       "    .dataframe tbody tr th {\n",
       "        vertical-align: top;\n",
       "    }\n",
       "\n",
       "    .dataframe thead th {\n",
       "        text-align: right;\n",
       "    }\n",
       "</style>\n",
       "<table border=\"1\" class=\"dataframe\">\n",
       "  <thead>\n",
       "    <tr style=\"text-align: right;\">\n",
       "      <th></th>\n",
       "      <th>auc</th>\n",
       "      <th>feature_names</th>\n",
       "    </tr>\n",
       "  </thead>\n",
       "  <tbody>\n",
       "    <tr>\n",
       "      <th>0</th>\n",
       "      <td>0.386091</td>\n",
       "      <td>Index(['MSKCC'], dtype='object')</td>\n",
       "    </tr>\n",
       "    <tr>\n",
       "      <th>1</th>\n",
       "      <td>0.446043</td>\n",
       "      <td>Index(['MSKCC', 'ALT'], dtype='object')</td>\n",
       "    </tr>\n",
       "    <tr>\n",
       "      <th>2</th>\n",
       "      <td>0.450839</td>\n",
       "      <td>Index(['MSKCC', 'DB', 'ALT'], dtype='object')</td>\n",
       "    </tr>\n",
       "    <tr>\n",
       "      <th>3</th>\n",
       "      <td>0.484412</td>\n",
       "      <td>Index(['M', 'MSKCC', 'DB', 'ALT'], dtype='obje...</td>\n",
       "    </tr>\n",
       "    <tr>\n",
       "      <th>4</th>\n",
       "      <td>0.501199</td>\n",
       "      <td>Index(['M', 'MSKCC', 'cardio_disease', 'DB', '...</td>\n",
       "    </tr>\n",
       "  </tbody>\n",
       "</table>\n",
       "</div>"
      ],
      "text/plain": [
       "        auc                                      feature_names\n",
       "0  0.386091                   Index(['MSKCC'], dtype='object')\n",
       "1  0.446043            Index(['MSKCC', 'ALT'], dtype='object')\n",
       "2  0.450839      Index(['MSKCC', 'DB', 'ALT'], dtype='object')\n",
       "3  0.484412  Index(['M', 'MSKCC', 'DB', 'ALT'], dtype='obje...\n",
       "4  0.501199  Index(['M', 'MSKCC', 'cardio_disease', 'DB', '..."
      ]
     },
     "execution_count": 38,
     "metadata": {},
     "output_type": "execute_result"
    }
   ],
   "source": [
    "df_forward_result.head()"
   ]
  },
  {
   "cell_type": "code",
   "execution_count": 39,
   "metadata": {
    "ExecuteTime": {
     "end_time": "2022-03-10T12:53:26.266855Z",
     "start_time": "2022-03-10T12:53:26.030458Z"
    },
    "scrolled": true
   },
   "outputs": [
    {
     "data": {
      "text/plain": [
       "([<matplotlib.axis.XTick at 0x231bb553610>,\n",
       "  <matplotlib.axis.XTick at 0x231bb5535e0>,\n",
       "  <matplotlib.axis.XTick at 0x231bb53f250>,\n",
       "  <matplotlib.axis.XTick at 0x231bb58adf0>,\n",
       "  <matplotlib.axis.XTick at 0x231bbc4a7c0>,\n",
       "  <matplotlib.axis.XTick at 0x231bbc52070>,\n",
       "  <matplotlib.axis.XTick at 0x231bbc526a0>,\n",
       "  <matplotlib.axis.XTick at 0x231bbc52df0>,\n",
       "  <matplotlib.axis.XTick at 0x231bbc5c580>,\n",
       "  <matplotlib.axis.XTick at 0x231bbc52a90>,\n",
       "  <matplotlib.axis.XTick at 0x231bbc4aa60>,\n",
       "  <matplotlib.axis.XTick at 0x231bbc5cd60>,\n",
       "  <matplotlib.axis.XTick at 0x231bbc634f0>,\n",
       "  <matplotlib.axis.XTick at 0x231bbc63c40>,\n",
       "  <matplotlib.axis.XTick at 0x231bbc693d0>,\n",
       "  <matplotlib.axis.XTick at 0x231bbc69b20>],\n",
       " [Text(0, 0, ''),\n",
       "  Text(0, 0, ''),\n",
       "  Text(0, 0, ''),\n",
       "  Text(0, 0, ''),\n",
       "  Text(0, 0, ''),\n",
       "  Text(0, 0, ''),\n",
       "  Text(0, 0, ''),\n",
       "  Text(0, 0, ''),\n",
       "  Text(0, 0, ''),\n",
       "  Text(0, 0, ''),\n",
       "  Text(0, 0, ''),\n",
       "  Text(0, 0, ''),\n",
       "  Text(0, 0, ''),\n",
       "  Text(0, 0, ''),\n",
       "  Text(0, 0, ''),\n",
       "  Text(0, 0, '')])"
      ]
     },
     "execution_count": 39,
     "metadata": {},
     "output_type": "execute_result"
    },
    {
     "data": {
      "image/png": "[encoded data removed]",
      "text/plain": [
       "<Figure size 2160x720 with 1 Axes>"
      ]
     },
     "metadata": {
      "needs_background": "light"
     },
     "output_type": "display_data"
    }
   ],
   "source": [
    "# 画图\n",
    "# 如果模型画图不好，可以选择在excel中画图\n",
    "import matplotlib.pyplot as plt\n",
    "from pylab import mpl\n",
    "\n",
    "mpl.rcParams['font.sans-serif'] = ['SimHei']  ##绘图显示中文\n",
    "mpl.rcParams['axes.unicode_minus'] = False\n",
    "\n",
    "from matplotlib import pyplot as plt\n",
    "import matplotlib.ticker as ticker\n",
    "from matplotlib import rc\n",
    "rc('mathtext', default='regular')\n",
    "\n",
    "# r2折线图\n",
    "# 分辨率参数-dpi，画布大小参数-figsize\n",
    "plt.figure(figsize=(30,10))\n",
    "plt.plot(list(range(1,len(f1_max_list)+1)),f1_max_list,\n",
    "         color=(0.32941176470588235, 0.7294117647058823, 0.7490196078431373), label='AUC',linewidth=3) # 线粗细\n",
    "# 设置坐标刻度值的大小\n",
    "plt.tick_params(labelsize=23)\n",
    "\n",
    "# 设置横纵坐标标题的名称以及对应字体格式\n",
    "font_x = {'family': 'Times New Roman',\n",
    "         'weight': 'normal',\n",
    "         'size': 30,}\n",
    "plt.xlabel('Number of Ranked features',font_x)\n",
    "plt.ylabel('AUC',font_x)\n",
    "\n",
    "# 设置横纵坐标刻度范围、间隔、名称\n",
    "# x_list=list(df_feature['特征'])\n",
    "plt.xticks(range(1,len(f1_max_list)+1,3))\n",
    "# plt.yticks(list(range(len(f1_list))),f1_list,rotation=285)\n",
    "# plt.legend(bbox_to_anchor=(1.1,1))  # 显示图例"
   ]
  },
  {
   "cell_type": "code",
   "execution_count": 40,
   "metadata": {
    "scrolled": true
   },
   "outputs": [
    {
     "data": {
      "image/png": "[encoded data removed]",
      "text/plain": [
       "<Figure size 432x288 with 1 Axes>"
      ]
     },
     "metadata": {
      "needs_background": "light"
     },
     "output_type": "display_data"
    },
    {
     "data": {
      "image/png": "[encoded data removed]",
      "text/plain": [
       "<Figure size 720x432 with 1 Axes>"
      ]
     },
     "metadata": {},
     "output_type": "display_data"
    }
   ],
   "source": [
    "import matplotlib.pyplot as plt\n",
    "\n",
    "plt.plot(f1_max_list,color='dodgerblue', linewidth=1 ,label='AUC')\n",
    "# pd.DataFrame(f1_max_list).to_excel('AUC_four.xlsx')\n",
    "f2 = pd.DataFrame(f1_max_list)\n",
    "#作图\n",
    "fig = plt.figure(figsize=(10, 6), facecolor='white')  #创建figure对象\n",
    "ax = fig.add_subplot(1, 1, 1)  #获得Axes对象\n",
    "ax.plot( f2[0], '-',color='dodgerblue', linewidth=2 ,label='f1-score')  \n",
    "ax.set_xlabel('Number of Ranked Features')  #设置x轴标签\n",
    "ax.set_ylabel('AUC')  #设置y轴标签\n",
    "plt.ylim(0.73, 0.93)\n",
    "plt.xticks(range(0,31,3))  \n",
    "ax.spines['right'].set_visible(False)\n",
    "ax.spines['top'].set_visible(False)\n",
    "plt.legend() \n",
    "plt.show()"
   ]
  },
  {
   "cell_type": "markdown",
   "metadata": {},
   "source": [
    "## 保存逐步向前筛选的建模数据"
   ]
  },
  {
   "cell_type": "code",
   "execution_count": 41,
   "metadata": {
    "ExecuteTime": {
     "end_time": "2022-03-10T12:54:34.098149Z",
     "start_time": "2022-03-10T12:54:34.076181Z"
    },
    "scrolled": true
   },
   "outputs": [
    {
     "name": "stdout",
     "output_type": "stream",
     "text": [
      "11\n",
      "Index(['jaundice', 'N', 'M', 'Gazzaniga_T', 'MSKCC', 'Blumgart_T', 'Bismuth_C',\n",
      "       'cardio_disease', 'nbdd', 'HCVAb', 'DB', 'ALT'],\n",
      "      dtype='object')\n"
     ]
    }
   ],
   "source": [
    "f1_max_index=f1_max_list.index(max(f1_max_list))\n",
    "print(f1_max_index)\n",
    "feature_com_best=df_forward_result.loc[f1_max_index,'feature_names']\n",
    "print(feature_com_best)"
   ]
  },
  {
   "cell_type": "code",
   "execution_count": 42,
   "metadata": {
    "ExecuteTime": {
     "end_time": "2022-03-10T12:54:34.532734Z",
     "start_time": "2022-03-10T12:54:34.523759Z"
    },
    "scrolled": true
   },
   "outputs": [
    {
     "data": {
      "text/plain": [
       "['Index([',\n",
       " 'jaundice',\n",
       " ', ',\n",
       " 'N',\n",
       " ', ',\n",
       " 'M',\n",
       " ', ',\n",
       " 'Gazzaniga_T',\n",
       " ', ',\n",
       " 'MSKCC',\n",
       " ', ',\n",
       " 'Blumgart_T',\n",
       " ', ',\n",
       " 'Bismuth_C',\n",
       " ',\\n       ',\n",
       " 'cardio_disease',\n",
       " ', ',\n",
       " 'nbdd',\n",
       " ', ',\n",
       " 'HCVAb',\n",
       " ', ',\n",
       " 'DB',\n",
       " ', ',\n",
       " 'ALT',\n",
       " '],\\n      dtype=',\n",
       " 'object',\n",
       " ')']"
      ]
     },
     "execution_count": 42,
     "metadata": {},
     "output_type": "execute_result"
    }
   ],
   "source": [
    "str(feature_com_best).split('\\'')"
   ]
  },
  {
   "cell_type": "code",
   "execution_count": 43,
   "metadata": {
    "ExecuteTime": {
     "end_time": "2022-03-10T12:59:55.858547Z",
     "start_time": "2022-03-10T12:59:55.835640Z"
    },
    "scrolled": true
   },
   "outputs": [],
   "source": [
    "feature_list=str(feature_com_best).split('\\'')\n",
    "feature_forward_select=feature_list[1:2*(f1_max_index+1):2]\n",
    "feature_forward_select.insert(0,'label')"
   ]
  },
  {
   "cell_type": "code",
   "execution_count": 44,
   "metadata": {
    "ExecuteTime": {
     "end_time": "2022-03-10T12:59:56.419873Z",
     "start_time": "2022-03-10T12:59:56.412921Z"
    }
   },
   "outputs": [
    {
     "data": {
      "text/plain": [
       "['label',\n",
       " 'jaundice',\n",
       " 'N',\n",
       " 'M',\n",
       " 'Gazzaniga_T',\n",
       " 'MSKCC',\n",
       " 'Blumgart_T',\n",
       " 'Bismuth_C',\n",
       " 'cardio_disease',\n",
       " 'nbdd',\n",
       " 'HCVAb',\n",
       " 'DB',\n",
       " 'ALT']"
      ]
     },
     "execution_count": 44,
     "metadata": {},
     "output_type": "execute_result"
    }
   ],
   "source": [
    "feature_forward_select"
   ]
  },
  {
   "cell_type": "code",
   "execution_count": 45,
   "metadata": {},
   "outputs": [
    {
     "data": {
      "text/plain": [
       "Index(['jaundice', 'biliary_disease', 'HBsAg', 'HBeAg', 'T', 'N', 'M',\n",
       "       'Gazzaniga_T', 'MSKCC', 'Blumgart_T', 'Bismuth_C', 'surgery_plasm',\n",
       "       'surgery_result', 'gender', 'emaciation', 'cardio_disease', 'nbdd',\n",
       "       'endocrine_disease', 'drinking', 'HBcAb', 'HCVAb', 'LC', 'PTCD_ERCP',\n",
       "       'PLT', 'TB', 'DB', 'PAB', 'tumor_CEA', 'tumor_CA19-9', 'tumor_CA125',\n",
       "       'tumor_size', 'surgery_CRCS', 'age', 'BMI', 'WBC', 'HGB', 'TBA', 'TP',\n",
       "       'ALB', 'AG', 'ALT', 'AST', 'ALP', 'tumor_AFP', 'surgery_bleeding',\n",
       "       'surgery_CP'],\n",
       "      dtype='object')"
      ]
     },
     "execution_count": 45,
     "metadata": {},
     "output_type": "execute_result"
    }
   ],
   "source": [
    "tran_x.columns"
   ]
  },
  {
   "cell_type": "code",
   "execution_count": 46,
   "metadata": {
    "ExecuteTime": {
     "end_time": "2022-03-10T12:59:56.981142Z",
     "start_time": "2022-03-10T12:59:56.967180Z"
    },
    "scrolled": true
   },
   "outputs": [],
   "source": [
    "# # 术前--业务角度要保留的重要变量\n",
    "# feature_forward_select.extend(['Gazzaniga_T','Blumgart_T', 'Bismuth_C','emaciation',\n",
    "#                                'tumor_CEA','tumor_CA125','tumor_size','tumor_AFP'])\n",
    "# 术后--业务角度要保留的重要变量\n",
    "feature_forward_select.extend(['biliary_disease', 'HBsAg', 'T','surgery_result', 'emaciation',\n",
    "                              'tumor_CEA', 'tumor_CA19-9', 'tumor_CA125','tumor_size','tumor_AFP'])"
   ]
  },
  {
   "cell_type": "code",
   "execution_count": 47,
   "metadata": {
    "ExecuteTime": {
     "end_time": "2022-03-10T12:59:57.824654Z",
     "start_time": "2022-03-10T12:59:57.676192Z"
    },
    "scrolled": true
   },
   "outputs": [],
   "source": [
    "df_model_forward=df_model[feature_forward_select]\n",
    "df_model_forward.to_excel(project_path+'/data/result/feature_engineering/df_4.5_model_data_forward-术后.xlsx')"
   ]
  },
  {
   "cell_type": "code",
   "execution_count": null,
   "metadata": {
    "scrolled": true
   },
   "outputs": [],
   "source": []
  }
 ],
 "metadata": {
  "kernelspec": {
   "display_name": "Python 3 (ipykernel)",
   "language": "python",
   "name": "python3"
  },
  "language_info": {
   "codemirror_mode": {
    "name": "ipython",
    "version": 3
   },
   "file_extension": ".py",
   "mimetype": "text/x-python",
   "name": "python",
   "nbconvert_exporter": "python",
   "pygments_lexer": "ipython3",
   "version": "3.9.12"
  },
  "toc": {
   "base_numbering": 1,
   "nav_menu": {},
   "number_sections": true,
   "sideBar": true,
   "skip_h1_title": false,
   "title_cell": "Table of Contents",
   "title_sidebar": "Contents",
   "toc_cell": false,
   "toc_position": {
    "height": "calc(100% - 180px)",
    "left": "10px",
    "top": "150px",
    "width": "460.799px"
   },
   "toc_section_display": true,
   "toc_window_display": true
  },
  "varInspector": {
   "cols": {
    "lenName": 16,
    "lenType": 16,
    "lenVar": 40
   },
   "kernels_config": {
    "python": {
     "delete_cmd_postfix": "",
     "delete_cmd_prefix": "del ",
     "library": "var_list.py",
     "varRefreshCmd": "print(var_dic_list())"
    },
    "r": {
     "delete_cmd_postfix": ") ",
     "delete_cmd_prefix": "rm(",
     "library": "var_list.r",
     "varRefreshCmd": "cat(var_dic_list()) "
    }
   },
   "types_to_exclude": [
    "module",
    "function",
    "builtin_function_or_method",
    "instance",
    "_Feature"
   ],
   "window_display": false
  }
 },
 "nbformat": 4,
 "nbformat_minor": 2
}
