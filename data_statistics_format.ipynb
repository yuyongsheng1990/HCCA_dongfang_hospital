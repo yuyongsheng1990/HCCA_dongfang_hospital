{
 "cells": [
  {
   "cell_type": "code",
   "execution_count": 1,
   "metadata": {},
   "outputs": [],
   "source": [
    "# 规范化变量统计"
   ]
  },
  {
   "cell_type": "code",
   "execution_count": 1,
   "metadata": {},
   "outputs": [],
   "source": [
    "# 导入程序包\n",
    "import pandas as pd\n",
    "import numpy as np\n",
    "\n",
    "import re\n",
    "import sys\n",
    "import os\n",
    "project_path = os.getcwd()"
   ]
  },
  {
   "cell_type": "markdown",
   "metadata": {},
   "source": [
    "# 变量统计"
   ]
  },
  {
   "cell_type": "code",
   "execution_count": 2,
   "metadata": {},
   "outputs": [],
   "source": [
    "df_model=pd.read_excel(project_path+'/data/processed_data/df_3.1.2_术后预后model数据集.xlsx',index_col=0)"
   ]
  },
  {
   "cell_type": "code",
   "execution_count": 3,
   "metadata": {},
   "outputs": [
    {
     "data": {
      "text/plain": [
       "(419, 74)"
      ]
     },
     "execution_count": 3,
     "metadata": {},
     "output_type": "execute_result"
    }
   ],
   "source": [
    "df_model.shape"
   ]
  },
  {
   "cell_type": "code",
   "execution_count": 4,
   "metadata": {},
   "outputs": [
    {
     "data": {
      "text/plain": [
       "Index(['sampling', 'gender', 'age', 'height', 'weight', 'BMI', 'jaundice',\n",
       "       'emaciation', 'breath_disease', 'cardio_disease', 'nbdd',\n",
       "       'urinary_disease', 'endocrine_disease', 'biliary_disease',\n",
       "       'other_disease', 'smoke', 'drinking', 'family_history', 'blood_type',\n",
       "       'WBC', 'HGB', 'PLT', 'TB', 'DB', 'TBA', 'TP', 'ALB', 'LG', 'AG', 'PAB',\n",
       "       'ALT', 'AST', 'GT', 'ALP', 'tumor_AFP', 'tumor_CEA', 'tumor_CA19-9',\n",
       "       'tumor_CA125', 'TF', 'tumor_size', 'HBsAg', 'HBeAg', 'HBeAb', 'HBcAb',\n",
       "       'HCVAb', 'LC', 'T', 'N', 'M', 'AJCC_8', 'Gazzaniga_T', 'MSKCC',\n",
       "       'Blumgart_T', 'Bismuth_C', 'PTCD_ERCP', '手术日期', 'surgery_bleeding',\n",
       "       'surgery_CRCS', 'surgery_plasm', 'surgery_CP', 'surgery_result',\n",
       "       'gene_MSI', 'TMB', 'IHC_cdx2', 'IHC_cea', 'IHC_ck5', 'IHC_ck7',\n",
       "       'IHC_ck19', 'IHC_ck20', 'IHC_muc1', 'IHC_moc31', 'IHC_pd1', 'IHC_pdl1',\n",
       "       'label'],\n",
       "      dtype='object')"
      ]
     },
     "execution_count": 4,
     "metadata": {},
     "output_type": "execute_result"
    }
   ],
   "source": [
    "df_model.columns"
   ]
  },
  {
   "cell_type": "code",
   "execution_count": 5,
   "metadata": {},
   "outputs": [],
   "source": [
    "# 删除无关变量\n",
    "df_model=df_model.drop(['sampling'],axis=1)"
   ]
  },
  {
   "cell_type": "code",
   "execution_count": 6,
   "metadata": {},
   "outputs": [],
   "source": [
    "# # 术前生存变量\n",
    "# discrete_col = ['gender','jaundice', 'emaciation', 'breath_disease', 'cardio_disease', 'nbdd','urinary_disease',\n",
    "#                 'endocrine_disease', 'biliary_disease','other_disease', 'smoke', 'drinking', 'family_history',\n",
    "#                 'blood_type','HBsAg', 'HBeAg', 'HBeAb', 'HBcAb','HCVAb', 'LC', 'Gazzaniga_T', 'MSKCC',\n",
    "#                 'Blumgart_T','Bismuth_C','label']\n",
    "# continuous_col=[x for x in df_model.columns if x not in discrete_col]"
   ]
  },
  {
   "cell_type": "code",
   "execution_count": 7,
   "metadata": {},
   "outputs": [],
   "source": [
    "# 术后生存变量\n",
    "discrete_col = ['gender','jaundice', 'emaciation', 'breath_disease', 'cardio_disease', 'nbdd','urinary_disease',\n",
    "                'endocrine_disease', 'biliary_disease','other_disease', 'smoke', 'drinking', 'family_history',\n",
    "                'blood_type','HBsAg', 'HBeAg', 'HBeAb', 'HBcAb','HCVAb', 'LC', 'T','N','M','AJCC_8', 'Gazzaniga_T', 'MSKCC',\n",
    "                'Blumgart_T','Bismuth_C', 'PTCD_ERCP','surgery_bleeding','surgery_plasm','surgery_result',\n",
    "                'gene_MSI', 'IHC_cdx2','IHC_cea', 'IHC_ck5', 'IHC_ck7','IHC_ck19', 'IHC_ck20', 'IHC_muc1', 'IHC_moc31', \n",
    "                'IHC_pd1', 'IHC_pdl1','label']\n",
    "continuous_col=[x for x in df_model.columns if x not in discrete_col]"
   ]
  },
  {
   "cell_type": "code",
   "execution_count": 8,
   "metadata": {},
   "outputs": [
    {
     "name": "stdout",
     "output_type": "stream",
     "text": [
      "44\n",
      "29\n"
     ]
    }
   ],
   "source": [
    "print(len(discrete_col))\n",
    "print(len(continuous_col))"
   ]
  },
  {
   "cell_type": "markdown",
   "metadata": {},
   "source": [
    "## 分类变量统计"
   ]
  },
  {
   "cell_type": "code",
   "execution_count": 9,
   "metadata": {
    "scrolled": true
   },
   "outputs": [
    {
     "name": "stdout",
     "output_type": "stream",
     "text": [
      "gender\n",
      "男\n",
      "女\n",
      "jaundice\n",
      "是\n",
      "否\n",
      "emaciation\n",
      "0.0\n",
      "1.0\n",
      "2.0\n",
      "breath_disease\n",
      "是\n",
      "否\n",
      "cardio_disease\n",
      "是\n",
      "否\n",
      "nbdd\n",
      "是\n",
      "否\n",
      "urinary_disease\n",
      "是\n",
      "否\n",
      "endocrine_disease\n",
      "是\n",
      "否\n",
      "biliary_disease\n",
      "是\n",
      "否\n",
      "other_disease\n",
      "是\n",
      "否\n",
      "smoke\n",
      "是\n",
      "否\n",
      "drinking\n",
      "是\n",
      "否\n",
      "family_history\n",
      "是\n",
      "否\n",
      "blood_type\n",
      "0.0\n",
      "1.0\n",
      "2.0\n",
      "3.0\n",
      "HBsAg\n",
      "是\n",
      "否\n",
      "HBeAg\n",
      "是\n",
      "否\n",
      "HBeAb\n",
      "是\n",
      "否\n",
      "HBcAb\n",
      "是\n",
      "否\n",
      "HCVAb\n",
      "是\n",
      "否\n",
      "LC\n",
      "是\n",
      "否\n",
      "T\n",
      "0.0\n",
      "1.0\n",
      "2.0\n",
      "3.0\n",
      "4.0\n",
      "N\n",
      "0.0\n",
      "1.0\n",
      "2.0\n",
      "M\n",
      "是\n",
      "否\n",
      "AJCC_8\n",
      "0.0\n",
      "1.0\n",
      "2.0\n",
      "3.0\n",
      "4.0\n",
      "Gazzaniga_T\n",
      "1.0\n",
      "2.0\n",
      "3.0\n",
      "4.0\n",
      "MSKCC\n",
      "1.0\n",
      "2.0\n",
      "3.0\n",
      "Blumgart_T\n",
      "1.0\n",
      "2.0\n",
      "3.0\n",
      "4.0\n",
      "Bismuth_C\n",
      "1.0\n",
      "2.0\n",
      "3.0\n",
      "4.0\n",
      "PTCD_ERCP\n",
      "0.0\n",
      "1.0\n",
      "2.0\n",
      "3.0\n",
      "surgery_bleeding\n",
      "5.0\n",
      "10.0\n",
      "20.0\n",
      "50.0\n",
      "80.0\n",
      "100.0\n",
      "150.0\n",
      "200.0\n",
      "250.0\n",
      "300.0\n",
      "350.0\n",
      "400.0\n",
      "450.0\n",
      "500.0\n",
      "600.0\n",
      "700.0\n",
      "750.0\n",
      "800.0\n",
      "1000.0\n",
      "1200.0\n",
      "1300.0\n",
      "1400.0\n",
      "1500.0\n",
      "1600.0\n",
      "2000.0\n",
      "4000.0\n",
      "surgery_plasm\n",
      "0.0\n",
      "200.0\n",
      "300.0\n",
      "400.0\n",
      "600.0\n",
      "800.0\n",
      "1000.0\n",
      "1200.0\n",
      "1400.0\n",
      "2800.0\n",
      "surgery_result\n",
      "0.0\n",
      "1.0\n",
      "2.0\n",
      "gene_MSI\n",
      "是\n",
      "否\n",
      "IHC_cdx2\n",
      "是\n",
      "否\n",
      "IHC_cea\n",
      "是\n",
      "否\n",
      "IHC_ck5\n",
      "是\n",
      "否\n",
      "IHC_ck7\n",
      "是\n",
      "否\n",
      "IHC_ck19\n",
      "0.0\n",
      "1.0\n",
      "2.0\n",
      "IHC_ck20\n",
      "是\n",
      "否\n",
      "IHC_muc1\n",
      "是\n",
      "否\n",
      "IHC_moc31\n",
      "是\n",
      "否\n",
      "IHC_pd1\n",
      "是\n",
      "否\n",
      "IHC_pdl1\n",
      "是\n",
      "否\n",
      "label\n",
      "0\n",
      "1\n",
      "2\n",
      "3\n"
     ]
    }
   ],
   "source": [
    "# 求分类变量比例\n",
    "df_discrete_stat=pd.DataFrame(columns=['变量名称','所有事件(%d)' % df_model.shape[0],'缺失率(%)'])\n",
    "for i in discrete_col:\n",
    "    print(i)\n",
    "    # 缺失率\n",
    "    if df_model[i].isnull().sum()==0:\n",
    "        miss_rate='0%'\n",
    "    else:\n",
    "        miss_rate=df_model[i].isnull().sum()/df_model.shape[0]\n",
    "        miss_rate=\"%.2f%%\" % (miss_rate * 100)      # 百分数输出\n",
    "    df_discrete_stat.loc[df_discrete_stat.shape[0],['变量名称','缺失率(%)']]=[i+'，n(%)',miss_rate]\n",
    "    \n",
    "    # 分类变量单独统计\n",
    "    name_list=[]\n",
    "    num_perc_list=[]\n",
    "    df_model_stat=df_model[df_model[i].notnull()].sort_values([i],ascending=True)\n",
    "    \n",
    "    # 二分类还是多分类变量\n",
    "    if df_model_stat[i].nunique() <=2:\n",
    "        if re.match('gender|性别',i):\n",
    "            name_list=['男','女']\n",
    "        else:\n",
    "            name_list=['是','否']\n",
    "        for name,value in zip(name_list,[1,0]):\n",
    "            print(name)\n",
    "            num=df_model_stat[df_model_stat[i]==value].shape[0]\n",
    "            percent=num/df_model.shape[0]\n",
    "            percent=\"%.2f%%\" % (percent * 100)\n",
    "            num_percent=str(num)+'('+percent+')'\n",
    "            num_perc_list.append(num_percent)\n",
    "    else:\n",
    "        for value in sorted(df_model_stat[i].unique()):\n",
    "            print(value)\n",
    "            name_list.append(value)\n",
    "            num=df_model_stat[df_model_stat[i]==value].shape[0]\n",
    "            percent=num/df_model.shape[0]\n",
    "            percent=\"%.2f%%\" % (percent * 100)\n",
    "            num_percent=str(num)+'('+percent+')'\n",
    "            num_perc_list.append(num_percent)\n",
    "        \n",
    "        \n",
    "    df_temp = pd.DataFrame(data={'变量名称':name_list,\n",
    "                                 '所有事件(%d)' % df_model.shape[0]:num_perc_list})\n",
    "\n",
    "    df_discrete_stat=pd.concat([df_discrete_stat,df_temp],axis=0)\n",
    "    df_discrete_stat=df_discrete_stat.reset_index(drop=True)"
   ]
  },
  {
   "cell_type": "code",
   "execution_count": 10,
   "metadata": {},
   "outputs": [
    {
     "data": {
      "text/plain": [
       "[0, 1, 2, 3]"
      ]
     },
     "execution_count": 10,
     "metadata": {},
     "output_type": "execute_result"
    }
   ],
   "source": [
    "name_list"
   ]
  },
  {
   "cell_type": "code",
   "execution_count": 12,
   "metadata": {},
   "outputs": [],
   "source": [
    "# 保存分类变量统计\n",
    "df_discrete_stat.to_excel(project_path+'/data/result/stat/df_2.1_分类变量统计_术后.xlsx')"
   ]
  },
  {
   "cell_type": "markdown",
   "metadata": {},
   "source": [
    "## 连续变量统计"
   ]
  },
  {
   "cell_type": "code",
   "execution_count": 35,
   "metadata": {},
   "outputs": [],
   "source": [
    "# 统计全变量体系各变量的平均数、上下四分位数、缺失率\n",
    "feature_quarter_list=[]\n",
    "mean_quarter_list=[]\n",
    "feature_std_list=[]\n",
    "mean_std_list=[]\n",
    "miss_list=[]\n",
    "for i in continuous_col:\n",
    "    # 计算上下四分位、均值、标准差\n",
    "    try:\n",
    "        data = df_model[i].astype('float')\n",
    "        stat_result = pd.DataFrame(data.describe())\n",
    "        mean_value=stat_result.loc['mean',i]\n",
    "        up_quarter=stat_result.loc['25%',i]\n",
    "        down_quarter=stat_result.loc['75%',i]\n",
    "        std_value=stat_result.loc['std',i]\n",
    "    except:\n",
    "        mean_value=np.nan\n",
    "        up_quarter=np.nan\n",
    "        down_quarter=np.nan\n",
    "    # 计算缺失率\n",
    "    if df_model[i].isnull().sum()==0:\n",
    "        miss_rate='0%'\n",
    "    else:\n",
    "        miss_rate=df_model[i].isnull().sum()/df_model.shape[0]\n",
    "        miss_rate=\"%.2f%%\" % (miss_rate * 100)      # 百分数输出\n",
    "    miss_list.append(miss_rate)\n",
    "    # mean(quarter)\n",
    "    feature_quarter_list.append(i+'，mean（IQR）')\n",
    "    mean_quarter_list.append('%.2f(%.2f-%.2f)' % (mean_value,up_quarter,down_quarter))\n",
    "    # mean(std)\n",
    "    feature_std_list.append(i+'，mean±std')\n",
    "    mean_std_list.append('%.2f±%.2f' % (mean_value,std_value))"
   ]
  },
  {
   "cell_type": "code",
   "execution_count": 36,
   "metadata": {},
   "outputs": [],
   "source": [
    "df_continuous_quarter=pd.DataFrame(data={'特征':feature_quarter_list,\n",
    "                        'mean_quarter_list':mean_quarter_list,\n",
    "                        'miss_list':miss_list})\n",
    "df_continuous_std=pd.DataFrame(data={'特征':feature_std_list,\n",
    "                        'mean_std_list':mean_std_list,\n",
    "                        'miss_list':miss_list})"
   ]
  },
  {
   "cell_type": "code",
   "execution_count": 37,
   "metadata": {},
   "outputs": [],
   "source": [
    "df_continous_stat=pd.concat([df_continuous_quarter,df_continuous_std],axis=1)\n",
    "# 保存连续变量统计\n",
    "df_continous_stat.to_excel(project_path+'/data/result/stat/df_2.2_连续变量统计_术后.xlsx')"
   ]
  },
  {
   "cell_type": "code",
   "execution_count": null,
   "metadata": {},
   "outputs": [],
   "source": []
  }
 ],
 "metadata": {
  "kernelspec": {
   "display_name": "Python 3 (ipykernel)",
   "language": "python",
   "name": "python3"
  },
  "language_info": {
   "codemirror_mode": {
    "name": "ipython",
    "version": 3
   },
   "file_extension": ".py",
   "mimetype": "text/x-python",
   "name": "python",
   "nbconvert_exporter": "python",
   "pygments_lexer": "ipython3",
   "version": "3.9.12"
  },
  "toc": {
   "base_numbering": 1,
   "nav_menu": {},
   "number_sections": true,
   "sideBar": true,
   "skip_h1_title": false,
   "title_cell": "Table of Contents",
   "title_sidebar": "Contents",
   "toc_cell": false,
   "toc_position": {
    "height": "calc(100% - 180px)",
    "left": "10px",
    "top": "150px",
    "width": "460.8px"
   },
   "toc_section_display": true,
   "toc_window_display": true
  },
  "varInspector": {
   "cols": {
    "lenName": 16,
    "lenType": 16,
    "lenVar": 40
   },
   "kernels_config": {
    "python": {
     "delete_cmd_postfix": "",
     "delete_cmd_prefix": "del ",
     "library": "var_list.py",
     "varRefreshCmd": "print(var_dic_list())"
    },
    "r": {
     "delete_cmd_postfix": ") ",
     "delete_cmd_prefix": "rm(",
     "library": "var_list.r",
     "varRefreshCmd": "cat(var_dic_list()) "
    }
   },
   "types_to_exclude": [
    "module",
    "function",
    "builtin_function_or_method",
    "instance",
    "_Feature"
   ],
   "window_display": false
  }
 },
 "nbformat": 4,
 "nbformat_minor": 2
}
